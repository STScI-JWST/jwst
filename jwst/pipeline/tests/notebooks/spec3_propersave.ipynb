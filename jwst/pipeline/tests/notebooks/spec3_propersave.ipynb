{
 "cells": [
  {
   "cell_type": "markdown",
   "metadata": {},
   "source": [
    "# Abstract"
   ]
  },
  {
   "cell_type": "markdown",
   "metadata": {},
   "source": [
    "# Environment"
   ]
  },
  {
   "cell_type": "code",
   "execution_count": 1,
   "metadata": {
    "collapsed": true
   },
   "outputs": [],
   "source": [
    "from os import path\n",
    "import pdb"
   ]
  },
  {
   "cell_type": "code",
   "execution_count": 2,
   "metadata": {},
   "outputs": [],
   "source": [
    "from jwst.datamodels import open as dm_open\n",
    "from jwst.pipeline.tests.helpers import (\n",
    "    abspath,\n",
    "    update_asn_basedir,\n",
    ")\n",
    "from jwst.stpipe import Step"
   ]
  },
  {
   "cell_type": "markdown",
   "metadata": {},
   "source": [
    "# Library"
   ]
  },
  {
   "cell_type": "markdown",
   "metadata": {},
   "source": [
    "# Main"
   ]
  },
  {
   "cell_type": "markdown",
   "metadata": {},
   "source": [
    "## miri mrs"
   ]
  },
  {
   "cell_type": "code",
   "execution_count": 3,
   "metadata": {
    "collapsed": true
   },
   "outputs": [],
   "source": [
    "DATAPATH = abspath(\n",
    "    '$DEVDIR/testdata/pandokia/jwcalibdev/data4/jwst_test_data/miri/test_datasets/mrs/simulated'\n",
    ")"
   ]
  },
  {
   "cell_type": "markdown",
   "metadata": {},
   "source": [
    "### Setup association"
   ]
  },
  {
   "cell_type": "code",
   "execution_count": 4,
   "metadata": {
    "collapsed": true
   },
   "outputs": [],
   "source": [
    "asn_path = update_asn_basedir(\n",
    "    path.join(DATAPATH,'single_spec3_asn.json'),\n",
    "    root=path.join(DATAPATH, 'level2b')\n",
    ")"
   ]
  },
  {
   "cell_type": "markdown",
   "metadata": {},
   "source": [
    "### Run default spec3"
   ]
  },
  {
   "cell_type": "code",
   "execution_count": 5,
   "metadata": {},
   "outputs": [],
   "source": [
    "spec3_default_args = [\n",
    "    '../data/calwebb_spec3_default.cfg',\n",
    "    asn_path,\n",
    "    '--steps.mrs_imatch.skip=true',\n",
    "    '--steps.outlier_detection.skip=true',\n",
    "    '--output_dir=/tmp/level3',\n",
    "]"
   ]
  },
  {
   "cell_type": "code",
   "execution_count": null,
   "metadata": {
    "collapsed": true
   },
   "outputs": [],
   "source": [
    "%rm -f /tmp/level3/*"
   ]
  },
  {
   "cell_type": "code",
   "execution_count": null,
   "metadata": {
    "scrolled": false
   },
   "outputs": [
    {
     "name": "stderr",
     "output_type": "stream",
     "text": [
      "2017-10-17 18:01:14,015 - stpipe.Spec3Pipeline - INFO - Spec3Pipeline instance created.\n",
      "2017-10-17 18:01:14,016 - stpipe.Spec3Pipeline.mrs_imatch - INFO - MRSIMatchStep instance created.\n",
      "2017-10-17 18:01:14,018 - stpipe.Spec3Pipeline.outlier_detection - INFO - OutlierDetectionStep instance created.\n",
      "2017-10-17 18:01:14,021 - stpipe.Spec3Pipeline.resample_spec - INFO - ResampleSpecStep instance created.\n",
      "2017-10-17 18:01:14,024 - stpipe.Spec3Pipeline.cube_build - INFO - CubeBuildStep instance created.\n",
      "2017-10-17 18:01:14,026 - stpipe.Spec3Pipeline.extract_1d - INFO - Extract1dStep instance created.\n",
      "2017-10-17 18:01:14,027 - stpipe - INFO - Hostname: inanna2.local.stsci.edu\n",
      "2017-10-17 18:01:14,028 - stpipe - INFO - OS: Darwin\n",
      "2017-10-17 18:01:18,951 - stpipe.Spec3Pipeline - INFO - Prefetch for CUBEPAR reference file is '/Users/eisenham/Documents/ssbdev/testdata/crds-cache/references/jwst/miri/jwst_miri_cubepar_0001.fits'.\n",
      "2017-10-17 18:01:18,952 - stpipe.Spec3Pipeline - INFO - Prefetch for DRIZPARS reference file is '/Users/eisenham/Documents/ssbdev/testdata/crds-cache/references/jwst/miri/jwst_miri_drizpars_0001.fits'.\n",
      "2017-10-17 18:01:18,952 - stpipe.Spec3Pipeline - INFO - Prefetch for EXTRACT1D reference file is '/Users/eisenham/Documents/ssbdev/testdata/crds-cache/references/jwst/miri/jwst_miri_extract1d_0003.json'.\n",
      "2017-10-17 18:01:18,953 - stpipe.Spec3Pipeline - INFO - Prefetch for RESOL reference file is '/Users/eisenham/Documents/ssbdev/testdata/crds-cache/references/jwst/miri/jwst_miri_resol_0003.fits'.\n",
      "2017-10-17 18:01:19,016 - stpipe.Spec3Pipeline - INFO - Step Spec3Pipeline running with args ('/var/folders/z7/hcykr_n546s_5033t9rj5d200000zj/T/tmpyo1rsljr.json',).\n",
      "2017-10-17 18:01:19,016 - stpipe.Spec3Pipeline - INFO - Starting calwebb_spec3 ...\n",
      "2017-10-17 18:01:23,140 - stpipe.Spec3Pipeline.mrs_imatch - INFO - Step mrs_imatch running with args (<jwst.datamodels.container.ModelContainer object at 0x11c5d3a90>,).\n",
      "2017-10-17 18:01:23,141 - stpipe.Spec3Pipeline.mrs_imatch - INFO - Step skipped.\n",
      "2017-10-17 18:01:23,349 - stpipe.Spec3Pipeline.mrs_imatch - INFO - Step mrs_imatch done\n",
      "2017-10-17 18:01:23,460 - stpipe.Spec3Pipeline.outlier_detection - INFO - Step outlier_detection running with args (<jwst.datamodels.container.ModelContainer object at 0x11c5d3a90>,).\n",
      "2017-10-17 18:01:23,461 - stpipe.Spec3Pipeline.outlier_detection - INFO - Step skipped.\n",
      "2017-10-17 18:01:23,679 - stpipe.Spec3Pipeline.outlier_detection - INFO - Step outlier_detection done\n",
      "2017-10-17 18:01:24,406 - stpipe.Spec3Pipeline.cube_build - INFO - Prefetch for CUBEPAR reference file is '/Users/eisenham/Documents/ssbdev/testdata/crds-cache/references/jwst/miri/jwst_miri_cubepar_0001.fits'.\n",
      "2017-10-17 18:01:24,406 - stpipe.Spec3Pipeline.cube_build - INFO - Prefetch for RESOL reference file is '/Users/eisenham/Documents/ssbdev/testdata/crds-cache/references/jwst/miri/jwst_miri_resol_0003.fits'.\n",
      "2017-10-17 18:01:24,529 - stpipe.Spec3Pipeline.cube_build - INFO - Step cube_build running with args (<jwst.datamodels.container.ModelContainer object at 0x11c5d3a90>,).\n",
      "2017-10-17 18:01:24,530 - stpipe.Spec3Pipeline.cube_build - INFO - Starting IFU Cube Building Step\n",
      "2017-10-17 18:01:24,531 - stpipe.Spec3Pipeline.cube_build - INFO - Input interpolation: pointcloud\n",
      "2017-10-17 18:01:24,531 - stpipe.Spec3Pipeline.cube_build - INFO - Coordinate system to use: ra-dec\n",
      "2017-10-17 18:01:24,532 - stpipe.Spec3Pipeline.cube_build - INFO - Weighting method for point cloud: msm\n",
      "2017-10-17 18:01:24,533 - stpipe.Spec3Pipeline.cube_build - INFO - Power Weighting distance : 2.000000\n",
      "2017-10-17 18:01:25,355 - stpipe.Spec3Pipeline.cube_build - INFO - The desired cubes covers the MIRI Channels: ['3', '4']\n",
      "2017-10-17 18:01:25,356 - stpipe.Spec3Pipeline.cube_build - INFO - The desired cubes covers the MIRI subchannels: ['LONG', 'LONG']\n",
      "2017-10-17 18:01:25,357 - stpipe.Spec3Pipeline.cube_build - INFO - Reading  cube parameter file /Users/eisenham/Documents/ssbdev/testdata/crds-cache/references/jwst/miri/jwst_miri_cubepar_0001.fits\n",
      "2017-10-17 18:01:25,404 - stpipe.Spec3Pipeline.cube_build - INFO - Output Cubes are single channel, single sub-channel IFU Cubes\n",
      "2017-10-17 18:01:25,405 - stpipe.Spec3Pipeline.cube_build - INFO - Number of IFUCubes produced by a this run 2\n",
      "2017-10-17 18:01:25,418 - stpipe.Spec3Pipeline.cube_build - INFO - Increasing spatial region of interest default value set for 4 dithers 0.225000\n",
      "2017-10-17 18:01:25,419 - stpipe.Spec3Pipeline.cube_build - INFO - Region of interest  0.225000 0.008000\n",
      "2017-10-17 18:01:25,420 - stpipe.Spec3Pipeline.cube_build - INFO - Number of bands in cube  1\n",
      "2017-10-17 18:01:26,004 - stpipe.Spec3Pipeline.cube_build - WARNING - /Users/eisenham/anaconda3/envs/jwstdev/lib/python3.6/site-packages/gwcs/selector.py:433: RuntimeWarning: invalid value encountered in less_equal\n",
      "  temp = np.where(np.logical_or(temp <= val_range[0],\n",
      "\n",
      "2017-10-17 18:01:26,005 - stpipe.Spec3Pipeline.cube_build - WARNING - /Users/eisenham/anaconda3/envs/jwstdev/lib/python3.6/site-packages/gwcs/selector.py:434: RuntimeWarning: invalid value encountered in greater_equal\n",
      "  temp >= val_range[1]),\n",
      "\n",
      "2017-10-17 18:01:26,158 - stpipe.Spec3Pipeline.cube_build - INFO - Cube Geometry:\n",
      "2017-10-17 18:01:26,159 - stpipe.Spec3Pipeline.cube_build - INFO - axis# Naxis  CRPIX    CRVAL      CDELT(arc sec)  MIN & Max (xi,eta arc sec)\n",
      "2017-10-17 18:01:26,160 - stpipe.Spec3Pipeline.cube_build - INFO - Axis 1    32  16.00  -0.00060834   0.25000000  -4.12500000   4.12500000\n",
      "2017-10-17 18:01:26,161 - stpipe.Spec3Pipeline.cube_build - INFO - Axis 2    28  14.00  -0.04722627   0.25000000  -3.62500000   3.62500000\n",
      "2017-10-17 18:01:26,162 - stpipe.Spec3Pipeline.cube_build - INFO - Axis 3   365   1.00  15.26917492   0.00800000  15.26917492  18.18917506\n",
      "2017-10-17 18:01:26,163 - stpipe.Spec3Pipeline.cube_build - INFO - Cube covers channel, subchannel: 3 LONG \n",
      "2017-10-17 18:01:26,164 - stpipe.Spec3Pipeline.cube_build - INFO - Output Name singleasn_ch3-long_s3d.fits\n",
      "2017-10-17 18:01:52,395 - stpipe.Spec3Pipeline.cube_build - INFO - Time Map All slices on Detector to Cube = 25.7.s\n",
      "2017-10-17 18:01:52,560 - stpipe.Spec3Pipeline.cube_build - INFO - Time to interpolate at spaxel values = 0.2.s\n",
      "2017-10-17 18:01:52,560 - stpipe.Spec3Pipeline.cube_build - INFO - Time find Cube Flux= 0.2.s\n",
      "2017-10-17 18:01:53,138 - stpipe.Spec3Pipeline.cube_build - INFO - Increasing spatial region of interest default value set for 4 dithers 0.450000\n",
      "2017-10-17 18:01:53,139 - stpipe.Spec3Pipeline.cube_build - INFO - Region of interest  0.450000 0.014000\n",
      "2017-10-17 18:01:53,139 - stpipe.Spec3Pipeline.cube_build - INFO - Number of bands in cube  1\n",
      "2017-10-17 18:01:54,026 - stpipe.Spec3Pipeline.cube_build - INFO - Cube Geometry:\n",
      "2017-10-17 18:01:54,027 - stpipe.Spec3Pipeline.cube_build - INFO - axis# Naxis  CRPIX    CRVAL      CDELT(arc sec)  MIN & Max (xi,eta arc sec)\n",
      "2017-10-17 18:01:54,028 - stpipe.Spec3Pipeline.cube_build - INFO - Axis 1    30  15.00  -0.00030751   0.34999999  -5.42499991   5.42499991\n",
      "2017-10-17 18:01:54,029 - stpipe.Spec3Pipeline.cube_build - INFO - Axis 2    24  12.00  -0.04729520   0.34999999  -4.37499993   4.37499993\n",
      "2017-10-17 18:01:54,030 - stpipe.Spec3Pipeline.cube_build - INFO - Axis 3   340   1.00  23.71350918   0.01400000  23.71350918  28.47350933\n",
      "2017-10-17 18:01:54,031 - stpipe.Spec3Pipeline.cube_build - INFO - Cube covers channel, subchannel: 4 LONG \n",
      "2017-10-17 18:01:54,032 - stpipe.Spec3Pipeline.cube_build - INFO - Output Name singleasn_ch4-long_s3d.fits\n",
      "2017-10-17 18:02:30,858 - stpipe.Spec3Pipeline.cube_build - INFO - Time Map All slices on Detector to Cube = 36.5.s\n",
      "2017-10-17 18:02:31,000 - stpipe.Spec3Pipeline.cube_build - INFO - Time to interpolate at spaxel values = 0.1.s\n",
      "2017-10-17 18:02:31,001 - stpipe.Spec3Pipeline.cube_build - INFO - Time find Cube Flux= 0.1.s\n",
      "2017-10-17 18:02:31,757 - stpipe.Spec3Pipeline.cube_build - INFO - Saving file /tmp/level3/singleasn_ch3-long_s3d.fits\n",
      "2017-10-17 18:02:31,907 - stpipe.Spec3Pipeline.cube_build - INFO - Saving file /tmp/level3/singleasn_ch4-long_s3d.fits\n",
      "2017-10-17 18:02:32,097 - stpipe.Spec3Pipeline.cube_build - INFO - Step cube_build done\n",
      "2017-10-17 18:02:32,639 - stpipe.Spec3Pipeline.extract_1d - INFO - Prefetch for EXTRACT1D reference file is '/Users/eisenham/Documents/ssbdev/testdata/crds-cache/references/jwst/miri/jwst_miri_extract1d_0003.json'.\n"
     ]
    },
    {
     "name": "stderr",
     "output_type": "stream",
     "text": [
      "2017-10-17 18:02:32,952 - stpipe.Spec3Pipeline.extract_1d - INFO - Prefetch for EXTRACT1D reference file is '/Users/eisenham/Documents/ssbdev/testdata/crds-cache/references/jwst/miri/jwst_miri_extract1d_0003.json'.\n",
      "2017-10-17 18:02:33,075 - stpipe.Spec3Pipeline.extract_1d - INFO - Step extract_1d running with args (<jwst.datamodels.container.ModelContainer object at 0x11febd6a0>,).\n",
      "2017-10-17 18:02:33,627 - stpipe.Spec3Pipeline.extract_1d - INFO - Using EXTRACT1D reference file /Users/eisenham/Documents/ssbdev/testdata/crds-cache/references/jwst/miri/jwst_miri_extract1d_0003.json\n",
      "2017-10-17 18:02:33,660 - stpipe.Spec3Pipeline.extract_1d - INFO - source_type = extended\n",
      "2017-10-17 18:02:34,131 - stpipe.Spec3Pipeline.extract_1d - INFO - Data have been flux calibrated; setting net to 0.\n"
     ]
    }
   ],
   "source": [
    "Step.from_cmdline(spec3_default_args)"
   ]
  },
  {
   "cell_type": "code",
   "execution_count": null,
   "metadata": {},
   "outputs": [],
   "source": [
    "%ls /tmp/level3"
   ]
  },
  {
   "cell_type": "code",
   "execution_count": null,
   "metadata": {
    "collapsed": true
   },
   "outputs": [],
   "source": [
    "m = dm_open('/tmp/level3/singleasn_ch3-long_s3d.fits')"
   ]
  },
  {
   "cell_type": "code",
   "execution_count": null,
   "metadata": {},
   "outputs": [],
   "source": [
    "m.meta.cal_step.cube_build"
   ]
  },
  {
   "cell_type": "code",
   "execution_count": null,
   "metadata": {
    "scrolled": false
   },
   "outputs": [],
   "source": [
    "pdb.run(\"Step.from_cmdline(spec3_default_args)\")"
   ]
  },
  {
   "cell_type": "markdown",
   "metadata": {},
   "source": [
    "## nirspec msa"
   ]
  },
  {
   "cell_type": "code",
   "execution_count": null,
   "metadata": {
    "collapsed": true
   },
   "outputs": [],
   "source": [
    "DATAPATH = abspath(\n",
    "    '$DEVDIR/testdata/pandokia/jwcalibdev/data4/jwst_test_data/nirspec/test_datasets/msa/simulated-3nod'\n",
    ")"
   ]
  },
  {
   "cell_type": "markdown",
   "metadata": {},
   "source": [
    "### Setup association"
   ]
  },
  {
   "cell_type": "code",
   "execution_count": null,
   "metadata": {},
   "outputs": [],
   "source": [
    "asn_path = update_asn_basedir(\n",
    "    path.join(DATAPATH,'two_member_spec3_asn.json'),\n",
    "    root=path.join(DATAPATH, 'level2b_twoslit')\n",
    ")"
   ]
  },
  {
   "cell_type": "markdown",
   "metadata": {},
   "source": [
    "### Run the mock outlier step"
   ]
  },
  {
   "cell_type": "code",
   "execution_count": null,
   "metadata": {
    "collapsed": true
   },
   "outputs": [],
   "source": [
    "mock_outlier_args = [\n",
    "    '../data/calwebb_spec3_mock.cfg',\n",
    "    asn_path,\n",
    "    '--steps.mrs_imatch.skip=true',\n",
    "    '--steps.resample_spec.skip=true',\n",
    "    '--steps.cube_build.skip=true',\n",
    "    '--steps.extract_1d.skip=true',\n",
    "    '--output_dir=/tmp'\n",
    "]"
   ]
  },
  {
   "cell_type": "code",
   "execution_count": null,
   "metadata": {
    "scrolled": true
   },
   "outputs": [],
   "source": [
    "pdb.run(\"Step.from_cmdline(mock_outlier_args)\")"
   ]
  },
  {
   "cell_type": "code",
   "execution_count": null,
   "metadata": {
    "collapsed": true
   },
   "outputs": [],
   "source": []
  }
 ],
 "metadata": {
  "kernelspec": {
   "display_name": "Python 3",
   "language": "python",
   "name": "python3"
  },
  "language_info": {
   "codemirror_mode": {
    "name": "ipython",
    "version": 3
   },
   "file_extension": ".py",
   "mimetype": "text/x-python",
   "name": "python",
   "nbconvert_exporter": "python",
   "pygments_lexer": "ipython3",
   "version": "3.6.2"
  }
 },
 "nbformat": 4,
 "nbformat_minor": 2
}

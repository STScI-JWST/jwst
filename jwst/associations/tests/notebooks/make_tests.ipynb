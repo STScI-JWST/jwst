{
 "cells": [
  {
   "cell_type": "markdown",
   "metadata": {},
   "source": [
    "# Abstract"
   ]
  },
  {
   "cell_type": "markdown",
   "metadata": {},
   "source": [
    "Make the test comparison associations"
   ]
  },
  {
   "cell_type": "markdown",
   "metadata": {},
   "source": [
    "# Environment"
   ]
  },
  {
   "cell_type": "code",
   "execution_count": null,
   "metadata": {
    "collapsed": true
   },
   "outputs": [],
   "source": [
    "# Setup debugging log\n",
    "import logging\n",
    "logger = logging.getLogger('jwst.associations')\n",
    "handler = logging.StreamHandler()\n",
    "logger.addHandler(handler)\n",
    "handler.setLevel(logging.DEBUG)\n",
    "logger.setLevel(logging.DEBUG)"
   ]
  },
  {
   "cell_type": "code",
   "execution_count": null,
   "metadata": {
    "collapsed": true
   },
   "outputs": [],
   "source": [
    "import pdb\n",
    "from tempfile import TemporaryDirectory"
   ]
  },
  {
   "cell_type": "code",
   "execution_count": null,
   "metadata": {
    "collapsed": true
   },
   "outputs": [],
   "source": [
    "import numpy as np"
   ]
  },
  {
   "cell_type": "code",
   "execution_count": null,
   "metadata": {
    "collapsed": true
   },
   "outputs": [],
   "source": [
    "from jwst.associations import (\n",
    "    AssociationRegistry,\n",
    "    generate\n",
    ")\n",
    "from jwst.associations.main import Main"
   ]
  },
  {
   "cell_type": "code",
   "execution_count": null,
   "metadata": {
    "collapsed": true
   },
   "outputs": [],
   "source": [
    "from jwst.associations.tests.helpers import (\n",
    "    combine_pools,\n",
    "    registry_level3_only,\n",
    "    registry_level2_only,\n",
    "    t_path,\n",
    ")"
   ]
  },
  {
   "cell_type": "markdown",
   "metadata": {},
   "source": [
    "# Library"
   ]
  },
  {
   "cell_type": "markdown",
   "metadata": {},
   "source": [
    "# Main"
   ]
  },
  {
   "cell_type": "markdown",
   "metadata": {},
   "source": [
    "## Level 2 Associations"
   ]
  },
  {
   "cell_type": "code",
   "execution_count": null,
   "metadata": {
    "collapsed": true
   },
   "outputs": [],
   "source": [
    "save_args = [\n",
    "    '-r',\n",
    "    '../../lib/rules_level2b.py',\n",
    "    '--ignore-default',\n",
    "]"
   ]
  },
  {
   "cell_type": "markdown",
   "metadata": {},
   "source": [
    "### pool_009_spec_miri_lv2bkg"
   ]
  },
  {
   "cell_type": "code",
   "execution_count": null,
   "metadata": {
    "collapsed": true
   },
   "outputs": [],
   "source": [
    "pool_009_spec_miri_lv2bkg = combine_pools('../data/pool_009_spec_miri_lv2bkg.csv')"
   ]
  },
  {
   "cell_type": "code",
   "execution_count": null,
   "metadata": {
    "scrolled": true
   },
   "outputs": [],
   "source": [
    "with TemporaryDirectory() as tmp_path:\n",
    "    args = save_args + ['-p', tmp_path]\n",
    "    results = Main(\n",
    "        args,\n",
    "        pool=pool_009_spec_miri_lv2bkg\n",
    "    )\n",
    "    %ls $tmp_path\n",
    "    %mv $tmp_path/jw99009-o001_spec2_001_asn.json ../data/pool_009_spec2_001_asn.json\n",
    "    %mv $tmp_path/jw99009-o003_image2_001_asn.json ../data/pool_009_image2_001_asn.json"
   ]
  },
  {
   "cell_type": "markdown",
   "metadata": {},
   "source": [
    "### pool_010_spec_nirspec_lv2bkg"
   ]
  },
  {
   "cell_type": "code",
   "execution_count": null,
   "metadata": {
    "collapsed": true
   },
   "outputs": [],
   "source": [
    "pool_010_spec_nirspec_lv2bkg = combine_pools('../data/pool_010_spec_nirspec_lv2bkg.csv')"
   ]
  },
  {
   "cell_type": "code",
   "execution_count": null,
   "metadata": {
    "scrolled": true
   },
   "outputs": [],
   "source": [
    "with TemporaryDirectory() as tmp_path:\n",
    "    args = save_args + ['-p', tmp_path]\n",
    "    results = Main(\n",
    "        args,\n",
    "        pool=pool_010_spec_nirspec_lv2bkg\n",
    "    )\n",
    "    %ls $tmp_path\n",
    "    %mv $tmp_path/jw99009-c1000_spec2_001_asn.json ../data/pool_010_spec2_001_asn.json\n",
    "    %mv $tmp_path/jw99009-o003_image2_001_asn.json ../data/pool_010_image2_001_asn.json"
   ]
  },
  {
   "cell_type": "markdown",
   "metadata": {},
   "source": [
    "### pool_011_spec_miri_lv2bkg_lrs"
   ]
  },
  {
   "cell_type": "code",
   "execution_count": null,
   "metadata": {
    "collapsed": true
   },
   "outputs": [],
   "source": [
    "pool_011_spec_miri_lv2bkg_lrs = combine_pools('../data/pool_011_spec_miri_lv2bkg_lrs.csv')"
   ]
  },
  {
   "cell_type": "code",
   "execution_count": null,
   "metadata": {
    "scrolled": true
   },
   "outputs": [],
   "source": [
    "with TemporaryDirectory() as tmp_path:\n",
    "    args = save_args + ['-p', tmp_path]\n",
    "    results = Main(\n",
    "        args,\n",
    "        pool=pool_011_spec_miri_lv2bkg_lrs\n",
    "    )\n",
    "    %ls $tmp_path\n",
    "    %mv $tmp_path/jw99009-o001_spec2_001_asn.json ../data/pool_011_spec2_001_asn.json"
   ]
  },
  {
   "cell_type": "markdown",
   "metadata": {},
   "source": [
    "### pool_015_spec_nirspec_lv2bkg_reversed"
   ]
  },
  {
   "cell_type": "code",
   "execution_count": null,
   "metadata": {
    "collapsed": true
   },
   "outputs": [],
   "source": [
    "pool_015_spec_nirspec_lv2bkg_reversed = combine_pools('../data/pool_015_spec_nirspec_lv2bkg_reversed.csv')"
   ]
  },
  {
   "cell_type": "code",
   "execution_count": null,
   "metadata": {
    "scrolled": true
   },
   "outputs": [],
   "source": [
    "with TemporaryDirectory() as tmp_path:\n",
    "    args = save_args + ['-p', tmp_path]\n",
    "    results = Main(\n",
    "        args,\n",
    "        pool=pool_015_spec_nirspec_lv2bkg_reversed\n",
    "    )\n",
    "    %ls $tmp_path\n",
    "    %mv $tmp_path/jw99009-o001_image2_001_asn.json ../data/pool_015_image2_001_asn.json\n",
    "    %mv $tmp_path/jw99009-o001_spec2_001_asn.json ../data/pool_015_spec2_001_asn.json"
   ]
  },
  {
   "cell_type": "markdown",
   "metadata": {},
   "source": [
    "### pool_016_spec_nirspec_lv2bkg_double"
   ]
  },
  {
   "cell_type": "code",
   "execution_count": null,
   "metadata": {
    "collapsed": true
   },
   "outputs": [],
   "source": [
    "pool_016_spec_nirspec_lv2bkg_double = combine_pools('../data/pool_016_spec_nirspec_lv2bkg_double.csv')"
   ]
  },
  {
   "cell_type": "code",
   "execution_count": null,
   "metadata": {
    "scrolled": true
   },
   "outputs": [],
   "source": [
    "with TemporaryDirectory() as tmp_path:\n",
    "    args = save_args + ['-p', tmp_path]\n",
    "    results = Main(\n",
    "        args,\n",
    "        pool=pool_016_spec_nirspec_lv2bkg_double\n",
    "    )\n",
    "    %ls $tmp_path\n",
    "    %mv $tmp_path/jw99009-o003_image2_001_asn.json ../data/pool_016_image2_001_asn.json\n",
    "    %mv $tmp_path/jw99009-c1000_spec2_001_asn.json ../data/pool_016_spec2_001_asn.json"
   ]
  },
  {
   "cell_type": "markdown",
   "metadata": {},
   "source": [
    "### pool_017_spec_nirspec_lv2imprint"
   ]
  },
  {
   "cell_type": "code",
   "execution_count": null,
   "metadata": {
    "collapsed": true
   },
   "outputs": [],
   "source": [
    "pool_017_spec_nirspec_lv2imprint = combine_pools('../data/pool_017_spec_nirspec_lv2imprint.csv')"
   ]
  },
  {
   "cell_type": "code",
   "execution_count": null,
   "metadata": {
    "scrolled": true
   },
   "outputs": [],
   "source": [
    "with TemporaryDirectory() as tmp_path:\n",
    "    args = save_args + ['-p', tmp_path]\n",
    "    results = Main(\n",
    "        args,\n",
    "        pool=pool_017_spec_nirspec_lv2imprint\n",
    "    )\n",
    "    %ls $tmp_path\n",
    "    %mv $tmp_path/jw99009-o003_image2_001_asn.json ../data/pool_017_image2_001_asn.json\n",
    "    %mv $tmp_path/jw99009-a3001_spec2_001_asn.json ../data/pool_017_spec2_001_asn.json"
   ]
  },
  {
   "cell_type": "markdown",
   "metadata": {},
   "source": [
    "### pool_018_all_exptypes"
   ]
  },
  {
   "cell_type": "code",
   "execution_count": null,
   "metadata": {
    "collapsed": true
   },
   "outputs": [],
   "source": [
    "save_args = [\n",
    "    '-r',\n",
    "    '../../lib/rules_level2b.py',\n",
    "    '--ignore-default',\n",
    "]"
   ]
  },
  {
   "cell_type": "code",
   "execution_count": null,
   "metadata": {
    "collapsed": true
   },
   "outputs": [],
   "source": [
    "pool_018_all_exptypes = combine_pools('../data/pool_018_all_exptypes.csv')"
   ]
  },
  {
   "cell_type": "code",
   "execution_count": null,
   "metadata": {
    "scrolled": true
   },
   "outputs": [],
   "source": [
    "with TemporaryDirectory() as tmp_path:\n",
    "    args = save_args + ['-p', tmp_path]\n",
    "    results = Main(\n",
    "        args,\n",
    "        pool=pool_018_all_exptypes\n",
    "    )\n",
    "    %mv $tmp_path/jw99009-a3001_spec2_001_asn.json ../data/pool_018_spec2_001_asn.json\n",
    "    %mv $tmp_path/jw99009-o001_image2_001_asn.json ../data/pool_018_image2_001_asn.json"
   ]
  },
  {
   "cell_type": "code",
   "execution_count": null,
   "metadata": {
    "collapsed": true
   },
   "outputs": [],
   "source": []
  }
 ],
 "metadata": {
  "anaconda-cloud": {},
  "kernelspec": {
   "display_name": "Python 3",
   "language": "python",
   "name": "python3"
  },
  "language_info": {
   "codemirror_mode": {
    "name": "ipython",
    "version": 3
   },
   "file_extension": ".py",
   "mimetype": "text/x-python",
   "name": "python",
   "nbconvert_exporter": "python",
   "pygments_lexer": "ipython3",
   "version": "3.6.2"
  }
 },
 "nbformat": 4,
 "nbformat_minor": 2
}

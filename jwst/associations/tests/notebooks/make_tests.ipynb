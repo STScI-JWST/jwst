{
 "cells": [
  {
   "cell_type": "markdown",
   "metadata": {},
   "source": [
    "# Abstract"
   ]
  },
  {
   "cell_type": "markdown",
   "metadata": {},
   "source": [
    "Make the test comparison associations"
   ]
  },
  {
   "cell_type": "markdown",
   "metadata": {},
   "source": [
    "# Environment"
   ]
  },
  {
   "cell_type": "code",
   "execution_count": 1,
   "metadata": {
    "collapsed": true
   },
   "outputs": [],
   "source": [
    "# Setup debugging log\n",
    "import logging\n",
    "logger = logging.getLogger('jwst.associations')\n",
    "handler = logging.StreamHandler()\n",
    "logger.addHandler(handler)\n",
    "handler.setLevel(logging.DEBUG)\n",
    "logger.setLevel(logging.DEBUG)"
   ]
  },
  {
   "cell_type": "code",
   "execution_count": 2,
   "metadata": {
    "collapsed": true
   },
   "outputs": [],
   "source": [
    "import pdb\n",
    "from tempfile import TemporaryDirectory"
   ]
  },
  {
   "cell_type": "code",
   "execution_count": 3,
   "metadata": {
    "collapsed": true
   },
   "outputs": [],
   "source": [
    "import numpy as np"
   ]
  },
  {
   "cell_type": "code",
   "execution_count": 4,
   "metadata": {
    "collapsed": true
   },
   "outputs": [],
   "source": [
    "from jwst.associations import (\n",
    "    AssociationRegistry,\n",
    "    generate\n",
    ")\n",
    "from jwst.associations.main import Main"
   ]
  },
  {
   "cell_type": "code",
   "execution_count": 5,
   "metadata": {
    "collapsed": true
   },
   "outputs": [],
   "source": [
    "from jwst.associations.tests.helpers import (\n",
    "    combine_pools,\n",
    "    registry_level3_only,\n",
    "    registry_level2_only,\n",
    "    t_path,\n",
    ")"
   ]
  },
  {
   "cell_type": "markdown",
   "metadata": {},
   "source": [
    "# Library"
   ]
  },
  {
   "cell_type": "markdown",
   "metadata": {},
   "source": [
    "# Main"
   ]
  },
  {
   "cell_type": "markdown",
   "metadata": {},
   "source": [
    "## Level 2 Associations"
   ]
  },
  {
   "cell_type": "code",
   "execution_count": 6,
   "metadata": {
    "collapsed": true
   },
   "outputs": [],
   "source": [
    "save_args = [\n",
    "    '-r',\n",
    "    '../../lib/rules_level2b.py',\n",
    "    '--ignore-default',\n",
    "]"
   ]
  },
  {
   "cell_type": "markdown",
   "metadata": {},
   "source": [
    "### pool_009_spec_miri_lv2bkg"
   ]
  },
  {
   "cell_type": "code",
   "execution_count": 7,
   "metadata": {
    "collapsed": true
   },
   "outputs": [],
   "source": [
    "pool_009_spec_miri_lv2bkg = combine_pools('../data/pool_009_spec_miri_lv2bkg.csv')"
   ]
  },
  {
   "cell_type": "code",
   "execution_count": 8,
   "metadata": {
    "scrolled": true
   },
   "outputs": [
    {
     "name": "stderr",
     "output_type": "stream",
     "text": [
      "201709201712:WARNING:jwst.associations.lib.rules_level2_base.rename_to_level2a:Item FILENAME=\"set acid\" is not a Level 1b name. Cannot transform to Level 2a.\n",
      "201709201712:WARNING:jwst.associations.lib.rules_level2_base.rename_to_level2a:Item FILENAME=\"set acid\" is not a Level 1b name. Cannot transform to Level 2a.\n",
      "201709201712:WARNING:jwst.associations.lib.rules_level2_base.rename_to_level2a:Item FILENAME=\"set acid\" is not a Level 1b name. Cannot transform to Level 2a.\n",
      "201709201712:WARNING:jwst.associations.lib.rules_level2_base.rename_to_level2a:Item FILENAME=\"set acid\" is not a Level 1b name. Cannot transform to Level 2a.\n",
      "201709201712:WARNING:jwst.associations.lib.rules_level2_base.rename_to_level2a:Item FILENAME=\"set acid\" is not a Level 1b name. Cannot transform to Level 2a.\n",
      "201709201712:WARNING:jwst.associations.lib.rules_level2_base.rename_to_level2a:Item FILENAME=\"set acid\" is not a Level 1b name. Cannot transform to Level 2a.\n",
      "201709201712:WARNING:jwst.associations.lib.rules_level2_base.rename_to_level2a:Item FILENAME=\"set acid\" is not a Level 1b name. Cannot transform to Level 2a.\n",
      "201709201712:WARNING:jwst.associations.lib.rules_level2_base.rename_to_level2a:Item FILENAME=\"set acid\" is not a Level 1b name. Cannot transform to Level 2a.\n",
      "201709201712:WARNING:jwst.associations.lib.rules_level2_base.rename_to_level2a:Item FILENAME=\"set acid\" is not a Level 1b name. Cannot transform to Level 2a.\n",
      "201709201712:WARNING:jwst.associations.lib.rules_level2_base.rename_to_level2a:Item FILENAME=\"set acid\" is not a Level 1b name. Cannot transform to Level 2a.\n",
      "201709201712:WARNING:jwst.associations.lib.rules_level2_base.rename_to_level2a:Item FILENAME=\"set acid\" is not a Level 1b name. Cannot transform to Level 2a.\n",
      "201709201712:WARNING:jwst.associations.lib.rules_level2_base.rename_to_level2a:Item FILENAME=\"set acid\" is not a Level 1b name. Cannot transform to Level 2a.\n",
      "201709201712:WARNING:jwst.associations.lib.rules_level2_base.rename_to_level2a:Item FILENAME=\"set acid\" is not a Level 1b name. Cannot transform to Level 2a.\n",
      "201709201712:WARNING:jwst.associations.lib.rules_level2_base.rename_to_level2a:Item FILENAME=\"set acid\" is not a Level 1b name. Cannot transform to Level 2a.\n",
      "201709201712:WARNING:jwst.associations.lib.rules_level2_base.rename_to_level2a:Item FILENAME=\"set acid\" is not a Level 1b name. Cannot transform to Level 2a.\n",
      "201709201712:WARNING:jwst.associations.lib.rules_level2_base.rename_to_level2a:Item FILENAME=\"set acid\" is not a Level 1b name. Cannot transform to Level 2a.\n",
      "201709201712:WARNING:jwst.associations.lib.rules_level2_base.rename_to_level2a:Item FILENAME=\"set acid\" is not a Level 1b name. Cannot transform to Level 2a.\n",
      "201709201712:WARNING:jwst.associations.lib.rules_level2_base.rename_to_level2a:Item FILENAME=\"set acid\" is not a Level 1b name. Cannot transform to Level 2a.\n",
      "201709201712:WARNING:jwst.associations.lib.rules_level2_base.rename_to_level2a:Item FILENAME=\"set acid\" is not a Level 1b name. Cannot transform to Level 2a.\n",
      "201709201712:WARNING:jwst.associations.lib.rules_level2_base.rename_to_level2a:Item FILENAME=\"set acid\" is not a Level 1b name. Cannot transform to Level 2a.\n",
      "201709201712:WARNING:jwst.associations.lib.rules_level2_base.rename_to_level2a:Item FILENAME=\"set acid\" is not a Level 1b name. Cannot transform to Level 2a.\n",
      "201709201712:WARNING:jwst.associations.lib.rules_level2_base.rename_to_level2a:Item FILENAME=\"set acid\" is not a Level 1b name. Cannot transform to Level 2a.\n",
      "201709201712:WARNING:jwst.associations.lib.rules_level2_base.rename_to_level2a:Item FILENAME=\"set acid\" is not a Level 1b name. Cannot transform to Level 2a.\n",
      "201709201712:WARNING:jwst.associations.lib.rules_level2_base.rename_to_level2a:Item FILENAME=\"set acid\" is not a Level 1b name. Cannot transform to Level 2a.\n",
      "201709201712:WARNING:jwst.associations.lib.rules_level2_base.rename_to_level2a:Item FILENAME=\"set acid\" is not a Level 1b name. Cannot transform to Level 2a.\n",
      "201709201712:WARNING:jwst.associations.lib.rules_level2_base.rename_to_level2a:Item FILENAME=\"set acid\" is not a Level 1b name. Cannot transform to Level 2a.\n",
      "201709201712:WARNING:jwst.associations.lib.rules_level2_base.rename_to_level2a:Item FILENAME=\"set acid\" is not a Level 1b name. Cannot transform to Level 2a.\n",
      "201709201712:WARNING:jwst.associations.lib.rules_level2_base.rename_to_level2a:Item FILENAME=\"set acid\" is not a Level 1b name. Cannot transform to Level 2a.\n",
      "201709201712:WARNING:jwst.associations.lib.rules_level2_base.rename_to_level2a:Item FILENAME=\"set acid\" is not a Level 1b name. Cannot transform to Level 2a.\n",
      "201709201712:WARNING:jwst.associations.lib.rules_level2_base.rename_to_level2a:Item FILENAME=\"set acid\" is not a Level 1b name. Cannot transform to Level 2a.\n",
      "201709201712:WARNING:jwst.associations.lib.rules_level2_base.rename_to_level2a:Item FILENAME=\"set acid\" is not a Level 1b name. Cannot transform to Level 2a.\n",
      "201709201712:WARNING:jwst.associations.lib.rules_level2_base.rename_to_level2a:Item FILENAME=\"set acid\" is not a Level 1b name. Cannot transform to Level 2a.\n",
      "201709201712:WARNING:jwst.associations.lib.rules_level2_base.rename_to_level2a:Item FILENAME=\"set acid\" is not a Level 1b name. Cannot transform to Level 2a.\n",
      "201709201712:WARNING:jwst.associations.lib.rules_level2_base.rename_to_level2a:Item FILENAME=\"set acid\" is not a Level 1b name. Cannot transform to Level 2a.\n",
      "201709201712:WARNING:jwst.associations.lib.rules_level2_base.rename_to_level2a:Item FILENAME=\"set acid\" is not a Level 1b name. Cannot transform to Level 2a.\n",
      "201709201712:WARNING:jwst.associations.lib.rules_level2_base.rename_to_level2a:Item FILENAME=\"set acid\" is not a Level 1b name. Cannot transform to Level 2a.\n",
      "201709201712:WARNING:jwst.associations.lib.rules_level2_base.rename_to_level2a:Item FILENAME=\"set acid\" is not a Level 1b name. Cannot transform to Level 2a.\n",
      "201709201712:WARNING:jwst.associations.lib.rules_level2_base.rename_to_level2a:Item FILENAME=\"set acid\" is not a Level 1b name. Cannot transform to Level 2a.\n",
      "201709201712:WARNING:jwst.associations.lib.rules_level2_base.rename_to_level2a:Item FILENAME=\"set acid\" is not a Level 1b name. Cannot transform to Level 2a.\n",
      "201709201712:WARNING:jwst.associations.lib.rules_level2_base.rename_to_level2a:Item FILENAME=\"set acid\" is not a Level 1b name. Cannot transform to Level 2a.\n",
      "201709201712:WARNING:jwst.associations.lib.rules_level2_base.rename_to_level2a:Item FILENAME=\"set acid\" is not a Level 1b name. Cannot transform to Level 2a.\n",
      "201709201712:WARNING:jwst.associations.lib.rules_level2_base.rename_to_level2a:Item FILENAME=\"set acid\" is not a Level 1b name. Cannot transform to Level 2a.\n"
     ]
    },
    {
     "name": "stdout",
     "output_type": "stream",
     "text": [
      "jw99009-o001_spec2_001_asn.json   jw99009-o003_image2_001_asn.json\r\n"
     ]
    }
   ],
   "source": [
    "with TemporaryDirectory() as tmp_path:\n",
    "    args = save_args + ['-p', tmp_path]\n",
    "    results = Main(\n",
    "        args,\n",
    "        pool=pool_009_spec_miri_lv2bkg\n",
    "    )\n",
    "    %ls $tmp_path\n",
    "    %mv $tmp_path/jw99009-o001_spec2_001_asn.json ../data/pool_009_spec2_001_asn.json\n",
    "    %mv $tmp_path/jw99009-o003_image2_001_asn.json ../data/pool_009_image2_001_asn.json"
   ]
  },
  {
   "cell_type": "markdown",
   "metadata": {},
   "source": [
    "### pool_010_spec_nirspec_lv2bkg"
   ]
  },
  {
   "cell_type": "code",
   "execution_count": 9,
   "metadata": {
    "collapsed": true
   },
   "outputs": [],
   "source": [
    "pool_010_spec_nirspec_lv2bkg = combine_pools('../data/pool_010_spec_nirspec_lv2bkg.csv')"
   ]
  },
  {
   "cell_type": "code",
   "execution_count": 10,
   "metadata": {
    "scrolled": true
   },
   "outputs": [
    {
     "name": "stderr",
     "output_type": "stream",
     "text": [
      "201709201712:WARNING:jwst.associations.lib.rules_level2_base.rename_to_level2a:Item FILENAME=\"set acid\" is not a Level 1b name. Cannot transform to Level 2a.\n",
      "201709201712:WARNING:jwst.associations.lib.rules_level2_base.rename_to_level2a:Item FILENAME=\"set acid\" is not a Level 1b name. Cannot transform to Level 2a.\n",
      "201709201712:WARNING:jwst.associations.lib.rules_level2_base.rename_to_level2a:Item FILENAME=\"set acid\" is not a Level 1b name. Cannot transform to Level 2a.\n",
      "201709201712:WARNING:jwst.associations.lib.rules_level2_base.rename_to_level2a:Item FILENAME=\"set acid\" is not a Level 1b name. Cannot transform to Level 2a.\n",
      "201709201712:WARNING:jwst.associations.lib.rules_level2_base.rename_to_level2a:Item FILENAME=\"set acid\" is not a Level 1b name. Cannot transform to Level 2a.\n",
      "201709201712:WARNING:jwst.associations.lib.rules_level2_base.rename_to_level2a:Item FILENAME=\"set acid\" is not a Level 1b name. Cannot transform to Level 2a.\n",
      "201709201712:WARNING:jwst.associations.lib.rules_level2_base.rename_to_level2a:Item FILENAME=\"set acid\" is not a Level 1b name. Cannot transform to Level 2a.\n",
      "201709201712:WARNING:jwst.associations.lib.rules_level2_base.rename_to_level2a:Item FILENAME=\"set acid\" is not a Level 1b name. Cannot transform to Level 2a.\n",
      "201709201712:WARNING:jwst.associations.lib.rules_level2_base.rename_to_level2a:Item FILENAME=\"set acid\" is not a Level 1b name. Cannot transform to Level 2a.\n",
      "201709201712:WARNING:jwst.associations.lib.rules_level2_base.rename_to_level2a:Item FILENAME=\"set acid\" is not a Level 1b name. Cannot transform to Level 2a.\n",
      "201709201712:WARNING:jwst.associations.lib.rules_level2_base.rename_to_level2a:Item FILENAME=\"set acid\" is not a Level 1b name. Cannot transform to Level 2a.\n",
      "201709201712:WARNING:jwst.associations.lib.rules_level2_base.rename_to_level2a:Item FILENAME=\"set acid\" is not a Level 1b name. Cannot transform to Level 2a.\n",
      "201709201712:WARNING:jwst.associations.lib.rules_level2_base.rename_to_level2a:Item FILENAME=\"set acid\" is not a Level 1b name. Cannot transform to Level 2a.\n",
      "201709201712:WARNING:jwst.associations.lib.rules_level2_base.rename_to_level2a:Item FILENAME=\"set acid\" is not a Level 1b name. Cannot transform to Level 2a.\n",
      "201709201712:WARNING:jwst.associations.lib.rules_level2_base.rename_to_level2a:Item FILENAME=\"set acid\" is not a Level 1b name. Cannot transform to Level 2a.\n",
      "201709201712:WARNING:jwst.associations.lib.rules_level2_base.rename_to_level2a:Item FILENAME=\"set acid\" is not a Level 1b name. Cannot transform to Level 2a.\n",
      "201709201712:WARNING:jwst.associations.lib.rules_level2_base.rename_to_level2a:Item FILENAME=\"set acid\" is not a Level 1b name. Cannot transform to Level 2a.\n",
      "201709201712:WARNING:jwst.associations.lib.rules_level2_base.rename_to_level2a:Item FILENAME=\"set acid\" is not a Level 1b name. Cannot transform to Level 2a.\n",
      "201709201712:WARNING:jwst.associations.lib.rules_level2_base.rename_to_level2a:Item FILENAME=\"set acid\" is not a Level 1b name. Cannot transform to Level 2a.\n",
      "201709201712:WARNING:jwst.associations.lib.rules_level2_base.rename_to_level2a:Item FILENAME=\"set acid\" is not a Level 1b name. Cannot transform to Level 2a.\n",
      "201709201712:WARNING:jwst.associations.lib.rules_level2_base.rename_to_level2a:Item FILENAME=\"set acid\" is not a Level 1b name. Cannot transform to Level 2a.\n",
      "201709201712:WARNING:jwst.associations.lib.rules_level2_base.rename_to_level2a:Item FILENAME=\"set acid\" is not a Level 1b name. Cannot transform to Level 2a.\n",
      "201709201712:WARNING:jwst.associations.lib.rules_level2_base.rename_to_level2a:Item FILENAME=\"set acid\" is not a Level 1b name. Cannot transform to Level 2a.\n",
      "201709201712:WARNING:jwst.associations.lib.rules_level2_base.rename_to_level2a:Item FILENAME=\"set acid\" is not a Level 1b name. Cannot transform to Level 2a.\n",
      "201709201712:WARNING:jwst.associations.lib.rules_level2_base.rename_to_level2a:Item FILENAME=\"set acid\" is not a Level 1b name. Cannot transform to Level 2a.\n",
      "201709201712:WARNING:jwst.associations.lib.rules_level2_base.rename_to_level2a:Item FILENAME=\"set acid\" is not a Level 1b name. Cannot transform to Level 2a.\n",
      "201709201712:WARNING:jwst.associations.lib.rules_level2_base.rename_to_level2a:Item FILENAME=\"set acid\" is not a Level 1b name. Cannot transform to Level 2a.\n",
      "201709201712:WARNING:jwst.associations.lib.rules_level2_base.rename_to_level2a:Item FILENAME=\"set acid\" is not a Level 1b name. Cannot transform to Level 2a.\n",
      "201709201712:WARNING:jwst.associations.lib.rules_level2_base.rename_to_level2a:Item FILENAME=\"set acid\" is not a Level 1b name. Cannot transform to Level 2a.\n",
      "201709201712:WARNING:jwst.associations.lib.rules_level2_base.rename_to_level2a:Item FILENAME=\"set acid\" is not a Level 1b name. Cannot transform to Level 2a.\n",
      "201709201712:WARNING:jwst.associations.lib.rules_level2_base.rename_to_level2a:Item FILENAME=\"set acid\" is not a Level 1b name. Cannot transform to Level 2a.\n",
      "201709201712:WARNING:jwst.associations.lib.rules_level2_base.rename_to_level2a:Item FILENAME=\"set acid\" is not a Level 1b name. Cannot transform to Level 2a.\n",
      "201709201712:WARNING:jwst.associations.lib.rules_level2_base.rename_to_level2a:Item FILENAME=\"set acid\" is not a Level 1b name. Cannot transform to Level 2a.\n",
      "201709201712:WARNING:jwst.associations.lib.rules_level2_base.rename_to_level2a:Item FILENAME=\"set acid\" is not a Level 1b name. Cannot transform to Level 2a.\n",
      "201709201712:WARNING:jwst.associations.lib.rules_level2_base.rename_to_level2a:Item FILENAME=\"set acid\" is not a Level 1b name. Cannot transform to Level 2a.\n",
      "201709201712:WARNING:jwst.associations.lib.rules_level2_base.rename_to_level2a:Item FILENAME=\"set acid\" is not a Level 1b name. Cannot transform to Level 2a.\n",
      "201709201712:WARNING:jwst.associations.lib.rules_level2_base.rename_to_level2a:Item FILENAME=\"set acid\" is not a Level 1b name. Cannot transform to Level 2a.\n",
      "201709201712:WARNING:jwst.associations.lib.rules_level2_base.rename_to_level2a:Item FILENAME=\"set acid\" is not a Level 1b name. Cannot transform to Level 2a.\n",
      "201709201712:WARNING:jwst.associations.lib.rules_level2_base.rename_to_level2a:Item FILENAME=\"set acid\" is not a Level 1b name. Cannot transform to Level 2a.\n",
      "201709201712:WARNING:jwst.associations.lib.rules_level2_base.rename_to_level2a:Item FILENAME=\"set acid\" is not a Level 1b name. Cannot transform to Level 2a.\n",
      "201709201712:WARNING:jwst.associations.lib.rules_level2_base.rename_to_level2a:Item FILENAME=\"set acid\" is not a Level 1b name. Cannot transform to Level 2a.\n",
      "201709201712:WARNING:jwst.associations.lib.rules_level2_base.rename_to_level2a:Item FILENAME=\"set acid\" is not a Level 1b name. Cannot transform to Level 2a.\n",
      "201709201712:WARNING:jwst.associations.lib.rules_level2_base.rename_to_level2a:Item FILENAME=\"set acid\" is not a Level 1b name. Cannot transform to Level 2a.\n",
      "201709201712:WARNING:jwst.associations.lib.rules_level2_base.rename_to_level2a:Item FILENAME=\"set acid\" is not a Level 1b name. Cannot transform to Level 2a.\n",
      "201709201712:WARNING:jwst.associations.lib.rules_level2_base.rename_to_level2a:Item FILENAME=\"set acid\" is not a Level 1b name. Cannot transform to Level 2a.\n",
      "201709201712:WARNING:jwst.associations.lib.rules_level2_base.rename_to_level2a:Item FILENAME=\"set acid\" is not a Level 1b name. Cannot transform to Level 2a.\n"
     ]
    },
    {
     "name": "stdout",
     "output_type": "stream",
     "text": [
      "jw99009-c1000_spec2_001_asn.json  jw99009-o003_image2_001_asn.json\r\n"
     ]
    }
   ],
   "source": [
    "with TemporaryDirectory() as tmp_path:\n",
    "    args = save_args + ['-p', tmp_path]\n",
    "    results = Main(\n",
    "        args,\n",
    "        pool=pool_010_spec_nirspec_lv2bkg\n",
    "    )\n",
    "    %ls $tmp_path\n",
    "    %mv $tmp_path/jw99009-c1000_spec2_001_asn.json ../data/pool_010_spec2_001_asn.json\n",
    "    %mv $tmp_path/jw99009-o003_image2_001_asn.json ../data/pool_010_image2_001_asn.json"
   ]
  },
  {
   "cell_type": "markdown",
   "metadata": {},
   "source": [
    "### pool_011_spec_miri_lv2bkg_lrs"
   ]
  },
  {
   "cell_type": "code",
   "execution_count": 11,
   "metadata": {
    "collapsed": true
   },
   "outputs": [],
   "source": [
    "pool_011_spec_miri_lv2bkg_lrs = combine_pools('../data/pool_011_spec_miri_lv2bkg_lrs.csv')"
   ]
  },
  {
   "cell_type": "code",
   "execution_count": 12,
   "metadata": {
    "scrolled": true
   },
   "outputs": [
    {
     "name": "stderr",
     "output_type": "stream",
     "text": [
      "201709201712:WARNING:jwst.associations.lib.rules_level2_base.rename_to_level2a:Item FILENAME=\"set acid\" is not a Level 1b name. Cannot transform to Level 2a.\n",
      "201709201712:WARNING:jwst.associations.lib.rules_level2_base.rename_to_level2a:Item FILENAME=\"set acid\" is not a Level 1b name. Cannot transform to Level 2a.\n",
      "201709201712:WARNING:jwst.associations.lib.rules_level2_base.rename_to_level2a:Item FILENAME=\"set acid\" is not a Level 1b name. Cannot transform to Level 2a.\n",
      "201709201712:WARNING:jwst.associations.lib.rules_level2_base.rename_to_level2a:Item FILENAME=\"set acid\" is not a Level 1b name. Cannot transform to Level 2a.\n",
      "201709201712:WARNING:jwst.associations.lib.rules_level2_base.rename_to_level2a:Item FILENAME=\"set acid\" is not a Level 1b name. Cannot transform to Level 2a.\n",
      "201709201712:WARNING:jwst.associations.lib.rules_level2_base.rename_to_level2a:Item FILENAME=\"set acid\" is not a Level 1b name. Cannot transform to Level 2a.\n",
      "201709201712:WARNING:jwst.associations.lib.rules_level2_base.rename_to_level2a:Item FILENAME=\"set acid\" is not a Level 1b name. Cannot transform to Level 2a.\n",
      "201709201712:WARNING:jwst.associations.lib.rules_level2_base.rename_to_level2a:Item FILENAME=\"set acid\" is not a Level 1b name. Cannot transform to Level 2a.\n",
      "201709201712:WARNING:jwst.associations.lib.rules_level2_base.rename_to_level2a:Item FILENAME=\"set acid\" is not a Level 1b name. Cannot transform to Level 2a.\n",
      "201709201712:WARNING:jwst.associations.lib.rules_level2_base.rename_to_level2a:Item FILENAME=\"set acid\" is not a Level 1b name. Cannot transform to Level 2a.\n",
      "201709201712:WARNING:jwst.associations.lib.rules_level2_base.rename_to_level2a:Item FILENAME=\"set acid\" is not a Level 1b name. Cannot transform to Level 2a.\n",
      "201709201712:WARNING:jwst.associations.lib.rules_level2_base.rename_to_level2a:Item FILENAME=\"set acid\" is not a Level 1b name. Cannot transform to Level 2a.\n",
      "201709201712:WARNING:jwst.associations.lib.rules_level2_base.rename_to_level2a:Item FILENAME=\"set acid\" is not a Level 1b name. Cannot transform to Level 2a.\n",
      "201709201712:WARNING:jwst.associations.lib.rules_level2_base.rename_to_level2a:Item FILENAME=\"set acid\" is not a Level 1b name. Cannot transform to Level 2a.\n",
      "201709201712:WARNING:jwst.associations.lib.rules_level2_base.rename_to_level2a:Item FILENAME=\"set acid\" is not a Level 1b name. Cannot transform to Level 2a.\n",
      "201709201712:WARNING:jwst.associations.lib.rules_level2_base.rename_to_level2a:Item FILENAME=\"set acid\" is not a Level 1b name. Cannot transform to Level 2a.\n",
      "201709201712:WARNING:jwst.associations.lib.rules_level2_base.rename_to_level2a:Item FILENAME=\"set acid\" is not a Level 1b name. Cannot transform to Level 2a.\n",
      "201709201712:WARNING:jwst.associations.lib.rules_level2_base.rename_to_level2a:Item FILENAME=\"set acid\" is not a Level 1b name. Cannot transform to Level 2a.\n",
      "201709201712:WARNING:jwst.associations.lib.rules_level2_base.rename_to_level2a:Item FILENAME=\"set acid\" is not a Level 1b name. Cannot transform to Level 2a.\n",
      "201709201712:WARNING:jwst.associations.lib.rules_level2_base.rename_to_level2a:Item FILENAME=\"set acid\" is not a Level 1b name. Cannot transform to Level 2a.\n",
      "201709201712:WARNING:jwst.associations.lib.rules_level2_base.rename_to_level2a:Item FILENAME=\"set acid\" is not a Level 1b name. Cannot transform to Level 2a.\n",
      "201709201712:WARNING:jwst.associations.lib.rules_level2_base.rename_to_level2a:Item FILENAME=\"set acid\" is not a Level 1b name. Cannot transform to Level 2a.\n",
      "201709201712:WARNING:jwst.associations.lib.rules_level2_base.rename_to_level2a:Item FILENAME=\"set acid\" is not a Level 1b name. Cannot transform to Level 2a.\n",
      "201709201712:WARNING:jwst.associations.lib.rules_level2_base.rename_to_level2a:Item FILENAME=\"set acid\" is not a Level 1b name. Cannot transform to Level 2a.\n",
      "201709201712:WARNING:jwst.associations.lib.rules_level2_base.rename_to_level2a:Item FILENAME=\"set acid\" is not a Level 1b name. Cannot transform to Level 2a.\n",
      "201709201712:WARNING:jwst.associations.lib.rules_level2_base.rename_to_level2a:Item FILENAME=\"set acid\" is not a Level 1b name. Cannot transform to Level 2a.\n",
      "201709201712:WARNING:jwst.associations.lib.rules_level2_base.rename_to_level2a:Item FILENAME=\"set acid\" is not a Level 1b name. Cannot transform to Level 2a.\n",
      "201709201712:WARNING:jwst.associations.lib.rules_level2_base.rename_to_level2a:Item FILENAME=\"set acid\" is not a Level 1b name. Cannot transform to Level 2a.\n",
      "201709201712:WARNING:jwst.associations.lib.rules_level2_base.rename_to_level2a:Item FILENAME=\"set acid\" is not a Level 1b name. Cannot transform to Level 2a.\n",
      "201709201712:WARNING:jwst.associations.lib.rules_level2_base.rename_to_level2a:Item FILENAME=\"set acid\" is not a Level 1b name. Cannot transform to Level 2a.\n"
     ]
    },
    {
     "name": "stdout",
     "output_type": "stream",
     "text": [
      "jw99009-o001_spec2_001_asn.json\r\n"
     ]
    }
   ],
   "source": [
    "with TemporaryDirectory() as tmp_path:\n",
    "    args = save_args + ['-p', tmp_path]\n",
    "    results = Main(\n",
    "        args,\n",
    "        pool=pool_011_spec_miri_lv2bkg_lrs\n",
    "    )\n",
    "    %ls $tmp_path\n",
    "    %mv $tmp_path/jw99009-o001_spec2_001_asn.json ../data/pool_011_spec2_001_asn.json"
   ]
  },
  {
   "cell_type": "markdown",
   "metadata": {},
   "source": [
    "### pool_014_ami_niriss"
   ]
  },
  {
   "cell_type": "code",
   "execution_count": 36,
   "metadata": {
    "collapsed": true
   },
   "outputs": [],
   "source": [
    "save_args = []"
   ]
  },
  {
   "cell_type": "code",
   "execution_count": 37,
   "metadata": {
    "collapsed": true
   },
   "outputs": [],
   "source": [
    "pool_014_ami_niriss = combine_pools('../data/pool_014_ami_niriss.csv')"
   ]
  },
  {
   "cell_type": "code",
   "execution_count": 38,
   "metadata": {
    "scrolled": true
   },
   "outputs": [
    {
     "name": "stderr",
     "output_type": "stream",
     "text": [
      "201709201733:WARNING:jwst.associations.lib.rules_level2_base.rename_to_level2a:Item FILENAME=\"set acid\" is not a Level 1b name. Cannot transform to Level 2a.\n",
      "201709201733:WARNING:jwst.associations.lib.rules_level2_base.rename_to_level2a:Item FILENAME=\"set acid\" is not a Level 1b name. Cannot transform to Level 2a.\n",
      "201709201733:WARNING:jwst.associations.lib.rules_level2_base.rename_to_level2a:Item FILENAME=\"set acid\" is not a Level 1b name. Cannot transform to Level 2a.\n",
      "201709201733:WARNING:jwst.associations.lib.rules_level2_base.rename_to_level2a:Item FILENAME=\"set acid\" is not a Level 1b name. Cannot transform to Level 2a.\n",
      "201709201733:WARNING:jwst.associations.lib.rules_level2_base.rename_to_level2a:Item FILENAME=\"set acid\" is not a Level 1b name. Cannot transform to Level 2a.\n",
      "201709201733:WARNING:jwst.associations.lib.rules_level2_base.rename_to_level2a:Item FILENAME=\"set acid\" is not a Level 1b name. Cannot transform to Level 2a.\n",
      "201709201733:WARNING:jwst.associations.lib.rules_level2_base.rename_to_level2a:Item FILENAME=\"set acid\" is not a Level 1b name. Cannot transform to Level 2a.\n",
      "201709201733:WARNING:jwst.associations.lib.rules_level3_base.rename_to_level2b:Item FILENAME=\"set acid\" is not a Level 1b name. Cannot transform to Level 2b.\n",
      "201709201733:WARNING:jwst.associations.lib.rules_level3_base.rename_to_level2b:Item FILENAME=\"set acid\" is not a Level 1b name. Cannot transform to Level 2b.\n",
      "201709201733:WARNING:jwst.associations.lib.rules_level3_base.rename_to_level2b:Item FILENAME=\"set acid\" is not a Level 1b name. Cannot transform to Level 2b.\n",
      "201709201733:WARNING:jwst.associations.lib.rules_level3_base.rename_to_level2b:Item FILENAME=\"set acid\" is not a Level 1b name. Cannot transform to Level 2b.\n",
      "201709201733:WARNING:jwst.associations.lib.rules_level3_base.rename_to_level2b:Item FILENAME=\"set acid\" is not a Level 1b name. Cannot transform to Level 2b.\n",
      "201709201733:WARNING:jwst.associations.lib.rules_level3_base.rename_to_level2b:Item FILENAME=\"set acid\" is not a Level 1b name. Cannot transform to Level 2b.\n",
      "201709201733:WARNING:jwst.associations.lib.rules_level3_base.rename_to_level2b:Item FILENAME=\"set acid\" is not a Level 1b name. Cannot transform to Level 2b.\n",
      "201709201733:WARNING:jwst.associations.lib.rules_level3_base.rename_to_level2b:Item FILENAME=\"set acid\" is not a Level 1b name. Cannot transform to Level 2b.\n",
      "201709201733:WARNING:jwst.associations.lib.rules_level3_base.rename_to_level2b:Item FILENAME=\"set acid\" is not a Level 1b name. Cannot transform to Level 2b.\n",
      "201709201733:WARNING:jwst.associations.lib.rules_level3_base.rename_to_level2b:Item FILENAME=\"set acid\" is not a Level 1b name. Cannot transform to Level 2b.\n",
      "201709201733:WARNING:jwst.associations.lib.rules_level3_base.rename_to_level2b:Item FILENAME=\"set acid\" is not a Level 1b name. Cannot transform to Level 2b.\n",
      "201709201733:WARNING:jwst.associations.lib.rules_level2_base.rename_to_level2a:Item FILENAME=\"set acid\" is not a Level 1b name. Cannot transform to Level 2a.\n",
      "201709201733:WARNING:jwst.associations.lib.rules_level2_base.rename_to_level2a:Item FILENAME=\"set acid\" is not a Level 1b name. Cannot transform to Level 2a.\n",
      "201709201733:WARNING:jwst.associations.lib.rules_level2_base.rename_to_level2a:Item FILENAME=\"set acid\" is not a Level 1b name. Cannot transform to Level 2a.\n",
      "201709201733:WARNING:jwst.associations.lib.rules_level2_base.rename_to_level2a:Item FILENAME=\"set acid\" is not a Level 1b name. Cannot transform to Level 2a.\n",
      "201709201733:WARNING:jwst.associations.lib.rules_level2_base.rename_to_level2a:Item FILENAME=\"set acid\" is not a Level 1b name. Cannot transform to Level 2a.\n",
      "201709201733:WARNING:jwst.associations.lib.rules_level2_base.rename_to_level2a:Item FILENAME=\"set acid\" is not a Level 1b name. Cannot transform to Level 2a.\n",
      "201709201733:WARNING:jwst.associations.lib.rules_level2_base.rename_to_level2a:Item FILENAME=\"set acid\" is not a Level 1b name. Cannot transform to Level 2a.\n",
      "201709201733:WARNING:jwst.associations.lib.rules_level3_base.rename_to_level2b:Item FILENAME=\"set acid\" is not a Level 1b name. Cannot transform to Level 2b.\n",
      "201709201733:WARNING:jwst.associations.lib.rules_level3_base.rename_to_level2b:Item FILENAME=\"set acid\" is not a Level 1b name. Cannot transform to Level 2b.\n",
      "201709201733:WARNING:jwst.associations.lib.rules_level3_base.rename_to_level2b:Item FILENAME=\"set acid\" is not a Level 1b name. Cannot transform to Level 2b.\n",
      "201709201733:WARNING:jwst.associations.lib.rules_level3_base.rename_to_level2b:Item FILENAME=\"set acid\" is not a Level 1b name. Cannot transform to Level 2b.\n",
      "201709201733:WARNING:jwst.associations.lib.rules_level3_base.rename_to_level2b:Item FILENAME=\"set acid\" is not a Level 1b name. Cannot transform to Level 2b.\n",
      "201709201733:WARNING:jwst.associations.lib.rules_level3_base.rename_to_level2b:Item FILENAME=\"set acid\" is not a Level 1b name. Cannot transform to Level 2b.\n",
      "201709201733:WARNING:jwst.associations.lib.rules_level3_base.rename_to_level2b:Item FILENAME=\"set acid\" is not a Level 1b name. Cannot transform to Level 2b.\n",
      "201709201733:WARNING:jwst.associations.lib.rules_level3_base.rename_to_level2b:Item FILENAME=\"set acid\" is not a Level 1b name. Cannot transform to Level 2b.\n",
      "201709201733:WARNING:jwst.associations.lib.rules_level3_base.rename_to_level2b:Item FILENAME=\"set acid\" is not a Level 1b name. Cannot transform to Level 2b.\n",
      "201709201733:WARNING:jwst.associations.lib.rules_level3_base.rename_to_level2b:Item FILENAME=\"set acid\" is not a Level 1b name. Cannot transform to Level 2b.\n",
      "201709201733:WARNING:jwst.associations.lib.rules_level3_base.rename_to_level2b:Item FILENAME=\"set acid\" is not a Level 1b name. Cannot transform to Level 2b.\n",
      "201709201733:WARNING:jwst.associations.lib.rules_level2_base.rename_to_level2a:Item FILENAME=\"set acid\" is not a Level 1b name. Cannot transform to Level 2a.\n",
      "201709201733:WARNING:jwst.associations.lib.rules_level2_base.rename_to_level2a:Item FILENAME=\"set acid\" is not a Level 1b name. Cannot transform to Level 2a.\n",
      "201709201733:WARNING:jwst.associations.lib.rules_level3_base.rename_to_level2b:Item FILENAME=\"set acid\" is not a Level 1b name. Cannot transform to Level 2b.\n",
      "201709201733:WARNING:jwst.associations.lib.rules_level2_base.rename_to_level2a:Item FILENAME=\"set acid\" is not a Level 1b name. Cannot transform to Level 2a.\n",
      "201709201733:WARNING:jwst.associations.lib.rules_level2_base.rename_to_level2a:Item FILENAME=\"set acid\" is not a Level 1b name. Cannot transform to Level 2a.\n",
      "201709201733:WARNING:jwst.associations.lib.rules_level3_base.rename_to_level2b:Item FILENAME=\"set acid\" is not a Level 1b name. Cannot transform to Level 2b.\n",
      "201709201733:WARNING:jwst.associations.lib.rules_level2_base.rename_to_level2a:Item FILENAME=\"set acid\" is not a Level 1b name. Cannot transform to Level 2a.\n",
      "201709201733:WARNING:jwst.associations.lib.rules_level2_base.rename_to_level2a:Item FILENAME=\"set acid\" is not a Level 1b name. Cannot transform to Level 2a.\n",
      "201709201733:WARNING:jwst.associations.lib.rules_level2_base.rename_to_level2a:Item FILENAME=\"set acid\" is not a Level 1b name. Cannot transform to Level 2a.\n",
      "201709201733:WARNING:jwst.associations.lib.rules_level2_base.rename_to_level2a:Item FILENAME=\"set acid\" is not a Level 1b name. Cannot transform to Level 2a.\n",
      "201709201733:WARNING:jwst.associations.lib.rules_level2_base.rename_to_level2a:Item FILENAME=\"set acid\" is not a Level 1b name. Cannot transform to Level 2a.\n",
      "201709201733:WARNING:jwst.associations.lib.rules_level2_base.rename_to_level2a:Item FILENAME=\"set acid\" is not a Level 1b name. Cannot transform to Level 2a.\n",
      "201709201733:WARNING:jwst.associations.lib.rules_level2_base.rename_to_level2a:Item FILENAME=\"set acid\" is not a Level 1b name. Cannot transform to Level 2a.\n",
      "201709201733:WARNING:jwst.associations.lib.rules_level2_base.rename_to_level2a:Item FILENAME=\"set acid\" is not a Level 1b name. Cannot transform to Level 2a.\n",
      "201709201733:WARNING:jwst.associations.lib.rules_level2_base.rename_to_level2a:Item FILENAME=\"set acid\" is not a Level 1b name. Cannot transform to Level 2a.\n",
      "201709201733:WARNING:jwst.associations.lib.rules_level3_base.rename_to_level2b:Item FILENAME=\"set acid\" is not a Level 1b name. Cannot transform to Level 2b.\n"
     ]
    },
    {
     "name": "stderr",
     "output_type": "stream",
     "text": [
      "201709201733:WARNING:jwst.associations.lib.rules_level2_base.rename_to_level2a:Item FILENAME=\"set acid\" is not a Level 1b name. Cannot transform to Level 2a.\n",
      "201709201733:WARNING:jwst.associations.lib.rules_level2_base.rename_to_level2a:Item FILENAME=\"set acid\" is not a Level 1b name. Cannot transform to Level 2a.\n",
      "201709201733:WARNING:jwst.associations.lib.rules_level3_base.rename_to_level2b:Item FILENAME=\"set acid\" is not a Level 1b name. Cannot transform to Level 2b.\n",
      "201709201733:WARNING:jwst.associations.lib.rules_level2_base.rename_to_level2a:Item FILENAME=\"set acid\" is not a Level 1b name. Cannot transform to Level 2a.\n",
      "201709201733:WARNING:jwst.associations.lib.rules_level2_base.rename_to_level2a:Item FILENAME=\"set acid\" is not a Level 1b name. Cannot transform to Level 2a.\n",
      "201709201733:WARNING:jwst.associations.lib.rules_level3_base.rename_to_level2b:Item FILENAME=\"set acid\" is not a Level 1b name. Cannot transform to Level 2b.\n",
      "201709201733:WARNING:jwst.associations.lib.rules_level2_base.rename_to_level2a:Item FILENAME=\"set acid\" is not a Level 1b name. Cannot transform to Level 2a.\n",
      "201709201733:WARNING:jwst.associations.lib.rules_level2_base.rename_to_level2a:Item FILENAME=\"set acid\" is not a Level 1b name. Cannot transform to Level 2a.\n",
      "201709201733:WARNING:jwst.associations.lib.rules_level3_base.rename_to_level2b:Item FILENAME=\"set acid\" is not a Level 1b name. Cannot transform to Level 2b.\n",
      "201709201733:WARNING:jwst.associations.lib.rules_level2_base.rename_to_level2a:Item FILENAME=\"set acid\" is not a Level 1b name. Cannot transform to Level 2a.\n",
      "201709201733:WARNING:jwst.associations.lib.rules_level2_base.rename_to_level2a:Item FILENAME=\"set acid\" is not a Level 1b name. Cannot transform to Level 2a.\n",
      "201709201733:WARNING:jwst.associations.lib.rules_level2_base.rename_to_level2a:Item FILENAME=\"set acid\" is not a Level 1b name. Cannot transform to Level 2a.\n",
      "201709201733:WARNING:jwst.associations.lib.rules_level2_base.rename_to_level2a:Item FILENAME=\"set acid\" is not a Level 1b name. Cannot transform to Level 2a.\n",
      "201709201733:WARNING:jwst.associations.lib.rules_level2_base.rename_to_level2a:Item FILENAME=\"set acid\" is not a Level 1b name. Cannot transform to Level 2a.\n",
      "201709201733:WARNING:jwst.associations.lib.rules_level2_base.rename_to_level2a:Item FILENAME=\"set acid\" is not a Level 1b name. Cannot transform to Level 2a.\n",
      "201709201733:WARNING:jwst.associations.lib.rules_level2_base.rename_to_level2a:Item FILENAME=\"set acid\" is not a Level 1b name. Cannot transform to Level 2a.\n",
      "201709201733:WARNING:jwst.associations.lib.rules_level2_base.rename_to_level2a:Item FILENAME=\"set acid\" is not a Level 1b name. Cannot transform to Level 2a.\n",
      "201709201733:WARNING:jwst.associations.lib.rules_level3_base.rename_to_level2b:Item FILENAME=\"set acid\" is not a Level 1b name. Cannot transform to Level 2b.\n",
      "201709201733:WARNING:jwst.associations.lib.rules_level3_base.rename_to_level2b:Item FILENAME=\"set acid\" is not a Level 1b name. Cannot transform to Level 2b.\n",
      "201709201733:WARNING:jwst.associations.lib.rules_level3_base.rename_to_level2b:Item FILENAME=\"set acid\" is not a Level 1b name. Cannot transform to Level 2b.\n",
      "201709201733:WARNING:jwst.associations.lib.rules_level3_base.rename_to_level2b:Item FILENAME=\"set acid\" is not a Level 1b name. Cannot transform to Level 2b.\n",
      "201709201733:WARNING:jwst.associations.lib.rules_level3_base.rename_to_level2b:Item FILENAME=\"set acid\" is not a Level 1b name. Cannot transform to Level 2b.\n",
      "201709201733:WARNING:jwst.associations.lib.rules_level3_base.rename_to_level2b:Item FILENAME=\"set acid\" is not a Level 1b name. Cannot transform to Level 2b.\n",
      "201709201733:WARNING:jwst.associations.lib.rules_level3_base.rename_to_level2b:Item FILENAME=\"set acid\" is not a Level 1b name. Cannot transform to Level 2b.\n",
      "201709201733:WARNING:jwst.associations.lib.rules_level3_base.rename_to_level2b:Item FILENAME=\"set acid\" is not a Level 1b name. Cannot transform to Level 2b.\n",
      "201709201733:WARNING:jwst.associations.lib.rules_level3_base.rename_to_level2b:Item FILENAME=\"set acid\" is not a Level 1b name. Cannot transform to Level 2b.\n",
      "201709201733:WARNING:jwst.associations.lib.rules_level3_base.rename_to_level2b:Item FILENAME=\"set acid\" is not a Level 1b name. Cannot transform to Level 2b.\n",
      "201709201733:WARNING:jwst.associations.lib.rules_level3_base.rename_to_level2b:Item FILENAME=\"set acid\" is not a Level 1b name. Cannot transform to Level 2b.\n",
      "201709201733:WARNING:jwst.associations.lib.rules_level2_base.rename_to_level2a:Item FILENAME=\"set acid\" is not a Level 1b name. Cannot transform to Level 2a.\n",
      "201709201733:WARNING:jwst.associations.lib.rules_level2_base.rename_to_level2a:Item FILENAME=\"set acid\" is not a Level 1b name. Cannot transform to Level 2a.\n",
      "201709201733:WARNING:jwst.associations.lib.rules_level2_base.rename_to_level2a:Item FILENAME=\"set acid\" is not a Level 1b name. Cannot transform to Level 2a.\n",
      "201709201733:WARNING:jwst.associations.lib.rules_level2_base.rename_to_level2a:Item FILENAME=\"set acid\" is not a Level 1b name. Cannot transform to Level 2a.\n",
      "201709201733:WARNING:jwst.associations.lib.rules_level2_base.rename_to_level2a:Item FILENAME=\"set acid\" is not a Level 1b name. Cannot transform to Level 2a.\n",
      "201709201733:WARNING:jwst.associations.lib.rules_level2_base.rename_to_level2a:Item FILENAME=\"set acid\" is not a Level 1b name. Cannot transform to Level 2a.\n",
      "201709201733:WARNING:jwst.associations.lib.rules_level2_base.rename_to_level2a:Item FILENAME=\"set acid\" is not a Level 1b name. Cannot transform to Level 2a.\n",
      "201709201733:WARNING:jwst.associations.lib.rules_level3_base.rename_to_level2b:Item FILENAME=\"set acid\" is not a Level 1b name. Cannot transform to Level 2b.\n",
      "201709201733:WARNING:jwst.associations.lib.rules_level3_base.rename_to_level2b:Item FILENAME=\"set acid\" is not a Level 1b name. Cannot transform to Level 2b.\n",
      "201709201733:WARNING:jwst.associations.lib.rules_level3_base.rename_to_level2b:Item FILENAME=\"set acid\" is not a Level 1b name. Cannot transform to Level 2b.\n",
      "201709201733:WARNING:jwst.associations.lib.rules_level3_base.rename_to_level2b:Item FILENAME=\"set acid\" is not a Level 1b name. Cannot transform to Level 2b.\n",
      "201709201733:WARNING:jwst.associations.lib.rules_level3_base.rename_to_level2b:Item FILENAME=\"set acid\" is not a Level 1b name. Cannot transform to Level 2b.\n",
      "201709201733:WARNING:jwst.associations.lib.rules_level3_base.rename_to_level2b:Item FILENAME=\"set acid\" is not a Level 1b name. Cannot transform to Level 2b.\n",
      "201709201733:WARNING:jwst.associations.lib.rules_level3_base.rename_to_level2b:Item FILENAME=\"set acid\" is not a Level 1b name. Cannot transform to Level 2b.\n",
      "201709201733:WARNING:jwst.associations.lib.rules_level3_base.rename_to_level2b:Item FILENAME=\"set acid\" is not a Level 1b name. Cannot transform to Level 2b.\n",
      "201709201733:WARNING:jwst.associations.lib.rules_level3_base.rename_to_level2b:Item FILENAME=\"set acid\" is not a Level 1b name. Cannot transform to Level 2b.\n",
      "201709201733:WARNING:jwst.associations.lib.rules_level3_base.rename_to_level2b:Item FILENAME=\"set acid\" is not a Level 1b name. Cannot transform to Level 2b.\n",
      "201709201733:WARNING:jwst.associations.lib.rules_level3_base.rename_to_level2b:Item FILENAME=\"set acid\" is not a Level 1b name. Cannot transform to Level 2b.\n"
     ]
    },
    {
     "name": "stdout",
     "output_type": "stream",
     "text": [
      "jw10005-a3001_ami3_001_asn.json    jw10005-c1017_ami3_001_asn.json\r\n",
      "jw10005-a3001_ami3_002_asn.json    jw10005-c1020_ami3_001_asn.json\r\n",
      "jw10005-a3001_ami3_003_asn.json    jw10005-c1021_ami3_001_asn.json\r\n",
      "jw10005-a3001_ami3_004_asn.json    jw10005-c1022_ami3_001_asn.json\r\n",
      "jw10005-a3001_ami3_005_asn.json    jw10005-c1023_ami3_001_asn.json\r\n",
      "jw10005-a3001_ami3_006_asn.json    jw10005-c1024_ami3_001_asn.json\r\n",
      "jw10005-c1000_ami3_001_asn.json    jw10005-c1025_ami3_001_asn.json\r\n",
      "jw10005-c1000_image2_001_asn.json  jw10005-c1026_ami3_001_asn.json\r\n",
      "jw10005-c1001_ami3_001_asn.json    jw10005-c1027_ami3_001_asn.json\r\n",
      "jw10005-c1002_ami3_001_asn.json    jw10005-o005_ami3_001_asn.json\r\n",
      "jw10005-c1003_ami3_001_asn.json    jw10005-o006_ami3_001_asn.json\r\n",
      "jw10005-c1004_ami3_001_asn.json    jw10005-o007_ami3_001_asn.json\r\n",
      "jw10005-c1005_ami3_001_asn.json    jw10005-o008_ami3_001_asn.json\r\n",
      "jw10005-c1006_ami3_001_asn.json    jw10005-o009_ami3_001_asn.json\r\n",
      "jw10005-c1007_ami3_001_asn.json    jw10005-o010_ami3_001_asn.json\r\n",
      "jw10005-c1010_ami3_001_asn.json    jw10005-o011_ami3_001_asn.json\r\n",
      "jw10005-c1011_ami3_001_asn.json    jw10005-o012_ami3_001_asn.json\r\n",
      "jw10005-c1012_ami3_001_asn.json    jw10005-o013_ami3_001_asn.json\r\n",
      "jw10005-c1013_ami3_001_asn.json    jw10005-o014_ami3_001_asn.json\r\n",
      "jw10005-c1014_ami3_001_asn.json    jw10005-o015_ami3_001_asn.json\r\n",
      "jw10005-c1015_ami3_001_asn.json    jw10005-o016_ami3_001_asn.json\r\n",
      "jw10005-c1016_ami3_001_asn.json\r\n"
     ]
    }
   ],
   "source": [
    "with TemporaryDirectory() as tmp_path:\n",
    "    args = save_args + ['-p', tmp_path]\n",
    "    results = Main(\n",
    "        args,\n",
    "        pool=pool_014_ami_niriss\n",
    "    )\n",
    "    %ls $tmp_path"
   ]
  },
  {
   "cell_type": "markdown",
   "metadata": {},
   "source": [
    "### pool_015_spec_nirspec_lv2bkg_reversed"
   ]
  },
  {
   "cell_type": "code",
   "execution_count": 13,
   "metadata": {
    "collapsed": true
   },
   "outputs": [],
   "source": [
    "pool_015_spec_nirspec_lv2bkg_reversed = combine_pools('../data/pool_015_spec_nirspec_lv2bkg_reversed.csv')"
   ]
  },
  {
   "cell_type": "code",
   "execution_count": 14,
   "metadata": {
    "scrolled": true
   },
   "outputs": [
    {
     "name": "stderr",
     "output_type": "stream",
     "text": [
      "201709201712:WARNING:jwst.associations.lib.rules_level2_base.rename_to_level2a:Item FILENAME=\"set acid\" is not a Level 1b name. Cannot transform to Level 2a.\n",
      "201709201712:WARNING:jwst.associations.lib.rules_level2_base.rename_to_level2a:Item FILENAME=\"set acid\" is not a Level 1b name. Cannot transform to Level 2a.\n",
      "201709201712:WARNING:jwst.associations.lib.rules_level2_base.rename_to_level2a:Item FILENAME=\"set acid\" is not a Level 1b name. Cannot transform to Level 2a.\n",
      "201709201712:WARNING:jwst.associations.lib.rules_level2_base.rename_to_level2a:Item FILENAME=\"set acid\" is not a Level 1b name. Cannot transform to Level 2a.\n",
      "201709201712:WARNING:jwst.associations.lib.rules_level2_base.rename_to_level2a:Item FILENAME=\"set acid\" is not a Level 1b name. Cannot transform to Level 2a.\n",
      "201709201712:WARNING:jwst.associations.lib.rules_level2_base.rename_to_level2a:Item FILENAME=\"set acid\" is not a Level 1b name. Cannot transform to Level 2a.\n",
      "201709201712:WARNING:jwst.associations.lib.rules_level2_base.rename_to_level2a:Item FILENAME=\"set acid\" is not a Level 1b name. Cannot transform to Level 2a.\n",
      "201709201712:WARNING:jwst.associations.lib.rules_level2_base.rename_to_level2a:Item FILENAME=\"set acid\" is not a Level 1b name. Cannot transform to Level 2a.\n",
      "201709201712:WARNING:jwst.associations.lib.rules_level2_base.rename_to_level2a:Item FILENAME=\"set acid\" is not a Level 1b name. Cannot transform to Level 2a.\n",
      "201709201712:WARNING:jwst.associations.lib.rules_level2_base.rename_to_level2a:Item FILENAME=\"set acid\" is not a Level 1b name. Cannot transform to Level 2a.\n",
      "201709201712:WARNING:jwst.associations.lib.rules_level2_base.rename_to_level2a:Item FILENAME=\"set acid\" is not a Level 1b name. Cannot transform to Level 2a.\n",
      "201709201712:WARNING:jwst.associations.lib.rules_level2_base.rename_to_level2a:Item FILENAME=\"set acid\" is not a Level 1b name. Cannot transform to Level 2a.\n",
      "201709201712:WARNING:jwst.associations.lib.rules_level2_base.rename_to_level2a:Item FILENAME=\"set acid\" is not a Level 1b name. Cannot transform to Level 2a.\n",
      "201709201712:WARNING:jwst.associations.lib.rules_level2_base.rename_to_level2a:Item FILENAME=\"set acid\" is not a Level 1b name. Cannot transform to Level 2a.\n",
      "201709201713:WARNING:jwst.associations.lib.rules_level2_base.rename_to_level2a:Item FILENAME=\"set acid\" is not a Level 1b name. Cannot transform to Level 2a.\n",
      "201709201713:WARNING:jwst.associations.lib.rules_level2_base.rename_to_level2a:Item FILENAME=\"set acid\" is not a Level 1b name. Cannot transform to Level 2a.\n",
      "201709201713:WARNING:jwst.associations.lib.rules_level2_base.rename_to_level2a:Item FILENAME=\"set acid\" is not a Level 1b name. Cannot transform to Level 2a.\n",
      "201709201713:WARNING:jwst.associations.lib.rules_level2_base.rename_to_level2a:Item FILENAME=\"set acid\" is not a Level 1b name. Cannot transform to Level 2a.\n",
      "201709201713:WARNING:jwst.associations.lib.rules_level2_base.rename_to_level2a:Item FILENAME=\"set acid\" is not a Level 1b name. Cannot transform to Level 2a.\n",
      "201709201713:WARNING:jwst.associations.lib.rules_level2_base.rename_to_level2a:Item FILENAME=\"set acid\" is not a Level 1b name. Cannot transform to Level 2a.\n",
      "201709201713:WARNING:jwst.associations.lib.rules_level2_base.rename_to_level2a:Item FILENAME=\"set acid\" is not a Level 1b name. Cannot transform to Level 2a.\n",
      "201709201713:WARNING:jwst.associations.lib.rules_level2_base.rename_to_level2a:Item FILENAME=\"set acid\" is not a Level 1b name. Cannot transform to Level 2a.\n",
      "201709201713:WARNING:jwst.associations.lib.rules_level2_base.rename_to_level2a:Item FILENAME=\"set acid\" is not a Level 1b name. Cannot transform to Level 2a.\n",
      "201709201713:WARNING:jwst.associations.lib.rules_level2_base.rename_to_level2a:Item FILENAME=\"set acid\" is not a Level 1b name. Cannot transform to Level 2a.\n",
      "201709201713:WARNING:jwst.associations.lib.rules_level2_base.rename_to_level2a:Item FILENAME=\"set acid\" is not a Level 1b name. Cannot transform to Level 2a.\n",
      "201709201713:WARNING:jwst.associations.lib.rules_level2_base.rename_to_level2a:Item FILENAME=\"set acid\" is not a Level 1b name. Cannot transform to Level 2a.\n",
      "201709201713:WARNING:jwst.associations.lib.rules_level2_base.rename_to_level2a:Item FILENAME=\"set acid\" is not a Level 1b name. Cannot transform to Level 2a.\n",
      "201709201713:WARNING:jwst.associations.lib.rules_level2_base.rename_to_level2a:Item FILENAME=\"set acid\" is not a Level 1b name. Cannot transform to Level 2a.\n",
      "201709201713:WARNING:jwst.associations.lib.rules_level2_base.rename_to_level2a:Item FILENAME=\"set acid\" is not a Level 1b name. Cannot transform to Level 2a.\n",
      "201709201713:WARNING:jwst.associations.lib.rules_level2_base.rename_to_level2a:Item FILENAME=\"set acid\" is not a Level 1b name. Cannot transform to Level 2a.\n",
      "201709201713:WARNING:jwst.associations.lib.rules_level2_base.rename_to_level2a:Item FILENAME=\"set acid\" is not a Level 1b name. Cannot transform to Level 2a.\n",
      "201709201713:WARNING:jwst.associations.lib.rules_level2_base.rename_to_level2a:Item FILENAME=\"set acid\" is not a Level 1b name. Cannot transform to Level 2a.\n",
      "201709201713:WARNING:jwst.associations.lib.rules_level2_base.rename_to_level2a:Item FILENAME=\"set acid\" is not a Level 1b name. Cannot transform to Level 2a.\n",
      "201709201713:WARNING:jwst.associations.lib.rules_level2_base.rename_to_level2a:Item FILENAME=\"set acid\" is not a Level 1b name. Cannot transform to Level 2a.\n",
      "201709201713:WARNING:jwst.associations.lib.rules_level2_base.rename_to_level2a:Item FILENAME=\"set acid\" is not a Level 1b name. Cannot transform to Level 2a.\n",
      "201709201713:WARNING:jwst.associations.lib.rules_level2_base.rename_to_level2a:Item FILENAME=\"set acid\" is not a Level 1b name. Cannot transform to Level 2a.\n",
      "201709201713:WARNING:jwst.associations.lib.rules_level2_base.rename_to_level2a:Item FILENAME=\"set acid\" is not a Level 1b name. Cannot transform to Level 2a.\n",
      "201709201713:WARNING:jwst.associations.lib.rules_level2_base.rename_to_level2a:Item FILENAME=\"set acid\" is not a Level 1b name. Cannot transform to Level 2a.\n",
      "201709201713:WARNING:jwst.associations.lib.rules_level2_base.rename_to_level2a:Item FILENAME=\"set acid\" is not a Level 1b name. Cannot transform to Level 2a.\n",
      "201709201713:WARNING:jwst.associations.lib.rules_level2_base.rename_to_level2a:Item FILENAME=\"set acid\" is not a Level 1b name. Cannot transform to Level 2a.\n",
      "201709201713:WARNING:jwst.associations.lib.rules_level2_base.rename_to_level2a:Item FILENAME=\"set acid\" is not a Level 1b name. Cannot transform to Level 2a.\n",
      "201709201713:WARNING:jwst.associations.lib.rules_level2_base.rename_to_level2a:Item FILENAME=\"set acid\" is not a Level 1b name. Cannot transform to Level 2a.\n",
      "201709201713:WARNING:jwst.associations.lib.rules_level2_base.rename_to_level2a:Item FILENAME=\"set acid\" is not a Level 1b name. Cannot transform to Level 2a.\n",
      "201709201713:WARNING:jwst.associations.lib.rules_level2_base.rename_to_level2a:Item FILENAME=\"set acid\" is not a Level 1b name. Cannot transform to Level 2a.\n",
      "201709201713:WARNING:jwst.associations.lib.rules_level2_base.rename_to_level2a:Item FILENAME=\"set acid\" is not a Level 1b name. Cannot transform to Level 2a.\n",
      "201709201713:WARNING:jwst.associations.lib.rules_level2_base.rename_to_level2a:Item FILENAME=\"set acid\" is not a Level 1b name. Cannot transform to Level 2a.\n"
     ]
    },
    {
     "name": "stdout",
     "output_type": "stream",
     "text": [
      "jw99009-o001_image2_001_asn.json  jw99009-o001_spec2_001_asn.json\r\n"
     ]
    }
   ],
   "source": [
    "with TemporaryDirectory() as tmp_path:\n",
    "    args = save_args + ['-p', tmp_path]\n",
    "    results = Main(\n",
    "        args,\n",
    "        pool=pool_015_spec_nirspec_lv2bkg_reversed\n",
    "    )\n",
    "    %ls $tmp_path\n",
    "    %mv $tmp_path/jw99009-o001_image2_001_asn.json ../data/pool_015_image2_001_asn.json\n",
    "    %mv $tmp_path/jw99009-o001_spec2_001_asn.json ../data/pool_015_spec2_001_asn.json"
   ]
  },
  {
   "cell_type": "markdown",
   "metadata": {},
   "source": [
    "### pool_016_spec_nirspec_lv2bkg_double"
   ]
  },
  {
   "cell_type": "code",
   "execution_count": 15,
   "metadata": {
    "collapsed": true
   },
   "outputs": [],
   "source": [
    "pool_016_spec_nirspec_lv2bkg_double = combine_pools('../data/pool_016_spec_nirspec_lv2bkg_double.csv')"
   ]
  },
  {
   "cell_type": "code",
   "execution_count": 16,
   "metadata": {
    "scrolled": true
   },
   "outputs": [
    {
     "name": "stderr",
     "output_type": "stream",
     "text": [
      "201709201713:WARNING:jwst.associations.lib.rules_level2_base.rename_to_level2a:Item FILENAME=\"set acid\" is not a Level 1b name. Cannot transform to Level 2a.\n",
      "201709201713:WARNING:jwst.associations.lib.rules_level2_base.rename_to_level2a:Item FILENAME=\"set acid\" is not a Level 1b name. Cannot transform to Level 2a.\n",
      "201709201713:WARNING:jwst.associations.lib.rules_level2_base.rename_to_level2a:Item FILENAME=\"set acid\" is not a Level 1b name. Cannot transform to Level 2a.\n",
      "201709201713:WARNING:jwst.associations.lib.rules_level2_base.rename_to_level2a:Item FILENAME=\"set acid\" is not a Level 1b name. Cannot transform to Level 2a.\n",
      "201709201713:WARNING:jwst.associations.lib.rules_level2_base.rename_to_level2a:Item FILENAME=\"set acid\" is not a Level 1b name. Cannot transform to Level 2a.\n",
      "201709201713:WARNING:jwst.associations.lib.rules_level2_base.rename_to_level2a:Item FILENAME=\"set acid\" is not a Level 1b name. Cannot transform to Level 2a.\n",
      "201709201713:WARNING:jwst.associations.lib.rules_level2_base.rename_to_level2a:Item FILENAME=\"set acid\" is not a Level 1b name. Cannot transform to Level 2a.\n",
      "201709201713:WARNING:jwst.associations.lib.rules_level2_base.rename_to_level2a:Item FILENAME=\"set acid\" is not a Level 1b name. Cannot transform to Level 2a.\n",
      "201709201713:WARNING:jwst.associations.lib.rules_level2_base.rename_to_level2a:Item FILENAME=\"set acid\" is not a Level 1b name. Cannot transform to Level 2a.\n",
      "201709201713:WARNING:jwst.associations.lib.rules_level2_base.rename_to_level2a:Item FILENAME=\"set acid\" is not a Level 1b name. Cannot transform to Level 2a.\n",
      "201709201713:WARNING:jwst.associations.lib.rules_level2_base.rename_to_level2a:Item FILENAME=\"set acid\" is not a Level 1b name. Cannot transform to Level 2a.\n",
      "201709201713:WARNING:jwst.associations.lib.rules_level2_base.rename_to_level2a:Item FILENAME=\"set acid\" is not a Level 1b name. Cannot transform to Level 2a.\n",
      "201709201713:WARNING:jwst.associations.lib.rules_level2_base.rename_to_level2a:Item FILENAME=\"set acid\" is not a Level 1b name. Cannot transform to Level 2a.\n",
      "201709201713:WARNING:jwst.associations.lib.rules_level2_base.rename_to_level2a:Item FILENAME=\"set acid\" is not a Level 1b name. Cannot transform to Level 2a.\n",
      "201709201713:WARNING:jwst.associations.lib.rules_level2_base.rename_to_level2a:Item FILENAME=\"set acid\" is not a Level 1b name. Cannot transform to Level 2a.\n",
      "201709201713:WARNING:jwst.associations.lib.rules_level2_base.rename_to_level2a:Item FILENAME=\"set acid\" is not a Level 1b name. Cannot transform to Level 2a.\n",
      "201709201713:WARNING:jwst.associations.lib.rules_level2_base.rename_to_level2a:Item FILENAME=\"set acid\" is not a Level 1b name. Cannot transform to Level 2a.\n",
      "201709201713:WARNING:jwst.associations.lib.rules_level2_base.rename_to_level2a:Item FILENAME=\"set acid\" is not a Level 1b name. Cannot transform to Level 2a.\n",
      "201709201713:WARNING:jwst.associations.lib.rules_level2_base.rename_to_level2a:Item FILENAME=\"set acid\" is not a Level 1b name. Cannot transform to Level 2a.\n",
      "201709201713:WARNING:jwst.associations.lib.rules_level2_base.rename_to_level2a:Item FILENAME=\"set acid\" is not a Level 1b name. Cannot transform to Level 2a.\n",
      "201709201713:WARNING:jwst.associations.lib.rules_level2_base.rename_to_level2a:Item FILENAME=\"set acid\" is not a Level 1b name. Cannot transform to Level 2a.\n",
      "201709201713:WARNING:jwst.associations.lib.rules_level2_base.rename_to_level2a:Item FILENAME=\"set acid\" is not a Level 1b name. Cannot transform to Level 2a.\n",
      "201709201713:WARNING:jwst.associations.lib.rules_level2_base.rename_to_level2a:Item FILENAME=\"set acid\" is not a Level 1b name. Cannot transform to Level 2a.\n",
      "201709201713:WARNING:jwst.associations.lib.rules_level2_base.rename_to_level2a:Item FILENAME=\"set acid\" is not a Level 1b name. Cannot transform to Level 2a.\n",
      "201709201713:WARNING:jwst.associations.lib.rules_level2_base.rename_to_level2a:Item FILENAME=\"set acid\" is not a Level 1b name. Cannot transform to Level 2a.\n",
      "201709201713:WARNING:jwst.associations.lib.rules_level2_base.rename_to_level2a:Item FILENAME=\"set acid\" is not a Level 1b name. Cannot transform to Level 2a.\n",
      "201709201713:WARNING:jwst.associations.lib.rules_level2_base.rename_to_level2a:Item FILENAME=\"set acid\" is not a Level 1b name. Cannot transform to Level 2a.\n",
      "201709201713:WARNING:jwst.associations.lib.rules_level2_base.rename_to_level2a:Item FILENAME=\"set acid\" is not a Level 1b name. Cannot transform to Level 2a.\n",
      "201709201713:WARNING:jwst.associations.lib.rules_level2_base.rename_to_level2a:Item FILENAME=\"set acid\" is not a Level 1b name. Cannot transform to Level 2a.\n",
      "201709201713:WARNING:jwst.associations.lib.rules_level2_base.rename_to_level2a:Item FILENAME=\"set acid\" is not a Level 1b name. Cannot transform to Level 2a.\n",
      "201709201713:WARNING:jwst.associations.lib.rules_level2_base.rename_to_level2a:Item FILENAME=\"set acid\" is not a Level 1b name. Cannot transform to Level 2a.\n",
      "201709201713:WARNING:jwst.associations.lib.rules_level2_base.rename_to_level2a:Item FILENAME=\"set acid\" is not a Level 1b name. Cannot transform to Level 2a.\n",
      "201709201713:WARNING:jwst.associations.lib.rules_level2_base.rename_to_level2a:Item FILENAME=\"set acid\" is not a Level 1b name. Cannot transform to Level 2a.\n",
      "201709201713:WARNING:jwst.associations.lib.rules_level2_base.rename_to_level2a:Item FILENAME=\"set acid\" is not a Level 1b name. Cannot transform to Level 2a.\n",
      "201709201713:WARNING:jwst.associations.lib.rules_level2_base.rename_to_level2a:Item FILENAME=\"set acid\" is not a Level 1b name. Cannot transform to Level 2a.\n",
      "201709201713:WARNING:jwst.associations.lib.rules_level2_base.rename_to_level2a:Item FILENAME=\"set acid\" is not a Level 1b name. Cannot transform to Level 2a.\n",
      "201709201713:WARNING:jwst.associations.lib.rules_level2_base.rename_to_level2a:Item FILENAME=\"set acid\" is not a Level 1b name. Cannot transform to Level 2a.\n",
      "201709201713:WARNING:jwst.associations.lib.rules_level2_base.rename_to_level2a:Item FILENAME=\"set acid\" is not a Level 1b name. Cannot transform to Level 2a.\n",
      "201709201713:WARNING:jwst.associations.lib.rules_level2_base.rename_to_level2a:Item FILENAME=\"set acid\" is not a Level 1b name. Cannot transform to Level 2a.\n",
      "201709201713:WARNING:jwst.associations.lib.rules_level2_base.rename_to_level2a:Item FILENAME=\"set acid\" is not a Level 1b name. Cannot transform to Level 2a.\n",
      "201709201713:WARNING:jwst.associations.lib.rules_level2_base.rename_to_level2a:Item FILENAME=\"set acid\" is not a Level 1b name. Cannot transform to Level 2a.\n",
      "201709201713:WARNING:jwst.associations.lib.rules_level2_base.rename_to_level2a:Item FILENAME=\"set acid\" is not a Level 1b name. Cannot transform to Level 2a.\n",
      "201709201713:WARNING:jwst.associations.lib.rules_level2_base.rename_to_level2a:Item FILENAME=\"set acid\" is not a Level 1b name. Cannot transform to Level 2a.\n",
      "201709201713:WARNING:jwst.associations.lib.rules_level2_base.rename_to_level2a:Item FILENAME=\"set acid\" is not a Level 1b name. Cannot transform to Level 2a.\n",
      "201709201713:WARNING:jwst.associations.lib.rules_level2_base.rename_to_level2a:Item FILENAME=\"set acid\" is not a Level 1b name. Cannot transform to Level 2a.\n",
      "201709201713:WARNING:jwst.associations.lib.rules_level2_base.rename_to_level2a:Item FILENAME=\"set acid\" is not a Level 1b name. Cannot transform to Level 2a.\n",
      "201709201713:WARNING:jwst.associations.lib.rules_level2_base.rename_to_level2a:Item FILENAME=\"set acid\" is not a Level 1b name. Cannot transform to Level 2a.\n",
      "201709201713:WARNING:jwst.associations.lib.rules_level2_base.rename_to_level2a:Item FILENAME=\"set acid\" is not a Level 1b name. Cannot transform to Level 2a.\n",
      "201709201713:WARNING:jwst.associations.lib.rules_level2_base.rename_to_level2a:Item FILENAME=\"set acid\" is not a Level 1b name. Cannot transform to Level 2a.\n",
      "201709201713:WARNING:jwst.associations.lib.rules_level2_base.rename_to_level2a:Item FILENAME=\"set acid\" is not a Level 1b name. Cannot transform to Level 2a.\n"
     ]
    },
    {
     "name": "stdout",
     "output_type": "stream",
     "text": [
      "jw99009-c1000_spec2_001_asn.json  jw99009-o003_image2_001_asn.json\r\n"
     ]
    }
   ],
   "source": [
    "with TemporaryDirectory() as tmp_path:\n",
    "    args = save_args + ['-p', tmp_path]\n",
    "    results = Main(\n",
    "        args,\n",
    "        pool=pool_016_spec_nirspec_lv2bkg_double\n",
    "    )\n",
    "    %ls $tmp_path\n",
    "    %mv $tmp_path/jw99009-o003_image2_001_asn.json ../data/pool_016_image2_001_asn.json\n",
    "    %mv $tmp_path/jw99009-c1000_spec2_001_asn.json ../data/pool_016_spec2_001_asn.json"
   ]
  },
  {
   "cell_type": "markdown",
   "metadata": {},
   "source": [
    "### pool_017_spec_nirspec_lv2imprint"
   ]
  },
  {
   "cell_type": "code",
   "execution_count": 17,
   "metadata": {
    "collapsed": true
   },
   "outputs": [],
   "source": [
    "pool_017_spec_nirspec_lv2imprint = combine_pools('../data/pool_017_spec_nirspec_lv2imprint.csv')"
   ]
  },
  {
   "cell_type": "code",
   "execution_count": 18,
   "metadata": {
    "scrolled": true
   },
   "outputs": [
    {
     "name": "stderr",
     "output_type": "stream",
     "text": [
      "201709201713:WARNING:jwst.associations.lib.rules_level2_base.rename_to_level2a:Item FILENAME=\"set acid\" is not a Level 1b name. Cannot transform to Level 2a.\n",
      "201709201713:WARNING:jwst.associations.lib.rules_level2_base.rename_to_level2a:Item FILENAME=\"set acid\" is not a Level 1b name. Cannot transform to Level 2a.\n",
      "201709201713:WARNING:jwst.associations.lib.rules_level2_base.rename_to_level2a:Item FILENAME=\"set acid\" is not a Level 1b name. Cannot transform to Level 2a.\n",
      "201709201713:WARNING:jwst.associations.lib.rules_level2_base.rename_to_level2a:Item FILENAME=\"set acid\" is not a Level 1b name. Cannot transform to Level 2a.\n",
      "201709201713:WARNING:jwst.associations.lib.rules_level2_base.rename_to_level2a:Item FILENAME=\"set acid\" is not a Level 1b name. Cannot transform to Level 2a.\n",
      "201709201713:WARNING:jwst.associations.lib.rules_level2_base.rename_to_level2a:Item FILENAME=\"set acid\" is not a Level 1b name. Cannot transform to Level 2a.\n",
      "201709201713:WARNING:jwst.associations.lib.rules_level2_base.rename_to_level2a:Item FILENAME=\"set acid\" is not a Level 1b name. Cannot transform to Level 2a.\n",
      "201709201713:WARNING:jwst.associations.lib.rules_level2_base.rename_to_level2a:Item FILENAME=\"set acid\" is not a Level 1b name. Cannot transform to Level 2a.\n",
      "201709201713:WARNING:jwst.associations.lib.rules_level2_base.rename_to_level2a:Item FILENAME=\"set acid\" is not a Level 1b name. Cannot transform to Level 2a.\n",
      "201709201713:WARNING:jwst.associations.lib.rules_level2_base.rename_to_level2a:Item FILENAME=\"set acid\" is not a Level 1b name. Cannot transform to Level 2a.\n",
      "201709201713:WARNING:jwst.associations.lib.rules_level2_base.rename_to_level2a:Item FILENAME=\"set acid\" is not a Level 1b name. Cannot transform to Level 2a.\n",
      "201709201713:WARNING:jwst.associations.lib.rules_level2_base.rename_to_level2a:Item FILENAME=\"set acid\" is not a Level 1b name. Cannot transform to Level 2a.\n",
      "201709201713:WARNING:jwst.associations.lib.rules_level2_base.rename_to_level2a:Item FILENAME=\"set acid\" is not a Level 1b name. Cannot transform to Level 2a.\n",
      "201709201713:WARNING:jwst.associations.lib.rules_level2_base.rename_to_level2a:Item FILENAME=\"set acid\" is not a Level 1b name. Cannot transform to Level 2a.\n",
      "201709201713:WARNING:jwst.associations.lib.rules_level2_base.rename_to_level2a:Item FILENAME=\"set acid\" is not a Level 1b name. Cannot transform to Level 2a.\n",
      "201709201713:WARNING:jwst.associations.lib.rules_level2_base.rename_to_level2a:Item FILENAME=\"set acid\" is not a Level 1b name. Cannot transform to Level 2a.\n",
      "201709201713:WARNING:jwst.associations.lib.rules_level2_base.rename_to_level2a:Item FILENAME=\"set acid\" is not a Level 1b name. Cannot transform to Level 2a.\n",
      "201709201713:WARNING:jwst.associations.lib.rules_level2_base.rename_to_level2a:Item FILENAME=\"set acid\" is not a Level 1b name. Cannot transform to Level 2a.\n",
      "201709201713:WARNING:jwst.associations.lib.rules_level2_base.rename_to_level2a:Item FILENAME=\"set acid\" is not a Level 1b name. Cannot transform to Level 2a.\n",
      "201709201713:WARNING:jwst.associations.lib.rules_level2_base.rename_to_level2a:Item FILENAME=\"set acid\" is not a Level 1b name. Cannot transform to Level 2a.\n",
      "201709201713:WARNING:jwst.associations.lib.rules_level2_base.rename_to_level2a:Item FILENAME=\"set acid\" is not a Level 1b name. Cannot transform to Level 2a.\n",
      "201709201713:WARNING:jwst.associations.lib.rules_level2_base.rename_to_level2a:Item FILENAME=\"set acid\" is not a Level 1b name. Cannot transform to Level 2a.\n",
      "201709201713:WARNING:jwst.associations.lib.rules_level2_base.rename_to_level2a:Item FILENAME=\"set acid\" is not a Level 1b name. Cannot transform to Level 2a.\n",
      "201709201713:WARNING:jwst.associations.lib.rules_level2_base.rename_to_level2a:Item FILENAME=\"set acid\" is not a Level 1b name. Cannot transform to Level 2a.\n",
      "201709201713:WARNING:jwst.associations.lib.rules_level2_base.rename_to_level2a:Item FILENAME=\"set acid\" is not a Level 1b name. Cannot transform to Level 2a.\n",
      "201709201713:WARNING:jwst.associations.lib.rules_level2_base.rename_to_level2a:Item FILENAME=\"set acid\" is not a Level 1b name. Cannot transform to Level 2a.\n",
      "201709201713:WARNING:jwst.associations.lib.rules_level2_base.rename_to_level2a:Item FILENAME=\"set acid\" is not a Level 1b name. Cannot transform to Level 2a.\n",
      "201709201713:WARNING:jwst.associations.lib.rules_level2_base.rename_to_level2a:Item FILENAME=\"set acid\" is not a Level 1b name. Cannot transform to Level 2a.\n",
      "201709201713:WARNING:jwst.associations.lib.rules_level2_base.rename_to_level2a:Item FILENAME=\"set acid\" is not a Level 1b name. Cannot transform to Level 2a.\n",
      "201709201713:WARNING:jwst.associations.lib.rules_level2_base.rename_to_level2a:Item FILENAME=\"set acid\" is not a Level 1b name. Cannot transform to Level 2a.\n",
      "201709201713:WARNING:jwst.associations.lib.rules_level2_base.rename_to_level2a:Item FILENAME=\"set acid\" is not a Level 1b name. Cannot transform to Level 2a.\n",
      "201709201713:WARNING:jwst.associations.lib.rules_level2_base.rename_to_level2a:Item FILENAME=\"set acid\" is not a Level 1b name. Cannot transform to Level 2a.\n",
      "201709201713:WARNING:jwst.associations.lib.rules_level2_base.rename_to_level2a:Item FILENAME=\"set acid\" is not a Level 1b name. Cannot transform to Level 2a.\n",
      "201709201713:WARNING:jwst.associations.lib.rules_level2_base.rename_to_level2a:Item FILENAME=\"set acid\" is not a Level 1b name. Cannot transform to Level 2a.\n",
      "201709201713:WARNING:jwst.associations.lib.rules_level2_base.rename_to_level2a:Item FILENAME=\"set acid\" is not a Level 1b name. Cannot transform to Level 2a.\n",
      "201709201713:WARNING:jwst.associations.lib.rules_level2_base.rename_to_level2a:Item FILENAME=\"set acid\" is not a Level 1b name. Cannot transform to Level 2a.\n",
      "201709201713:WARNING:jwst.associations.lib.rules_level2_base.rename_to_level2a:Item FILENAME=\"set acid\" is not a Level 1b name. Cannot transform to Level 2a.\n",
      "201709201713:WARNING:jwst.associations.lib.rules_level2_base.rename_to_level2a:Item FILENAME=\"set acid\" is not a Level 1b name. Cannot transform to Level 2a.\n",
      "201709201713:WARNING:jwst.associations.lib.rules_level2_base.rename_to_level2a:Item FILENAME=\"set acid\" is not a Level 1b name. Cannot transform to Level 2a.\n",
      "201709201713:WARNING:jwst.associations.lib.rules_level2_base.rename_to_level2a:Item FILENAME=\"set acid\" is not a Level 1b name. Cannot transform to Level 2a.\n",
      "201709201713:WARNING:jwst.associations.lib.rules_level2_base.rename_to_level2a:Item FILENAME=\"set acid\" is not a Level 1b name. Cannot transform to Level 2a.\n",
      "201709201713:WARNING:jwst.associations.lib.rules_level2_base.rename_to_level2a:Item FILENAME=\"set acid\" is not a Level 1b name. Cannot transform to Level 2a.\n",
      "201709201713:WARNING:jwst.associations.lib.rules_level2_base.rename_to_level2a:Item FILENAME=\"set acid\" is not a Level 1b name. Cannot transform to Level 2a.\n",
      "201709201713:WARNING:jwst.associations.lib.rules_level2_base.rename_to_level2a:Item FILENAME=\"set acid\" is not a Level 1b name. Cannot transform to Level 2a.\n"
     ]
    },
    {
     "name": "stdout",
     "output_type": "stream",
     "text": [
      "jw99009-a3001_spec2_001_asn.json  jw99009-o003_image2_001_asn.json\r\n"
     ]
    }
   ],
   "source": [
    "with TemporaryDirectory() as tmp_path:\n",
    "    args = save_args + ['-p', tmp_path]\n",
    "    results = Main(\n",
    "        args,\n",
    "        pool=pool_017_spec_nirspec_lv2imprint\n",
    "    )\n",
    "    %ls $tmp_path\n",
    "    %mv $tmp_path/jw99009-o003_image2_001_asn.json ../data/pool_017_image2_001_asn.json\n",
    "    %mv $tmp_path/jw99009-a3001_spec2_001_asn.json ../data/pool_017_spec2_001_asn.json"
   ]
  },
  {
   "cell_type": "markdown",
   "metadata": {},
   "source": [
    "### pool_018_all_exptypes"
   ]
  },
  {
   "cell_type": "code",
   "execution_count": 19,
   "metadata": {
    "collapsed": true
   },
   "outputs": [],
   "source": [
    "save_args = [\n",
    "    '-r',\n",
    "    '../../lib/rules_level2b.py',\n",
    "    '--ignore-default',\n",
    "]"
   ]
  },
  {
   "cell_type": "code",
   "execution_count": 20,
   "metadata": {
    "collapsed": true
   },
   "outputs": [],
   "source": [
    "pool_018_all_exptypes = combine_pools('../data/pool_018_all_exptypes.csv')"
   ]
  },
  {
   "cell_type": "code",
   "execution_count": 21,
   "metadata": {
    "scrolled": true
   },
   "outputs": [
    {
     "name": "stderr",
     "output_type": "stream",
     "text": [
      "201709201713:WARNING:jwst.associations.lib.rules_level2_base.rename_to_level2a:Item FILENAME=\"set acid\" is not a Level 1b name. Cannot transform to Level 2a.\n",
      "201709201713:WARNING:jwst.associations.lib.rules_level2_base.rename_to_level2a:Item FILENAME=\"set acid\" is not a Level 1b name. Cannot transform to Level 2a.\n",
      "201709201713:WARNING:jwst.associations.lib.rules_level2_base.rename_to_level2a:Item FILENAME=\"set acid\" is not a Level 1b name. Cannot transform to Level 2a.\n",
      "201709201713:WARNING:jwst.associations.lib.rules_level2_base.rename_to_level2a:Item FILENAME=\"set acid\" is not a Level 1b name. Cannot transform to Level 2a.\n",
      "201709201713:WARNING:jwst.associations.lib.rules_level2_base.rename_to_level2a:Item FILENAME=\"set acid\" is not a Level 1b name. Cannot transform to Level 2a.\n",
      "201709201713:WARNING:jwst.associations.lib.rules_level2_base.rename_to_level2a:Item FILENAME=\"set acid\" is not a Level 1b name. Cannot transform to Level 2a.\n",
      "201709201713:WARNING:jwst.associations.lib.rules_level2_base.rename_to_level2a:Item FILENAME=\"set acid\" is not a Level 1b name. Cannot transform to Level 2a.\n",
      "201709201713:WARNING:jwst.associations.lib.rules_level2_base.rename_to_level2a:Item FILENAME=\"set acid\" is not a Level 1b name. Cannot transform to Level 2a.\n",
      "201709201713:WARNING:jwst.associations.lib.rules_level2_base.rename_to_level2a:Item FILENAME=\"set acid\" is not a Level 1b name. Cannot transform to Level 2a.\n",
      "201709201713:WARNING:jwst.associations.lib.rules_level2_base.rename_to_level2a:Item FILENAME=\"set acid\" is not a Level 1b name. Cannot transform to Level 2a.\n",
      "201709201713:WARNING:jwst.associations.lib.rules_level2_base.rename_to_level2a:Item FILENAME=\"set acid\" is not a Level 1b name. Cannot transform to Level 2a.\n",
      "201709201713:WARNING:jwst.associations.lib.rules_level2_base.rename_to_level2a:Item FILENAME=\"set acid\" is not a Level 1b name. Cannot transform to Level 2a.\n",
      "201709201713:WARNING:jwst.associations.lib.rules_level2_base.rename_to_level2a:Item FILENAME=\"set acid\" is not a Level 1b name. Cannot transform to Level 2a.\n",
      "201709201713:WARNING:jwst.associations.lib.rules_level2_base.rename_to_level2a:Item FILENAME=\"set acid\" is not a Level 1b name. Cannot transform to Level 2a.\n",
      "201709201713:WARNING:jwst.associations.lib.rules_level2_base.rename_to_level2a:Item FILENAME=\"set acid\" is not a Level 1b name. Cannot transform to Level 2a.\n",
      "201709201713:WARNING:jwst.associations.lib.rules_level2_base.rename_to_level2a:Item FILENAME=\"set acid\" is not a Level 1b name. Cannot transform to Level 2a.\n",
      "201709201713:WARNING:jwst.associations.lib.rules_level2_base.rename_to_level2a:Item FILENAME=\"set acid\" is not a Level 1b name. Cannot transform to Level 2a.\n",
      "201709201713:WARNING:jwst.associations.lib.rules_level2_base.rename_to_level2a:Item FILENAME=\"set acid\" is not a Level 1b name. Cannot transform to Level 2a.\n",
      "201709201713:WARNING:jwst.associations.lib.rules_level2_base.rename_to_level2a:Item FILENAME=\"set acid\" is not a Level 1b name. Cannot transform to Level 2a.\n",
      "201709201713:WARNING:jwst.associations.lib.rules_level2_base.rename_to_level2a:Item FILENAME=\"set acid\" is not a Level 1b name. Cannot transform to Level 2a.\n",
      "201709201713:WARNING:jwst.associations.lib.rules_level2_base.rename_to_level2a:Item FILENAME=\"set acid\" is not a Level 1b name. Cannot transform to Level 2a.\n",
      "201709201713:WARNING:jwst.associations.lib.rules_level2_base.rename_to_level2a:Item FILENAME=\"set acid\" is not a Level 1b name. Cannot transform to Level 2a.\n",
      "201709201713:WARNING:jwst.associations.lib.rules_level2_base.rename_to_level2a:Item FILENAME=\"set acid\" is not a Level 1b name. Cannot transform to Level 2a.\n",
      "201709201713:WARNING:jwst.associations.lib.rules_level2_base.rename_to_level2a:Item FILENAME=\"set acid\" is not a Level 1b name. Cannot transform to Level 2a.\n",
      "201709201713:WARNING:jwst.associations.lib.rules_level2_base.rename_to_level2a:Item FILENAME=\"set acid\" is not a Level 1b name. Cannot transform to Level 2a.\n",
      "201709201713:WARNING:jwst.associations.lib.rules_level2_base.rename_to_level2a:Item FILENAME=\"set acid\" is not a Level 1b name. Cannot transform to Level 2a.\n",
      "201709201713:WARNING:jwst.associations.lib.rules_level2_base.rename_to_level2a:Item FILENAME=\"set acid\" is not a Level 1b name. Cannot transform to Level 2a.\n",
      "201709201713:WARNING:jwst.associations.lib.rules_level2_base.rename_to_level2a:Item FILENAME=\"set acid\" is not a Level 1b name. Cannot transform to Level 2a.\n",
      "201709201713:WARNING:jwst.associations.lib.rules_level2_base.rename_to_level2a:Item FILENAME=\"set acid\" is not a Level 1b name. Cannot transform to Level 2a.\n",
      "201709201713:WARNING:jwst.associations.lib.rules_level2_base.rename_to_level2a:Item FILENAME=\"set acid\" is not a Level 1b name. Cannot transform to Level 2a.\n",
      "201709201713:WARNING:jwst.associations.lib.rules_level2_base.rename_to_level2a:Item FILENAME=\"set acid\" is not a Level 1b name. Cannot transform to Level 2a.\n",
      "201709201713:WARNING:jwst.associations.lib.rules_level2_base.rename_to_level2a:Item FILENAME=\"set acid\" is not a Level 1b name. Cannot transform to Level 2a.\n",
      "201709201713:WARNING:jwst.associations.lib.rules_level2_base.rename_to_level2a:Item FILENAME=\"set acid\" is not a Level 1b name. Cannot transform to Level 2a.\n",
      "201709201713:WARNING:jwst.associations.lib.rules_level2_base.rename_to_level2a:Item FILENAME=\"set acid\" is not a Level 1b name. Cannot transform to Level 2a.\n",
      "201709201713:WARNING:jwst.associations.lib.rules_level2_base.rename_to_level2a:Item FILENAME=\"set acid\" is not a Level 1b name. Cannot transform to Level 2a.\n",
      "201709201713:WARNING:jwst.associations.lib.rules_level2_base.rename_to_level2a:Item FILENAME=\"set acid\" is not a Level 1b name. Cannot transform to Level 2a.\n",
      "201709201713:WARNING:jwst.associations.lib.rules_level2_base.rename_to_level2a:Item FILENAME=\"set acid\" is not a Level 1b name. Cannot transform to Level 2a.\n",
      "201709201713:WARNING:jwst.associations.lib.rules_level2_base.rename_to_level2a:Item FILENAME=\"set acid\" is not a Level 1b name. Cannot transform to Level 2a.\n",
      "201709201713:WARNING:jwst.associations.lib.rules_level2_base.rename_to_level2a:Item FILENAME=\"set acid\" is not a Level 1b name. Cannot transform to Level 2a.\n",
      "201709201713:WARNING:jwst.associations.lib.rules_level2_base.rename_to_level2a:Item FILENAME=\"set acid\" is not a Level 1b name. Cannot transform to Level 2a.\n",
      "201709201713:WARNING:jwst.associations.lib.rules_level2_base.rename_to_level2a:Item FILENAME=\"set acid\" is not a Level 1b name. Cannot transform to Level 2a.\n",
      "201709201713:WARNING:jwst.associations.lib.rules_level2_base.rename_to_level2a:Item FILENAME=\"set acid\" is not a Level 1b name. Cannot transform to Level 2a.\n",
      "201709201713:WARNING:jwst.associations.lib.rules_level2_base.rename_to_level2a:Item FILENAME=\"set acid\" is not a Level 1b name. Cannot transform to Level 2a.\n",
      "201709201713:WARNING:jwst.associations.lib.rules_level2_base.rename_to_level2a:Item FILENAME=\"set acid\" is not a Level 1b name. Cannot transform to Level 2a.\n",
      "201709201713:WARNING:jwst.associations.lib.rules_level2_base.rename_to_level2a:Item FILENAME=\"set acid\" is not a Level 1b name. Cannot transform to Level 2a.\n",
      "201709201713:WARNING:jwst.associations.lib.rules_level2_base.rename_to_level2a:Item FILENAME=\"set acid\" is not a Level 1b name. Cannot transform to Level 2a.\n",
      "201709201713:WARNING:jwst.associations.lib.rules_level2_base.rename_to_level2a:Item FILENAME=\"set acid\" is not a Level 1b name. Cannot transform to Level 2a.\n",
      "201709201713:WARNING:jwst.associations.lib.rules_level2_base.rename_to_level2a:Item FILENAME=\"set acid\" is not a Level 1b name. Cannot transform to Level 2a.\n",
      "201709201713:WARNING:jwst.associations.lib.rules_level2_base.rename_to_level2a:Item FILENAME=\"set acid\" is not a Level 1b name. Cannot transform to Level 2a.\n",
      "201709201713:WARNING:jwst.associations.lib.rules_level2_base.rename_to_level2a:Item FILENAME=\"set acid\" is not a Level 1b name. Cannot transform to Level 2a.\n",
      "201709201713:WARNING:jwst.associations.lib.rules_level2_base.rename_to_level2a:Item FILENAME=\"set acid\" is not a Level 1b name. Cannot transform to Level 2a.\n",
      "201709201713:WARNING:jwst.associations.lib.rules_level2_base.rename_to_level2a:Item FILENAME=\"set acid\" is not a Level 1b name. Cannot transform to Level 2a.\n"
     ]
    },
    {
     "name": "stderr",
     "output_type": "stream",
     "text": [
      "201709201713:WARNING:jwst.associations.lib.rules_level2_base.rename_to_level2a:Item FILENAME=\"set acid\" is not a Level 1b name. Cannot transform to Level 2a.\n",
      "201709201713:WARNING:jwst.associations.lib.rules_level2_base.rename_to_level2a:Item FILENAME=\"set acid\" is not a Level 1b name. Cannot transform to Level 2a.\n",
      "201709201713:WARNING:jwst.associations.lib.rules_level2_base.rename_to_level2a:Item FILENAME=\"set acid\" is not a Level 1b name. Cannot transform to Level 2a.\n",
      "201709201713:WARNING:jwst.associations.lib.rules_level2_base.rename_to_level2a:Item FILENAME=\"set acid\" is not a Level 1b name. Cannot transform to Level 2a.\n",
      "201709201713:WARNING:jwst.associations.lib.rules_level2_base.rename_to_level2a:Item FILENAME=\"set acid\" is not a Level 1b name. Cannot transform to Level 2a.\n",
      "201709201713:WARNING:jwst.associations.lib.rules_level2_base.rename_to_level2a:Item FILENAME=\"set acid\" is not a Level 1b name. Cannot transform to Level 2a.\n",
      "201709201713:WARNING:jwst.associations.lib.rules_level2_base.rename_to_level2a:Item FILENAME=\"set acid\" is not a Level 1b name. Cannot transform to Level 2a.\n",
      "201709201713:WARNING:jwst.associations.lib.rules_level2_base.rename_to_level2a:Item FILENAME=\"set acid\" is not a Level 1b name. Cannot transform to Level 2a.\n",
      "201709201713:WARNING:jwst.associations.lib.rules_level2_base.rename_to_level2a:Item FILENAME=\"set acid\" is not a Level 1b name. Cannot transform to Level 2a.\n",
      "201709201713:WARNING:jwst.associations.lib.rules_level2_base.rename_to_level2a:Item FILENAME=\"set acid\" is not a Level 1b name. Cannot transform to Level 2a.\n",
      "201709201713:WARNING:jwst.associations.lib.rules_level2_base.rename_to_level2a:Item FILENAME=\"set acid\" is not a Level 1b name. Cannot transform to Level 2a.\n",
      "201709201713:WARNING:jwst.associations.lib.rules_level2_base.rename_to_level2a:Item FILENAME=\"set acid\" is not a Level 1b name. Cannot transform to Level 2a.\n",
      "201709201713:WARNING:jwst.associations.lib.rules_level2_base.rename_to_level2a:Item FILENAME=\"set acid\" is not a Level 1b name. Cannot transform to Level 2a.\n",
      "201709201713:WARNING:jwst.associations.lib.rules_level2_base.rename_to_level2a:Item FILENAME=\"set acid\" is not a Level 1b name. Cannot transform to Level 2a.\n",
      "201709201713:WARNING:jwst.associations.lib.rules_level2_base.rename_to_level2a:Item FILENAME=\"set acid\" is not a Level 1b name. Cannot transform to Level 2a.\n",
      "201709201713:WARNING:jwst.associations.lib.rules_level2_base.rename_to_level2a:Item FILENAME=\"set acid\" is not a Level 1b name. Cannot transform to Level 2a.\n",
      "201709201713:WARNING:jwst.associations.lib.rules_level2_base.rename_to_level2a:Item FILENAME=\"set acid\" is not a Level 1b name. Cannot transform to Level 2a.\n",
      "201709201713:WARNING:jwst.associations.lib.rules_level2_base.rename_to_level2a:Item FILENAME=\"set acid\" is not a Level 1b name. Cannot transform to Level 2a.\n",
      "201709201713:WARNING:jwst.associations.lib.rules_level2_base.rename_to_level2a:Item FILENAME=\"set acid\" is not a Level 1b name. Cannot transform to Level 2a.\n",
      "201709201713:WARNING:jwst.associations.lib.rules_level2_base.rename_to_level2a:Item FILENAME=\"set acid\" is not a Level 1b name. Cannot transform to Level 2a.\n",
      "201709201713:WARNING:jwst.associations.lib.rules_level2_base.rename_to_level2a:Item FILENAME=\"set acid\" is not a Level 1b name. Cannot transform to Level 2a.\n",
      "201709201713:WARNING:jwst.associations.lib.rules_level2_base.rename_to_level2a:Item FILENAME=\"set acid\" is not a Level 1b name. Cannot transform to Level 2a.\n",
      "201709201713:WARNING:jwst.associations.lib.rules_level2_base.rename_to_level2a:Item FILENAME=\"set acid\" is not a Level 1b name. Cannot transform to Level 2a.\n",
      "201709201713:WARNING:jwst.associations.lib.rules_level2_base.rename_to_level2a:Item FILENAME=\"set acid\" is not a Level 1b name. Cannot transform to Level 2a.\n",
      "201709201713:WARNING:jwst.associations.lib.rules_level2_base.rename_to_level2a:Item FILENAME=\"set acid\" is not a Level 1b name. Cannot transform to Level 2a.\n",
      "201709201713:WARNING:jwst.associations.lib.rules_level2_base.rename_to_level2a:Item FILENAME=\"set acid\" is not a Level 1b name. Cannot transform to Level 2a.\n",
      "201709201713:WARNING:jwst.associations.lib.rules_level2_base.rename_to_level2a:Item FILENAME=\"set acid\" is not a Level 1b name. Cannot transform to Level 2a.\n",
      "201709201713:WARNING:jwst.associations.lib.rules_level2_base.rename_to_level2a:Item FILENAME=\"set acid\" is not a Level 1b name. Cannot transform to Level 2a.\n",
      "201709201713:WARNING:jwst.associations.lib.rules_level2_base.rename_to_level2a:Item FILENAME=\"set acid\" is not a Level 1b name. Cannot transform to Level 2a.\n"
     ]
    }
   ],
   "source": [
    "with TemporaryDirectory() as tmp_path:\n",
    "    args = save_args + ['-p', tmp_path]\n",
    "    results = Main(\n",
    "        args,\n",
    "        pool=pool_018_all_exptypes\n",
    "    )\n",
    "    %mv $tmp_path/jw99009-a3001_spec2_001_asn.json ../data/pool_018_spec2_001_asn.json\n",
    "    %mv $tmp_path/jw99009-o001_image2_001_asn.json ../data/pool_018_image2_001_asn.json"
   ]
  },
  {
   "cell_type": "markdown",
   "metadata": {},
   "source": [
    "### pool_019_niriss_wfss"
   ]
  },
  {
   "cell_type": "code",
   "execution_count": 22,
   "metadata": {
    "collapsed": true
   },
   "outputs": [],
   "source": [
    "save_args = []"
   ]
  },
  {
   "cell_type": "code",
   "execution_count": 23,
   "metadata": {
    "collapsed": true
   },
   "outputs": [],
   "source": [
    "pool_019_niriss_wfss = combine_pools('../data/pool_019_niriss_wfss.csv')"
   ]
  },
  {
   "cell_type": "code",
   "execution_count": 24,
   "metadata": {
    "scrolled": true
   },
   "outputs": [
    {
     "name": "stderr",
     "output_type": "stream",
     "text": [
      "201709201713:WARNING:jwst.associations.lib.rules_level2_base.rename_to_level2a:Item FILENAME=\"set acid\" is not a Level 1b name. Cannot transform to Level 2a.\n",
      "201709201713:WARNING:jwst.associations.lib.rules_level2_base.rename_to_level2a:Item FILENAME=\"set acid\" is not a Level 1b name. Cannot transform to Level 2a.\n",
      "201709201713:WARNING:jwst.associations.lib.rules_level2_base.rename_to_level2a:Item FILENAME=\"set acid\" is not a Level 1b name. Cannot transform to Level 2a.\n",
      "201709201713:WARNING:jwst.associations.lib.rules_level2_base.rename_to_level2a:Item FILENAME=\"set acid\" is not a Level 1b name. Cannot transform to Level 2a.\n",
      "201709201713:WARNING:jwst.associations.lib.rules_level2_base.rename_to_level2a:Item FILENAME=\"set acid\" is not a Level 1b name. Cannot transform to Level 2a.\n",
      "201709201713:WARNING:jwst.associations.lib.rules_level2_base.rename_to_level2a:Item FILENAME=\"set acid\" is not a Level 1b name. Cannot transform to Level 2a.\n",
      "201709201713:WARNING:jwst.associations.lib.rules_level2_base.rename_to_level2a:Item FILENAME=\"set acid\" is not a Level 1b name. Cannot transform to Level 2a.\n",
      "201709201713:WARNING:jwst.associations.lib.rules_level3_base.rename_to_level2b:Item FILENAME=\"set acid\" is not a Level 1b name. Cannot transform to Level 2b.\n",
      "201709201713:WARNING:jwst.associations.lib.rules_level3_base.rename_to_level2b:Item FILENAME=\"set acid\" is not a Level 1b name. Cannot transform to Level 2b.\n",
      "201709201713:WARNING:jwst.associations.lib.rules_level3_base.rename_to_level2b:Item FILENAME=\"set acid\" is not a Level 1b name. Cannot transform to Level 2b.\n",
      "201709201713:WARNING:jwst.associations.lib.rules_level3_base.rename_to_level2b:Item FILENAME=\"set acid\" is not a Level 1b name. Cannot transform to Level 2b.\n",
      "201709201713:WARNING:jwst.associations.lib.rules_level3_base.rename_to_level2b:Item FILENAME=\"set acid\" is not a Level 1b name. Cannot transform to Level 2b.\n",
      "201709201713:WARNING:jwst.associations.lib.rules_level3_base.rename_to_level2b:Item FILENAME=\"set acid\" is not a Level 1b name. Cannot transform to Level 2b.\n",
      "201709201713:WARNING:jwst.associations.lib.rules_level3_base.rename_to_level2b:Item FILENAME=\"set acid\" is not a Level 1b name. Cannot transform to Level 2b.\n",
      "201709201713:WARNING:jwst.associations.lib.rules_level3_base.rename_to_level2b:Item FILENAME=\"set acid\" is not a Level 1b name. Cannot transform to Level 2b.\n",
      "201709201713:WARNING:jwst.associations.lib.rules_level3_base.rename_to_level2b:Item FILENAME=\"set acid\" is not a Level 1b name. Cannot transform to Level 2b.\n",
      "201709201713:WARNING:jwst.associations.lib.rules_level3_base.rename_to_level2b:Item FILENAME=\"set acid\" is not a Level 1b name. Cannot transform to Level 2b.\n",
      "201709201713:WARNING:jwst.associations.lib.rules_level3_base.rename_to_level2b:Item FILENAME=\"set acid\" is not a Level 1b name. Cannot transform to Level 2b.\n",
      "201709201713:WARNING:jwst.associations.lib.rules_level2_base.rename_to_level2a:Item FILENAME=\"set acid\" is not a Level 1b name. Cannot transform to Level 2a.\n",
      "201709201713:WARNING:jwst.associations.lib.rules_level2_base.rename_to_level2a:Item FILENAME=\"set acid\" is not a Level 1b name. Cannot transform to Level 2a.\n",
      "201709201713:WARNING:jwst.associations.lib.rules_level2_base.rename_to_level2a:Item FILENAME=\"set acid\" is not a Level 1b name. Cannot transform to Level 2a.\n",
      "201709201713:WARNING:jwst.associations.lib.rules_level2_base.rename_to_level2a:Item FILENAME=\"set acid\" is not a Level 1b name. Cannot transform to Level 2a.\n",
      "201709201713:WARNING:jwst.associations.lib.rules_level2_base.rename_to_level2a:Item FILENAME=\"set acid\" is not a Level 1b name. Cannot transform to Level 2a.\n",
      "201709201713:WARNING:jwst.associations.lib.rules_level2_base.rename_to_level2a:Item FILENAME=\"set acid\" is not a Level 1b name. Cannot transform to Level 2a.\n",
      "201709201713:WARNING:jwst.associations.lib.rules_level2_base.rename_to_level2a:Item FILENAME=\"set acid\" is not a Level 1b name. Cannot transform to Level 2a.\n",
      "201709201713:WARNING:jwst.associations.lib.rules_level3_base.rename_to_level2b:Item FILENAME=\"set acid\" is not a Level 1b name. Cannot transform to Level 2b.\n",
      "201709201713:WARNING:jwst.associations.lib.rules_level3_base.rename_to_level2b:Item FILENAME=\"set acid\" is not a Level 1b name. Cannot transform to Level 2b.\n",
      "201709201713:WARNING:jwst.associations.lib.rules_level3_base.rename_to_level2b:Item FILENAME=\"set acid\" is not a Level 1b name. Cannot transform to Level 2b.\n",
      "201709201713:WARNING:jwst.associations.lib.rules_level3_base.rename_to_level2b:Item FILENAME=\"set acid\" is not a Level 1b name. Cannot transform to Level 2b.\n",
      "201709201713:WARNING:jwst.associations.lib.rules_level3_base.rename_to_level2b:Item FILENAME=\"set acid\" is not a Level 1b name. Cannot transform to Level 2b.\n",
      "201709201713:WARNING:jwst.associations.lib.rules_level3_base.rename_to_level2b:Item FILENAME=\"set acid\" is not a Level 1b name. Cannot transform to Level 2b.\n",
      "201709201713:WARNING:jwst.associations.lib.rules_level3_base.rename_to_level2b:Item FILENAME=\"set acid\" is not a Level 1b name. Cannot transform to Level 2b.\n",
      "201709201713:WARNING:jwst.associations.lib.rules_level3_base.rename_to_level2b:Item FILENAME=\"set acid\" is not a Level 1b name. Cannot transform to Level 2b.\n",
      "201709201713:WARNING:jwst.associations.lib.rules_level3_base.rename_to_level2b:Item FILENAME=\"set acid\" is not a Level 1b name. Cannot transform to Level 2b.\n",
      "201709201713:WARNING:jwst.associations.lib.rules_level3_base.rename_to_level2b:Item FILENAME=\"set acid\" is not a Level 1b name. Cannot transform to Level 2b.\n",
      "201709201713:WARNING:jwst.associations.lib.rules_level3_base.rename_to_level2b:Item FILENAME=\"set acid\" is not a Level 1b name. Cannot transform to Level 2b.\n",
      "201709201713:WARNING:jwst.associations.lib.rules_level2_base.rename_to_level2a:Item FILENAME=\"set acid\" is not a Level 1b name. Cannot transform to Level 2a.\n",
      "201709201713:WARNING:jwst.associations.lib.rules_level3_base.rename_to_level2b:Item FILENAME=\"set acid\" is not a Level 1b name. Cannot transform to Level 2b.\n",
      "201709201713:WARNING:jwst.associations.lib.rules_level2_base.rename_to_level2a:Item FILENAME=\"set acid\" is not a Level 1b name. Cannot transform to Level 2a.\n",
      "201709201713:WARNING:jwst.associations.lib.rules_level2_base.rename_to_level2a:Item FILENAME=\"set acid\" is not a Level 1b name. Cannot transform to Level 2a.\n",
      "201709201713:WARNING:jwst.associations.lib.rules_level2_base.rename_to_level2a:Item FILENAME=\"set acid\" is not a Level 1b name. Cannot transform to Level 2a.\n",
      "201709201713:WARNING:jwst.associations.lib.rules_level2_base.rename_to_level2a:Item FILENAME=\"set acid\" is not a Level 1b name. Cannot transform to Level 2a.\n",
      "201709201713:WARNING:jwst.associations.lib.rules_level2_base.rename_to_level2a:Item FILENAME=\"set acid\" is not a Level 1b name. Cannot transform to Level 2a.\n",
      "201709201713:WARNING:jwst.associations.lib.rules_level2_base.rename_to_level2a:Item FILENAME=\"set acid\" is not a Level 1b name. Cannot transform to Level 2a.\n",
      "201709201713:WARNING:jwst.associations.lib.rules_level2_base.rename_to_level2a:Item FILENAME=\"set acid\" is not a Level 1b name. Cannot transform to Level 2a.\n",
      "201709201713:WARNING:jwst.associations.lib.rules_level2_base.rename_to_level2a:Item FILENAME=\"set acid\" is not a Level 1b name. Cannot transform to Level 2a.\n",
      "201709201713:WARNING:jwst.associations.lib.rules_level2_base.rename_to_level2a:Item FILENAME=\"set acid\" is not a Level 1b name. Cannot transform to Level 2a.\n",
      "201709201713:WARNING:jwst.associations.lib.rules_level2_base.rename_to_level2a:Item FILENAME=\"set acid\" is not a Level 1b name. Cannot transform to Level 2a.\n",
      "201709201713:WARNING:jwst.associations.lib.rules_level2_base.rename_to_level2a:Item FILENAME=\"set acid\" is not a Level 1b name. Cannot transform to Level 2a.\n",
      "201709201713:WARNING:jwst.associations.lib.rules_level2_base.rename_to_level2a:Item FILENAME=\"set acid\" is not a Level 1b name. Cannot transform to Level 2a.\n",
      "201709201713:WARNING:jwst.associations.lib.rules_level2_base.rename_to_level2a:Item FILENAME=\"set acid\" is not a Level 1b name. Cannot transform to Level 2a.\n",
      "201709201713:WARNING:jwst.associations.lib.rules_level2_base.rename_to_level2a:Item FILENAME=\"set acid\" is not a Level 1b name. Cannot transform to Level 2a.\n"
     ]
    },
    {
     "name": "stderr",
     "output_type": "stream",
     "text": [
      "201709201713:WARNING:jwst.associations.lib.rules_level2_base.rename_to_level2a:Item FILENAME=\"set acid\" is not a Level 1b name. Cannot transform to Level 2a.\n",
      "201709201713:WARNING:jwst.associations.lib.rules_level2_base.rename_to_level2a:Item FILENAME=\"set acid\" is not a Level 1b name. Cannot transform to Level 2a.\n",
      "201709201713:WARNING:jwst.associations.lib.rules_level2_base.rename_to_level2a:Item FILENAME=\"set acid\" is not a Level 1b name. Cannot transform to Level 2a.\n",
      "201709201713:WARNING:jwst.associations.lib.rules_level2_base.rename_to_level2a:Item FILENAME=\"set acid\" is not a Level 1b name. Cannot transform to Level 2a.\n",
      "201709201713:WARNING:jwst.associations.lib.rules_level2_base.rename_to_level2a:Item FILENAME=\"set acid\" is not a Level 1b name. Cannot transform to Level 2a.\n",
      "201709201713:WARNING:jwst.associations.lib.rules_level2_base.rename_to_level2a:Item FILENAME=\"set acid\" is not a Level 1b name. Cannot transform to Level 2a.\n",
      "201709201713:WARNING:jwst.associations.lib.rules_level2_base.rename_to_level2a:Item FILENAME=\"set acid\" is not a Level 1b name. Cannot transform to Level 2a.\n",
      "201709201713:WARNING:jwst.associations.lib.rules_level2_base.rename_to_level2a:Item FILENAME=\"set acid\" is not a Level 1b name. Cannot transform to Level 2a.\n",
      "201709201713:WARNING:jwst.associations.lib.rules_level3_base.rename_to_level2b:Item FILENAME=\"set acid\" is not a Level 1b name. Cannot transform to Level 2b.\n",
      "201709201713:WARNING:jwst.associations.lib.rules_level3_base.rename_to_level2b:Item FILENAME=\"set acid\" is not a Level 1b name. Cannot transform to Level 2b.\n",
      "201709201713:WARNING:jwst.associations.lib.rules_level3_base.rename_to_level2b:Item FILENAME=\"set acid\" is not a Level 1b name. Cannot transform to Level 2b.\n",
      "201709201713:WARNING:jwst.associations.lib.rules_level3_base.rename_to_level2b:Item FILENAME=\"set acid\" is not a Level 1b name. Cannot transform to Level 2b.\n",
      "201709201713:WARNING:jwst.associations.lib.rules_level3_base.rename_to_level2b:Item FILENAME=\"set acid\" is not a Level 1b name. Cannot transform to Level 2b.\n",
      "201709201713:WARNING:jwst.associations.lib.rules_level3_base.rename_to_level2b:Item FILENAME=\"set acid\" is not a Level 1b name. Cannot transform to Level 2b.\n",
      "201709201713:WARNING:jwst.associations.lib.rules_level3_base.rename_to_level2b:Item FILENAME=\"set acid\" is not a Level 1b name. Cannot transform to Level 2b.\n",
      "201709201713:WARNING:jwst.associations.lib.rules_level3_base.rename_to_level2b:Item FILENAME=\"set acid\" is not a Level 1b name. Cannot transform to Level 2b.\n",
      "201709201713:WARNING:jwst.associations.lib.rules_level3_base.rename_to_level2b:Item FILENAME=\"set acid\" is not a Level 1b name. Cannot transform to Level 2b.\n",
      "201709201713:WARNING:jwst.associations.lib.rules_level3_base.rename_to_level2b:Item FILENAME=\"set acid\" is not a Level 1b name. Cannot transform to Level 2b.\n",
      "201709201713:WARNING:jwst.associations.lib.rules_level3_base.rename_to_level2b:Item FILENAME=\"set acid\" is not a Level 1b name. Cannot transform to Level 2b.\n",
      "201709201713:WARNING:jwst.associations.lib.rules_level2_base.rename_to_level2a:Item FILENAME=\"set acid\" is not a Level 1b name. Cannot transform to Level 2a.\n",
      "201709201713:WARNING:jwst.associations.lib.rules_level2_base.rename_to_level2a:Item FILENAME=\"set acid\" is not a Level 1b name. Cannot transform to Level 2a.\n",
      "201709201713:WARNING:jwst.associations.lib.rules_level2_base.rename_to_level2a:Item FILENAME=\"set acid\" is not a Level 1b name. Cannot transform to Level 2a.\n",
      "201709201713:WARNING:jwst.associations.lib.rules_level2_base.rename_to_level2a:Item FILENAME=\"set acid\" is not a Level 1b name. Cannot transform to Level 2a.\n",
      "201709201713:WARNING:jwst.associations.lib.rules_level2_base.rename_to_level2a:Item FILENAME=\"set acid\" is not a Level 1b name. Cannot transform to Level 2a.\n",
      "201709201713:WARNING:jwst.associations.lib.rules_level2_base.rename_to_level2a:Item FILENAME=\"set acid\" is not a Level 1b name. Cannot transform to Level 2a.\n",
      "201709201713:WARNING:jwst.associations.lib.rules_level2_base.rename_to_level2a:Item FILENAME=\"set acid\" is not a Level 1b name. Cannot transform to Level 2a.\n",
      "201709201713:WARNING:jwst.associations.lib.rules_level3_base.rename_to_level2b:Item FILENAME=\"set acid\" is not a Level 1b name. Cannot transform to Level 2b.\n",
      "201709201713:WARNING:jwst.associations.lib.rules_level3_base.rename_to_level2b:Item FILENAME=\"set acid\" is not a Level 1b name. Cannot transform to Level 2b.\n",
      "201709201713:WARNING:jwst.associations.lib.rules_level3_base.rename_to_level2b:Item FILENAME=\"set acid\" is not a Level 1b name. Cannot transform to Level 2b.\n",
      "201709201713:WARNING:jwst.associations.lib.rules_level3_base.rename_to_level2b:Item FILENAME=\"set acid\" is not a Level 1b name. Cannot transform to Level 2b.\n",
      "201709201713:WARNING:jwst.associations.lib.rules_level3_base.rename_to_level2b:Item FILENAME=\"set acid\" is not a Level 1b name. Cannot transform to Level 2b.\n",
      "201709201713:WARNING:jwst.associations.lib.rules_level3_base.rename_to_level2b:Item FILENAME=\"set acid\" is not a Level 1b name. Cannot transform to Level 2b.\n",
      "201709201713:WARNING:jwst.associations.lib.rules_level3_base.rename_to_level2b:Item FILENAME=\"set acid\" is not a Level 1b name. Cannot transform to Level 2b.\n",
      "201709201713:WARNING:jwst.associations.lib.rules_level3_base.rename_to_level2b:Item FILENAME=\"set acid\" is not a Level 1b name. Cannot transform to Level 2b.\n",
      "201709201713:WARNING:jwst.associations.lib.rules_level3_base.rename_to_level2b:Item FILENAME=\"set acid\" is not a Level 1b name. Cannot transform to Level 2b.\n",
      "201709201713:WARNING:jwst.associations.lib.rules_level3_base.rename_to_level2b:Item FILENAME=\"set acid\" is not a Level 1b name. Cannot transform to Level 2b.\n",
      "201709201713:WARNING:jwst.associations.lib.rules_level3_base.rename_to_level2b:Item FILENAME=\"set acid\" is not a Level 1b name. Cannot transform to Level 2b.\n"
     ]
    }
   ],
   "source": [
    "with TemporaryDirectory() as tmp_path:\n",
    "    args = save_args + ['-p', tmp_path]\n",
    "    results = Main(\n",
    "        args,\n",
    "        pool=pool_019_niriss_wfss\n",
    "    )\n",
    "    %mv $tmp_path/jw99009-o001_spec2_001_asn.json ../data/pool_019_spec2_001_asn.json\n",
    "    %mv $tmp_path/jw99009-o001_image2_001_asn.json ../data/pool_019_image2_001_asn.json\n",
    "    #%mv $tmp_path/jw99009-o001_spec3_001_asn.json ../data/pool_019_spec3_001_asn.json\n",
    "    %mv $tmp_path/jw99009-o001_image3_001_asn.json ../data/pool_019_image3_001_asn.json"
   ]
  },
  {
   "cell_type": "code",
   "execution_count": null,
   "metadata": {
    "collapsed": true
   },
   "outputs": [],
   "source": []
  }
 ],
 "metadata": {
  "anaconda-cloud": {},
  "kernelspec": {
   "display_name": "Python 3",
   "language": "python",
   "name": "python3"
  },
  "language_info": {
   "codemirror_mode": {
    "name": "ipython",
    "version": 3
   },
   "file_extension": ".py",
   "mimetype": "text/x-python",
   "name": "python",
   "nbconvert_exporter": "python",
   "pygments_lexer": "ipython3",
   "version": "3.6.2"
  }
 },
 "nbformat": 4,
 "nbformat_minor": 2
}

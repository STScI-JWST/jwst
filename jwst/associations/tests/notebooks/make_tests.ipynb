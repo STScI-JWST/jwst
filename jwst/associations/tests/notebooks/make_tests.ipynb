{
 "cells": [
  {
   "cell_type": "markdown",
   "metadata": {},
   "source": [
    "# Abstract"
   ]
  },
  {
   "cell_type": "markdown",
   "metadata": {},
   "source": [
    "Make the test comparison associations"
   ]
  },
  {
   "cell_type": "markdown",
   "metadata": {},
   "source": [
    "# Environment"
   ]
  },
  {
   "cell_type": "code",
   "execution_count": null,
   "metadata": {
    "collapsed": true
   },
   "outputs": [],
   "source": [
    "# Make all associations\n",
    "MAKE_ALL = False"
   ]
  },
  {
   "cell_type": "code",
   "execution_count": null,
   "metadata": {
    "collapsed": true
   },
   "outputs": [],
   "source": [
    "# Setup debugging log\n",
    "import logging\n",
    "logger = logging.getLogger('jwst.associations')\n",
    "handler = logging.StreamHandler()\n",
    "logger.addHandler(handler)\n",
    "handler.setLevel(logging.DEBUG)\n",
    "logger.setLevel(logging.DEBUG)"
   ]
  },
  {
   "cell_type": "code",
   "execution_count": null,
   "metadata": {
    "collapsed": true
   },
   "outputs": [],
   "source": [
    "from os import listdir, path\n",
    "import pdb\n",
    "import re\n",
    "from tempfile import TemporaryDirectory"
   ]
  },
  {
   "cell_type": "code",
   "execution_count": null,
   "metadata": {
    "collapsed": true
   },
   "outputs": [],
   "source": [
    "import numpy as np"
   ]
  },
  {
   "cell_type": "code",
   "execution_count": null,
   "metadata": {
    "collapsed": true
   },
   "outputs": [],
   "source": [
    "from jwst.associations import (\n",
    "    AssociationRegistry,\n",
    "    generate\n",
    ")\n",
    "from jwst.associations.main import Main"
   ]
  },
  {
   "cell_type": "code",
   "execution_count": null,
   "metadata": {
    "collapsed": true
   },
   "outputs": [],
   "source": [
    "from jwst.associations.tests.helpers import (\n",
    "    combine_pools,\n",
    "    registry_level3_only,\n",
    "    registry_level2_only,\n",
    "    t_path,\n",
    ")"
   ]
  },
  {
   "cell_type": "markdown",
   "metadata": {},
   "source": [
    "# Library"
   ]
  },
  {
   "cell_type": "code",
   "execution_count": null,
   "metadata": {
    "collapsed": true
   },
   "outputs": [],
   "source": [
    "def make_standards(pool_root, main_args=None):\n",
    "    \"\"\"Make the association standards for a pool\"\"\"\n",
    "    pool_path = path.join(\n",
    "        '..',\n",
    "        'data',\n",
    "        pool_root + '.csv'\n",
    "    )\n",
    "    pool = combine_pools(pool_path)\n",
    "    if main_args is None:\n",
    "        main_args = []\n",
    "    with TemporaryDirectory() as tmp_path:\n",
    "        args = main_args + ['-v', '-p', tmp_path]\n",
    "        results = Main(\n",
    "            args,\n",
    "            pool=pool\n",
    "        )\n",
    "        asn_paths = listdir(tmp_path)\n",
    "        for asn_path in asn_paths:\n",
    "            matches = re.match('[^-]+(-.+)', asn_path)\n",
    "            asn_tail = matches.group(1)\n",
    "            from_path = path.join(tmp_path, asn_path)\n",
    "            to_path = path.join('..', 'data', pool_root + asn_tail)\n",
    "            %mv $from_path $to_path\n"
   ]
  },
  {
   "cell_type": "markdown",
   "metadata": {},
   "source": [
    "# Main"
   ]
  },
  {
   "cell_type": "markdown",
   "metadata": {},
   "source": [
    "## Level 2 Associations"
   ]
  },
  {
   "cell_type": "code",
   "execution_count": null,
   "metadata": {
    "collapsed": true
   },
   "outputs": [],
   "source": [
    "lv2_only_args = [\n",
    "    '-r',\n",
    "    '../../lib/rules_level2b.py',\n",
    "    '--ignore-default',\n",
    "]"
   ]
  },
  {
   "cell_type": "code",
   "execution_count": null,
   "metadata": {
    "collapsed": true
   },
   "outputs": [],
   "source": [
    "lv3_only_args = [\n",
    "    '-r',\n",
    "    '../../lib/rules_level3.py',\n",
    "    '--ignore-default',\n",
    "]"
   ]
  },
  {
   "cell_type": "code",
   "execution_count": null,
   "metadata": {
    "collapsed": true
   },
   "outputs": [],
   "source": [
    "def_args = []"
   ]
  },
  {
   "cell_type": "markdown",
   "metadata": {},
   "source": [
    "### pool_002_image_miri"
   ]
  },
  {
   "cell_type": "code",
   "execution_count": null,
   "metadata": {
    "collapsed": true,
    "scrolled": false
   },
   "outputs": [],
   "source": [
    "make_me = MAKE_ALL\n",
    "if make_me:\n",
    "    make_standards('pool_002_image_miri', main_args=lv3_only_args)"
   ]
  },
  {
   "cell_type": "markdown",
   "metadata": {},
   "source": [
    "### pool_009_spec_miri_lv2bkg"
   ]
  },
  {
   "cell_type": "code",
   "execution_count": null,
   "metadata": {
    "collapsed": true,
    "scrolled": true
   },
   "outputs": [],
   "source": [
    "make_me = MAKE_ALL\n",
    "if make_me:\n",
    "    make_standards('pool_009_spec_miri_lv2bkg', main_args=lv2_only_args)"
   ]
  },
  {
   "cell_type": "markdown",
   "metadata": {},
   "source": [
    "### pool_010_spec_nirspec_lv2bkg"
   ]
  },
  {
   "cell_type": "code",
   "execution_count": null,
   "metadata": {
    "collapsed": true,
    "scrolled": true
   },
   "outputs": [],
   "source": [
    "make_me = MAKE_ALL\n",
    "if make_me:\n",
    "    make_standards('pool_010_spec_nirspec_lv2bkg', main_args=lv2_only_args)"
   ]
  },
  {
   "cell_type": "markdown",
   "metadata": {},
   "source": [
    "### pool_011_spec_miri_lv2bkg_lrs"
   ]
  },
  {
   "cell_type": "code",
   "execution_count": null,
   "metadata": {
    "collapsed": true,
    "scrolled": true
   },
   "outputs": [],
   "source": [
    "make_me = MAKE_ALL\n",
    "if make_me:\n",
    "    make_standards('pool_011_spec_miri_lv2bkg_lrs', main_args=lv2_only_args)"
   ]
  },
  {
   "cell_type": "markdown",
   "metadata": {},
   "source": [
    "### pool_013_coron_nircam"
   ]
  },
  {
   "cell_type": "code",
   "execution_count": null,
   "metadata": {
    "collapsed": true,
    "scrolled": true
   },
   "outputs": [],
   "source": [
    "make_me = MAKE_ALL\n",
    "if make_me:\n",
    "    make_standards('pool_013_coron_nircam', main_args=def_args)"
   ]
  },
  {
   "cell_type": "markdown",
   "metadata": {},
   "source": [
    "### pool_014_ami_niriss"
   ]
  },
  {
   "cell_type": "code",
   "execution_count": null,
   "metadata": {
    "collapsed": true,
    "scrolled": true
   },
   "outputs": [],
   "source": [
    "make_me = MAKE_ALL\n",
    "if make_me:\n",
    "    make_standards('pool_014_ami_niriss', main_args=def_args)"
   ]
  },
  {
   "cell_type": "markdown",
   "metadata": {},
   "source": [
    "### pool_015_spec_nirspec_lv2bkg_reversed"
   ]
  },
  {
   "cell_type": "code",
   "execution_count": null,
   "metadata": {
    "collapsed": true,
    "scrolled": true
   },
   "outputs": [],
   "source": [
    "make_me = MAKE_ALL\n",
    "if make_me:\n",
    "    make_standards('pool_015_spec_nirspec_lv2bkg_reversed', main_args=lv2_only_args)"
   ]
  },
  {
   "cell_type": "markdown",
   "metadata": {},
   "source": [
    "### pool_016_spec_nirspec_lv2bkg_double"
   ]
  },
  {
   "cell_type": "code",
   "execution_count": null,
   "metadata": {
    "collapsed": true,
    "scrolled": true
   },
   "outputs": [],
   "source": [
    "make_me = MAKE_ALL\n",
    "if make_me:\n",
    "    make_standards('pool_016_spec_nirspec_lv2bkg_double', main_args=lv2_only_args)"
   ]
  },
  {
   "cell_type": "markdown",
   "metadata": {},
   "source": [
    "### pool_017_spec_nirspec_lv2imprint"
   ]
  },
  {
   "cell_type": "code",
   "execution_count": null,
   "metadata": {
    "collapsed": true,
    "scrolled": true
   },
   "outputs": [],
   "source": [
    "make_me = MAKE_ALL\n",
    "if make_me:\n",
    "    make_standards('pool_017_spec_nirspec_lv2imprint', main_args=lv2_only_args)"
   ]
  },
  {
   "cell_type": "markdown",
   "metadata": {},
   "source": [
    "### pool_018_all_exptypes"
   ]
  },
  {
   "cell_type": "code",
   "execution_count": null,
   "metadata": {
    "collapsed": true,
    "scrolled": true
   },
   "outputs": [],
   "source": [
    "make_me = MAKE_ALL\n",
    "if make_me:\n",
    "    make_standards('pool_018_all_exptypes', main_args=lv2_only_args)"
   ]
  },
  {
   "cell_type": "markdown",
   "metadata": {},
   "source": [
    "### pool_019_niriss_wfss"
   ]
  },
  {
   "cell_type": "code",
   "execution_count": null,
   "metadata": {
    "collapsed": true,
    "scrolled": true
   },
   "outputs": [],
   "source": [
    "make_me = MAKE_ALL\n",
    "if make_me:\n",
    "    make_standards('pool_019_niriss_wfss', main_args=def_args)"
   ]
  },
  {
   "cell_type": "code",
   "execution_count": null,
   "metadata": {
    "collapsed": true
   },
   "outputs": [],
   "source": []
  }
 ],
 "metadata": {
  "anaconda-cloud": {},
  "kernelspec": {
   "display_name": "Python 3",
   "language": "python",
   "name": "python3"
  },
  "language_info": {
   "codemirror_mode": {
    "name": "ipython",
    "version": 3
   },
   "file_extension": ".py",
   "mimetype": "text/x-python",
   "name": "python",
   "nbconvert_exporter": "python",
   "pygments_lexer": "ipython3",
   "version": "3.6.2"
  }
 },
 "nbformat": 4,
 "nbformat_minor": 2
}

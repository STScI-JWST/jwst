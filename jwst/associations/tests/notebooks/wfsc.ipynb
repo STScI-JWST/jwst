{
 "cells": [
  {
   "cell_type": "markdown",
   "metadata": {},
   "source": [
    "# Abstract"
   ]
  },
  {
   "cell_type": "code",
   "execution_count": 1,
   "metadata": {},
   "outputs": [],
   "source": [
    "# Setup debugging log\n",
    "import logging\n",
    "logger = logging.getLogger('jwst.associations')\n",
    "handler = logging.StreamHandler()\n",
    "logger.addHandler(handler)\n",
    "handler.setLevel(logging.DEBUG)\n",
    "logger.setLevel(logging.DEBUG)"
   ]
  },
  {
   "cell_type": "markdown",
   "metadata": {},
   "source": [
    "# Environment"
   ]
  },
  {
   "cell_type": "code",
   "execution_count": 2,
   "metadata": {},
   "outputs": [],
   "source": [
    "import numpy as np\n",
    "import pdb"
   ]
  },
  {
   "cell_type": "code",
   "execution_count": 3,
   "metadata": {},
   "outputs": [],
   "source": [
    "from jwst.associations import (\n",
    "    AssociationRegistry,\n",
    "    generate\n",
    ")\n",
    "from jwst.associations.main import Main"
   ]
  },
  {
   "cell_type": "code",
   "execution_count": 4,
   "metadata": {},
   "outputs": [],
   "source": [
    "from jwst.associations.tests.helpers import (\n",
    "    combine_pools,\n",
    "    registry_level3_only,\n",
    "    registry_level2_only,\n",
    "    t_path,\n",
    ")"
   ]
  },
  {
   "cell_type": "markdown",
   "metadata": {},
   "source": [
    "# Library"
   ]
  },
  {
   "cell_type": "markdown",
   "metadata": {},
   "source": [
    "# Main"
   ]
  },
  {
   "cell_type": "markdown",
   "metadata": {},
   "source": [
    "## Pool"
   ]
  },
  {
   "cell_type": "code",
   "execution_count": 5,
   "metadata": {},
   "outputs": [],
   "source": [
    "pool = combine_pools('../data/pool_004_wfs.csv')"
   ]
  },
  {
   "cell_type": "code",
   "execution_count": 26,
   "metadata": {},
   "outputs": [
    {
     "data": {
      "text/html": [
       "&lt;Column name=&apos;visitype&apos; dtype=&apos;str26&apos; length=2&gt;\n",
       "<table>\n",
       "<tr><td>prime_wfsc_sensing_control</td></tr>\n",
       "<tr><td>prime_wfsc_sensing_control</td></tr>\n",
       "</table>"
      ],
      "text/plain": [
       "<Column name='visitype' dtype='str26' length=2>\n",
       "prime_wfsc_sensing_control\n",
       "prime_wfsc_sensing_control"
      ]
     },
     "execution_count": 26,
     "metadata": {},
     "output_type": "execute_result"
    }
   ],
   "source": [
    "pool['visitype']"
   ]
  },
  {
   "cell_type": "markdown",
   "metadata": {},
   "source": [
    "## Basic generate"
   ]
  },
  {
   "cell_type": "code",
   "execution_count": 15,
   "metadata": {},
   "outputs": [],
   "source": [
    "rules_lv3 = registry_level3_only()"
   ]
  },
  {
   "cell_type": "code",
   "execution_count": 16,
   "metadata": {},
   "outputs": [
    {
     "data": {
      "text/plain": [
       "{'Asn_Coron': abc.Asn_Coron,\n",
       " 'Asn_Image': abc.Asn_Image,\n",
       " 'Asn_MIRI_IFU': abc.Asn_MIRI_IFU,\n",
       " 'Asn_MIRI_LRS_FIXEDSLIT': abc.Asn_MIRI_LRS_FIXEDSLIT,\n",
       " 'Asn_MIRI_LRS_SLITLESS': abc.Asn_MIRI_LRS_SLITLESS,\n",
       " 'Asn_NIS_SO_SLITLESS': abc.Asn_NIS_SO_SLITLESS,\n",
       " 'Asn_NRS_FIXEDSLIT': abc.Asn_NRS_FIXEDSLIT,\n",
       " 'Asn_NRS_IFU': abc.Asn_NRS_IFU,\n",
       " 'Asn_NRS_MSA': abc.Asn_NRS_MSA,\n",
       " 'Asn_WFSCMB': abc.Asn_WFSCMB}"
      ]
     },
     "execution_count": 16,
     "metadata": {},
     "output_type": "execute_result"
    }
   ],
   "source": [
    "rules_lv3"
   ]
  },
  {
   "cell_type": "code",
   "execution_count": 17,
   "metadata": {},
   "outputs": [],
   "source": [
    "names = [name for name in rules_lv3]"
   ]
  },
  {
   "cell_type": "code",
   "execution_count": 18,
   "metadata": {},
   "outputs": [],
   "source": [
    "for name in names:\n",
    "    if name != 'Asn_WFSCMB':\n",
    "        del rules_lv3[name]"
   ]
  },
  {
   "cell_type": "code",
   "execution_count": 19,
   "metadata": {},
   "outputs": [
    {
     "data": {
      "text/plain": [
       "{'Asn_WFSCMB': abc.Asn_WFSCMB}"
      ]
     },
     "execution_count": 19,
     "metadata": {},
     "output_type": "execute_result"
    }
   ],
   "source": [
    "rules_lv3"
   ]
  },
  {
   "cell_type": "code",
   "execution_count": 20,
   "metadata": {},
   "outputs": [],
   "source": [
    "asns = generate(pool, rules_lv3)"
   ]
  },
  {
   "cell_type": "code",
   "execution_count": 21,
   "metadata": {},
   "outputs": [
    {
     "data": {
      "text/plain": [
       "[]"
      ]
     },
     "execution_count": 21,
     "metadata": {},
     "output_type": "execute_result"
    }
   ],
   "source": [
    "asns"
   ]
  },
  {
   "cell_type": "code",
   "execution_count": 28,
   "metadata": {
    "scrolled": false
   },
   "outputs": [
    {
     "name": "stdout",
     "output_type": "stream",
     "text": [
      "> <string>(1)<module>()\n",
      "(Pdb) s\n",
      "--Call--\n",
      "> /Users/eisenham/Documents/ssbdev/jwst/jwst/associations/generate.py(15)generate()\n",
      "-> def generate(pool, rules, version_id=None):\n",
      "(Pdb) b /Users/eisenham/Documents/ssbdev/jwst/jwst/associations/registry.py:155\n",
      "Breakpoint 5 at /Users/eisenham/Documents/ssbdev/jwst/jwst/associations/registry.py:155\n",
      "(Pdb) c\n",
      "> /Users/eisenham/Documents/ssbdev/jwst/jwst/associations/registry.py(155)match()\n",
      "-> process_list.extend(reprocess)\n",
      "(Pdb) reprocess\n",
      "<itertools.chain object at 0x150ea8c7f0>\n",
      "(Pdb) process_list\n",
      "[]\n",
      "(Pdb) n\n",
      "> /Users/eisenham/Documents/ssbdev/jwst/jwst/associations/registry.py(156)match()\n",
      "-> if asn is not None:\n",
      "(Pdb) process_list\n",
      "[]\n",
      "(Pdb) q\n"
     ]
    }
   ],
   "source": [
    "pdb.run(\"generate(pool, rules_lv3)\")"
   ]
  },
  {
   "cell_type": "markdown",
   "metadata": {},
   "source": [
    "## Command line"
   ]
  },
  {
   "cell_type": "code",
   "execution_count": null,
   "metadata": {},
   "outputs": [],
   "source": [
    "def_args = [\n",
    "    '--dry-run',\n",
    "    '-D',\n",
    "    '-r',\n",
    "    '../../lib/rules_level3.py',\n",
    "    '--ignore-default',\n",
    "]"
   ]
  },
  {
   "cell_type": "code",
   "execution_count": null,
   "metadata": {
    "scrolled": false
   },
   "outputs": [],
   "source": [
    "results = Main(\n",
    "    def_args,\n",
    "    pool=pool\n",
    ")"
   ]
  },
  {
   "cell_type": "code",
   "execution_count": null,
   "metadata": {
    "scrolled": false
   },
   "outputs": [],
   "source": [
    "results.associations"
   ]
  },
  {
   "cell_type": "markdown",
   "metadata": {},
   "source": [
    "## Mega pool"
   ]
  },
  {
   "cell_type": "code",
   "execution_count": null,
   "metadata": {},
   "outputs": [],
   "source": [
    "mega_pool = combine_pools('../data/mega_pool.csv')"
   ]
  },
  {
   "cell_type": "code",
   "execution_count": null,
   "metadata": {},
   "outputs": [],
   "source": [
    "mega_pool[mega_pool['visitype'] == 'prime_wfsc_sensing_control']"
   ]
  },
  {
   "cell_type": "code",
   "execution_count": null,
   "metadata": {},
   "outputs": [],
   "source": [
    "args_c1006 = [\n",
    "    '--dry-run',\n",
    "    '-D',\n",
    "    '-r',\n",
    "    '../../lib/rules_level3.py',\n",
    "    '--ignore-default',\n",
    "    '-i',\n",
    "    'c1006'\n",
    "]"
   ]
  },
  {
   "cell_type": "code",
   "execution_count": null,
   "metadata": {
    "scrolled": true
   },
   "outputs": [],
   "source": [
    "results_mp_c1006 = Main(\n",
    "    args_c1006,\n",
    "    pool=mega_pool\n",
    ")"
   ]
  },
  {
   "cell_type": "code",
   "execution_count": null,
   "metadata": {},
   "outputs": [],
   "source": [
    "results_mp_c1006.associations"
   ]
  },
  {
   "cell_type": "code",
   "execution_count": null,
   "metadata": {
    "scrolled": true
   },
   "outputs": [],
   "source": [
    "# pdb.run('Main(args_c1006, pool=mega_pool)')"
   ]
  },
  {
   "cell_type": "code",
   "execution_count": null,
   "metadata": {},
   "outputs": [],
   "source": []
  }
 ],
 "metadata": {
  "anaconda-cloud": {},
  "kernelspec": {
   "display_name": "Python 3",
   "language": "python",
   "name": "python3"
  },
  "language_info": {
   "codemirror_mode": {
    "name": "ipython",
    "version": 3
   },
   "file_extension": ".py",
   "mimetype": "text/x-python",
   "name": "python",
   "nbconvert_exporter": "python",
   "pygments_lexer": "ipython3",
   "version": "3.6.4"
  }
 },
 "nbformat": 4,
 "nbformat_minor": 2
}

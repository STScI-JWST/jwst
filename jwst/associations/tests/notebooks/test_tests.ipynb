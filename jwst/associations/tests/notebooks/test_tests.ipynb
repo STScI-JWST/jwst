{
 "cells": [
  {
   "cell_type": "markdown",
   "metadata": {},
   "source": [
    "# Abstract"
   ]
  },
  {
   "cell_type": "markdown",
   "metadata": {},
   "source": [
    "Test individual test comparison associations"
   ]
  },
  {
   "cell_type": "markdown",
   "metadata": {},
   "source": [
    "# Environment"
   ]
  },
  {
   "cell_type": "code",
   "execution_count": 1,
   "metadata": {},
   "outputs": [],
   "source": [
    "# Setup debugging log\n",
    "import logging\n",
    "logger = logging.getLogger('jwst.associations')\n",
    "handler = logging.StreamHandler()\n",
    "logger.addHandler(handler)\n",
    "handler.setLevel(logging.DEBUG)\n",
    "#logger.setLevel(logging.DEBUG)"
   ]
  },
  {
   "cell_type": "code",
   "execution_count": 2,
   "metadata": {},
   "outputs": [],
   "source": [
    "from copy import copy\n",
    "import gc\n",
    "from glob import glob\n",
    "from os import (\n",
    "    listdir, \n",
    "    mkdir,\n",
    "    path\n",
    ")\n",
    "import pdb\n",
    "import re\n",
    "import shutil\n",
    "from tempfile import TemporaryDirectory\n",
    "import timeit"
   ]
  },
  {
   "cell_type": "code",
   "execution_count": 3,
   "metadata": {},
   "outputs": [],
   "source": [
    "from IPython.core.debugger import set_trace"
   ]
  },
  {
   "cell_type": "code",
   "execution_count": 4,
   "metadata": {},
   "outputs": [],
   "source": [
    "import numpy as np"
   ]
  },
  {
   "cell_type": "code",
   "execution_count": 5,
   "metadata": {},
   "outputs": [],
   "source": [
    "from jwst.associations import (\n",
    "    AssociationPool,\n",
    "    AssociationRegistry,\n",
    "    generate\n",
    ")\n",
    "from jwst.associations.main import (Main, constrain_on_candidates)\n",
    "from jwst.associations.lib.rules_level3_base import _EMPTY"
   ]
  },
  {
   "cell_type": "code",
   "execution_count": 6,
   "metadata": {},
   "outputs": [],
   "source": [
    "from jwst.associations.tests.helpers import (\n",
    "    combine_pools,\n",
    "    registry_level3_only,\n",
    "    registry_level2_only,\n",
    "    t_path,\n",
    ")"
   ]
  },
  {
   "cell_type": "code",
   "execution_count": 7,
   "metadata": {},
   "outputs": [],
   "source": [
    "from jwst.associations.tests.test_standards import (\n",
    "    DEF_ARGS,\n",
    "    LV2_ONLY_ARGS,\n",
    "    LV3_ONLY_ARGS,\n",
    "    MakePars,\n",
    "    standards\n",
    ")"
   ]
  },
  {
   "cell_type": "code",
   "execution_count": 8,
   "metadata": {},
   "outputs": [],
   "source": [
    "# Folders\n",
    "DATA_DIR = path.join(\n",
    "    '..', 'data'\n",
    ")\n",
    "NEW_ASN_DIR = path.join(\n",
    "    DATA_DIR,\n",
    "    'new_asn_standards'\n",
    ")\n",
    "SDP_DIR = path.join(\n",
    "    '..', 'data', 'sdp'\n",
    ")\n",
    "SDP_POOLS = path.join(\n",
    "    SDP_DIR, 'pools'\n",
    ")\n",
    "SDP_NEW_ASN_DIR = path.join(\n",
    "    SDP_DIR, 'new_asns'\n",
    ")"
   ]
  },
  {
   "cell_type": "markdown",
   "metadata": {},
   "source": [
    "# Library"
   ]
  },
  {
   "cell_type": "code",
   "execution_count": 9,
   "metadata": {},
   "outputs": [],
   "source": [
    "def make_standards(pool_root, \n",
    "                   main_args=None,\n",
    "                   source=DATA_DIR,\n",
    "                   outdir=NEW_ASN_DIR\n",
    "                  ):\n",
    "    \"\"\"Make the association standards for a pool\"\"\"\n",
    "    pool_path = path.join(\n",
    "        source,\n",
    "        pool_root + '.csv'\n",
    "    )\n",
    "    pool = combine_pools(pool_path)\n",
    "    if main_args is None:\n",
    "        main_args = []\n",
    "    with TemporaryDirectory() as tmp_path:\n",
    "        args = main_args + ['-v', '-p', tmp_path]\n",
    "        results = Main(\n",
    "            args,\n",
    "            pool=pool\n",
    "        )\n",
    "        asn_paths = listdir(tmp_path)\n",
    "        for asn_path in asn_paths:\n",
    "            matches = re.match('[^-]+(-.+)', asn_path)\n",
    "            asn_tail = matches.group(1)\n",
    "            from_path = path.join(tmp_path, asn_path)\n",
    "            to_path = path.join(outdir, pool_root + asn_tail)\n",
    "            shutil.move(from_path, to_path)\n",
    "        pool.write(path.join(outdir, pool_root + '_std.csv'))"
   ]
  },
  {
   "cell_type": "code",
   "execution_count": 10,
   "metadata": {},
   "outputs": [],
   "source": [
    "def find_test(pool_root, test_pars):\n",
    "    \"\"\"Find a particular test setup\n",
    "    \n",
    "    Parameters\n",
    "    ----------\n",
    "    pool_root: str\n",
    "        The pool to find in the test parameters.\n",
    "        \n",
    "    test_pars: [MakePars[,...]]\n",
    "        The list of `MakePars` to search\n",
    "        \n",
    "    Returns\n",
    "    -------\n",
    "    MakePars\n",
    "        The `MakePars` corresponding to the desired\n",
    "        pool root.\n",
    "        \n",
    "    Raises\n",
    "    ------\n",
    "    KeyError if `pool_root` is not found\n",
    "    \"\"\"\n",
    "    for test_par in test_pars:\n",
    "        if test_par.pool_root == pool_root:\n",
    "            return test_par\n",
    "    raise Keyerror('Pool {} not found in test pars'.format(pool_root))"
   ]
  },
  {
   "cell_type": "code",
   "execution_count": 11,
   "metadata": {},
   "outputs": [],
   "source": [
    "def debug_generate(*args, **kwargs):\n",
    "    \"\"\"Set tracing for generate\"\"\"\n",
    "    set_trace()\n",
    "    asns = generate(*args, **kwargs)"
   ]
  },
  {
   "cell_type": "markdown",
   "metadata": {},
   "source": [
    "# Main"
   ]
  },
  {
   "cell_type": "markdown",
   "metadata": {},
   "source": [
    "## Setup constraints"
   ]
  },
  {
   "cell_type": "code",
   "execution_count": 12,
   "metadata": {},
   "outputs": [
    {
     "data": {
      "text/plain": [
       "DMSAttrConstraint({'sources': ['asn_candidate'], 'evaluate': True, 'force_reprocess': False, 'force_undefined': False, 'force_unique': True, 'invalid_values': (None, '', 'NULL', 'Null', 'null', '--', 'N', 'n', 'F', 'f'), 'only_on_match': False, 'onlyif': <function AttrConstraint.__init__.<locals>.<lambda> at 0x1507179e18>, 'required': True, 'value': None, 'name': 'asn_candidate', 'is_acid': True, 'found_values': set()})"
      ]
     },
     "execution_count": 12,
     "metadata": {},
     "output_type": "execute_result"
    }
   ],
   "source": [
    "constrain_all_candidates = constrain_on_candidates(None)\n",
    "constrain_all_candidates"
   ]
  },
  {
   "cell_type": "code",
   "execution_count": 13,
   "metadata": {},
   "outputs": [],
   "source": [
    "# constrain_all_candidates.invalid_values = _EMPTY"
   ]
  },
  {
   "cell_type": "code",
   "execution_count": 14,
   "metadata": {},
   "outputs": [],
   "source": [
    "# constrain_all_candidates"
   ]
  },
  {
   "cell_type": "code",
   "execution_count": 15,
   "metadata": {},
   "outputs": [],
   "source": [
    "reg_lv2_all_candidates = registry_level2_only(global_constraints=constrain_all_candidates)\n",
    "reg_lv3_all_candidates = registry_level3_only(global_constraints=constrain_all_candidates)"
   ]
  },
  {
   "cell_type": "code",
   "execution_count": 16,
   "metadata": {},
   "outputs": [
    {
     "data": {
      "text/plain": [
       "{'Asn_ACQ_Reprocess': abc.Asn_ACQ_Reprocess,\n",
       " 'Asn_AMI': abc.Asn_AMI,\n",
       " 'Asn_Coron': abc.Asn_Coron,\n",
       " 'Asn_Image': abc.Asn_Image,\n",
       " 'Asn_MIRI_IFU': abc.Asn_MIRI_IFU,\n",
       " 'Asn_MIRI_LRS_FIXEDSLIT': abc.Asn_MIRI_LRS_FIXEDSLIT,\n",
       " 'Asn_MIRI_LRS_SLITLESS': abc.Asn_MIRI_LRS_SLITLESS,\n",
       " 'Asn_NIS_SO_SLITLESS': abc.Asn_NIS_SO_SLITLESS,\n",
       " 'Asn_NRS_FIXEDSLIT': abc.Asn_NRS_FIXEDSLIT,\n",
       " 'Asn_NRS_IFU': abc.Asn_NRS_IFU,\n",
       " 'Asn_NRS_MSA': abc.Asn_NRS_MSA,\n",
       " 'Asn_TSO_EXPTYPE': abc.Asn_TSO_EXPTYPE,\n",
       " 'Asn_TSO_Flag': abc.Asn_TSO_Flag,\n",
       " 'Asn_WFSCMB': abc.Asn_WFSCMB,\n",
       " 'Asn_WFSS': abc.Asn_WFSS}"
      ]
     },
     "execution_count": 16,
     "metadata": {},
     "output_type": "execute_result"
    }
   ],
   "source": [
    "reg_lv3_all_candidates"
   ]
  },
  {
   "cell_type": "markdown",
   "metadata": {},
   "source": [
    "## pool_013_coron_nircam"
   ]
  },
  {
   "cell_type": "code",
   "execution_count": 17,
   "metadata": {},
   "outputs": [],
   "source": [
    "%rm $NEW_ASN_DIR/pool_013*"
   ]
  },
  {
   "cell_type": "code",
   "execution_count": 18,
   "metadata": {},
   "outputs": [
    {
     "name": "stdout",
     "output_type": "stream",
     "text": [
      "Command-line arguments: ['-v', '-p', '/var/folders/z7/hcykr_n546s_5033t9rj5d200000zj/T/tmp0nb5vxpl']\n",
      "Reading rules.\n",
      "Generating associations.\n"
     ]
    },
    {
     "name": "stderr",
     "output_type": "stream",
     "text": [
      "201801261609:WARNING:jwst.associations.lib.rules_level2_base.rename_to_level2a:Item FILENAME=\"set acid\" is not a Level 1b name. Cannot transform to Level 2a.\n",
      "201801261609:WARNING:jwst.associations.lib.rules_level2_base.rename_to_level2a:Item FILENAME=\"set acid\" is not a Level 1b name. Cannot transform to Level 2a.\n",
      "201801261609:WARNING:jwst.associations.lib.rules_level2_base.rename_to_level2a:Item FILENAME=\"set acid\" is not a Level 1b name. Cannot transform to Level 2a.\n",
      "201801261609:WARNING:jwst.associations.lib.rules_level2_base.rename_to_level2a:Item FILENAME=\"set acid\" is not a Level 1b name. Cannot transform to Level 2a.\n",
      "201801261609:WARNING:jwst.associations.lib.rules_level2_base.rename_to_level2a:Item FILENAME=\"set acid\" is not a Level 1b name. Cannot transform to Level 2a.\n",
      "201801261609:WARNING:jwst.associations.lib.rules_level2_base.rename_to_level2a:Item FILENAME=\"set acid\" is not a Level 1b name. Cannot transform to Level 2a.\n",
      "201801261609:WARNING:jwst.associations.lib.rules_level2_base.rename_to_level2a:Item FILENAME=\"set acid\" is not a Level 1b name. Cannot transform to Level 2a.\n",
      "201801261609:WARNING:jwst.associations.lib.rules_level3_base.rename_to_level2:Item FILENAME=\"set acid\" is not a Level 1b name. Cannot transform to Level 2b.\n",
      "201801261609:WARNING:jwst.associations.lib.rules_level3_base.rename_to_level2:Item FILENAME=\"set acid\" is not a Level 1b name. Cannot transform to Level 2b.\n",
      "201801261609:WARNING:jwst.associations.lib.rules_level3_base.rename_to_level2:Item FILENAME=\"set acid\" is not a Level 1b name. Cannot transform to Level 2b.\n",
      "201801261609:WARNING:jwst.associations.lib.rules_level3_base.rename_to_level2:Item FILENAME=\"set acid\" is not a Level 1b name. Cannot transform to Level 2b.\n",
      "201801261609:WARNING:jwst.associations.lib.rules_level3_base.rename_to_level2:Item FILENAME=\"set acid\" is not a Level 1b name. Cannot transform to Level 2b.\n",
      "201801261609:WARNING:jwst.associations.lib.rules_level3_base.rename_to_level2:Item FILENAME=\"set acid\" is not a Level 1b name. Cannot transform to Level 2b.\n",
      "201801261609:WARNING:jwst.associations.lib.rules_level3_base.rename_to_level2:Item FILENAME=\"set acid\" is not a Level 1b name. Cannot transform to Level 2b.\n",
      "201801261609:WARNING:jwst.associations.lib.rules_level3_base.rename_to_level2:Item FILENAME=\"set acid\" is not a Level 1b name. Cannot transform to Level 2b.\n",
      "201801261609:WARNING:jwst.associations.lib.rules_level3_base.rename_to_level2:Item FILENAME=\"set acid\" is not a Level 1b name. Cannot transform to Level 2b.\n",
      "201801261609:WARNING:jwst.associations.lib.rules_level3_base.rename_to_level2:Item FILENAME=\"set acid\" is not a Level 1b name. Cannot transform to Level 2b.\n",
      "201801261609:WARNING:jwst.associations.lib.rules_level3_base.rename_to_level2:Item FILENAME=\"set acid\" is not a Level 1b name. Cannot transform to Level 2b.\n",
      "201801261609:WARNING:jwst.associations.lib.rules_level3_base.rename_to_level2:Item FILENAME=\"set acid\" is not a Level 1b name. Cannot transform to Level 2b.\n",
      "201801261609:WARNING:jwst.associations.lib.rules_level3_base.rename_to_level2:Item FILENAME=\"set acid\" is not a Level 1b name. Cannot transform to Level 2b.\n",
      "201801261609:WARNING:jwst.associations.lib.rules_level3_base.rename_to_level2:Item FILENAME=\"set acid\" is not a Level 1b name. Cannot transform to Level 2b.\n",
      "201801261609:WARNING:jwst.associations.lib.rules_level3_base.rename_to_level2:Item FILENAME=\"set acid\" is not a Level 1b name. Cannot transform to Level 2b.\n",
      "201801261609:WARNING:jwst.associations.lib.rules_level2_base.rename_to_level2a:Item FILENAME=\"set acid\" is not a Level 1b name. Cannot transform to Level 2a.\n",
      "201801261609:WARNING:jwst.associations.lib.rules_level2_base.rename_to_level2a:Item FILENAME=\"set acid\" is not a Level 1b name. Cannot transform to Level 2a.\n",
      "201801261609:WARNING:jwst.associations.lib.rules_level2_base.rename_to_level2a:Item FILENAME=\"set acid\" is not a Level 1b name. Cannot transform to Level 2a.\n",
      "201801261609:WARNING:jwst.associations.lib.rules_level2_base.rename_to_level2a:Item FILENAME=\"set acid\" is not a Level 1b name. Cannot transform to Level 2a.\n",
      "201801261609:WARNING:jwst.associations.lib.rules_level2_base.rename_to_level2a:Item FILENAME=\"set acid\" is not a Level 1b name. Cannot transform to Level 2a.\n",
      "201801261609:WARNING:jwst.associations.lib.rules_level2_base.rename_to_level2a:Item FILENAME=\"set acid\" is not a Level 1b name. Cannot transform to Level 2a.\n",
      "201801261609:WARNING:jwst.associations.lib.rules_level2_base.rename_to_level2a:Item FILENAME=\"set acid\" is not a Level 1b name. Cannot transform to Level 2a.\n",
      "201801261609:WARNING:jwst.associations.lib.rules_level3_base.rename_to_level2:Item FILENAME=\"set acid\" is not a Level 1b name. Cannot transform to Level 2b.\n",
      "201801261609:WARNING:jwst.associations.lib.rules_level3_base.rename_to_level2:Item FILENAME=\"set acid\" is not a Level 1b name. Cannot transform to Level 2b.\n",
      "201801261609:WARNING:jwst.associations.lib.rules_level3_base.rename_to_level2:Item FILENAME=\"set acid\" is not a Level 1b name. Cannot transform to Level 2b.\n",
      "201801261609:WARNING:jwst.associations.lib.rules_level3_base.rename_to_level2:Item FILENAME=\"set acid\" is not a Level 1b name. Cannot transform to Level 2b.\n",
      "201801261609:WARNING:jwst.associations.lib.rules_level3_base.rename_to_level2:Item FILENAME=\"set acid\" is not a Level 1b name. Cannot transform to Level 2b.\n",
      "201801261609:WARNING:jwst.associations.lib.rules_level3_base.rename_to_level2:Item FILENAME=\"set acid\" is not a Level 1b name. Cannot transform to Level 2b.\n",
      "201801261609:WARNING:jwst.associations.lib.rules_level3_base.rename_to_level2:Item FILENAME=\"set acid\" is not a Level 1b name. Cannot transform to Level 2b.\n",
      "201801261609:WARNING:jwst.associations.lib.rules_level3_base.rename_to_level2:Item FILENAME=\"set acid\" is not a Level 1b name. Cannot transform to Level 2b.\n",
      "201801261609:WARNING:jwst.associations.lib.rules_level3_base.rename_to_level2:Item FILENAME=\"set acid\" is not a Level 1b name. Cannot transform to Level 2b.\n",
      "201801261609:WARNING:jwst.associations.lib.rules_level3_base.rename_to_level2:Item FILENAME=\"set acid\" is not a Level 1b name. Cannot transform to Level 2b.\n",
      "201801261609:WARNING:jwst.associations.lib.rules_level3_base.rename_to_level2:Item FILENAME=\"set acid\" is not a Level 1b name. Cannot transform to Level 2b.\n",
      "201801261609:WARNING:jwst.associations.lib.rules_level3_base.rename_to_level2:Item FILENAME=\"set acid\" is not a Level 1b name. Cannot transform to Level 2b.\n",
      "201801261609:WARNING:jwst.associations.lib.rules_level3_base.rename_to_level2:Item FILENAME=\"set acid\" is not a Level 1b name. Cannot transform to Level 2b.\n",
      "201801261609:WARNING:jwst.associations.lib.rules_level3_base.rename_to_level2:Item FILENAME=\"set acid\" is not a Level 1b name. Cannot transform to Level 2b.\n",
      "201801261609:WARNING:jwst.associations.lib.rules_level3_base.rename_to_level2:Item FILENAME=\"set acid\" is not a Level 1b name. Cannot transform to Level 2b.\n",
      "201801261609:WARNING:jwst.associations.lib.rules_level2_base.rename_to_level2a:Item FILENAME=\"set acid\" is not a Level 1b name. Cannot transform to Level 2a.\n",
      "201801261609:WARNING:jwst.associations.lib.rules_level2_base.rename_to_level2a:Item FILENAME=\"set acid\" is not a Level 1b name. Cannot transform to Level 2a.\n",
      "201801261609:WARNING:jwst.associations.lib.rules_level2_base.rename_to_level2a:Item FILENAME=\"set acid\" is not a Level 1b name. Cannot transform to Level 2a.\n",
      "201801261609:WARNING:jwst.associations.lib.rules_level2_base.rename_to_level2a:Item FILENAME=\"set acid\" is not a Level 1b name. Cannot transform to Level 2a.\n",
      "201801261609:WARNING:jwst.associations.lib.rules_level2_base.rename_to_level2a:Item FILENAME=\"set acid\" is not a Level 1b name. Cannot transform to Level 2a.\n",
      "201801261609:WARNING:jwst.associations.lib.rules_level3_base.rename_to_level2:Item FILENAME=\"set acid\" is not a Level 1b name. Cannot transform to Level 2b.\n",
      "201801261609:WARNING:jwst.associations.lib.rules_level2_base.rename_to_level2a:Item FILENAME=\"set acid\" is not a Level 1b name. Cannot transform to Level 2a.\n",
      "201801261609:WARNING:jwst.associations.lib.rules_level2_base.rename_to_level2a:Item FILENAME=\"set acid\" is not a Level 1b name. Cannot transform to Level 2a.\n",
      "201801261609:WARNING:jwst.associations.lib.rules_level2_base.rename_to_level2a:Item FILENAME=\"set acid\" is not a Level 1b name. Cannot transform to Level 2a.\n"
     ]
    },
    {
     "name": "stderr",
     "output_type": "stream",
     "text": [
      "201801261609:WARNING:jwst.associations.lib.rules_level2_base.rename_to_level2a:Item FILENAME=\"set acid\" is not a Level 1b name. Cannot transform to Level 2a.\n",
      "201801261609:WARNING:jwst.associations.lib.rules_level2_base.rename_to_level2a:Item FILENAME=\"set acid\" is not a Level 1b name. Cannot transform to Level 2a.\n",
      "201801261609:WARNING:jwst.associations.lib.rules_level3_base.rename_to_level2:Item FILENAME=\"set acid\" is not a Level 1b name. Cannot transform to Level 2b.\n",
      "201801261609:WARNING:jwst.associations.lib.rules_level2_base.rename_to_level2a:Item FILENAME=\"set acid\" is not a Level 1b name. Cannot transform to Level 2a.\n",
      "201801261609:WARNING:jwst.associations.lib.rules_level2_base.rename_to_level2a:Item FILENAME=\"set acid\" is not a Level 1b name. Cannot transform to Level 2a.\n",
      "201801261609:WARNING:jwst.associations.lib.rules_level2_base.rename_to_level2a:Item FILENAME=\"set acid\" is not a Level 1b name. Cannot transform to Level 2a.\n",
      "201801261609:WARNING:jwst.associations.lib.rules_level2_base.rename_to_level2a:Item FILENAME=\"set acid\" is not a Level 1b name. Cannot transform to Level 2a.\n",
      "201801261609:WARNING:jwst.associations.lib.rules_level2_base.rename_to_level2a:Item FILENAME=\"set acid\" is not a Level 1b name. Cannot transform to Level 2a.\n",
      "201801261609:WARNING:jwst.associations.lib.rules_level2_base.rename_to_level2a:Item FILENAME=\"set acid\" is not a Level 1b name. Cannot transform to Level 2a.\n",
      "201801261609:WARNING:jwst.associations.lib.rules_level2_base.rename_to_level2a:Item FILENAME=\"set acid\" is not a Level 1b name. Cannot transform to Level 2a.\n",
      "201801261609:WARNING:jwst.associations.lib.rules_level2_base.rename_to_level2a:Item FILENAME=\"set acid\" is not a Level 1b name. Cannot transform to Level 2a.\n",
      "201801261609:WARNING:jwst.associations.lib.rules_level2_base.rename_to_level2a:Item FILENAME=\"set acid\" is not a Level 1b name. Cannot transform to Level 2a.\n",
      "201801261609:WARNING:jwst.associations.lib.rules_level2_base.rename_to_level2a:Item FILENAME=\"set acid\" is not a Level 1b name. Cannot transform to Level 2a.\n",
      "201801261609:WARNING:jwst.associations.lib.rules_level2_base.rename_to_level2a:Item FILENAME=\"set acid\" is not a Level 1b name. Cannot transform to Level 2a.\n",
      "201801261609:WARNING:jwst.associations.lib.rules_level2_base.rename_to_level2a:Item FILENAME=\"set acid\" is not a Level 1b name. Cannot transform to Level 2a.\n",
      "201801261609:WARNING:jwst.associations.lib.rules_level2_base.rename_to_level2a:Item FILENAME=\"set acid\" is not a Level 1b name. Cannot transform to Level 2a.\n",
      "201801261609:WARNING:jwst.associations.lib.rules_level2_base.rename_to_level2a:Item FILENAME=\"set acid\" is not a Level 1b name. Cannot transform to Level 2a.\n",
      "201801261609:WARNING:jwst.associations.lib.rules_level2_base.rename_to_level2a:Item FILENAME=\"set acid\" is not a Level 1b name. Cannot transform to Level 2a.\n",
      "201801261609:WARNING:jwst.associations.lib.rules_level2_base.rename_to_level2a:Item FILENAME=\"set acid\" is not a Level 1b name. Cannot transform to Level 2a.\n",
      "201801261609:WARNING:jwst.associations.lib.rules_level2_base.rename_to_level2a:Item FILENAME=\"set acid\" is not a Level 1b name. Cannot transform to Level 2a.\n",
      "201801261609:WARNING:jwst.associations.lib.rules_level2_base.rename_to_level2a:Item FILENAME=\"set acid\" is not a Level 1b name. Cannot transform to Level 2a.\n",
      "201801261609:WARNING:jwst.associations.lib.rules_level2_base.rename_to_level2a:Item FILENAME=\"set acid\" is not a Level 1b name. Cannot transform to Level 2a.\n",
      "201801261609:WARNING:jwst.associations.lib.rules_level2_base.rename_to_level2a:Item FILENAME=\"set acid\" is not a Level 1b name. Cannot transform to Level 2a.\n",
      "201801261609:WARNING:jwst.associations.lib.rules_level2_base.rename_to_level2a:Item FILENAME=\"set acid\" is not a Level 1b name. Cannot transform to Level 2a.\n",
      "201801261609:WARNING:jwst.associations.lib.rules_level2_base.rename_to_level2a:Item FILENAME=\"set acid\" is not a Level 1b name. Cannot transform to Level 2a.\n",
      "201801261609:WARNING:jwst.associations.lib.rules_level2_base.rename_to_level2a:Item FILENAME=\"set acid\" is not a Level 1b name. Cannot transform to Level 2a.\n",
      "201801261609:WARNING:jwst.associations.lib.rules_level2_base.rename_to_level2a:Item FILENAME=\"set acid\" is not a Level 1b name. Cannot transform to Level 2a.\n",
      "201801261609:WARNING:jwst.associations.lib.rules_level2_base.rename_to_level2a:Item FILENAME=\"set acid\" is not a Level 1b name. Cannot transform to Level 2a.\n",
      "201801261609:WARNING:jwst.associations.lib.rules_level2_base.rename_to_level2a:Item FILENAME=\"set acid\" is not a Level 1b name. Cannot transform to Level 2a.\n",
      "201801261609:WARNING:jwst.associations.lib.rules_level2_base.rename_to_level2a:Item FILENAME=\"set acid\" is not a Level 1b name. Cannot transform to Level 2a.\n",
      "201801261609:WARNING:jwst.associations.lib.rules_level2_base.rename_to_level2a:Item FILENAME=\"set acid\" is not a Level 1b name. Cannot transform to Level 2a.\n",
      "201801261609:WARNING:jwst.associations.lib.rules_level2_base.rename_to_level2a:Item FILENAME=\"set acid\" is not a Level 1b name. Cannot transform to Level 2a.\n",
      "201801261609:WARNING:jwst.associations.lib.rules_level2_base.rename_to_level2a:Item FILENAME=\"set acid\" is not a Level 1b name. Cannot transform to Level 2a.\n",
      "201801261609:WARNING:jwst.associations.lib.rules_level3_base.rename_to_level2:Item FILENAME=\"set acid\" is not a Level 1b name. Cannot transform to Level 2b.\n",
      "201801261609:WARNING:jwst.associations.lib.rules_level2_base.rename_to_level2a:Item FILENAME=\"set acid\" is not a Level 1b name. Cannot transform to Level 2a.\n",
      "201801261609:WARNING:jwst.associations.lib.rules_level2_base.rename_to_level2a:Item FILENAME=\"set acid\" is not a Level 1b name. Cannot transform to Level 2a.\n",
      "201801261609:WARNING:jwst.associations.lib.rules_level2_base.rename_to_level2a:Item FILENAME=\"set acid\" is not a Level 1b name. Cannot transform to Level 2a.\n",
      "201801261609:WARNING:jwst.associations.lib.rules_level2_base.rename_to_level2a:Item FILENAME=\"set acid\" is not a Level 1b name. Cannot transform to Level 2a.\n",
      "201801261609:WARNING:jwst.associations.lib.rules_level2_base.rename_to_level2a:Item FILENAME=\"set acid\" is not a Level 1b name. Cannot transform to Level 2a.\n",
      "201801261609:WARNING:jwst.associations.lib.rules_level2_base.rename_to_level2a:Item FILENAME=\"set acid\" is not a Level 1b name. Cannot transform to Level 2a.\n",
      "201801261609:WARNING:jwst.associations.lib.rules_level2_base.rename_to_level2a:Item FILENAME=\"set acid\" is not a Level 1b name. Cannot transform to Level 2a.\n",
      "201801261609:WARNING:jwst.associations.lib.rules_level2_base.rename_to_level2a:Item FILENAME=\"set acid\" is not a Level 1b name. Cannot transform to Level 2a.\n",
      "201801261609:WARNING:jwst.associations.lib.rules_level3_base.rename_to_level2:Item FILENAME=\"set acid\" is not a Level 1b name. Cannot transform to Level 2b.\n",
      "201801261609:WARNING:jwst.associations.lib.rules_level2_base.rename_to_level2a:Item FILENAME=\"set acid\" is not a Level 1b name. Cannot transform to Level 2a.\n",
      "201801261609:WARNING:jwst.associations.lib.rules_level2_base.rename_to_level2a:Item FILENAME=\"set acid\" is not a Level 1b name. Cannot transform to Level 2a.\n",
      "201801261609:WARNING:jwst.associations.lib.rules_level2_base.rename_to_level2a:Item FILENAME=\"set acid\" is not a Level 1b name. Cannot transform to Level 2a.\n",
      "201801261609:WARNING:jwst.associations.lib.rules_level2_base.rename_to_level2a:Item FILENAME=\"set acid\" is not a Level 1b name. Cannot transform to Level 2a.\n",
      "201801261609:WARNING:jwst.associations.lib.rules_level2_base.rename_to_level2a:Item FILENAME=\"set acid\" is not a Level 1b name. Cannot transform to Level 2a.\n",
      "201801261609:WARNING:jwst.associations.lib.rules_level2_base.rename_to_level2a:Item FILENAME=\"set acid\" is not a Level 1b name. Cannot transform to Level 2a.\n",
      "201801261609:WARNING:jwst.associations.lib.rules_level2_base.rename_to_level2a:Item FILENAME=\"set acid\" is not a Level 1b name. Cannot transform to Level 2a.\n",
      "201801261609:WARNING:jwst.associations.lib.rules_level2_base.rename_to_level2a:Item FILENAME=\"set acid\" is not a Level 1b name. Cannot transform to Level 2a.\n",
      "201801261609:WARNING:jwst.associations.lib.rules_level3_base.rename_to_level2:Item FILENAME=\"set acid\" is not a Level 1b name. Cannot transform to Level 2b.\n"
     ]
    },
    {
     "name": "stderr",
     "output_type": "stream",
     "text": [
      "201801261609:WARNING:jwst.associations.lib.rules_level2_base.rename_to_level2a:Item FILENAME=\"set acid\" is not a Level 1b name. Cannot transform to Level 2a.\n",
      "201801261609:WARNING:jwst.associations.lib.rules_level2_base.rename_to_level2a:Item FILENAME=\"set acid\" is not a Level 1b name. Cannot transform to Level 2a.\n",
      "201801261609:WARNING:jwst.associations.lib.rules_level2_base.rename_to_level2a:Item FILENAME=\"set acid\" is not a Level 1b name. Cannot transform to Level 2a.\n",
      "201801261609:WARNING:jwst.associations.lib.rules_level2_base.rename_to_level2a:Item FILENAME=\"set acid\" is not a Level 1b name. Cannot transform to Level 2a.\n",
      "201801261609:WARNING:jwst.associations.lib.rules_level2_base.rename_to_level2a:Item FILENAME=\"set acid\" is not a Level 1b name. Cannot transform to Level 2a.\n",
      "201801261609:WARNING:jwst.associations.lib.rules_level2_base.rename_to_level2a:Item FILENAME=\"set acid\" is not a Level 1b name. Cannot transform to Level 2a.\n",
      "201801261609:WARNING:jwst.associations.lib.rules_level2_base.rename_to_level2a:Item FILENAME=\"set acid\" is not a Level 1b name. Cannot transform to Level 2a.\n",
      "201801261609:WARNING:jwst.associations.lib.rules_level2_base.rename_to_level2a:Item FILENAME=\"set acid\" is not a Level 1b name. Cannot transform to Level 2a.\n",
      "201801261609:WARNING:jwst.associations.lib.rules_level3_base.rename_to_level2:Item FILENAME=\"set acid\" is not a Level 1b name. Cannot transform to Level 2b.\n",
      "201801261609:WARNING:jwst.associations.lib.rules_level2_base.rename_to_level2a:Item FILENAME=\"set acid\" is not a Level 1b name. Cannot transform to Level 2a.\n",
      "201801261609:WARNING:jwst.associations.lib.rules_level2_base.rename_to_level2a:Item FILENAME=\"set acid\" is not a Level 1b name. Cannot transform to Level 2a.\n",
      "201801261609:WARNING:jwst.associations.lib.rules_level2_base.rename_to_level2a:Item FILENAME=\"set acid\" is not a Level 1b name. Cannot transform to Level 2a.\n",
      "201801261609:WARNING:jwst.associations.lib.rules_level2_base.rename_to_level2a:Item FILENAME=\"set acid\" is not a Level 1b name. Cannot transform to Level 2a.\n",
      "201801261609:WARNING:jwst.associations.lib.rules_level2_base.rename_to_level2a:Item FILENAME=\"set acid\" is not a Level 1b name. Cannot transform to Level 2a.\n",
      "201801261609:WARNING:jwst.associations.lib.rules_level2_base.rename_to_level2a:Item FILENAME=\"set acid\" is not a Level 1b name. Cannot transform to Level 2a.\n",
      "201801261609:WARNING:jwst.associations.lib.rules_level2_base.rename_to_level2a:Item FILENAME=\"set acid\" is not a Level 1b name. Cannot transform to Level 2a.\n",
      "201801261609:WARNING:jwst.associations.lib.rules_level2_base.rename_to_level2a:Item FILENAME=\"set acid\" is not a Level 1b name. Cannot transform to Level 2a.\n",
      "201801261609:WARNING:jwst.associations.lib.rules_level2_base.rename_to_level2a:Item FILENAME=\"set acid\" is not a Level 1b name. Cannot transform to Level 2a.\n",
      "201801261609:WARNING:jwst.associations.lib.rules_level2_base.rename_to_level2a:Item FILENAME=\"set acid\" is not a Level 1b name. Cannot transform to Level 2a.\n",
      "201801261609:WARNING:jwst.associations.lib.rules_level2_base.rename_to_level2a:Item FILENAME=\"set acid\" is not a Level 1b name. Cannot transform to Level 2a.\n",
      "201801261609:WARNING:jwst.associations.lib.rules_level3_base.rename_to_level2:Item FILENAME=\"set acid\" is not a Level 1b name. Cannot transform to Level 2b.\n",
      "201801261609:WARNING:jwst.associations.lib.rules_level3_base.rename_to_level2:Item FILENAME=\"set acid\" is not a Level 1b name. Cannot transform to Level 2b.\n",
      "201801261609:WARNING:jwst.associations.lib.rules_level3_base.rename_to_level2:Item FILENAME=\"set acid\" is not a Level 1b name. Cannot transform to Level 2b.\n",
      "201801261609:WARNING:jwst.associations.lib.rules_level3_base.rename_to_level2:Item FILENAME=\"set acid\" is not a Level 1b name. Cannot transform to Level 2b.\n",
      "201801261609:WARNING:jwst.associations.lib.rules_level3_base.rename_to_level2:Item FILENAME=\"set acid\" is not a Level 1b name. Cannot transform to Level 2b.\n",
      "201801261609:WARNING:jwst.associations.lib.rules_level3_base.rename_to_level2:Item FILENAME=\"set acid\" is not a Level 1b name. Cannot transform to Level 2b.\n",
      "201801261609:WARNING:jwst.associations.lib.rules_level3_base.rename_to_level2:Item FILENAME=\"set acid\" is not a Level 1b name. Cannot transform to Level 2b.\n",
      "201801261609:WARNING:jwst.associations.lib.rules_level3_base.rename_to_level2:Item FILENAME=\"set acid\" is not a Level 1b name. Cannot transform to Level 2b.\n",
      "201801261609:WARNING:jwst.associations.lib.rules_level3_base.rename_to_level2:Item FILENAME=\"set acid\" is not a Level 1b name. Cannot transform to Level 2b.\n",
      "201801261609:WARNING:jwst.associations.lib.rules_level3_base.rename_to_level2:Item FILENAME=\"set acid\" is not a Level 1b name. Cannot transform to Level 2b.\n",
      "201801261609:WARNING:jwst.associations.lib.rules_level3_base.rename_to_level2:Item FILENAME=\"set acid\" is not a Level 1b name. Cannot transform to Level 2b.\n",
      "201801261609:WARNING:jwst.associations.lib.rules_level3_base.rename_to_level2:Item FILENAME=\"set acid\" is not a Level 1b name. Cannot transform to Level 2b.\n",
      "201801261609:WARNING:jwst.associations.lib.rules_level3_base.rename_to_level2:Item FILENAME=\"set acid\" is not a Level 1b name. Cannot transform to Level 2b.\n",
      "201801261609:WARNING:jwst.associations.lib.rules_level3_base.rename_to_level2:Item FILENAME=\"set acid\" is not a Level 1b name. Cannot transform to Level 2b.\n",
      "201801261609:WARNING:jwst.associations.lib.rules_level3_base.rename_to_level2:Item FILENAME=\"set acid\" is not a Level 1b name. Cannot transform to Level 2b.\n",
      "201801261609:WARNING:jwst.associations.lib.rules_level2_base.rename_to_level2a:Item FILENAME=\"set acid\" is not a Level 1b name. Cannot transform to Level 2a.\n",
      "201801261609:WARNING:jwst.associations.lib.rules_level2_base.rename_to_level2a:Item FILENAME=\"set acid\" is not a Level 1b name. Cannot transform to Level 2a.\n",
      "201801261609:WARNING:jwst.associations.lib.rules_level2_base.rename_to_level2a:Item FILENAME=\"set acid\" is not a Level 1b name. Cannot transform to Level 2a.\n",
      "201801261609:WARNING:jwst.associations.lib.rules_level2_base.rename_to_level2a:Item FILENAME=\"set acid\" is not a Level 1b name. Cannot transform to Level 2a.\n",
      "201801261609:WARNING:jwst.associations.lib.rules_level2_base.rename_to_level2a:Item FILENAME=\"set acid\" is not a Level 1b name. Cannot transform to Level 2a.\n",
      "201801261609:WARNING:jwst.associations.lib.rules_level2_base.rename_to_level2a:Item FILENAME=\"set acid\" is not a Level 1b name. Cannot transform to Level 2a.\n",
      "201801261609:WARNING:jwst.associations.lib.rules_level2_base.rename_to_level2a:Item FILENAME=\"set acid\" is not a Level 1b name. Cannot transform to Level 2a.\n",
      "201801261609:WARNING:jwst.associations.lib.rules_level3_base.rename_to_level2:Item FILENAME=\"set acid\" is not a Level 1b name. Cannot transform to Level 2b.\n",
      "201801261609:WARNING:jwst.associations.lib.rules_level3_base.rename_to_level2:Item FILENAME=\"set acid\" is not a Level 1b name. Cannot transform to Level 2b.\n",
      "201801261609:WARNING:jwst.associations.lib.rules_level3_base.rename_to_level2:Item FILENAME=\"set acid\" is not a Level 1b name. Cannot transform to Level 2b.\n",
      "201801261609:WARNING:jwst.associations.lib.rules_level3_base.rename_to_level2:Item FILENAME=\"set acid\" is not a Level 1b name. Cannot transform to Level 2b.\n",
      "201801261609:WARNING:jwst.associations.lib.rules_level3_base.rename_to_level2:Item FILENAME=\"set acid\" is not a Level 1b name. Cannot transform to Level 2b.\n",
      "201801261609:WARNING:jwst.associations.lib.rules_level3_base.rename_to_level2:Item FILENAME=\"set acid\" is not a Level 1b name. Cannot transform to Level 2b.\n",
      "201801261609:WARNING:jwst.associations.lib.rules_level3_base.rename_to_level2:Item FILENAME=\"set acid\" is not a Level 1b name. Cannot transform to Level 2b.\n",
      "201801261609:WARNING:jwst.associations.lib.rules_level3_base.rename_to_level2:Item FILENAME=\"set acid\" is not a Level 1b name. Cannot transform to Level 2b.\n",
      "201801261609:WARNING:jwst.associations.lib.rules_level3_base.rename_to_level2:Item FILENAME=\"set acid\" is not a Level 1b name. Cannot transform to Level 2b.\n",
      "201801261609:WARNING:jwst.associations.lib.rules_level3_base.rename_to_level2:Item FILENAME=\"set acid\" is not a Level 1b name. Cannot transform to Level 2b.\n",
      "201801261609:WARNING:jwst.associations.lib.rules_level3_base.rename_to_level2:Item FILENAME=\"set acid\" is not a Level 1b name. Cannot transform to Level 2b.\n"
     ]
    },
    {
     "name": "stderr",
     "output_type": "stream",
     "text": [
      "201801261609:WARNING:jwst.associations.lib.rules_level3_base.rename_to_level2:Item FILENAME=\"set acid\" is not a Level 1b name. Cannot transform to Level 2b.\n",
      "201801261609:WARNING:jwst.associations.lib.rules_level3_base.rename_to_level2:Item FILENAME=\"set acid\" is not a Level 1b name. Cannot transform to Level 2b.\n",
      "201801261609:WARNING:jwst.associations.lib.rules_level3_base.rename_to_level2:Item FILENAME=\"set acid\" is not a Level 1b name. Cannot transform to Level 2b.\n",
      "201801261609:WARNING:jwst.associations.lib.rules_level3_base.rename_to_level2:Item FILENAME=\"set acid\" is not a Level 1b name. Cannot transform to Level 2b.\n"
     ]
    },
    {
     "name": "stdout",
     "output_type": "stream",
     "text": [
      "There where 40 associations and 2 orphaned items found.\n",
      "Associations found are:\n",
      "jw10005-a3001_coron3_001_asn with 1 products\n",
      "Rule=discover_Asn_Coron\n",
      "DMSAttrConstraint({'name': 'program', 'sources': ['program'], 'value': '10005'})\n",
      "DMSAttrConstraint({'name': 'instrument', 'sources': ['instrume'], 'value': 'nircam'})\n",
      "DMSAttrConstraint({'name': 'opt_elem', 'sources': ['filter'], 'value': 'f210m'})\n",
      "DMSAttrConstraint({'name': 'opt_elem2', 'sources': ['pupil'], 'value': 'maskrnd'})\n",
      "DMSAttrConstraint({'name': 'exp_type', 'sources': ['exp_type'], 'value': 'nrc_coron'})\n",
      "DMSAttrConstraint({'name': 'target', 'sources': ['targetid'], 'value': '1'})\n",
      "DMSAttrConstraint({'name': 'obs_num', 'sources': ['obs_num'], 'value': None})\n",
      "DMSAttrConstraint({'name': 'acq_exp', 'sources': ['exp_type'], 'value': 'mir_tacq|nis_taconfirm|nis_tacq|nrc_taconfirm|nrc_tacq|nrs_confirm|nrs_taconfirm|nrs_tacq|nrs_taslit'})\n",
      "DMSAttrConstraint({'name': 'acq_obsnum', 'sources': ['obs_num'], 'value': <function AsnMixin_Science.__init__.<locals>.<lambda> at 0x15076ba8c8>})\n",
      "Products:\n",
      "\tjw10005-a3001_t001_nircam_f210m-maskrnd with 16 members\n",
      "jw10005-a3001_coron3_002_asn with 1 products\n",
      "Rule=discover_Asn_Coron\n",
      "DMSAttrConstraint({'name': 'program', 'sources': ['program'], 'value': '10005'})\n",
      "DMSAttrConstraint({'name': 'instrument', 'sources': ['instrume'], 'value': 'nircam'})\n",
      "DMSAttrConstraint({'name': 'opt_elem', 'sources': ['filter'], 'value': 'f430m'})\n",
      "DMSAttrConstraint({'name': 'opt_elem2', 'sources': ['pupil'], 'value': 'maskrnd'})\n",
      "DMSAttrConstraint({'name': 'exp_type', 'sources': ['exp_type'], 'value': 'nrc_coron'})\n",
      "DMSAttrConstraint({'name': 'target', 'sources': ['targetid'], 'value': '1'})\n",
      "DMSAttrConstraint({'name': 'obs_num', 'sources': ['obs_num'], 'value': None})\n",
      "DMSAttrConstraint({'name': 'acq_exp', 'sources': ['exp_type'], 'value': 'mir_tacq|nis_taconfirm|nis_tacq|nrc_taconfirm|nrc_tacq|nrs_confirm|nrs_taconfirm|nrs_tacq|nrs_taslit'})\n",
      "DMSAttrConstraint({'name': 'acq_obsnum', 'sources': ['obs_num'], 'value': <function AsnMixin_Science.__init__.<locals>.<lambda> at 0x1507a3fc80>})\n",
      "Products:\n",
      "\tjw10005-a3001_t001_nircam_f430m-maskrnd with 16 members\n",
      "jw10005-a3001_coron3_003_asn with 1 products\n",
      "Rule=discover_Asn_Coron\n",
      "DMSAttrConstraint({'name': 'program', 'sources': ['program'], 'value': '10005'})\n",
      "DMSAttrConstraint({'name': 'instrument', 'sources': ['instrume'], 'value': 'nircam'})\n",
      "DMSAttrConstraint({'name': 'opt_elem', 'sources': ['filter'], 'value': 'f210m'})\n",
      "DMSAttrConstraint({'name': 'opt_elem2', 'sources': ['pupil'], 'value': 'maskrnd'})\n",
      "DMSAttrConstraint({'name': 'exp_type', 'sources': ['exp_type'], 'value': 'nrc_coron'})\n",
      "DMSAttrConstraint({'name': 'target', 'sources': ['targetid'], 'value': '3'})\n",
      "DMSAttrConstraint({'name': 'obs_num', 'sources': ['obs_num'], 'value': None})\n",
      "DMSAttrConstraint({'name': 'acq_exp', 'sources': ['exp_type'], 'value': 'mir_tacq|nis_taconfirm|nis_tacq|nrc_taconfirm|nrc_tacq|nrs_confirm|nrs_taconfirm|nrs_tacq|nrs_taslit'})\n",
      "DMSAttrConstraint({'name': 'acq_obsnum', 'sources': ['obs_num'], 'value': <function AsnMixin_Science.__init__.<locals>.<lambda> at 0x15085f6ae8>})\n",
      "Products:\n",
      "\tjw10005-a3001_t003_nircam_f210m-maskrnd with 16 members\n",
      "jw10005-a3001_coron3_004_asn with 1 products\n",
      "Rule=discover_Asn_Coron\n",
      "DMSAttrConstraint({'name': 'program', 'sources': ['program'], 'value': '10005'})\n",
      "DMSAttrConstraint({'name': 'instrument', 'sources': ['instrume'], 'value': 'nircam'})\n",
      "DMSAttrConstraint({'name': 'opt_elem', 'sources': ['filter'], 'value': 'f430m'})\n",
      "DMSAttrConstraint({'name': 'opt_elem2', 'sources': ['pupil'], 'value': 'maskrnd'})\n",
      "DMSAttrConstraint({'name': 'exp_type', 'sources': ['exp_type'], 'value': 'nrc_coron'})\n",
      "DMSAttrConstraint({'name': 'target', 'sources': ['targetid'], 'value': '3'})\n",
      "DMSAttrConstraint({'name': 'obs_num', 'sources': ['obs_num'], 'value': None})\n",
      "DMSAttrConstraint({'name': 'acq_exp', 'sources': ['exp_type'], 'value': 'mir_tacq|nis_taconfirm|nis_tacq|nrc_taconfirm|nrc_tacq|nrs_confirm|nrs_taconfirm|nrs_tacq|nrs_taslit'})\n",
      "DMSAttrConstraint({'name': 'acq_obsnum', 'sources': ['obs_num'], 'value': <function AsnMixin_Science.__init__.<locals>.<lambda> at 0x150897b488>})\n",
      "Products:\n",
      "\tjw10005-a3001_t003_nircam_f430m-maskrnd with 16 members\n",
      "jw10005-a3001_coron3_005_asn with 1 products\n",
      "Rule=discover_Asn_Coron\n",
      "DMSAttrConstraint({'name': 'program', 'sources': ['program'], 'value': '10005'})\n",
      "DMSAttrConstraint({'name': 'instrument', 'sources': ['instrume'], 'value': 'nircam'})\n",
      "DMSAttrConstraint({'name': 'opt_elem', 'sources': ['filter'], 'value': 'f210m'})\n",
      "DMSAttrConstraint({'name': 'opt_elem2', 'sources': ['pupil'], 'value': 'maskrnd'})\n",
      "DMSAttrConstraint({'name': 'exp_type', 'sources': ['exp_type'], 'value': 'nrc_coron'})\n",
      "DMSAttrConstraint({'name': 'target', 'sources': ['targetid'], 'value': '4'})\n",
      "DMSAttrConstraint({'name': 'obs_num', 'sources': ['obs_num'], 'value': None})\n",
      "DMSAttrConstraint({'name': 'acq_exp', 'sources': ['exp_type'], 'value': 'mir_tacq|nis_taconfirm|nis_tacq|nrc_taconfirm|nrc_tacq|nrs_confirm|nrs_taconfirm|nrs_tacq|nrs_taslit'})\n",
      "DMSAttrConstraint({'name': 'acq_obsnum', 'sources': ['obs_num'], 'value': <function AsnMixin_Science.__init__.<locals>.<lambda> at 0x1508c20bf8>})\n",
      "Products:\n",
      "\tjw10005-a3001_t004_nircam_f210m-maskrnd with 16 members\n",
      "jw10005-a3001_coron3_006_asn with 1 products\n",
      "Rule=discover_Asn_Coron\n",
      "DMSAttrConstraint({'name': 'program', 'sources': ['program'], 'value': '10005'})\n",
      "DMSAttrConstraint({'name': 'instrument', 'sources': ['instrume'], 'value': 'nircam'})\n",
      "DMSAttrConstraint({'name': 'opt_elem', 'sources': ['filter'], 'value': 'f430m'})\n",
      "DMSAttrConstraint({'name': 'opt_elem2', 'sources': ['pupil'], 'value': 'maskrnd'})\n",
      "DMSAttrConstraint({'name': 'exp_type', 'sources': ['exp_type'], 'value': 'nrc_coron'})\n",
      "DMSAttrConstraint({'name': 'target', 'sources': ['targetid'], 'value': '4'})\n",
      "DMSAttrConstraint({'name': 'obs_num', 'sources': ['obs_num'], 'value': None})\n",
      "DMSAttrConstraint({'name': 'acq_exp', 'sources': ['exp_type'], 'value': 'mir_tacq|nis_taconfirm|nis_tacq|nrc_taconfirm|nrc_tacq|nrs_confirm|nrs_taconfirm|nrs_tacq|nrs_taslit'})\n",
      "DMSAttrConstraint({'name': 'acq_obsnum', 'sources': ['obs_num'], 'value': <function AsnMixin_Science.__init__.<locals>.<lambda> at 0x1509033510>})\n",
      "Products:\n",
      "\tjw10005-a3001_t004_nircam_f430m-maskrnd with 16 members\n",
      "jw10005-c1000_coron3_001_asn with 1 products\n",
      "Rule=candidate_Asn_Coron\n",
      "DMSAttrConstraint({'name': 'program', 'sources': ['program'], 'value': '10005'})\n",
      "DMSAttrConstraint({'name': 'instrument', 'sources': ['instrume'], 'value': 'nircam'})\n",
      "DMSAttrConstraint({'name': 'opt_elem', 'sources': ['filter'], 'value': 'f210m'})\n",
      "DMSAttrConstraint({'name': 'opt_elem2', 'sources': ['pupil'], 'value': 'maskrnd'})\n",
      "DMSAttrConstraint({'name': 'exp_type', 'sources': ['exp_type'], 'value': 'nrc_coron'})\n",
      "DMSAttrConstraint({'name': 'target', 'sources': ['targetid'], 'value': '1'})\n",
      "DMSAttrConstraint({'name': 'obs_num', 'sources': ['obs_num'], 'value': None})\n",
      "DMSAttrConstraint({'name': 'acq_exp', 'sources': ['exp_type'], 'value': 'mir_tacq|nis_taconfirm|nis_tacq|nrc_taconfirm|nrc_tacq|nrs_confirm|nrs_taconfirm|nrs_tacq|nrs_taslit'})\n",
      "DMSAttrConstraint({'name': 'acq_obsnum', 'sources': ['obs_num'], 'value': <function AsnMixin_Science.__init__.<locals>.<lambda> at 0x150922ff28>})\n",
      "DMSAttrConstraint({'name': 'asn_candidate', 'sources': ['asn_candidate'], 'value': \"\\\\(\\\\'c1000\\\\'\\\\,\\\\ \\\\'group\\\\'\\\\)\"})\n",
      "Products:\n",
      "\tjw10005-c1000_t001_nircam_f210m-maskrnd with 12 members\n",
      "jw10005-c1004_coron3_001_asn with 1 products\n",
      "Rule=candidate_Asn_Coron\n",
      "DMSAttrConstraint({'name': 'program', 'sources': ['program'], 'value': '10005'})\n",
      "DMSAttrConstraint({'name': 'instrument', 'sources': ['instrume'], 'value': 'nircam'})\n",
      "DMSAttrConstraint({'name': 'opt_elem', 'sources': ['filter'], 'value': 'f210m'})\n",
      "DMSAttrConstraint({'name': 'opt_elem2', 'sources': ['pupil'], 'value': 'maskrnd'})\n",
      "DMSAttrConstraint({'name': 'exp_type', 'sources': ['exp_type'], 'value': 'nrc_coron'})\n",
      "DMSAttrConstraint({'name': 'target', 'sources': ['targetid'], 'value': '1'})\n",
      "DMSAttrConstraint({'name': 'obs_num', 'sources': ['obs_num'], 'value': None})\n",
      "DMSAttrConstraint({'name': 'acq_exp', 'sources': ['exp_type'], 'value': 'mir_tacq|nis_taconfirm|nis_tacq|nrc_taconfirm|nrc_tacq|nrs_confirm|nrs_taconfirm|nrs_tacq|nrs_taslit'})\n",
      "DMSAttrConstraint({'name': 'acq_obsnum', 'sources': ['obs_num'], 'value': <function AsnMixin_Science.__init__.<locals>.<lambda> at 0x150926ebf8>})\n",
      "DMSAttrConstraint({'name': 'asn_candidate', 'sources': ['asn_candidate'], 'value': \"\\\\(\\\\'c1004\\\\'\\\\,\\\\ \\\\'coronagraphy\\\\'\\\\)\"})\n",
      "Products:\n",
      "\tjw10005-c1004_t001_nircam_f210m-maskrnd with 8 members\n",
      "jw10005-c1006_coron3_001_asn with 1 products\n",
      "Rule=candidate_Asn_Coron\n",
      "DMSAttrConstraint({'name': 'program', 'sources': ['program'], 'value': '10005'})\n",
      "DMSAttrConstraint({'name': 'instrument', 'sources': ['instrume'], 'value': 'nircam'})\n",
      "DMSAttrConstraint({'name': 'opt_elem', 'sources': ['filter'], 'value': 'f210m'})\n",
      "DMSAttrConstraint({'name': 'opt_elem2', 'sources': ['pupil'], 'value': 'maskrnd'})\n",
      "DMSAttrConstraint({'name': 'exp_type', 'sources': ['exp_type'], 'value': 'nrc_coron'})\n",
      "DMSAttrConstraint({'name': 'target', 'sources': ['targetid'], 'value': '1'})\n",
      "DMSAttrConstraint({'name': 'obs_num', 'sources': ['obs_num'], 'value': None})\n",
      "DMSAttrConstraint({'name': 'acq_exp', 'sources': ['exp_type'], 'value': 'mir_tacq|nis_taconfirm|nis_tacq|nrc_taconfirm|nrc_tacq|nrs_confirm|nrs_taconfirm|nrs_tacq|nrs_taslit'})\n",
      "DMSAttrConstraint({'name': 'acq_obsnum', 'sources': ['obs_num'], 'value': <function AsnMixin_Science.__init__.<locals>.<lambda> at 0x1509290400>})\n",
      "DMSAttrConstraint({'name': 'asn_candidate', 'sources': ['asn_candidate'], 'value': \"\\\\(\\\\'c1006\\\\'\\\\,\\\\ \\\\'coronagraphy\\\\'\\\\)\"})\n",
      "Products:\n",
      "\tjw10005-c1006_t001_nircam_f210m-maskrnd with 8 members\n",
      "jw10005-c1001_coron3_001_asn with 1 products\n",
      "Rule=candidate_Asn_Coron\n",
      "DMSAttrConstraint({'name': 'program', 'sources': ['program'], 'value': '10005'})\n",
      "DMSAttrConstraint({'name': 'instrument', 'sources': ['instrume'], 'value': 'nircam'})\n",
      "DMSAttrConstraint({'name': 'opt_elem', 'sources': ['filter'], 'value': 'f430m'})\n",
      "DMSAttrConstraint({'name': 'opt_elem2', 'sources': ['pupil'], 'value': 'maskrnd'})\n",
      "DMSAttrConstraint({'name': 'exp_type', 'sources': ['exp_type'], 'value': 'nrc_coron'})\n",
      "DMSAttrConstraint({'name': 'target', 'sources': ['targetid'], 'value': '1'})\n",
      "DMSAttrConstraint({'name': 'obs_num', 'sources': ['obs_num'], 'value': None})\n",
      "DMSAttrConstraint({'name': 'acq_exp', 'sources': ['exp_type'], 'value': 'mir_tacq|nis_taconfirm|nis_tacq|nrc_taconfirm|nrc_tacq|nrs_confirm|nrs_taconfirm|nrs_tacq|nrs_taslit'})\n",
      "DMSAttrConstraint({'name': 'acq_obsnum', 'sources': ['obs_num'], 'value': <function AsnMixin_Science.__init__.<locals>.<lambda> at 0x150920b9d8>})\n",
      "DMSAttrConstraint({'name': 'asn_candidate', 'sources': ['asn_candidate'], 'value': \"\\\\(\\\\'c1001\\\\'\\\\,\\\\ \\\\'group\\\\'\\\\)\"})\n",
      "Products:\n",
      "\tjw10005-c1001_t001_nircam_f430m-maskrnd with 12 members\n",
      "jw10005-c1005_coron3_001_asn with 1 products\n",
      "Rule=candidate_Asn_Coron\n",
      "DMSAttrConstraint({'name': 'program', 'sources': ['program'], 'value': '10005'})\n",
      "DMSAttrConstraint({'name': 'instrument', 'sources': ['instrume'], 'value': 'nircam'})\n",
      "DMSAttrConstraint({'name': 'opt_elem', 'sources': ['filter'], 'value': 'f430m'})\n",
      "DMSAttrConstraint({'name': 'opt_elem2', 'sources': ['pupil'], 'value': 'maskrnd'})\n",
      "DMSAttrConstraint({'name': 'exp_type', 'sources': ['exp_type'], 'value': 'nrc_coron'})\n",
      "DMSAttrConstraint({'name': 'target', 'sources': ['targetid'], 'value': '1'})\n",
      "DMSAttrConstraint({'name': 'obs_num', 'sources': ['obs_num'], 'value': None})\n",
      "DMSAttrConstraint({'name': 'acq_exp', 'sources': ['exp_type'], 'value': 'mir_tacq|nis_taconfirm|nis_tacq|nrc_taconfirm|nrc_tacq|nrs_confirm|nrs_taconfirm|nrs_tacq|nrs_taslit'})\n",
      "DMSAttrConstraint({'name': 'acq_obsnum', 'sources': ['obs_num'], 'value': <function AsnMixin_Science.__init__.<locals>.<lambda> at 0x15092ef8c8>})\n",
      "DMSAttrConstraint({'name': 'asn_candidate', 'sources': ['asn_candidate'], 'value': \"\\\\(\\\\'c1005\\\\'\\\\,\\\\ \\\\'coronagraphy\\\\'\\\\)\"})\n",
      "Products:\n",
      "\tjw10005-c1005_t001_nircam_f430m-maskrnd with 8 members\n",
      "jw10005-c1007_coron3_001_asn with 1 products\n",
      "Rule=candidate_Asn_Coron\n",
      "DMSAttrConstraint({'name': 'program', 'sources': ['program'], 'value': '10005'})\n",
      "DMSAttrConstraint({'name': 'instrument', 'sources': ['instrume'], 'value': 'nircam'})\n",
      "DMSAttrConstraint({'name': 'opt_elem', 'sources': ['filter'], 'value': 'f430m'})\n",
      "DMSAttrConstraint({'name': 'opt_elem2', 'sources': ['pupil'], 'value': 'maskrnd'})\n",
      "DMSAttrConstraint({'name': 'exp_type', 'sources': ['exp_type'], 'value': 'nrc_coron'})\n",
      "DMSAttrConstraint({'name': 'target', 'sources': ['targetid'], 'value': '1'})\n",
      "DMSAttrConstraint({'name': 'obs_num', 'sources': ['obs_num'], 'value': None})\n",
      "DMSAttrConstraint({'name': 'acq_exp', 'sources': ['exp_type'], 'value': 'mir_tacq|nis_taconfirm|nis_tacq|nrc_taconfirm|nrc_tacq|nrs_confirm|nrs_taconfirm|nrs_tacq|nrs_taslit'})\n",
      "DMSAttrConstraint({'name': 'acq_obsnum', 'sources': ['obs_num'], 'value': <function AsnMixin_Science.__init__.<locals>.<lambda> at 0x15090ddb70>})\n",
      "DMSAttrConstraint({'name': 'asn_candidate', 'sources': ['asn_candidate'], 'value': \"\\\\(\\\\'c1007\\\\'\\\\,\\\\ \\\\'coronagraphy\\\\'\\\\)\"})\n",
      "Products:\n",
      "\tjw10005-c1007_t001_nircam_f430m-maskrnd with 8 members\n",
      "jw10005-c1010_coron3_001_asn with 1 products\n",
      "Rule=candidate_Asn_Coron\n",
      "DMSAttrConstraint({'name': 'program', 'sources': ['program'], 'value': '10005'})\n",
      "DMSAttrConstraint({'name': 'instrument', 'sources': ['instrume'], 'value': 'nircam'})\n",
      "DMSAttrConstraint({'name': 'opt_elem', 'sources': ['filter'], 'value': 'f210m'})\n",
      "DMSAttrConstraint({'name': 'opt_elem2', 'sources': ['pupil'], 'value': 'maskrnd'})\n",
      "DMSAttrConstraint({'name': 'exp_type', 'sources': ['exp_type'], 'value': 'nrc_coron'})\n",
      "DMSAttrConstraint({'name': 'target', 'sources': ['targetid'], 'value': '3'})\n",
      "DMSAttrConstraint({'name': 'obs_num', 'sources': ['obs_num'], 'value': None})\n",
      "DMSAttrConstraint({'name': 'acq_exp', 'sources': ['exp_type'], 'value': 'mir_tacq|nis_taconfirm|nis_tacq|nrc_taconfirm|nrc_tacq|nrs_confirm|nrs_taconfirm|nrs_tacq|nrs_taslit'})\n",
      "DMSAttrConstraint({'name': 'acq_obsnum', 'sources': ['obs_num'], 'value': <function AsnMixin_Science.__init__.<locals>.<lambda> at 0x15094539d8>})\n",
      "DMSAttrConstraint({'name': 'asn_candidate', 'sources': ['asn_candidate'], 'value': \"\\\\(\\\\'c1010\\\\'\\\\,\\\\ \\\\'group\\\\'\\\\)\"})\n",
      "Products:\n",
      "\tjw10005-c1010_t003_nircam_f210m-maskrnd with 12 members\n",
      "jw10005-c1016_coron3_001_asn with 1 products\n",
      "Rule=candidate_Asn_Coron\n",
      "DMSAttrConstraint({'name': 'program', 'sources': ['program'], 'value': '10005'})\n",
      "DMSAttrConstraint({'name': 'instrument', 'sources': ['instrume'], 'value': 'nircam'})\n",
      "DMSAttrConstraint({'name': 'opt_elem', 'sources': ['filter'], 'value': 'f210m'})\n",
      "DMSAttrConstraint({'name': 'opt_elem2', 'sources': ['pupil'], 'value': 'maskrnd'})\n",
      "DMSAttrConstraint({'name': 'exp_type', 'sources': ['exp_type'], 'value': 'nrc_coron'})\n",
      "DMSAttrConstraint({'name': 'target', 'sources': ['targetid'], 'value': '3'})\n",
      "DMSAttrConstraint({'name': 'obs_num', 'sources': ['obs_num'], 'value': None})\n",
      "DMSAttrConstraint({'name': 'acq_exp', 'sources': ['exp_type'], 'value': 'mir_tacq|nis_taconfirm|nis_tacq|nrc_taconfirm|nrc_tacq|nrs_confirm|nrs_taconfirm|nrs_tacq|nrs_taslit'})\n",
      "DMSAttrConstraint({'name': 'acq_obsnum', 'sources': ['obs_num'], 'value': <function AsnMixin_Science.__init__.<locals>.<lambda> at 0x1509488f28>})\n",
      "DMSAttrConstraint({'name': 'asn_candidate', 'sources': ['asn_candidate'], 'value': \"\\\\(\\\\'c1016\\\\'\\\\,\\\\ \\\\'coronagraphy\\\\'\\\\)\"})\n",
      "Products:\n",
      "\tjw10005-c1016_t003_nircam_f210m-maskrnd with 8 members\n",
      "jw10005-c1014_coron3_001_asn with 1 products\n",
      "Rule=candidate_Asn_Coron\n",
      "DMSAttrConstraint({'name': 'program', 'sources': ['program'], 'value': '10005'})\n",
      "DMSAttrConstraint({'name': 'instrument', 'sources': ['instrume'], 'value': 'nircam'})\n",
      "DMSAttrConstraint({'name': 'opt_elem', 'sources': ['filter'], 'value': 'f210m'})\n",
      "DMSAttrConstraint({'name': 'opt_elem2', 'sources': ['pupil'], 'value': 'maskrnd'})\n",
      "DMSAttrConstraint({'name': 'exp_type', 'sources': ['exp_type'], 'value': 'nrc_coron'})\n",
      "DMSAttrConstraint({'name': 'target', 'sources': ['targetid'], 'value': '3'})\n",
      "DMSAttrConstraint({'name': 'obs_num', 'sources': ['obs_num'], 'value': None})\n",
      "DMSAttrConstraint({'name': 'acq_exp', 'sources': ['exp_type'], 'value': 'mir_tacq|nis_taconfirm|nis_tacq|nrc_taconfirm|nrc_tacq|nrs_confirm|nrs_taconfirm|nrs_tacq|nrs_taslit'})\n",
      "DMSAttrConstraint({'name': 'acq_obsnum', 'sources': ['obs_num'], 'value': <function AsnMixin_Science.__init__.<locals>.<lambda> at 0x1509500840>})\n",
      "DMSAttrConstraint({'name': 'asn_candidate', 'sources': ['asn_candidate'], 'value': \"\\\\(\\\\'c1014\\\\'\\\\,\\\\ \\\\'coronagraphy\\\\'\\\\)\"})\n",
      "Products:\n",
      "\tjw10005-c1014_t003_nircam_f210m-maskrnd with 8 members\n",
      "jw10005-c1011_coron3_001_asn with 1 products\n",
      "Rule=candidate_Asn_Coron\n",
      "DMSAttrConstraint({'name': 'program', 'sources': ['program'], 'value': '10005'})\n",
      "DMSAttrConstraint({'name': 'instrument', 'sources': ['instrume'], 'value': 'nircam'})\n",
      "DMSAttrConstraint({'name': 'opt_elem', 'sources': ['filter'], 'value': 'f430m'})\n",
      "DMSAttrConstraint({'name': 'opt_elem2', 'sources': ['pupil'], 'value': 'maskrnd'})\n",
      "DMSAttrConstraint({'name': 'exp_type', 'sources': ['exp_type'], 'value': 'nrc_coron'})\n",
      "DMSAttrConstraint({'name': 'target', 'sources': ['targetid'], 'value': '3'})\n",
      "DMSAttrConstraint({'name': 'obs_num', 'sources': ['obs_num'], 'value': None})\n",
      "DMSAttrConstraint({'name': 'acq_exp', 'sources': ['exp_type'], 'value': 'mir_tacq|nis_taconfirm|nis_tacq|nrc_taconfirm|nrc_tacq|nrs_confirm|nrs_taconfirm|nrs_tacq|nrs_taslit'})\n",
      "DMSAttrConstraint({'name': 'acq_obsnum', 'sources': ['obs_num'], 'value': <function AsnMixin_Science.__init__.<locals>.<lambda> at 0x150950bd08>})\n",
      "DMSAttrConstraint({'name': 'asn_candidate', 'sources': ['asn_candidate'], 'value': \"\\\\(\\\\'c1011\\\\'\\\\,\\\\ \\\\'group\\\\'\\\\)\"})\n",
      "Products:\n",
      "\tjw10005-c1011_t003_nircam_f430m-maskrnd with 12 members\n",
      "jw10005-c1017_coron3_001_asn with 1 products\n",
      "Rule=candidate_Asn_Coron\n",
      "DMSAttrConstraint({'name': 'program', 'sources': ['program'], 'value': '10005'})\n",
      "DMSAttrConstraint({'name': 'instrument', 'sources': ['instrume'], 'value': 'nircam'})\n",
      "DMSAttrConstraint({'name': 'opt_elem', 'sources': ['filter'], 'value': 'f430m'})\n",
      "DMSAttrConstraint({'name': 'opt_elem2', 'sources': ['pupil'], 'value': 'maskrnd'})\n",
      "DMSAttrConstraint({'name': 'exp_type', 'sources': ['exp_type'], 'value': 'nrc_coron'})\n",
      "DMSAttrConstraint({'name': 'target', 'sources': ['targetid'], 'value': '3'})\n",
      "DMSAttrConstraint({'name': 'obs_num', 'sources': ['obs_num'], 'value': None})\n",
      "DMSAttrConstraint({'name': 'acq_exp', 'sources': ['exp_type'], 'value': 'mir_tacq|nis_taconfirm|nis_tacq|nrc_taconfirm|nrc_tacq|nrs_confirm|nrs_taconfirm|nrs_tacq|nrs_taslit'})\n",
      "DMSAttrConstraint({'name': 'acq_obsnum', 'sources': ['obs_num'], 'value': <function AsnMixin_Science.__init__.<locals>.<lambda> at 0x1509453c80>})\n",
      "DMSAttrConstraint({'name': 'asn_candidate', 'sources': ['asn_candidate'], 'value': \"\\\\(\\\\'c1017\\\\'\\\\,\\\\ \\\\'coronagraphy\\\\'\\\\)\"})\n",
      "Products:\n",
      "\tjw10005-c1017_t003_nircam_f430m-maskrnd with 8 members\n",
      "jw10005-c1015_coron3_001_asn with 1 products\n",
      "Rule=candidate_Asn_Coron\n",
      "DMSAttrConstraint({'name': 'program', 'sources': ['program'], 'value': '10005'})\n",
      "DMSAttrConstraint({'name': 'instrument', 'sources': ['instrume'], 'value': 'nircam'})\n",
      "DMSAttrConstraint({'name': 'opt_elem', 'sources': ['filter'], 'value': 'f430m'})\n",
      "DMSAttrConstraint({'name': 'opt_elem2', 'sources': ['pupil'], 'value': 'maskrnd'})\n",
      "DMSAttrConstraint({'name': 'exp_type', 'sources': ['exp_type'], 'value': 'nrc_coron'})\n",
      "DMSAttrConstraint({'name': 'target', 'sources': ['targetid'], 'value': '3'})\n",
      "DMSAttrConstraint({'name': 'obs_num', 'sources': ['obs_num'], 'value': None})\n",
      "DMSAttrConstraint({'name': 'acq_exp', 'sources': ['exp_type'], 'value': 'mir_tacq|nis_taconfirm|nis_tacq|nrc_taconfirm|nrc_tacq|nrs_confirm|nrs_taconfirm|nrs_tacq|nrs_taslit'})\n",
      "DMSAttrConstraint({'name': 'acq_obsnum', 'sources': ['obs_num'], 'value': <function AsnMixin_Science.__init__.<locals>.<lambda> at 0x150957d598>})\n",
      "DMSAttrConstraint({'name': 'asn_candidate', 'sources': ['asn_candidate'], 'value': \"\\\\(\\\\'c1015\\\\'\\\\,\\\\ \\\\'coronagraphy\\\\'\\\\)\"})\n",
      "Products:\n",
      "\tjw10005-c1015_t003_nircam_f430m-maskrnd with 8 members\n",
      "jw10005-c1020_coron3_001_asn with 1 products\n",
      "Rule=candidate_Asn_Coron\n",
      "DMSAttrConstraint({'name': 'program', 'sources': ['program'], 'value': '10005'})\n",
      "DMSAttrConstraint({'name': 'instrument', 'sources': ['instrume'], 'value': 'nircam'})\n",
      "DMSAttrConstraint({'name': 'opt_elem', 'sources': ['filter'], 'value': 'f210m'})\n",
      "DMSAttrConstraint({'name': 'opt_elem2', 'sources': ['pupil'], 'value': 'maskrnd'})\n",
      "DMSAttrConstraint({'name': 'exp_type', 'sources': ['exp_type'], 'value': 'nrc_coron'})\n",
      "DMSAttrConstraint({'name': 'target', 'sources': ['targetid'], 'value': '4'})\n",
      "DMSAttrConstraint({'name': 'obs_num', 'sources': ['obs_num'], 'value': None})\n",
      "DMSAttrConstraint({'name': 'acq_exp', 'sources': ['exp_type'], 'value': 'mir_tacq|nis_taconfirm|nis_tacq|nrc_taconfirm|nrc_tacq|nrs_confirm|nrs_taconfirm|nrs_tacq|nrs_taslit'})\n",
      "DMSAttrConstraint({'name': 'acq_obsnum', 'sources': ['obs_num'], 'value': <function AsnMixin_Science.__init__.<locals>.<lambda> at 0x150954d9d8>})\n",
      "DMSAttrConstraint({'name': 'asn_candidate', 'sources': ['asn_candidate'], 'value': \"\\\\(\\\\'c1020\\\\'\\\\,\\\\ \\\\'group\\\\'\\\\)\"})\n",
      "Products:\n",
      "\tjw10005-c1020_t004_nircam_f210m-maskrnd with 12 members\n",
      "jw10005-c1026_coron3_001_asn with 1 products\n",
      "Rule=candidate_Asn_Coron\n",
      "DMSAttrConstraint({'name': 'program', 'sources': ['program'], 'value': '10005'})\n",
      "DMSAttrConstraint({'name': 'instrument', 'sources': ['instrume'], 'value': 'nircam'})\n",
      "DMSAttrConstraint({'name': 'opt_elem', 'sources': ['filter'], 'value': 'f210m'})\n",
      "DMSAttrConstraint({'name': 'opt_elem2', 'sources': ['pupil'], 'value': 'maskrnd'})\n",
      "DMSAttrConstraint({'name': 'exp_type', 'sources': ['exp_type'], 'value': 'nrc_coron'})\n",
      "DMSAttrConstraint({'name': 'target', 'sources': ['targetid'], 'value': '4'})\n",
      "DMSAttrConstraint({'name': 'obs_num', 'sources': ['obs_num'], 'value': None})\n",
      "DMSAttrConstraint({'name': 'acq_exp', 'sources': ['exp_type'], 'value': 'mir_tacq|nis_taconfirm|nis_tacq|nrc_taconfirm|nrc_tacq|nrs_confirm|nrs_taconfirm|nrs_tacq|nrs_taslit'})\n",
      "DMSAttrConstraint({'name': 'acq_obsnum', 'sources': ['obs_num'], 'value': <function AsnMixin_Science.__init__.<locals>.<lambda> at 0x15095b81e0>})\n",
      "DMSAttrConstraint({'name': 'asn_candidate', 'sources': ['asn_candidate'], 'value': \"\\\\(\\\\'c1026\\\\'\\\\,\\\\ \\\\'coronagraphy\\\\'\\\\)\"})\n",
      "Products:\n",
      "\tjw10005-c1026_t004_nircam_f210m-maskrnd with 8 members\n",
      "jw10005-c1024_coron3_001_asn with 1 products\n",
      "Rule=candidate_Asn_Coron\n",
      "DMSAttrConstraint({'name': 'program', 'sources': ['program'], 'value': '10005'})\n",
      "DMSAttrConstraint({'name': 'instrument', 'sources': ['instrume'], 'value': 'nircam'})\n",
      "DMSAttrConstraint({'name': 'opt_elem', 'sources': ['filter'], 'value': 'f210m'})\n",
      "DMSAttrConstraint({'name': 'opt_elem2', 'sources': ['pupil'], 'value': 'maskrnd'})\n",
      "DMSAttrConstraint({'name': 'exp_type', 'sources': ['exp_type'], 'value': 'nrc_coron'})\n",
      "DMSAttrConstraint({'name': 'target', 'sources': ['targetid'], 'value': '4'})\n",
      "DMSAttrConstraint({'name': 'obs_num', 'sources': ['obs_num'], 'value': None})\n",
      "DMSAttrConstraint({'name': 'acq_exp', 'sources': ['exp_type'], 'value': 'mir_tacq|nis_taconfirm|nis_tacq|nrc_taconfirm|nrc_tacq|nrs_confirm|nrs_taconfirm|nrs_tacq|nrs_taslit'})\n",
      "DMSAttrConstraint({'name': 'acq_obsnum', 'sources': ['obs_num'], 'value': <function AsnMixin_Science.__init__.<locals>.<lambda> at 0x15095ef378>})\n",
      "DMSAttrConstraint({'name': 'asn_candidate', 'sources': ['asn_candidate'], 'value': \"\\\\(\\\\'c1024\\\\'\\\\,\\\\ \\\\'coronagraphy\\\\'\\\\)\"})\n",
      "Products:\n",
      "\tjw10005-c1024_t004_nircam_f210m-maskrnd with 8 members\n",
      "jw10005-c1021_coron3_001_asn with 1 products\n",
      "Rule=candidate_Asn_Coron\n",
      "DMSAttrConstraint({'name': 'program', 'sources': ['program'], 'value': '10005'})\n",
      "DMSAttrConstraint({'name': 'instrument', 'sources': ['instrume'], 'value': 'nircam'})\n",
      "DMSAttrConstraint({'name': 'opt_elem', 'sources': ['filter'], 'value': 'f430m'})\n",
      "DMSAttrConstraint({'name': 'opt_elem2', 'sources': ['pupil'], 'value': 'maskrnd'})\n",
      "DMSAttrConstraint({'name': 'exp_type', 'sources': ['exp_type'], 'value': 'nrc_coron'})\n",
      "DMSAttrConstraint({'name': 'target', 'sources': ['targetid'], 'value': '4'})\n",
      "DMSAttrConstraint({'name': 'obs_num', 'sources': ['obs_num'], 'value': None})\n",
      "DMSAttrConstraint({'name': 'acq_exp', 'sources': ['exp_type'], 'value': 'mir_tacq|nis_taconfirm|nis_tacq|nrc_taconfirm|nrc_tacq|nrs_confirm|nrs_taconfirm|nrs_tacq|nrs_taslit'})\n",
      "DMSAttrConstraint({'name': 'acq_obsnum', 'sources': ['obs_num'], 'value': <function AsnMixin_Science.__init__.<locals>.<lambda> at 0x15095eff28>})\n",
      "DMSAttrConstraint({'name': 'asn_candidate', 'sources': ['asn_candidate'], 'value': \"\\\\(\\\\'c1021\\\\'\\\\,\\\\ \\\\'group\\\\'\\\\)\"})\n",
      "Products:\n",
      "\tjw10005-c1021_t004_nircam_f430m-maskrnd with 12 members\n",
      "jw10005-c1027_coron3_001_asn with 1 products\n",
      "Rule=candidate_Asn_Coron\n",
      "DMSAttrConstraint({'name': 'program', 'sources': ['program'], 'value': '10005'})\n",
      "DMSAttrConstraint({'name': 'instrument', 'sources': ['instrume'], 'value': 'nircam'})\n",
      "DMSAttrConstraint({'name': 'opt_elem', 'sources': ['filter'], 'value': 'f430m'})\n",
      "DMSAttrConstraint({'name': 'opt_elem2', 'sources': ['pupil'], 'value': 'maskrnd'})\n",
      "DMSAttrConstraint({'name': 'exp_type', 'sources': ['exp_type'], 'value': 'nrc_coron'})\n",
      "DMSAttrConstraint({'name': 'target', 'sources': ['targetid'], 'value': '4'})\n",
      "DMSAttrConstraint({'name': 'obs_num', 'sources': ['obs_num'], 'value': None})\n",
      "DMSAttrConstraint({'name': 'acq_exp', 'sources': ['exp_type'], 'value': 'mir_tacq|nis_taconfirm|nis_tacq|nrc_taconfirm|nrc_tacq|nrs_confirm|nrs_taconfirm|nrs_tacq|nrs_taslit'})\n",
      "DMSAttrConstraint({'name': 'acq_obsnum', 'sources': ['obs_num'], 'value': <function AsnMixin_Science.__init__.<locals>.<lambda> at 0x1509629e18>})\n",
      "DMSAttrConstraint({'name': 'asn_candidate', 'sources': ['asn_candidate'], 'value': \"\\\\(\\\\'c1027\\\\'\\\\,\\\\ \\\\'coronagraphy\\\\'\\\\)\"})\n",
      "Products:\n",
      "\tjw10005-c1027_t004_nircam_f430m-maskrnd with 8 members\n",
      "jw10005-c1025_coron3_001_asn with 1 products\n",
      "Rule=candidate_Asn_Coron\n",
      "DMSAttrConstraint({'name': 'program', 'sources': ['program'], 'value': '10005'})\n",
      "DMSAttrConstraint({'name': 'instrument', 'sources': ['instrume'], 'value': 'nircam'})\n",
      "DMSAttrConstraint({'name': 'opt_elem', 'sources': ['filter'], 'value': 'f430m'})\n",
      "DMSAttrConstraint({'name': 'opt_elem2', 'sources': ['pupil'], 'value': 'maskrnd'})\n",
      "DMSAttrConstraint({'name': 'exp_type', 'sources': ['exp_type'], 'value': 'nrc_coron'})\n",
      "DMSAttrConstraint({'name': 'target', 'sources': ['targetid'], 'value': '4'})\n",
      "DMSAttrConstraint({'name': 'obs_num', 'sources': ['obs_num'], 'value': None})\n",
      "DMSAttrConstraint({'name': 'acq_exp', 'sources': ['exp_type'], 'value': 'mir_tacq|nis_taconfirm|nis_tacq|nrc_taconfirm|nrc_tacq|nrs_confirm|nrs_taconfirm|nrs_tacq|nrs_taslit'})\n",
      "DMSAttrConstraint({'name': 'acq_obsnum', 'sources': ['obs_num'], 'value': <function AsnMixin_Science.__init__.<locals>.<lambda> at 0x1509660840>})\n",
      "DMSAttrConstraint({'name': 'asn_candidate', 'sources': ['asn_candidate'], 'value': \"\\\\(\\\\'c1025\\\\'\\\\,\\\\ \\\\'coronagraphy\\\\'\\\\)\"})\n",
      "Products:\n",
      "\tjw10005-c1025_t004_nircam_f430m-maskrnd with 8 members\n",
      "Association jw10005-o001_image2_001_asn\n",
      "    Parameters:\n",
      "        Product type: image2\n",
      "        Rule:         candidate_Asn_Lv2ImageNonScience\n",
      "        Program:      10005\n",
      "        Target:       2\n",
      "        Pool:         pool_013_coron_nircam\n",
      "        DMSAttrConstraint({'name': 'program', 'sources': ['program'], 'value': '10005'})\n",
      "DMSAttrConstraint({'name': 'is_tso', 'sources': ['tsovisit'], 'value': None})\n",
      "DMSAttrConstraint({'name': 'program', 'sources': ['program'], 'value': '10005'})\n",
      "DMSAttrConstraint({'name': 'target', 'sources': ['targetid'], 'value': '2'})\n",
      "DMSAttrConstraint({'name': 'instrument', 'sources': ['instrume'], 'value': 'nircam'})\n",
      "DMSAttrConstraint({'name': 'detector', 'sources': ['detector'], 'value': 'nrca2'})\n",
      "DMSAttrConstraint({'name': 'opt_elem', 'sources': ['filter'], 'value': 'f210m'})\n",
      "DMSAttrConstraint({'name': 'opt_elem2', 'sources': ['pupil'], 'value': 'maskrnd'})\n",
      "DMSAttrConstraint({'name': 'subarray', 'sources': ['subarray'], 'value': 'maska210r'})\n",
      "DMSAttrConstraint({'name': 'channel', 'sources': ['channel'], 'value': 'short'})\n",
      "DMSAttrConstraint({'name': 'non_science', 'sources': ['exp_type'], 'value': 'nrc_tacq'})\n",
      "SimpleConstraint({'name': 'single_science', 'value': False})\n",
      "DMSAttrConstraint({'name': 'asn_candidate', 'sources': ['asn_candidate'], 'value': \"\\\\(\\\\'o001\\\\'\\\\,\\\\ \\\\'observation\\\\'\\\\)\"})\n",
      "\tjw_00001 with 1 members\n",
      "\tjw_00002 with 1 members\n",
      "\tjw_00003 with 1 members\n",
      "\tjw_00004 with 1 members\n",
      "\n",
      "\n",
      "Association jw10005-o002_image2_001_asn\n",
      "    Parameters:\n",
      "        Product type: image2\n",
      "        Rule:         candidate_Asn_Lv2ImageNonScience\n",
      "        Program:      10005\n",
      "        Target:       2\n",
      "        Pool:         pool_013_coron_nircam\n",
      "        DMSAttrConstraint({'name': 'program', 'sources': ['program'], 'value': '10005'})\n",
      "DMSAttrConstraint({'name': 'is_tso', 'sources': ['tsovisit'], 'value': None})\n",
      "DMSAttrConstraint({'name': 'program', 'sources': ['program'], 'value': '10005'})\n",
      "DMSAttrConstraint({'name': 'target', 'sources': ['targetid'], 'value': '2'})\n",
      "DMSAttrConstraint({'name': 'instrument', 'sources': ['instrume'], 'value': 'nircam'})\n",
      "DMSAttrConstraint({'name': 'detector', 'sources': ['detector'], 'value': 'nrcalong'})\n",
      "DMSAttrConstraint({'name': 'opt_elem', 'sources': ['filter'], 'value': 'f430m'})\n",
      "DMSAttrConstraint({'name': 'opt_elem2', 'sources': ['pupil'], 'value': 'maskrnd'})\n",
      "DMSAttrConstraint({'name': 'subarray', 'sources': ['subarray'], 'value': 'maska430r'})\n",
      "DMSAttrConstraint({'name': 'channel', 'sources': ['channel'], 'value': 'long'})\n",
      "DMSAttrConstraint({'name': 'non_science', 'sources': ['exp_type'], 'value': 'nrc_tacq'})\n",
      "SimpleConstraint({'name': 'single_science', 'value': False})\n",
      "DMSAttrConstraint({'name': 'asn_candidate', 'sources': ['asn_candidate'], 'value': \"\\\\(\\\\'o002\\\\'\\\\,\\\\ \\\\'observation\\\\'\\\\)\"})\n",
      "\tjw_00005 with 1 members\n",
      "\tjw_00006 with 1 members\n",
      "\tjw_00007 with 1 members\n",
      "\tjw_00008 with 1 members\n",
      "\n",
      "\n",
      "Association jw10005-o003_image2_001_asn\n",
      "    Parameters:\n",
      "        Product type: image2\n",
      "        Rule:         candidate_Asn_Lv2ImageNonScience\n",
      "        Program:      10005\n",
      "        Target:       5\n",
      "        Pool:         pool_013_coron_nircam\n",
      "        DMSAttrConstraint({'name': 'program', 'sources': ['program'], 'value': '10005'})\n",
      "DMSAttrConstraint({'name': 'is_tso', 'sources': ['tsovisit'], 'value': None})\n",
      "DMSAttrConstraint({'name': 'program', 'sources': ['program'], 'value': '10005'})\n",
      "DMSAttrConstraint({'name': 'target', 'sources': ['targetid'], 'value': '5'})\n",
      "DMSAttrConstraint({'name': 'instrument', 'sources': ['instrume'], 'value': 'nircam'})\n",
      "DMSAttrConstraint({'name': 'detector', 'sources': ['detector'], 'value': 'nrca2'})\n",
      "DMSAttrConstraint({'name': 'opt_elem', 'sources': ['filter'], 'value': 'f210m'})\n",
      "DMSAttrConstraint({'name': 'opt_elem2', 'sources': ['pupil'], 'value': 'maskrnd'})\n",
      "DMSAttrConstraint({'name': 'subarray', 'sources': ['subarray'], 'value': 'maska210r'})\n",
      "DMSAttrConstraint({'name': 'channel', 'sources': ['channel'], 'value': 'short'})\n",
      "DMSAttrConstraint({'name': 'non_science', 'sources': ['exp_type'], 'value': 'nrc_tacq'})\n",
      "SimpleConstraint({'name': 'single_science', 'value': False})\n",
      "DMSAttrConstraint({'name': 'asn_candidate', 'sources': ['asn_candidate'], 'value': \"\\\\(\\\\'o003\\\\'\\\\,\\\\ \\\\'observation\\\\'\\\\)\"})\n",
      "\tjw_00009 with 1 members\n",
      "\tjw_00010 with 1 members\n",
      "\tjw_00011 with 1 members\n",
      "\tjw_00012 with 1 members\n",
      "\n",
      "\n",
      "Association jw10005-o004_image2_001_asn\n",
      "    Parameters:\n",
      "        Product type: image2\n",
      "        Rule:         candidate_Asn_Lv2ImageNonScience\n",
      "        Program:      10005\n",
      "        Target:       5\n",
      "        Pool:         pool_013_coron_nircam\n",
      "        DMSAttrConstraint({'name': 'program', 'sources': ['program'], 'value': '10005'})\n",
      "DMSAttrConstraint({'name': 'is_tso', 'sources': ['tsovisit'], 'value': None})\n",
      "DMSAttrConstraint({'name': 'program', 'sources': ['program'], 'value': '10005'})\n",
      "DMSAttrConstraint({'name': 'target', 'sources': ['targetid'], 'value': '5'})\n",
      "DMSAttrConstraint({'name': 'instrument', 'sources': ['instrume'], 'value': 'nircam'})\n",
      "DMSAttrConstraint({'name': 'detector', 'sources': ['detector'], 'value': 'nrcalong'})\n",
      "DMSAttrConstraint({'name': 'opt_elem', 'sources': ['filter'], 'value': 'f430m'})\n",
      "DMSAttrConstraint({'name': 'opt_elem2', 'sources': ['pupil'], 'value': 'maskrnd'})\n",
      "DMSAttrConstraint({'name': 'subarray', 'sources': ['subarray'], 'value': 'maska430r'})\n",
      "DMSAttrConstraint({'name': 'channel', 'sources': ['channel'], 'value': 'long'})\n",
      "DMSAttrConstraint({'name': 'non_science', 'sources': ['exp_type'], 'value': 'nrc_tacq'})\n",
      "SimpleConstraint({'name': 'single_science', 'value': False})\n",
      "DMSAttrConstraint({'name': 'asn_candidate', 'sources': ['asn_candidate'], 'value': \"\\\\(\\\\'o004\\\\'\\\\,\\\\ \\\\'observation\\\\'\\\\)\"})\n",
      "\tjw_00013 with 1 members\n",
      "\tjw_00014 with 1 members\n",
      "\tjw_00015 with 1 members\n",
      "\tjw_00016 with 1 members\n",
      "\n",
      "\n",
      "Association jw10005-o005_image2_001_asn\n",
      "    Parameters:\n",
      "        Product type: image2\n",
      "        Rule:         candidate_Asn_Lv2ImageNonScience\n",
      "        Program:      10005\n",
      "        Target:       1\n",
      "        Pool:         pool_013_coron_nircam\n",
      "        DMSAttrConstraint({'name': 'program', 'sources': ['program'], 'value': '10005'})\n",
      "DMSAttrConstraint({'name': 'is_tso', 'sources': ['tsovisit'], 'value': None})\n",
      "DMSAttrConstraint({'name': 'program', 'sources': ['program'], 'value': '10005'})\n",
      "DMSAttrConstraint({'name': 'target', 'sources': ['targetid'], 'value': '1'})\n",
      "DMSAttrConstraint({'name': 'instrument', 'sources': ['instrume'], 'value': 'nircam'})\n",
      "DMSAttrConstraint({'name': 'detector', 'sources': ['detector'], 'value': 'nrca2'})\n",
      "DMSAttrConstraint({'name': 'opt_elem', 'sources': ['filter'], 'value': 'f210m'})\n",
      "DMSAttrConstraint({'name': 'opt_elem2', 'sources': ['pupil'], 'value': 'maskrnd'})\n",
      "DMSAttrConstraint({'name': 'subarray', 'sources': ['subarray'], 'value': 'maska210r'})\n",
      "DMSAttrConstraint({'name': 'channel', 'sources': ['channel'], 'value': 'short'})\n",
      "DMSAttrConstraint({'name': 'non_science', 'sources': ['exp_type'], 'value': 'nrc_tacq'})\n",
      "SimpleConstraint({'name': 'single_science', 'value': False})\n",
      "DMSAttrConstraint({'name': 'asn_candidate', 'sources': ['asn_candidate'], 'value': \"\\\\(\\\\'o005\\\\'\\\\,\\\\ \\\\'observation\\\\'\\\\)\"})\n",
      "\tjw_00017 with 1 members\n",
      "\tjw_00018 with 1 members\n",
      "\tjw_00019 with 1 members\n",
      "\tjw_00020 with 1 members\n",
      "\n",
      "\n",
      "Association jw10005-o006_image2_001_asn\n",
      "    Parameters:\n",
      "        Product type: image2\n",
      "        Rule:         candidate_Asn_Lv2ImageNonScience\n",
      "        Program:      10005\n",
      "        Target:       1\n",
      "        Pool:         pool_013_coron_nircam\n",
      "        DMSAttrConstraint({'name': 'program', 'sources': ['program'], 'value': '10005'})\n",
      "DMSAttrConstraint({'name': 'is_tso', 'sources': ['tsovisit'], 'value': None})\n",
      "DMSAttrConstraint({'name': 'program', 'sources': ['program'], 'value': '10005'})\n",
      "DMSAttrConstraint({'name': 'target', 'sources': ['targetid'], 'value': '1'})\n",
      "DMSAttrConstraint({'name': 'instrument', 'sources': ['instrume'], 'value': 'nircam'})\n",
      "DMSAttrConstraint({'name': 'detector', 'sources': ['detector'], 'value': 'nrca2'})\n",
      "DMSAttrConstraint({'name': 'opt_elem', 'sources': ['filter'], 'value': 'f210m'})\n",
      "DMSAttrConstraint({'name': 'opt_elem2', 'sources': ['pupil'], 'value': 'maskrnd'})\n",
      "DMSAttrConstraint({'name': 'subarray', 'sources': ['subarray'], 'value': 'maska210r'})\n",
      "DMSAttrConstraint({'name': 'channel', 'sources': ['channel'], 'value': 'short'})\n",
      "DMSAttrConstraint({'name': 'non_science', 'sources': ['exp_type'], 'value': 'nrc_tacq'})\n",
      "SimpleConstraint({'name': 'single_science', 'value': False})\n",
      "DMSAttrConstraint({'name': 'asn_candidate', 'sources': ['asn_candidate'], 'value': \"\\\\(\\\\'o006\\\\'\\\\,\\\\ \\\\'observation\\\\'\\\\)\"})\n",
      "\tjw_00021 with 1 members\n",
      "\tjw_00022 with 1 members\n",
      "\tjw_00023 with 1 members\n",
      "\tjw_00024 with 1 members\n",
      "\n",
      "\n",
      "Association jw10005-o007_image2_001_asn\n",
      "    Parameters:\n",
      "        Product type: image2\n",
      "        Rule:         candidate_Asn_Lv2ImageNonScience\n",
      "        Program:      10005\n",
      "        Target:       1\n",
      "        Pool:         pool_013_coron_nircam\n",
      "        DMSAttrConstraint({'name': 'program', 'sources': ['program'], 'value': '10005'})\n",
      "DMSAttrConstraint({'name': 'is_tso', 'sources': ['tsovisit'], 'value': None})\n",
      "DMSAttrConstraint({'name': 'program', 'sources': ['program'], 'value': '10005'})\n",
      "DMSAttrConstraint({'name': 'target', 'sources': ['targetid'], 'value': '1'})\n",
      "DMSAttrConstraint({'name': 'instrument', 'sources': ['instrume'], 'value': 'nircam'})\n",
      "DMSAttrConstraint({'name': 'detector', 'sources': ['detector'], 'value': 'nrcalong'})\n",
      "DMSAttrConstraint({'name': 'opt_elem', 'sources': ['filter'], 'value': 'f430m'})\n",
      "DMSAttrConstraint({'name': 'opt_elem2', 'sources': ['pupil'], 'value': 'maskrnd'})\n",
      "DMSAttrConstraint({'name': 'subarray', 'sources': ['subarray'], 'value': 'maska430r'})\n",
      "DMSAttrConstraint({'name': 'channel', 'sources': ['channel'], 'value': 'long'})\n",
      "DMSAttrConstraint({'name': 'non_science', 'sources': ['exp_type'], 'value': 'nrc_tacq'})\n",
      "SimpleConstraint({'name': 'single_science', 'value': False})\n",
      "DMSAttrConstraint({'name': 'asn_candidate', 'sources': ['asn_candidate'], 'value': \"\\\\(\\\\'o007\\\\'\\\\,\\\\ \\\\'observation\\\\'\\\\)\"})\n",
      "\tjw_00025 with 1 members\n",
      "\tjw_00026 with 1 members\n",
      "\tjw_00027 with 1 members\n",
      "\tjw_00028 with 1 members\n",
      "\n",
      "\n",
      "Association jw10005-o008_image2_001_asn\n",
      "    Parameters:\n",
      "        Product type: image2\n",
      "        Rule:         candidate_Asn_Lv2ImageNonScience\n",
      "        Program:      10005\n",
      "        Target:       1\n",
      "        Pool:         pool_013_coron_nircam\n",
      "        DMSAttrConstraint({'name': 'program', 'sources': ['program'], 'value': '10005'})\n",
      "DMSAttrConstraint({'name': 'is_tso', 'sources': ['tsovisit'], 'value': None})\n",
      "DMSAttrConstraint({'name': 'program', 'sources': ['program'], 'value': '10005'})\n",
      "DMSAttrConstraint({'name': 'target', 'sources': ['targetid'], 'value': '1'})\n",
      "DMSAttrConstraint({'name': 'instrument', 'sources': ['instrume'], 'value': 'nircam'})\n",
      "DMSAttrConstraint({'name': 'detector', 'sources': ['detector'], 'value': 'nrcalong'})\n",
      "DMSAttrConstraint({'name': 'opt_elem', 'sources': ['filter'], 'value': 'f430m'})\n",
      "DMSAttrConstraint({'name': 'opt_elem2', 'sources': ['pupil'], 'value': 'maskrnd'})\n",
      "DMSAttrConstraint({'name': 'subarray', 'sources': ['subarray'], 'value': 'maska430r'})\n",
      "DMSAttrConstraint({'name': 'channel', 'sources': ['channel'], 'value': 'long'})\n",
      "DMSAttrConstraint({'name': 'non_science', 'sources': ['exp_type'], 'value': 'nrc_tacq'})\n",
      "SimpleConstraint({'name': 'single_science', 'value': False})\n",
      "DMSAttrConstraint({'name': 'asn_candidate', 'sources': ['asn_candidate'], 'value': \"\\\\(\\\\'o008\\\\'\\\\,\\\\ \\\\'observation\\\\'\\\\)\"})\n",
      "\tjw_00029 with 1 members\n",
      "\tjw_00030 with 1 members\n",
      "\tjw_00031 with 1 members\n",
      "\tjw_00032 with 1 members\n",
      "\n",
      "\n",
      "Association jw10005-o009_image2_001_asn\n",
      "    Parameters:\n",
      "        Product type: image2\n",
      "        Rule:         candidate_Asn_Lv2ImageNonScience\n",
      "        Program:      10005\n",
      "        Target:       3\n",
      "        Pool:         pool_013_coron_nircam\n",
      "        DMSAttrConstraint({'name': 'program', 'sources': ['program'], 'value': '10005'})\n",
      "DMSAttrConstraint({'name': 'is_tso', 'sources': ['tsovisit'], 'value': None})\n",
      "DMSAttrConstraint({'name': 'program', 'sources': ['program'], 'value': '10005'})\n",
      "DMSAttrConstraint({'name': 'target', 'sources': ['targetid'], 'value': '3'})\n",
      "DMSAttrConstraint({'name': 'instrument', 'sources': ['instrume'], 'value': 'nircam'})\n",
      "DMSAttrConstraint({'name': 'detector', 'sources': ['detector'], 'value': 'nrca2'})\n",
      "DMSAttrConstraint({'name': 'opt_elem', 'sources': ['filter'], 'value': 'f210m'})\n",
      "DMSAttrConstraint({'name': 'opt_elem2', 'sources': ['pupil'], 'value': 'maskrnd'})\n",
      "DMSAttrConstraint({'name': 'subarray', 'sources': ['subarray'], 'value': 'maska210r'})\n",
      "DMSAttrConstraint({'name': 'channel', 'sources': ['channel'], 'value': 'short'})\n",
      "DMSAttrConstraint({'name': 'non_science', 'sources': ['exp_type'], 'value': 'nrc_tacq'})\n",
      "SimpleConstraint({'name': 'single_science', 'value': False})\n",
      "DMSAttrConstraint({'name': 'asn_candidate', 'sources': ['asn_candidate'], 'value': \"\\\\(\\\\'o009\\\\'\\\\,\\\\ \\\\'observation\\\\'\\\\)\"})\n",
      "\tjw_00033 with 1 members\n",
      "\tjw_00034 with 1 members\n",
      "\tjw_00035 with 1 members\n",
      "\tjw_00036 with 1 members\n",
      "\n",
      "\n",
      "Association jw10005-o010_image2_001_asn\n",
      "    Parameters:\n",
      "        Product type: image2\n",
      "        Rule:         candidate_Asn_Lv2ImageNonScience\n",
      "        Program:      10005\n",
      "        Target:       3\n",
      "        Pool:         pool_013_coron_nircam\n",
      "        DMSAttrConstraint({'name': 'program', 'sources': ['program'], 'value': '10005'})\n",
      "DMSAttrConstraint({'name': 'is_tso', 'sources': ['tsovisit'], 'value': None})\n",
      "DMSAttrConstraint({'name': 'program', 'sources': ['program'], 'value': '10005'})\n",
      "DMSAttrConstraint({'name': 'target', 'sources': ['targetid'], 'value': '3'})\n",
      "DMSAttrConstraint({'name': 'instrument', 'sources': ['instrume'], 'value': 'nircam'})\n",
      "DMSAttrConstraint({'name': 'detector', 'sources': ['detector'], 'value': 'nrca2'})\n",
      "DMSAttrConstraint({'name': 'opt_elem', 'sources': ['filter'], 'value': 'f210m'})\n",
      "DMSAttrConstraint({'name': 'opt_elem2', 'sources': ['pupil'], 'value': 'maskrnd'})\n",
      "DMSAttrConstraint({'name': 'subarray', 'sources': ['subarray'], 'value': 'maska210r'})\n",
      "DMSAttrConstraint({'name': 'channel', 'sources': ['channel'], 'value': 'short'})\n",
      "DMSAttrConstraint({'name': 'non_science', 'sources': ['exp_type'], 'value': 'nrc_tacq'})\n",
      "SimpleConstraint({'name': 'single_science', 'value': False})\n",
      "DMSAttrConstraint({'name': 'asn_candidate', 'sources': ['asn_candidate'], 'value': \"\\\\(\\\\'o010\\\\'\\\\,\\\\ \\\\'observation\\\\'\\\\)\"})\n",
      "\tjw_00037 with 1 members\n",
      "\tjw_00038 with 1 members\n",
      "\tjw_00039 with 1 members\n",
      "\tjw_00040 with 1 members\n",
      "\n",
      "\n",
      "Association jw10005-o011_image2_001_asn\n",
      "    Parameters:\n",
      "        Product type: image2\n",
      "        Rule:         candidate_Asn_Lv2ImageNonScience\n",
      "        Program:      10005\n",
      "        Target:       3\n",
      "        Pool:         pool_013_coron_nircam\n",
      "        DMSAttrConstraint({'name': 'program', 'sources': ['program'], 'value': '10005'})\n",
      "DMSAttrConstraint({'name': 'is_tso', 'sources': ['tsovisit'], 'value': None})\n",
      "DMSAttrConstraint({'name': 'program', 'sources': ['program'], 'value': '10005'})\n",
      "DMSAttrConstraint({'name': 'target', 'sources': ['targetid'], 'value': '3'})\n",
      "DMSAttrConstraint({'name': 'instrument', 'sources': ['instrume'], 'value': 'nircam'})\n",
      "DMSAttrConstraint({'name': 'detector', 'sources': ['detector'], 'value': 'nrcalong'})\n",
      "DMSAttrConstraint({'name': 'opt_elem', 'sources': ['filter'], 'value': 'f430m'})\n",
      "DMSAttrConstraint({'name': 'opt_elem2', 'sources': ['pupil'], 'value': 'maskrnd'})\n",
      "DMSAttrConstraint({'name': 'subarray', 'sources': ['subarray'], 'value': 'maska430r'})\n",
      "DMSAttrConstraint({'name': 'channel', 'sources': ['channel'], 'value': 'long'})\n",
      "DMSAttrConstraint({'name': 'non_science', 'sources': ['exp_type'], 'value': 'nrc_tacq'})\n",
      "SimpleConstraint({'name': 'single_science', 'value': False})\n",
      "DMSAttrConstraint({'name': 'asn_candidate', 'sources': ['asn_candidate'], 'value': \"\\\\(\\\\'o011\\\\'\\\\,\\\\ \\\\'observation\\\\'\\\\)\"})\n",
      "\tjw_00041 with 1 members\n",
      "\tjw_00042 with 1 members\n",
      "\tjw_00043 with 1 members\n",
      "\tjw_00044 with 1 members\n",
      "\n",
      "\n",
      "Association jw10005-o012_image2_001_asn\n",
      "    Parameters:\n",
      "        Product type: image2\n",
      "        Rule:         candidate_Asn_Lv2ImageNonScience\n",
      "        Program:      10005\n",
      "        Target:       3\n",
      "        Pool:         pool_013_coron_nircam\n",
      "        DMSAttrConstraint({'name': 'program', 'sources': ['program'], 'value': '10005'})\n",
      "DMSAttrConstraint({'name': 'is_tso', 'sources': ['tsovisit'], 'value': None})\n",
      "DMSAttrConstraint({'name': 'program', 'sources': ['program'], 'value': '10005'})\n",
      "DMSAttrConstraint({'name': 'target', 'sources': ['targetid'], 'value': '3'})\n",
      "DMSAttrConstraint({'name': 'instrument', 'sources': ['instrume'], 'value': 'nircam'})\n",
      "DMSAttrConstraint({'name': 'detector', 'sources': ['detector'], 'value': 'nrcalong'})\n",
      "DMSAttrConstraint({'name': 'opt_elem', 'sources': ['filter'], 'value': 'f430m'})\n",
      "DMSAttrConstraint({'name': 'opt_elem2', 'sources': ['pupil'], 'value': 'maskrnd'})\n",
      "DMSAttrConstraint({'name': 'subarray', 'sources': ['subarray'], 'value': 'maska430r'})\n",
      "DMSAttrConstraint({'name': 'channel', 'sources': ['channel'], 'value': 'long'})\n",
      "DMSAttrConstraint({'name': 'non_science', 'sources': ['exp_type'], 'value': 'nrc_tacq'})\n",
      "SimpleConstraint({'name': 'single_science', 'value': False})\n",
      "DMSAttrConstraint({'name': 'asn_candidate', 'sources': ['asn_candidate'], 'value': \"\\\\(\\\\'o012\\\\'\\\\,\\\\ \\\\'observation\\\\'\\\\)\"})\n",
      "\tjw_00045 with 1 members\n",
      "\tjw_00046 with 1 members\n",
      "\tjw_00047 with 1 members\n",
      "\tjw_00048 with 1 members\n",
      "\n",
      "\n",
      "Association jw10005-o013_image2_001_asn\n",
      "    Parameters:\n",
      "        Product type: image2\n",
      "        Rule:         candidate_Asn_Lv2ImageNonScience\n",
      "        Program:      10005\n",
      "        Target:       4\n",
      "        Pool:         pool_013_coron_nircam\n",
      "        DMSAttrConstraint({'name': 'program', 'sources': ['program'], 'value': '10005'})\n",
      "DMSAttrConstraint({'name': 'is_tso', 'sources': ['tsovisit'], 'value': None})\n",
      "DMSAttrConstraint({'name': 'program', 'sources': ['program'], 'value': '10005'})\n",
      "DMSAttrConstraint({'name': 'target', 'sources': ['targetid'], 'value': '4'})\n",
      "DMSAttrConstraint({'name': 'instrument', 'sources': ['instrume'], 'value': 'nircam'})\n",
      "DMSAttrConstraint({'name': 'detector', 'sources': ['detector'], 'value': 'nrca2'})\n",
      "DMSAttrConstraint({'name': 'opt_elem', 'sources': ['filter'], 'value': 'f210m'})\n",
      "DMSAttrConstraint({'name': 'opt_elem2', 'sources': ['pupil'], 'value': 'maskrnd'})\n",
      "DMSAttrConstraint({'name': 'subarray', 'sources': ['subarray'], 'value': 'maska210r'})\n",
      "DMSAttrConstraint({'name': 'channel', 'sources': ['channel'], 'value': 'short'})\n",
      "DMSAttrConstraint({'name': 'non_science', 'sources': ['exp_type'], 'value': 'nrc_tacq'})\n",
      "SimpleConstraint({'name': 'single_science', 'value': False})\n",
      "DMSAttrConstraint({'name': 'asn_candidate', 'sources': ['asn_candidate'], 'value': \"\\\\(\\\\'o013\\\\'\\\\,\\\\ \\\\'observation\\\\'\\\\)\"})\n",
      "\tjw_00049 with 1 members\n",
      "\tjw_00050 with 1 members\n",
      "\tjw_00051 with 1 members\n",
      "\tjw_00052 with 1 members\n",
      "\n",
      "\n",
      "Association jw10005-o014_image2_001_asn\n",
      "    Parameters:\n",
      "        Product type: image2\n",
      "        Rule:         candidate_Asn_Lv2ImageNonScience\n",
      "        Program:      10005\n",
      "        Target:       4\n",
      "        Pool:         pool_013_coron_nircam\n",
      "        DMSAttrConstraint({'name': 'program', 'sources': ['program'], 'value': '10005'})\n",
      "DMSAttrConstraint({'name': 'is_tso', 'sources': ['tsovisit'], 'value': None})\n",
      "DMSAttrConstraint({'name': 'program', 'sources': ['program'], 'value': '10005'})\n",
      "DMSAttrConstraint({'name': 'target', 'sources': ['targetid'], 'value': '4'})\n",
      "DMSAttrConstraint({'name': 'instrument', 'sources': ['instrume'], 'value': 'nircam'})\n",
      "DMSAttrConstraint({'name': 'detector', 'sources': ['detector'], 'value': 'nrca2'})\n",
      "DMSAttrConstraint({'name': 'opt_elem', 'sources': ['filter'], 'value': 'f210m'})\n",
      "DMSAttrConstraint({'name': 'opt_elem2', 'sources': ['pupil'], 'value': 'maskrnd'})\n",
      "DMSAttrConstraint({'name': 'subarray', 'sources': ['subarray'], 'value': 'maska210r'})\n",
      "DMSAttrConstraint({'name': 'channel', 'sources': ['channel'], 'value': 'short'})\n",
      "DMSAttrConstraint({'name': 'non_science', 'sources': ['exp_type'], 'value': 'nrc_tacq'})\n",
      "SimpleConstraint({'name': 'single_science', 'value': False})\n",
      "DMSAttrConstraint({'name': 'asn_candidate', 'sources': ['asn_candidate'], 'value': \"\\\\(\\\\'o014\\\\'\\\\,\\\\ \\\\'observation\\\\'\\\\)\"})\n",
      "\tjw_00053 with 1 members\n",
      "\tjw_00054 with 1 members\n",
      "\tjw_00055 with 1 members\n",
      "\tjw_00056 with 1 members\n",
      "\n",
      "\n",
      "Association jw10005-o015_image2_001_asn\n",
      "    Parameters:\n",
      "        Product type: image2\n",
      "        Rule:         candidate_Asn_Lv2ImageNonScience\n",
      "        Program:      10005\n",
      "        Target:       4\n",
      "        Pool:         pool_013_coron_nircam\n",
      "        DMSAttrConstraint({'name': 'program', 'sources': ['program'], 'value': '10005'})\n",
      "DMSAttrConstraint({'name': 'is_tso', 'sources': ['tsovisit'], 'value': None})\n",
      "DMSAttrConstraint({'name': 'program', 'sources': ['program'], 'value': '10005'})\n",
      "DMSAttrConstraint({'name': 'target', 'sources': ['targetid'], 'value': '4'})\n",
      "DMSAttrConstraint({'name': 'instrument', 'sources': ['instrume'], 'value': 'nircam'})\n",
      "DMSAttrConstraint({'name': 'detector', 'sources': ['detector'], 'value': 'nrcalong'})\n",
      "DMSAttrConstraint({'name': 'opt_elem', 'sources': ['filter'], 'value': 'f430m'})\n",
      "DMSAttrConstraint({'name': 'opt_elem2', 'sources': ['pupil'], 'value': 'maskrnd'})\n",
      "DMSAttrConstraint({'name': 'subarray', 'sources': ['subarray'], 'value': 'maska430r'})\n",
      "DMSAttrConstraint({'name': 'channel', 'sources': ['channel'], 'value': 'long'})\n",
      "DMSAttrConstraint({'name': 'non_science', 'sources': ['exp_type'], 'value': 'nrc_tacq'})\n",
      "SimpleConstraint({'name': 'single_science', 'value': False})\n",
      "DMSAttrConstraint({'name': 'asn_candidate', 'sources': ['asn_candidate'], 'value': \"\\\\(\\\\'o015\\\\'\\\\,\\\\ \\\\'observation\\\\'\\\\)\"})\n",
      "\tjw_00057 with 1 members\n",
      "\tjw_00058 with 1 members\n",
      "\tjw_00059 with 1 members\n",
      "\tjw_00060 with 1 members\n",
      "\n",
      "\n",
      "Association jw10005-o016_image2_001_asn\n",
      "    Parameters:\n",
      "        Product type: image2\n",
      "        Rule:         candidate_Asn_Lv2ImageNonScience\n",
      "        Program:      10005\n",
      "        Target:       4\n",
      "        Pool:         pool_013_coron_nircam\n",
      "        DMSAttrConstraint({'name': 'program', 'sources': ['program'], 'value': '10005'})\n",
      "DMSAttrConstraint({'name': 'is_tso', 'sources': ['tsovisit'], 'value': None})\n",
      "DMSAttrConstraint({'name': 'program', 'sources': ['program'], 'value': '10005'})\n",
      "DMSAttrConstraint({'name': 'target', 'sources': ['targetid'], 'value': '4'})\n",
      "DMSAttrConstraint({'name': 'instrument', 'sources': ['instrume'], 'value': 'nircam'})\n",
      "DMSAttrConstraint({'name': 'detector', 'sources': ['detector'], 'value': 'nrcalong'})\n",
      "DMSAttrConstraint({'name': 'opt_elem', 'sources': ['filter'], 'value': 'f430m'})\n",
      "DMSAttrConstraint({'name': 'opt_elem2', 'sources': ['pupil'], 'value': 'maskrnd'})\n",
      "DMSAttrConstraint({'name': 'subarray', 'sources': ['subarray'], 'value': 'maska430r'})\n",
      "DMSAttrConstraint({'name': 'channel', 'sources': ['channel'], 'value': 'long'})\n",
      "DMSAttrConstraint({'name': 'non_science', 'sources': ['exp_type'], 'value': 'nrc_tacq'})\n",
      "SimpleConstraint({'name': 'single_science', 'value': False})\n",
      "DMSAttrConstraint({'name': 'asn_candidate', 'sources': ['asn_candidate'], 'value': \"\\\\(\\\\'o016\\\\'\\\\,\\\\ \\\\'observation\\\\'\\\\)\"})\n",
      "\tjw_00061 with 1 members\n",
      "\tjw_00062 with 1 members\n",
      "\tjw_00063 with 1 members\n",
      "\tjw_00064 with 1 members\n",
      "\n",
      "\n"
     ]
    }
   ],
   "source": [
    "make_standards('pool_013_coron_nircam')"
   ]
  },
  {
   "cell_type": "code",
   "execution_count": null,
   "metadata": {},
   "outputs": [],
   "source": [
    "pool_013 = combine_pools('../data/pool_013_coron_nircam.csv')"
   ]
  },
  {
   "cell_type": "code",
   "execution_count": null,
   "metadata": {},
   "outputs": [],
   "source": [
    "constraint_candidate = constrain_on_candidates(['c1010'])"
   ]
  },
  {
   "cell_type": "code",
   "execution_count": null,
   "metadata": {},
   "outputs": [],
   "source": [
    "reg_lv3_candidate = registry_level3_only(global_constraints=constraint_candidate)"
   ]
  },
  {
   "cell_type": "code",
   "execution_count": null,
   "metadata": {},
   "outputs": [],
   "source": [
    "reg_lv3_candidate"
   ]
  },
  {
   "cell_type": "code",
   "execution_count": null,
   "metadata": {},
   "outputs": [],
   "source": [
    "reg_lv3_candidate_asn_coron = copy(reg_lv3_candidate)"
   ]
  },
  {
   "cell_type": "code",
   "execution_count": null,
   "metadata": {},
   "outputs": [],
   "source": [
    "for key in list(reg_lv3_candidate_asn_coron.keys()):\n",
    "    if key not in ('Asn_Coron', 'Asn_ACQ_Reprocess'):\n",
    "        del reg_lv3_candidate_asn_coron[key]\n",
    "reg_lv3_candidate_asn_coron"
   ]
  },
  {
   "cell_type": "code",
   "execution_count": null,
   "metadata": {
    "scrolled": false
   },
   "outputs": [],
   "source": [
    "# asns = generate(pool_013, reg_lv3_candidate_asn_coron)"
   ]
  },
  {
   "cell_type": "code",
   "execution_count": null,
   "metadata": {
    "scrolled": false
   },
   "outputs": [],
   "source": [
    "len(asns[0]['products'][0]['members'])"
   ]
  },
  {
   "cell_type": "code",
   "execution_count": null,
   "metadata": {
    "scrolled": true
   },
   "outputs": [],
   "source": [
    "asns[0]"
   ]
  },
  {
   "cell_type": "code",
   "execution_count": null,
   "metadata": {},
   "outputs": [],
   "source": [
    "asns[0].constraints['obs_num'].found_values"
   ]
  },
  {
   "cell_type": "code",
   "execution_count": null,
   "metadata": {
    "scrolled": false
   },
   "outputs": [],
   "source": [
    "pdb.runcall(generate, pool_013, reg_lv3_candidate_asn_coron)"
   ]
  },
  {
   "cell_type": "code",
   "execution_count": null,
   "metadata": {},
   "outputs": [],
   "source": [
    "len(asns)"
   ]
  },
  {
   "cell_type": "code",
   "execution_count": null,
   "metadata": {
    "scrolled": true
   },
   "outputs": [],
   "source": [
    "asn = asns[0]"
   ]
  },
  {
   "cell_type": "code",
   "execution_count": null,
   "metadata": {
    "scrolled": false
   },
   "outputs": [],
   "source": [
    "asn"
   ]
  },
  {
   "cell_type": "code",
   "execution_count": null,
   "metadata": {},
   "outputs": [],
   "source": [
    "asn.constraints"
   ]
  },
  {
   "cell_type": "code",
   "execution_count": null,
   "metadata": {},
   "outputs": [],
   "source": [
    "asn.constraints['obs_num']"
   ]
  },
  {
   "cell_type": "code",
   "execution_count": null,
   "metadata": {},
   "outputs": [],
   "source": [
    "pool_013[pool_013['obs_num'] == '6']['filename']"
   ]
  },
  {
   "cell_type": "code",
   "execution_count": null,
   "metadata": {},
   "outputs": [],
   "source": [
    "pool_013[pool_013['filename'] == 'jw_00024_uncal.fits']['obs_num']"
   ]
  },
  {
   "cell_type": "markdown",
   "metadata": {},
   "source": [
    "## pool_005_spec_niriss"
   ]
  },
  {
   "cell_type": "code",
   "execution_count": null,
   "metadata": {},
   "outputs": [],
   "source": [
    "%rm $NEW_ASN_DIR/pool_005*"
   ]
  },
  {
   "cell_type": "code",
   "execution_count": null,
   "metadata": {
    "scrolled": false
   },
   "outputs": [],
   "source": [
    "make_standards('pool_005_spec_niriss')"
   ]
  },
  {
   "cell_type": "code",
   "execution_count": null,
   "metadata": {
    "scrolled": true
   },
   "outputs": [],
   "source": [
    "%debug"
   ]
  },
  {
   "cell_type": "code",
   "execution_count": null,
   "metadata": {},
   "outputs": [],
   "source": [
    "pool_005 = combine_pools('../data/pool_005_spec_niriss.csv')"
   ]
  },
  {
   "cell_type": "code",
   "execution_count": null,
   "metadata": {},
   "outputs": [],
   "source": [
    "reg_lv3_asn_nis_so_slitless = copy(reg_lv3_all_candidates)"
   ]
  },
  {
   "cell_type": "code",
   "execution_count": null,
   "metadata": {},
   "outputs": [],
   "source": [
    "for key in list(reg_lv3_asn_nis_so_slitless.keys()):\n",
    "    if key not in ('Asn_NIS_SO_SLITLESS', 'Asn_ACQ_Reprocess'):\n",
    "        del reg_lv3_asn_nis_so_slitless[key]\n",
    "reg_lv3_asn_nis_so_slitless"
   ]
  },
  {
   "cell_type": "code",
   "execution_count": null,
   "metadata": {},
   "outputs": [],
   "source": [
    "asns = generate(pool_005, reg_lv3_asn_nis_so_slitless)"
   ]
  },
  {
   "cell_type": "code",
   "execution_count": null,
   "metadata": {},
   "outputs": [],
   "source": [
    "asns"
   ]
  },
  {
   "cell_type": "code",
   "execution_count": null,
   "metadata": {
    "scrolled": false
   },
   "outputs": [],
   "source": [
    "pdb.run(\"generate(pool_005, reg_lv3_asn_nis_so_slitless)\")"
   ]
  },
  {
   "cell_type": "markdown",
   "metadata": {},
   "source": [
    "## pool_002_image_miri"
   ]
  },
  {
   "cell_type": "code",
   "execution_count": null,
   "metadata": {},
   "outputs": [],
   "source": [
    "%rm $NEW_ASN_DIR/pool_002*"
   ]
  },
  {
   "cell_type": "code",
   "execution_count": null,
   "metadata": {
    "scrolled": false
   },
   "outputs": [],
   "source": [
    "make_standards('pool_002_image_miri')"
   ]
  },
  {
   "cell_type": "markdown",
   "metadata": {},
   "source": [
    "## pool_004_wfs level3"
   ]
  },
  {
   "cell_type": "code",
   "execution_count": null,
   "metadata": {},
   "outputs": [],
   "source": [
    "%rm $NEW_ASN_DIR/pool_004*"
   ]
  },
  {
   "cell_type": "code",
   "execution_count": null,
   "metadata": {
    "scrolled": false
   },
   "outputs": [],
   "source": [
    "make_standards('pool_004_wfs')"
   ]
  },
  {
   "cell_type": "code",
   "execution_count": null,
   "metadata": {},
   "outputs": [],
   "source": [
    "pool_004_wfs = combine_pools('../data/pool_004_wfs.csv')"
   ]
  },
  {
   "cell_type": "code",
   "execution_count": null,
   "metadata": {},
   "outputs": [],
   "source": [
    "pool_004_wfs.show_in_notebook()"
   ]
  },
  {
   "cell_type": "markdown",
   "metadata": {},
   "source": [
    "## pool_004_wfs looking for level2 image"
   ]
  },
  {
   "cell_type": "code",
   "execution_count": null,
   "metadata": {
    "scrolled": false
   },
   "outputs": [],
   "source": [
    "pdb.run(\"generate(pool_004_wfs, reg_lv2_all_candidates)\")"
   ]
  },
  {
   "cell_type": "code",
   "execution_count": null,
   "metadata": {},
   "outputs": [],
   "source": [
    "asns = generate(pool_004_wfs, reg_lv2_all_candidates)"
   ]
  },
  {
   "cell_type": "code",
   "execution_count": null,
   "metadata": {},
   "outputs": [],
   "source": [
    "len(asns)"
   ]
  },
  {
   "cell_type": "code",
   "execution_count": null,
   "metadata": {
    "scrolled": true
   },
   "outputs": [],
   "source": [
    "asns"
   ]
  },
  {
   "cell_type": "markdown",
   "metadata": {},
   "source": [
    "## pool_007_spec_miri for target aquisitions"
   ]
  },
  {
   "cell_type": "code",
   "execution_count": null,
   "metadata": {},
   "outputs": [],
   "source": [
    "%rm $NEW_ASN_DIR/pool_007*"
   ]
  },
  {
   "cell_type": "code",
   "execution_count": null,
   "metadata": {},
   "outputs": [],
   "source": [
    "make_standards('pool_007_spec_miri')"
   ]
  },
  {
   "cell_type": "markdown",
   "metadata": {},
   "source": [
    "## sdp/jw87600 double image3 for o029"
   ]
  },
  {
   "cell_type": "markdown",
   "metadata": {},
   "source": [
    "Now, the second round, the last exposure of the candidate has gone completely missing."
   ]
  },
  {
   "cell_type": "code",
   "execution_count": null,
   "metadata": {},
   "outputs": [],
   "source": [
    "pool_jw87600 = combine_pools('../data/sdp/pools/jw87600_20171108T042226_pool.csv')"
   ]
  },
  {
   "cell_type": "code",
   "execution_count": null,
   "metadata": {},
   "outputs": [],
   "source": [
    "constrain_o029 = constrain_on_candidates(['o029'])"
   ]
  },
  {
   "cell_type": "code",
   "execution_count": null,
   "metadata": {},
   "outputs": [],
   "source": [
    "constrain_o029"
   ]
  },
  {
   "cell_type": "code",
   "execution_count": null,
   "metadata": {},
   "outputs": [],
   "source": [
    "reg_lv3_o029 = registry_level3_only(global_constraints=constrain_o029)"
   ]
  },
  {
   "cell_type": "markdown",
   "metadata": {},
   "source": [
    "Error occurs with level3 only rules, constrain on all candidates"
   ]
  },
  {
   "cell_type": "code",
   "execution_count": null,
   "metadata": {},
   "outputs": [],
   "source": [
    "asns = generate(pool_jw87600, reg_lv3_all_candidates)"
   ]
  },
  {
   "cell_type": "code",
   "execution_count": null,
   "metadata": {},
   "outputs": [],
   "source": [
    "len(asns)"
   ]
  },
  {
   "cell_type": "code",
   "execution_count": null,
   "metadata": {
    "scrolled": true
   },
   "outputs": [],
   "source": [
    "asns"
   ]
  },
  {
   "cell_type": "code",
   "execution_count": null,
   "metadata": {
    "scrolled": false
   },
   "outputs": [],
   "source": [
    "for idx, asn in enumerate(asns):\n",
    "    if asn['asn_id'] == 'o029' and asn['asn_type'] == 'image3':\n",
    "        print(idx, asn)"
   ]
  },
  {
   "cell_type": "code",
   "execution_count": null,
   "metadata": {},
   "outputs": [],
   "source": [
    "asns[19]['products'][0]['members']"
   ]
  },
  {
   "cell_type": "code",
   "execution_count": null,
   "metadata": {},
   "outputs": [],
   "source": [
    "asns[20]['products'][0]['members']"
   ]
  },
  {
   "cell_type": "markdown",
   "metadata": {},
   "source": [
    "Try on just the one exposure. Works as expected"
   ]
  },
  {
   "cell_type": "code",
   "execution_count": null,
   "metadata": {},
   "outputs": [],
   "source": [
    "pool_jw87600_single = combine_pools('../data/sdp/pools/jw87600_single_pool.csv')"
   ]
  },
  {
   "cell_type": "code",
   "execution_count": null,
   "metadata": {},
   "outputs": [],
   "source": [
    "pool_jw87600_single.show_in_notebook()"
   ]
  },
  {
   "cell_type": "code",
   "execution_count": null,
   "metadata": {},
   "outputs": [],
   "source": [
    "asns = generate(pool_jw87600_single, reg_lv3_all_candidates)"
   ]
  },
  {
   "cell_type": "code",
   "execution_count": null,
   "metadata": {},
   "outputs": [],
   "source": [
    "len(asns)"
   ]
  },
  {
   "cell_type": "code",
   "execution_count": null,
   "metadata": {
    "scrolled": true
   },
   "outputs": [],
   "source": [
    "asns"
   ]
  },
  {
   "cell_type": "markdown",
   "metadata": {},
   "source": [
    "Try the whole candidate. Works fine"
   ]
  },
  {
   "cell_type": "code",
   "execution_count": null,
   "metadata": {},
   "outputs": [],
   "source": [
    "pool_jw87600_o029 = combine_pools('../data/sdp/pools/jw87600_o029_pool.csv')"
   ]
  },
  {
   "cell_type": "code",
   "execution_count": null,
   "metadata": {},
   "outputs": [],
   "source": [
    "pool_jw87600_o029.show_in_notebook()"
   ]
  },
  {
   "cell_type": "code",
   "execution_count": null,
   "metadata": {},
   "outputs": [],
   "source": [
    "asns = generate(pool_jw87600_o029, reg_lv3_all_candidates)"
   ]
  },
  {
   "cell_type": "code",
   "execution_count": null,
   "metadata": {},
   "outputs": [],
   "source": [
    "len(asns)"
   ]
  },
  {
   "cell_type": "code",
   "execution_count": null,
   "metadata": {
    "scrolled": false
   },
   "outputs": [],
   "source": [
    "for asn in asns:\n",
    "    if asn['asn_id'] == 'o029' and asn['asn_type'] == 'image3':\n",
    "        print(asn)"
   ]
  },
  {
   "cell_type": "markdown",
   "metadata": {},
   "source": [
    "Remove the offending exposure, see if something else appears. Nope, its gone and the other doesn't start duplicating."
   ]
  },
  {
   "cell_type": "code",
   "execution_count": null,
   "metadata": {},
   "outputs": [],
   "source": [
    "pool_jw87600_removed = combine_pools('../data/sdp/pools/jw87600_exp_removed_pool.csv')"
   ]
  },
  {
   "cell_type": "code",
   "execution_count": null,
   "metadata": {},
   "outputs": [],
   "source": [
    "asns = generate(pool_jw87600_removed, reg_lv3_all_candidates)"
   ]
  },
  {
   "cell_type": "code",
   "execution_count": null,
   "metadata": {
    "scrolled": false
   },
   "outputs": [],
   "source": [
    "for asn in asns:\n",
    "    if asn['asn_id'] == 'o029' and asn['asn_type'] == 'image3':\n",
    "        print(asn)"
   ]
  },
  {
   "cell_type": "markdown",
   "metadata": {},
   "source": [
    "Remove extraneous exposures around o029. Duplication occurs. Has something to do with the intervening ones."
   ]
  },
  {
   "cell_type": "code",
   "execution_count": null,
   "metadata": {},
   "outputs": [],
   "source": [
    "pool_jw87600_surrounding_removed = combine_pools('../data/sdp/pools/jw87600_surrounding_removed_pool.csv')"
   ]
  },
  {
   "cell_type": "code",
   "execution_count": null,
   "metadata": {},
   "outputs": [],
   "source": [
    "asns = generate(pool_jw87600_surrounding_removed, reg_lv3_all_candidates)"
   ]
  },
  {
   "cell_type": "code",
   "execution_count": null,
   "metadata": {
    "scrolled": false
   },
   "outputs": [],
   "source": [
    "for asn in asns:\n",
    "    if asn['asn_id'] == 'o029' and asn['asn_type'] == 'image3':\n",
    "        print(asn)"
   ]
  },
  {
   "cell_type": "markdown",
   "metadata": {},
   "source": [
    "Will work here removing intervening exposures until problem goes away.\n",
    "\n",
    "_And have actually found a single other exposure that causes the issue. Problem pool now contains only two exposures. An exposure without a candidate, and a exposure with a candidate. And the without candidate must be first. The expectation is to get two associations, one discovered that has both the exposures in it, the other the observation candidate with the one exposure. Instead, we get the observation candidate twice._"
   ]
  },
  {
   "cell_type": "code",
   "execution_count": null,
   "metadata": {},
   "outputs": [],
   "source": [
    "pool_jw87600_intervening_removed = combine_pools('../data/sdp/pools/jw87600_intervening_removed_pool.csv')"
   ]
  },
  {
   "cell_type": "code",
   "execution_count": null,
   "metadata": {},
   "outputs": [],
   "source": [
    "asns = generate(pool_jw87600_intervening_removed, reg_lv3_all_candidates)"
   ]
  },
  {
   "cell_type": "code",
   "execution_count": null,
   "metadata": {
    "scrolled": false
   },
   "outputs": [],
   "source": [
    "for idx, asn in enumerate(asns):\n",
    "    if asn['asn_id'] == 'o029' and asn['asn_type'] == 'image3':\n",
    "        print(idx, asn)"
   ]
  },
  {
   "cell_type": "code",
   "execution_count": null,
   "metadata": {},
   "outputs": [],
   "source": [
    "asns"
   ]
  },
  {
   "cell_type": "code",
   "execution_count": null,
   "metadata": {},
   "outputs": [],
   "source": [
    "pool_jw87600_intervening_removed.show_in_notebook()"
   ]
  },
  {
   "cell_type": "markdown",
   "metadata": {},
   "source": [
    "Now let's debug the hell out of this..."
   ]
  },
  {
   "cell_type": "code",
   "execution_count": null,
   "metadata": {
    "scrolled": false
   },
   "outputs": [],
   "source": [
    "pdb.run(\"generate(pool_jw87600_intervening_removed, reg_lv3_all_candidates)\")"
   ]
  },
  {
   "cell_type": "markdown",
   "metadata": {},
   "source": [
    "Now lets run the Main and see what is up."
   ]
  },
  {
   "cell_type": "code",
   "execution_count": null,
   "metadata": {},
   "outputs": [],
   "source": [
    "cmd_args = [\n",
    "    '--dry-run',\n",
    "]"
   ]
  },
  {
   "cell_type": "code",
   "execution_count": null,
   "metadata": {},
   "outputs": [],
   "source": [
    "main_generated = Main(cmd_args, pool=pool_jw87600_intervening_removed)"
   ]
  },
  {
   "cell_type": "code",
   "execution_count": null,
   "metadata": {},
   "outputs": [],
   "source": [
    "main_generated.associations"
   ]
  },
  {
   "cell_type": "markdown",
   "metadata": {},
   "source": [
    "## 82600"
   ]
  },
  {
   "cell_type": "code",
   "execution_count": null,
   "metadata": {},
   "outputs": [],
   "source": [
    "all_candidates = copy(LV3_ONLY_ARGS)\n",
    "all_candidates.extend(['--all-candidates'])"
   ]
  },
  {
   "cell_type": "code",
   "execution_count": null,
   "metadata": {},
   "outputs": [],
   "source": [
    "pool_82600_fpath = '../data/sdp/pools/jw82600_20171108T041350_pool.csv'\n",
    "pool_82600 = AssociationPool.read(pool_82600_fpath)\n",
    "pool_82600_path, pool_82600_root = path.split(pool_82600_fpath)\n",
    "pool_82600_root = path.splitext(pool_82600_root)[0]"
   ]
  },
  {
   "cell_type": "code",
   "execution_count": null,
   "metadata": {},
   "outputs": [],
   "source": [
    "reg_lv3 = registry_level3_only()\n",
    "reg_all_candidates = registry_level3_only(global_constraints=constrain_on_candidates(None))"
   ]
  },
  {
   "cell_type": "code",
   "execution_count": null,
   "metadata": {
    "scrolled": false
   },
   "outputs": [],
   "source": [
    "pdb.run(\"asns = generate(pool_82600, reg_all_candidates)\")"
   ]
  },
  {
   "cell_type": "code",
   "execution_count": null,
   "metadata": {
    "scrolled": true
   },
   "outputs": [],
   "source": [
    "asns = generate(pool_82600, reg_all_candidates)"
   ]
  },
  {
   "cell_type": "code",
   "execution_count": null,
   "metadata": {},
   "outputs": [],
   "source": [
    "len(asns)"
   ]
  },
  {
   "cell_type": "code",
   "execution_count": null,
   "metadata": {},
   "outputs": [],
   "source": [
    "asns"
   ]
  },
  {
   "cell_type": "code",
   "execution_count": null,
   "metadata": {},
   "outputs": [],
   "source": [
    "gc.collect()"
   ]
  },
  {
   "cell_type": "code",
   "execution_count": null,
   "metadata": {},
   "outputs": [],
   "source": [
    "pool_82600[pool_82600['asn_candidate'] != 'null']['exp_type']"
   ]
  },
  {
   "cell_type": "code",
   "execution_count": null,
   "metadata": {},
   "outputs": [],
   "source": [
    "pool_mega = combine_pools('../data/mega_pool.csv')"
   ]
  },
  {
   "cell_type": "code",
   "execution_count": null,
   "metadata": {
    "scrolled": true
   },
   "outputs": [],
   "source": [
    "pdb.run(\"generate(pool_mega, reg_all_candidates)\")"
   ]
  },
  {
   "cell_type": "code",
   "execution_count": null,
   "metadata": {},
   "outputs": [],
   "source": [
    "make_standards(\n",
    "    pool_82600_root,\n",
    "    source= pool_82600_path,\n",
    "    outdir=SDP_NEW_ASN_DIR\n",
    ")"
   ]
  },
  {
   "cell_type": "markdown",
   "metadata": {},
   "source": [
    "## Coronographic test"
   ]
  },
  {
   "cell_type": "code",
   "execution_count": null,
   "metadata": {},
   "outputs": [],
   "source": [
    "nrc_coron_pars = find_test('pool_013_coron_nircam', standards)"
   ]
  },
  {
   "cell_type": "code",
   "execution_count": null,
   "metadata": {},
   "outputs": [],
   "source": [
    "c1000_args = copy(LV3_ONLY_ARGS)\n",
    "c1000_args.extend(['-i', 'c1000', 'c1001'])"
   ]
  },
  {
   "cell_type": "code",
   "execution_count": null,
   "metadata": {
    "scrolled": true
   },
   "outputs": [],
   "source": [
    "make_standards(\n",
    "    nrc_coron_pars.pool_root,\n",
    "    main_args=all_candidates,\n",
    "    source=DATA_DIR,\n",
    "    outdir=NEW_ASN_DIR\n",
    ")"
   ]
  },
  {
   "cell_type": "code",
   "execution_count": null,
   "metadata": {},
   "outputs": [],
   "source": [
    "nrc_coron_pool = combine_pools(path.join(DATA_DIR, nrc_coron_pars.pool_root + '.csv'))"
   ]
  },
  {
   "cell_type": "code",
   "execution_count": null,
   "metadata": {
    "scrolled": false
   },
   "outputs": [],
   "source": [
    "nrc_coron_pool['filename','targetid', 'is_psf', 'asn_candidate']"
   ]
  },
  {
   "cell_type": "code",
   "execution_count": null,
   "metadata": {},
   "outputs": [],
   "source": [
    "reg_coron = copy(reg_lv3)"
   ]
  },
  {
   "cell_type": "code",
   "execution_count": null,
   "metadata": {},
   "outputs": [],
   "source": [
    "names = [name for name in reg_coron]\n",
    "for name in names:\n",
    "    if name != 'Asn_Coron':\n",
    "        del reg_coron[name]"
   ]
  },
  {
   "cell_type": "code",
   "execution_count": null,
   "metadata": {
    "scrolled": true
   },
   "outputs": [],
   "source": [
    "asns = generate(nrc_coron_pool, reg_coron)"
   ]
  },
  {
   "cell_type": "code",
   "execution_count": null,
   "metadata": {
    "scrolled": true
   },
   "outputs": [],
   "source": [
    "len(asns)"
   ]
  },
  {
   "cell_type": "code",
   "execution_count": null,
   "metadata": {
    "scrolled": true
   },
   "outputs": [],
   "source": [
    "asns"
   ]
  },
  {
   "cell_type": "code",
   "execution_count": null,
   "metadata": {
    "scrolled": false
   },
   "outputs": [],
   "source": [
    "pdb.run(\"generate(nrc_coron_pool, reg_coron)\")"
   ]
  },
  {
   "cell_type": "markdown",
   "metadata": {},
   "source": [
    "## Make the SPD-based associations"
   ]
  },
  {
   "cell_type": "code",
   "execution_count": null,
   "metadata": {},
   "outputs": [],
   "source": [
    "pools = glob(path.join(SDP_POOLS, '*.csv'))"
   ]
  },
  {
   "cell_type": "code",
   "execution_count": null,
   "metadata": {
    "scrolled": true
   },
   "outputs": [],
   "source": [
    "for pool in pools:\n",
    "    if MAKE_ALL:\n",
    "        pool_dir, pool = path.split(pool)\n",
    "        pool, ext = path.splitext(pool)\n",
    "        make_standards(\n",
    "            pool,\n",
    "            source=pool_dir,\n",
    "            outdir=SDP_NEW_ASN_DIR\n",
    "        )"
   ]
  },
  {
   "cell_type": "code",
   "execution_count": null,
   "metadata": {},
   "outputs": [],
   "source": []
  }
 ],
 "metadata": {
  "anaconda-cloud": {},
  "kernelspec": {
   "display_name": "Python 3",
   "language": "python",
   "name": "python3"
  },
  "language_info": {
   "codemirror_mode": {
    "name": "ipython",
    "version": 3
   },
   "file_extension": ".py",
   "mimetype": "text/x-python",
   "name": "python",
   "nbconvert_exporter": "python",
   "pygments_lexer": "ipython3",
   "version": "3.6.4"
  }
 },
 "nbformat": 4,
 "nbformat_minor": 2
}

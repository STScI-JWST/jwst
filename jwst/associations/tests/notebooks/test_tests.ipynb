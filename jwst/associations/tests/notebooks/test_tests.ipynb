{
 "cells": [
  {
   "cell_type": "markdown",
   "metadata": {},
   "source": [
    "# Abstract"
   ]
  },
  {
   "cell_type": "markdown",
   "metadata": {},
   "source": [
    "Test individual test comparison associations"
   ]
  },
  {
   "cell_type": "markdown",
   "metadata": {},
   "source": [
    "# Environment"
   ]
  },
  {
   "cell_type": "code",
   "execution_count": 1,
   "metadata": {},
   "outputs": [],
   "source": [
    "# Setup debugging log\n",
    "import logging\n",
    "logger = logging.getLogger('jwst.associations')\n",
    "handler = logging.StreamHandler()\n",
    "logger.addHandler(handler)\n",
    "handler.setLevel(logging.DEBUG)\n",
    "logger.setLevel(logging.DEBUG)"
   ]
  },
  {
   "cell_type": "code",
   "execution_count": 2,
   "metadata": {},
   "outputs": [],
   "source": [
    "from copy import copy\n",
    "import gc\n",
    "from glob import glob\n",
    "from os import (\n",
    "    listdir, \n",
    "    mkdir,\n",
    "    path\n",
    ")\n",
    "import pdb\n",
    "import re\n",
    "import shutil\n",
    "from tempfile import TemporaryDirectory"
   ]
  },
  {
   "cell_type": "code",
   "execution_count": 3,
   "metadata": {},
   "outputs": [],
   "source": [
    "import numpy as np"
   ]
  },
  {
   "cell_type": "code",
   "execution_count": 4,
   "metadata": {},
   "outputs": [],
   "source": [
    "from jwst.associations import (\n",
    "    AssociationPool,\n",
    "    AssociationRegistry,\n",
    "    generate\n",
    ")\n",
    "from jwst.associations.main import (Main, constrain_on_candidates)\n",
    "from jwst.associations.lib.rules_level3_base import _EMPTY"
   ]
  },
  {
   "cell_type": "code",
   "execution_count": 5,
   "metadata": {},
   "outputs": [],
   "source": [
    "from jwst.associations.tests.helpers import (\n",
    "    combine_pools,\n",
    "    registry_level3_only,\n",
    "    registry_level2_only,\n",
    "    t_path,\n",
    ")"
   ]
  },
  {
   "cell_type": "code",
   "execution_count": 6,
   "metadata": {},
   "outputs": [],
   "source": [
    "from jwst.associations.tests.test_standards import (\n",
    "    DEF_ARGS,\n",
    "    LV2_ONLY_ARGS,\n",
    "    LV3_ONLY_ARGS,\n",
    "    MakePars,\n",
    "    standards\n",
    ")"
   ]
  },
  {
   "cell_type": "code",
   "execution_count": 7,
   "metadata": {},
   "outputs": [],
   "source": [
    "# Folders\n",
    "DATA_DIR = path.join(\n",
    "    '..', 'data'\n",
    ")\n",
    "NEW_ASN_DIR = path.join(\n",
    "    DATA_DIR,\n",
    "    'new_asn_standards'\n",
    ")\n",
    "SDP_DIR = path.join(\n",
    "    '..', 'data', 'sdp'\n",
    ")\n",
    "SDP_POOLS = path.join(\n",
    "    SDP_DIR, 'pools'\n",
    ")\n",
    "SDP_NEW_ASN_DIR = path.join(\n",
    "    SDP_DIR, 'new_asns'\n",
    ")"
   ]
  },
  {
   "cell_type": "markdown",
   "metadata": {},
   "source": [
    "# Library"
   ]
  },
  {
   "cell_type": "code",
   "execution_count": 8,
   "metadata": {},
   "outputs": [],
   "source": [
    "def make_standards(pool_root, \n",
    "                   main_args=None,\n",
    "                   source=DATA_DIR,\n",
    "                   outdir=NEW_ASN_DIR\n",
    "                  ):\n",
    "    \"\"\"Make the association standards for a pool\"\"\"\n",
    "    pool_path = path.join(\n",
    "        source,\n",
    "        pool_root + '.csv'\n",
    "    )\n",
    "    pool = combine_pools(pool_path)\n",
    "    if main_args is None:\n",
    "        main_args = []\n",
    "    with TemporaryDirectory() as tmp_path:\n",
    "        args = main_args + ['-v', '-p', tmp_path]\n",
    "        results = Main(\n",
    "            args,\n",
    "            pool=pool\n",
    "        )\n",
    "        asn_paths = listdir(tmp_path)\n",
    "        for asn_path in asn_paths:\n",
    "            matches = re.match('[^-]+(-.+)', asn_path)\n",
    "            asn_tail = matches.group(1)\n",
    "            from_path = path.join(tmp_path, asn_path)\n",
    "            to_path = path.join(outdir, pool_root + asn_tail)\n",
    "            shutil.move(from_path, to_path)\n",
    "        pool.write(path.join(outdir, pool_root + '_std.csv'))"
   ]
  },
  {
   "cell_type": "code",
   "execution_count": 9,
   "metadata": {},
   "outputs": [],
   "source": [
    "def find_test(pool_root, test_pars):\n",
    "    \"\"\"Find a particular test setup\n",
    "    \n",
    "    Parameters\n",
    "    ----------\n",
    "    pool_root: str\n",
    "        The pool to find in the test parameters.\n",
    "        \n",
    "    test_pars: [MakePars[,...]]\n",
    "        The list of `MakePars` to search\n",
    "        \n",
    "    Returns\n",
    "    -------\n",
    "    MakePars\n",
    "        The `MakePars` corresponding to the desired\n",
    "        pool root.\n",
    "        \n",
    "    Raises\n",
    "    ------\n",
    "    KeyError if `pool_root` is not found\n",
    "    \"\"\"\n",
    "    for test_par in test_pars:\n",
    "        if test_par.pool_root == pool_root:\n",
    "            return test_par\n",
    "    raise Keyerror('Pool {} not found in test pars'.format(pool_root))"
   ]
  },
  {
   "cell_type": "markdown",
   "metadata": {},
   "source": [
    "# Main"
   ]
  },
  {
   "cell_type": "markdown",
   "metadata": {},
   "source": [
    "## Clear result folder"
   ]
  },
  {
   "cell_type": "code",
   "execution_count": 12,
   "metadata": {},
   "outputs": [
    {
     "data": {
      "text/plain": [
       "AttrConstraint({'value': None, 'name': 'asn_candidate', 'is_acid': True, 'sources': ['asn_candidate'], 'evaluate': True, 'force_reprocess': False, 'force_unique': True, 'force_undefined': False, 'invalid_values': (None, '', 'NULL', 'Null', 'null', '--', 'N', 'n', 'F', 'f'), 'only_on_match': False, 'onlyif': <function AttrConstraint.__init__.<locals>.<lambda> at 0x114c5c488>, 'required': True, 'found_values': set()})"
      ]
     },
     "execution_count": 12,
     "metadata": {},
     "output_type": "execute_result"
    }
   ],
   "source": [
    "constrain_all_candidates = constrain_on_candidates(None)\n",
    "constrain_all_candidates"
   ]
  },
  {
   "cell_type": "code",
   "execution_count": 13,
   "metadata": {},
   "outputs": [],
   "source": [
    "# constrain_all_candidates.invalid_values = _EMPTY"
   ]
  },
  {
   "cell_type": "code",
   "execution_count": 14,
   "metadata": {},
   "outputs": [],
   "source": [
    "# constrain_all_candidates"
   ]
  },
  {
   "cell_type": "code",
   "execution_count": 15,
   "metadata": {},
   "outputs": [],
   "source": [
    "reg_lv2_all_candidates = registry_level2_only(global_constraints=constrain_all_candidates)\n",
    "reg_lv3_all_candidates = registry_level3_only(global_constraints=constrain_all_candidates)"
   ]
  },
  {
   "cell_type": "markdown",
   "metadata": {},
   "source": [
    "## sdp/jw87600 double image3 for o029"
   ]
  },
  {
   "cell_type": "markdown",
   "metadata": {},
   "source": [
    "Now, the second round, the last exposure of the candidate has gone completely missing."
   ]
  },
  {
   "cell_type": "code",
   "execution_count": 16,
   "metadata": {},
   "outputs": [],
   "source": [
    "pool_jw87600 = combine_pools('../data/sdp/pools/jw87600_20171108T042226_pool.csv')"
   ]
  },
  {
   "cell_type": "code",
   "execution_count": 17,
   "metadata": {},
   "outputs": [],
   "source": [
    "constrain_o029 = constrain_on_candidates(['o029'])"
   ]
  },
  {
   "cell_type": "code",
   "execution_count": 18,
   "metadata": {},
   "outputs": [
    {
     "data": {
      "text/plain": [
       "AttrConstraint({'value': '.+(o029).+', 'name': 'asn_candidate', 'is_acid': True, 'sources': ['asn_candidate'], 'evaluate': True, 'force_reprocess': False, 'force_unique': True, 'force_undefined': False, 'invalid_values': (None, '', 'NULL', 'Null', 'null', '--', 'N', 'n', 'F', 'f'), 'only_on_match': False, 'onlyif': <function AttrConstraint.__init__.<locals>.<lambda> at 0x114c5c598>, 'required': True, 'found_values': set()})"
      ]
     },
     "execution_count": 18,
     "metadata": {},
     "output_type": "execute_result"
    }
   ],
   "source": [
    "constrain_o029"
   ]
  },
  {
   "cell_type": "code",
   "execution_count": 19,
   "metadata": {},
   "outputs": [],
   "source": [
    "reg_lv3_o029 = registry_level3_only(global_constraints=constrain_o029)"
   ]
  },
  {
   "cell_type": "markdown",
   "metadata": {},
   "source": [
    "Error occurs with level3 only rules, constrain on all candidates"
   ]
  },
  {
   "cell_type": "code",
   "execution_count": 20,
   "metadata": {},
   "outputs": [],
   "source": [
    "asns = generate(pool_jw87600, reg_lv3_all_candidates)"
   ]
  },
  {
   "cell_type": "code",
   "execution_count": 21,
   "metadata": {},
   "outputs": [
    {
     "data": {
      "text/plain": [
       "6"
      ]
     },
     "execution_count": 21,
     "metadata": {},
     "output_type": "execute_result"
    }
   ],
   "source": [
    "len(asns)"
   ]
  },
  {
   "cell_type": "code",
   "execution_count": 22,
   "metadata": {
    "scrolled": true
   },
   "outputs": [
    {
     "data": {
      "text/plain": [
       "[{\n",
       "     \"asn_type\": \"image3\",\n",
       "     \"asn_rule\": \"Asn_Image\",\n",
       "     \"version_id\": null,\n",
       "     \"code_version\": \"0.9.6\",\n",
       "     \"degraded_status\": \"No known degraded exposures in association.\",\n",
       "     \"program\": \"87600\",\n",
       "     \"constraints\": \"LV3AttrConstraint({'name': 'program', 'sources': ['program'], 'value': '87600'})\\nLV3AttrConstraint({'name': 'instrument', 'sources': ['instrume'], 'value': 'niriss'})\\nLV3AttrConstraint({'name': 'opt_elem', 'sources': ['filter'], 'value': 'f380m'})\\nLV3AttrConstraint({'name': 'opt_elem2', 'sources': ['pupil'], 'value': 'clearp'})\\nLV3AttrConstraint({'name': 'target', 'sources': ['targetid'], 'value': '1'})\\nLV3AttrConstraint({'name': 'exp_type', 'sources': ['exp_type'], 'value': 'nis_image'})\\nLV3AttrConstraint({'name': 'wfsvisit', 'sources': ['visitype'], 'value': 'prime_targeted_fixed'})\\nAttrConstraint({'name': 'asn_candidate', 'sources': ['asn_candidate'], 'value': \\\"\\\\\\\\(\\\\\\\\'o029\\\\\\\\'\\\\\\\\,\\\\\\\\ \\\\\\\\'observation\\\\\\\\'\\\\\\\\)\\\"})\",\n",
       "     \"asn_id\": \"o029\",\n",
       "     \"target\": \"t001\",\n",
       "     \"asn_pool\": \"jw87600_20171108T042226_pool\",\n",
       "     \"products\": [\n",
       "         {\n",
       "             \"name\": \"jw87600-o029_t001_niriss_f380m-clearp\",\n",
       "             \"members\": [\n",
       "                 {\n",
       "                     \"expname\": \"jw87600029001_02104_00001_nis_cal.fits\",\n",
       "                     \"exptype\": \"science\",\n",
       "                     \"exposerr\": \"null\",\n",
       "                     \"asn_candidate\": \"('o029', 'observation')\"\n",
       "                 }\n",
       "             ]\n",
       "         }\n",
       "     ]\n",
       " }, {\n",
       "     \"asn_type\": \"ami3\",\n",
       "     \"asn_rule\": \"Asn_AMI\",\n",
       "     \"version_id\": null,\n",
       "     \"code_version\": \"0.9.6\",\n",
       "     \"degraded_status\": \"No known degraded exposures in association.\",\n",
       "     \"program\": \"87600\",\n",
       "     \"constraints\": \"LV3AttrConstraint({'name': 'program', 'sources': ['program'], 'value': '87600'})\\nLV3AttrConstraint({'name': 'instrument', 'sources': ['instrume'], 'value': 'niriss'})\\nLV3AttrConstraint({'name': 'opt_elem', 'sources': ['filter'], 'value': 'f430m'})\\nLV3AttrConstraint({'name': 'opt_elem2', 'sources': ['pupil'], 'value': 'nrm'})\\nLV3AttrConstraint({'name': 'exp_type', 'sources': ['exp_type'], 'value': 'nis_ami'})\\nLV3AttrConstraint({'name': 'target', 'sources': ['targetid'], 'value': '1'})\\nAttrConstraint({'name': 'asn_candidate', 'sources': ['asn_candidate'], 'value': \\\"\\\\\\\\(\\\\\\\\'o029\\\\\\\\'\\\\\\\\,\\\\\\\\ \\\\\\\\'observation\\\\\\\\'\\\\\\\\)\\\"})\",\n",
       "     \"asn_id\": \"o029\",\n",
       "     \"target\": \"t001\",\n",
       "     \"asn_pool\": \"jw87600_20171108T042226_pool\",\n",
       "     \"products\": [\n",
       "         {\n",
       "             \"name\": \"jw87600-o029_t001_niriss_f430m-nrm\",\n",
       "             \"members\": [\n",
       "                 {\n",
       "                     \"expname\": \"jw87600029001_02102_00001_nis_cal.fits\",\n",
       "                     \"exptype\": \"science\",\n",
       "                     \"exposerr\": \"null\",\n",
       "                     \"asn_candidate\": \"('o029', 'observation')\"\n",
       "                 }\n",
       "             ]\n",
       "         }\n",
       "     ]\n",
       " }, {\n",
       "     \"asn_type\": \"image3\",\n",
       "     \"asn_rule\": \"Asn_Image\",\n",
       "     \"version_id\": null,\n",
       "     \"code_version\": \"0.9.6\",\n",
       "     \"degraded_status\": \"No known degraded exposures in association.\",\n",
       "     \"program\": \"87600\",\n",
       "     \"constraints\": \"LV3AttrConstraint({'name': 'program', 'sources': ['program'], 'value': '87600'})\\nLV3AttrConstraint({'name': 'instrument', 'sources': ['instrume'], 'value': 'niriss'})\\nLV3AttrConstraint({'name': 'opt_elem', 'sources': ['filter'], 'value': 'clear'})\\nLV3AttrConstraint({'name': 'opt_elem2', 'sources': ['pupil'], 'value': 'f140m'})\\nLV3AttrConstraint({'name': 'target', 'sources': ['targetid'], 'value': '1'})\\nLV3AttrConstraint({'name': 'exp_type', 'sources': ['exp_type'], 'value': 'nis_image'})\\nLV3AttrConstraint({'name': 'wfsvisit', 'sources': ['visitype'], 'value': 'prime_targeted_fixed'})\\nAttrConstraint({'name': 'asn_candidate', 'sources': ['asn_candidate'], 'value': \\\"\\\\\\\\(\\\\\\\\'o014\\\\\\\\'\\\\\\\\,\\\\\\\\ \\\\\\\\'observation\\\\\\\\'\\\\\\\\)\\\"})\",\n",
       "     \"asn_id\": \"o014\",\n",
       "     \"target\": \"t001\",\n",
       "     \"asn_pool\": \"jw87600_20171108T042226_pool\",\n",
       "     \"products\": [\n",
       "         {\n",
       "             \"name\": \"jw87600-o014_t001_niriss_f140m\",\n",
       "             \"members\": [\n",
       "                 {\n",
       "                     \"expname\": \"jw87600014001_02101_00001_nis_cal.fits\",\n",
       "                     \"exptype\": \"science\",\n",
       "                     \"exposerr\": \"null\",\n",
       "                     \"asn_candidate\": \"('o014', 'observation')\"\n",
       "                 }\n",
       "             ]\n",
       "         }\n",
       "     ]\n",
       " }, {\n",
       "     \"asn_type\": \"ami3\",\n",
       "     \"asn_rule\": \"Asn_AMI\",\n",
       "     \"version_id\": null,\n",
       "     \"code_version\": \"0.9.6\",\n",
       "     \"degraded_status\": \"No known degraded exposures in association.\",\n",
       "     \"program\": \"87600\",\n",
       "     \"constraints\": \"LV3AttrConstraint({'name': 'program', 'sources': ['program'], 'value': '87600'})\\nLV3AttrConstraint({'name': 'instrument', 'sources': ['instrume'], 'value': 'niriss'})\\nLV3AttrConstraint({'name': 'opt_elem', 'sources': ['filter'], 'value': 'f380m'})\\nLV3AttrConstraint({'name': 'opt_elem2', 'sources': ['pupil'], 'value': 'nrm'})\\nLV3AttrConstraint({'name': 'exp_type', 'sources': ['exp_type'], 'value': 'nis_ami'})\\nLV3AttrConstraint({'name': 'target', 'sources': ['targetid'], 'value': '1'})\\nAttrConstraint({'name': 'asn_candidate', 'sources': ['asn_candidate'], 'value': \\\"\\\\\\\\(\\\\\\\\'o029\\\\\\\\'\\\\\\\\,\\\\\\\\ \\\\\\\\'observation\\\\\\\\'\\\\\\\\)\\\"})\",\n",
       "     \"asn_id\": \"o029\",\n",
       "     \"target\": \"t001\",\n",
       "     \"asn_pool\": \"jw87600_20171108T042226_pool\",\n",
       "     \"products\": [\n",
       "         {\n",
       "             \"name\": \"jw87600-o029_t001_niriss_f380m-nrm\",\n",
       "             \"members\": [\n",
       "                 {\n",
       "                     \"expname\": \"jw87600029001_02101_00001_nis_cal.fits\",\n",
       "                     \"exptype\": \"science\",\n",
       "                     \"exposerr\": \"null\",\n",
       "                     \"asn_candidate\": \"('o029', 'observation')\"\n",
       "                 }\n",
       "             ]\n",
       "         }\n",
       "     ]\n",
       " }, {\n",
       "     \"asn_type\": \"image3\",\n",
       "     \"asn_rule\": \"Asn_Image\",\n",
       "     \"version_id\": null,\n",
       "     \"code_version\": \"0.9.6\",\n",
       "     \"degraded_status\": \"No known degraded exposures in association.\",\n",
       "     \"program\": \"87600\",\n",
       "     \"constraints\": \"LV3AttrConstraint({'name': 'program', 'sources': ['program'], 'value': '87600'})\\nLV3AttrConstraint({'name': 'instrument', 'sources': ['instrume'], 'value': 'niriss'})\\nLV3AttrConstraint({'name': 'opt_elem', 'sources': ['filter'], 'value': 'f444w'})\\nLV3AttrConstraint({'name': 'opt_elem2', 'sources': ['pupil'], 'value': 'clearp'})\\nLV3AttrConstraint({'name': 'target', 'sources': ['targetid'], 'value': '1'})\\nLV3AttrConstraint({'name': 'exp_type', 'sources': ['exp_type'], 'value': 'nis_image'})\\nLV3AttrConstraint({'name': 'wfsvisit', 'sources': ['visitype'], 'value': 'prime_targeted_fixed'})\\nAttrConstraint({'name': 'asn_candidate', 'sources': ['asn_candidate'], 'value': \\\"\\\\\\\\(\\\\\\\\'o004\\\\\\\\'\\\\\\\\,\\\\\\\\ \\\\\\\\'observation\\\\\\\\'\\\\\\\\)\\\"})\",\n",
       "     \"asn_id\": \"o004\",\n",
       "     \"target\": \"t001\",\n",
       "     \"asn_pool\": \"jw87600_20171108T042226_pool\",\n",
       "     \"products\": [\n",
       "         {\n",
       "             \"name\": \"jw87600-o004_t001_niriss_f444w-clearp\",\n",
       "             \"members\": [\n",
       "                 {\n",
       "                     \"expname\": \"jw87600004001_02102_00001_nis_cal.fits\",\n",
       "                     \"exptype\": \"science\",\n",
       "                     \"exposerr\": \"null\",\n",
       "                     \"asn_candidate\": \"('o004', 'observation')\"\n",
       "                 },\n",
       "                 {\n",
       "                     \"expname\": \"jw87600004001_02103_00001_nis_cal.fits\",\n",
       "                     \"exptype\": \"science\",\n",
       "                     \"exposerr\": \"null\",\n",
       "                     \"asn_candidate\": \"('o004', 'observation')\"\n",
       "                 },\n",
       "                 {\n",
       "                     \"expname\": \"jw87600004001_02101_00001_nis_cal.fits\",\n",
       "                     \"exptype\": \"science\",\n",
       "                     \"exposerr\": \"null\",\n",
       "                     \"asn_candidate\": \"('o004', 'observation')\"\n",
       "                 }\n",
       "             ]\n",
       "         }\n",
       "     ]\n",
       " }, {\n",
       "     \"asn_type\": \"image3\",\n",
       "     \"asn_rule\": \"Asn_Image\",\n",
       "     \"version_id\": null,\n",
       "     \"code_version\": \"0.9.6\",\n",
       "     \"degraded_status\": \"No known degraded exposures in association.\",\n",
       "     \"program\": \"87600\",\n",
       "     \"constraints\": \"LV3AttrConstraint({'name': 'program', 'sources': ['program'], 'value': '87600'})\\nLV3AttrConstraint({'name': 'instrument', 'sources': ['instrume'], 'value': 'niriss'})\\nLV3AttrConstraint({'name': 'opt_elem', 'sources': ['filter'], 'value': 'f430m'})\\nLV3AttrConstraint({'name': 'opt_elem2', 'sources': ['pupil'], 'value': 'clearp'})\\nLV3AttrConstraint({'name': 'target', 'sources': ['targetid'], 'value': '1'})\\nLV3AttrConstraint({'name': 'exp_type', 'sources': ['exp_type'], 'value': 'nis_image'})\\nLV3AttrConstraint({'name': 'wfsvisit', 'sources': ['visitype'], 'value': 'prime_targeted_fixed'})\\nAttrConstraint({'name': 'asn_candidate', 'sources': ['asn_candidate'], 'value': \\\"\\\\\\\\(\\\\\\\\'o029\\\\\\\\'\\\\\\\\,\\\\\\\\ \\\\\\\\'observation\\\\\\\\'\\\\\\\\)\\\"})\",\n",
       "     \"asn_id\": \"o029\",\n",
       "     \"target\": \"t001\",\n",
       "     \"asn_pool\": \"jw87600_20171108T042226_pool\",\n",
       "     \"products\": [\n",
       "         {\n",
       "             \"name\": \"jw87600-o029_t001_niriss_f430m-clearp\",\n",
       "             \"members\": [\n",
       "                 {\n",
       "                     \"expname\": \"jw87600029001_02105_00001_nis_cal.fits\",\n",
       "                     \"exptype\": \"science\",\n",
       "                     \"exposerr\": \"null\",\n",
       "                     \"asn_candidate\": \"('o029', 'observation')\"\n",
       "                 }\n",
       "             ]\n",
       "         }\n",
       "     ]\n",
       " }]"
      ]
     },
     "execution_count": 22,
     "metadata": {},
     "output_type": "execute_result"
    }
   ],
   "source": [
    "asns"
   ]
  },
  {
   "cell_type": "code",
   "execution_count": 23,
   "metadata": {
    "scrolled": false
   },
   "outputs": [
    {
     "name": "stdout",
     "output_type": "stream",
     "text": [
      "0 jw87600-o029_image3_001_asn with 1 products\n",
      "Rule=Asn_Image\n",
      "LV3AttrConstraint({'name': 'program', 'sources': ['program'], 'value': '87600'})\n",
      "LV3AttrConstraint({'name': 'instrument', 'sources': ['instrume'], 'value': 'niriss'})\n",
      "LV3AttrConstraint({'name': 'opt_elem', 'sources': ['filter'], 'value': 'f380m'})\n",
      "LV3AttrConstraint({'name': 'opt_elem2', 'sources': ['pupil'], 'value': 'clearp'})\n",
      "LV3AttrConstraint({'name': 'target', 'sources': ['targetid'], 'value': '1'})\n",
      "LV3AttrConstraint({'name': 'exp_type', 'sources': ['exp_type'], 'value': 'nis_image'})\n",
      "LV3AttrConstraint({'name': 'wfsvisit', 'sources': ['visitype'], 'value': 'prime_targeted_fixed'})\n",
      "AttrConstraint({'name': 'asn_candidate', 'sources': ['asn_candidate'], 'value': \"\\\\(\\\\'o029\\\\'\\\\,\\\\ \\\\'observation\\\\'\\\\)\"})\n",
      "Products:\n",
      "\tjw87600-o029_t001_niriss_f380m-clearp with 1 members\n",
      "5 jw87600-o029_image3_002_asn with 1 products\n",
      "Rule=Asn_Image\n",
      "LV3AttrConstraint({'name': 'program', 'sources': ['program'], 'value': '87600'})\n",
      "LV3AttrConstraint({'name': 'instrument', 'sources': ['instrume'], 'value': 'niriss'})\n",
      "LV3AttrConstraint({'name': 'opt_elem', 'sources': ['filter'], 'value': 'f430m'})\n",
      "LV3AttrConstraint({'name': 'opt_elem2', 'sources': ['pupil'], 'value': 'clearp'})\n",
      "LV3AttrConstraint({'name': 'target', 'sources': ['targetid'], 'value': '1'})\n",
      "LV3AttrConstraint({'name': 'exp_type', 'sources': ['exp_type'], 'value': 'nis_image'})\n",
      "LV3AttrConstraint({'name': 'wfsvisit', 'sources': ['visitype'], 'value': 'prime_targeted_fixed'})\n",
      "AttrConstraint({'name': 'asn_candidate', 'sources': ['asn_candidate'], 'value': \"\\\\(\\\\'o029\\\\'\\\\,\\\\ \\\\'observation\\\\'\\\\)\"})\n",
      "Products:\n",
      "\tjw87600-o029_t001_niriss_f430m-clearp with 1 members\n"
     ]
    }
   ],
   "source": [
    "for idx, asn in enumerate(asns):\n",
    "    if asn['asn_id'] == 'o029' and asn['asn_type'] == 'image3':\n",
    "        print(idx, asn)"
   ]
  },
  {
   "cell_type": "code",
   "execution_count": null,
   "metadata": {},
   "outputs": [],
   "source": [
    "asns[19]['products'][0]['members']"
   ]
  },
  {
   "cell_type": "code",
   "execution_count": null,
   "metadata": {},
   "outputs": [],
   "source": [
    "asns[20]['products'][0]['members']"
   ]
  },
  {
   "cell_type": "markdown",
   "metadata": {},
   "source": [
    "Try on just the one exposure. Works as expected"
   ]
  },
  {
   "cell_type": "code",
   "execution_count": null,
   "metadata": {},
   "outputs": [],
   "source": [
    "pool_jw87600_single = combine_pools('../data/sdp/pools/jw87600_single_pool.csv')"
   ]
  },
  {
   "cell_type": "code",
   "execution_count": null,
   "metadata": {},
   "outputs": [],
   "source": [
    "pool_jw87600_single.show_in_notebook()"
   ]
  },
  {
   "cell_type": "code",
   "execution_count": null,
   "metadata": {},
   "outputs": [],
   "source": [
    "asns = generate(pool_jw87600_single, reg_lv3_all_candidates)"
   ]
  },
  {
   "cell_type": "code",
   "execution_count": null,
   "metadata": {},
   "outputs": [],
   "source": [
    "len(asns)"
   ]
  },
  {
   "cell_type": "code",
   "execution_count": null,
   "metadata": {
    "scrolled": true
   },
   "outputs": [],
   "source": [
    "asns"
   ]
  },
  {
   "cell_type": "markdown",
   "metadata": {},
   "source": [
    "Try the whole candidate. Works fine"
   ]
  },
  {
   "cell_type": "code",
   "execution_count": null,
   "metadata": {},
   "outputs": [],
   "source": [
    "pool_jw87600_o029 = combine_pools('../data/sdp/pools/jw87600_o029_pool.csv')"
   ]
  },
  {
   "cell_type": "code",
   "execution_count": null,
   "metadata": {},
   "outputs": [],
   "source": [
    "pool_jw87600_o029.show_in_notebook()"
   ]
  },
  {
   "cell_type": "code",
   "execution_count": null,
   "metadata": {},
   "outputs": [],
   "source": [
    "asns = generate(pool_jw87600_o029, reg_lv3_all_candidates)"
   ]
  },
  {
   "cell_type": "code",
   "execution_count": null,
   "metadata": {},
   "outputs": [],
   "source": [
    "len(asns)"
   ]
  },
  {
   "cell_type": "code",
   "execution_count": null,
   "metadata": {
    "scrolled": false
   },
   "outputs": [],
   "source": [
    "for asn in asns:\n",
    "    if asn['asn_id'] == 'o029' and asn['asn_type'] == 'image3':\n",
    "        print(asn)"
   ]
  },
  {
   "cell_type": "markdown",
   "metadata": {},
   "source": [
    "Remove the offending exposure, see if something else appears. Nope, its gone and the other doesn't start duplicating."
   ]
  },
  {
   "cell_type": "code",
   "execution_count": null,
   "metadata": {},
   "outputs": [],
   "source": [
    "pool_jw87600_removed = combine_pools('../data/sdp/pools/jw87600_exp_removed_pool.csv')"
   ]
  },
  {
   "cell_type": "code",
   "execution_count": null,
   "metadata": {},
   "outputs": [],
   "source": [
    "asns = generate(pool_jw87600_removed, reg_lv3_all_candidates)"
   ]
  },
  {
   "cell_type": "code",
   "execution_count": null,
   "metadata": {
    "scrolled": false
   },
   "outputs": [],
   "source": [
    "for asn in asns:\n",
    "    if asn['asn_id'] == 'o029' and asn['asn_type'] == 'image3':\n",
    "        print(asn)"
   ]
  },
  {
   "cell_type": "markdown",
   "metadata": {},
   "source": [
    "Remove extraneous exposures around o029. Duplication occurs. Has something to do with the intervening ones."
   ]
  },
  {
   "cell_type": "code",
   "execution_count": null,
   "metadata": {},
   "outputs": [],
   "source": [
    "pool_jw87600_surrounding_removed = combine_pools('../data/sdp/pools/jw87600_surrounding_removed_pool.csv')"
   ]
  },
  {
   "cell_type": "code",
   "execution_count": null,
   "metadata": {},
   "outputs": [],
   "source": [
    "asns = generate(pool_jw87600_surrounding_removed, reg_lv3_all_candidates)"
   ]
  },
  {
   "cell_type": "code",
   "execution_count": null,
   "metadata": {
    "scrolled": false
   },
   "outputs": [],
   "source": [
    "for asn in asns:\n",
    "    if asn['asn_id'] == 'o029' and asn['asn_type'] == 'image3':\n",
    "        print(asn)"
   ]
  },
  {
   "cell_type": "markdown",
   "metadata": {},
   "source": [
    "Will work here removing intervening exposures until problem goes away.\n",
    "\n",
    "_And have actually found a single other exposure that causes the issue. Problem pool now contains only two exposures. An exposure without a candidate, and a exposure with a candidate. And the without candidate must be first. The expectation is to get two associations, one discovered that has both the exposures in it, the other the observation candidate with the one exposure. Instead, we get the observation candidate twice._"
   ]
  },
  {
   "cell_type": "code",
   "execution_count": null,
   "metadata": {},
   "outputs": [],
   "source": [
    "pool_jw87600_intervening_removed = combine_pools('../data/sdp/pools/jw87600_intervening_removed_pool.csv')"
   ]
  },
  {
   "cell_type": "code",
   "execution_count": null,
   "metadata": {},
   "outputs": [],
   "source": [
    "asns = generate(pool_jw87600_intervening_removed, reg_lv3_all_candidates)"
   ]
  },
  {
   "cell_type": "code",
   "execution_count": null,
   "metadata": {
    "scrolled": false
   },
   "outputs": [],
   "source": [
    "for idx, asn in enumerate(asns):\n",
    "    if asn['asn_id'] == 'o029' and asn['asn_type'] == 'image3':\n",
    "        print(idx, asn)"
   ]
  },
  {
   "cell_type": "code",
   "execution_count": null,
   "metadata": {},
   "outputs": [],
   "source": [
    "asns"
   ]
  },
  {
   "cell_type": "code",
   "execution_count": null,
   "metadata": {},
   "outputs": [],
   "source": [
    "pool_jw87600_intervening_removed.show_in_notebook()"
   ]
  },
  {
   "cell_type": "markdown",
   "metadata": {},
   "source": [
    "Now let's debug the hell out of this..."
   ]
  },
  {
   "cell_type": "code",
   "execution_count": null,
   "metadata": {
    "scrolled": false
   },
   "outputs": [],
   "source": [
    "pdb.run(\"generate(pool_jw87600_intervening_removed, reg_lv3_all_candidates)\")"
   ]
  },
  {
   "cell_type": "markdown",
   "metadata": {},
   "source": [
    "Now lets run the Main and see what is up."
   ]
  },
  {
   "cell_type": "code",
   "execution_count": null,
   "metadata": {},
   "outputs": [],
   "source": [
    "cmd_args = [\n",
    "    '--dry-run',\n",
    "]"
   ]
  },
  {
   "cell_type": "code",
   "execution_count": null,
   "metadata": {},
   "outputs": [],
   "source": [
    "main_generated = Main(cmd_args, pool=pool_jw87600_intervening_removed)"
   ]
  },
  {
   "cell_type": "code",
   "execution_count": null,
   "metadata": {},
   "outputs": [],
   "source": [
    "main_generated.associations"
   ]
  },
  {
   "cell_type": "markdown",
   "metadata": {},
   "source": [
    "## pool_005_niriss looking for level2 spectral"
   ]
  },
  {
   "cell_type": "code",
   "execution_count": null,
   "metadata": {},
   "outputs": [],
   "source": [
    "pool_005_niriss = combine_pools('../data/pool_005_spec_niriss.cs')"
   ]
  },
  {
   "cell_type": "code",
   "execution_count": null,
   "metadata": {},
   "outputs": [],
   "source": [
    "pool_005_niriss.show_in_notebook()"
   ]
  },
  {
   "cell_type": "code",
   "execution_count": null,
   "metadata": {},
   "outputs": [],
   "source": [
    "asns = generate(pool_005_niriss, reg_lv2_all_candidates)"
   ]
  },
  {
   "cell_type": "code",
   "execution_count": null,
   "metadata": {},
   "outputs": [],
   "source": [
    "len(asns)"
   ]
  },
  {
   "cell_type": "code",
   "execution_count": null,
   "metadata": {
    "scrolled": true
   },
   "outputs": [],
   "source": [
    "pdb.run(\"generate(pool_005_niriss, reg_lv2_all_candidates)\")"
   ]
  },
  {
   "cell_type": "markdown",
   "metadata": {},
   "source": [
    "## pool_004_wfs looking for level2 image"
   ]
  },
  {
   "cell_type": "code",
   "execution_count": null,
   "metadata": {},
   "outputs": [],
   "source": [
    "pool_004_wfs = combine_pools('../data/pool_004_wfs.csv')"
   ]
  },
  {
   "cell_type": "code",
   "execution_count": null,
   "metadata": {},
   "outputs": [],
   "source": [
    "pool_004_wfs.show_in_notebook()"
   ]
  },
  {
   "cell_type": "code",
   "execution_count": null,
   "metadata": {
    "scrolled": false
   },
   "outputs": [],
   "source": [
    "pdb.run(\"generate(pool_004_wfs, reg_lv2_all_candidates)\")"
   ]
  },
  {
   "cell_type": "code",
   "execution_count": null,
   "metadata": {},
   "outputs": [],
   "source": [
    "asns = generate(pool_004_wfs, reg_lv2_all_candidates)"
   ]
  },
  {
   "cell_type": "code",
   "execution_count": null,
   "metadata": {},
   "outputs": [],
   "source": [
    "len(asns)"
   ]
  },
  {
   "cell_type": "code",
   "execution_count": null,
   "metadata": {
    "scrolled": true
   },
   "outputs": [],
   "source": [
    "asns"
   ]
  },
  {
   "cell_type": "markdown",
   "metadata": {},
   "source": [
    "## 82600"
   ]
  },
  {
   "cell_type": "code",
   "execution_count": null,
   "metadata": {},
   "outputs": [],
   "source": [
    "all_candidates = copy(LV3_ONLY_ARGS)\n",
    "all_candidates.extend(['--all-candidates'])"
   ]
  },
  {
   "cell_type": "code",
   "execution_count": null,
   "metadata": {},
   "outputs": [],
   "source": [
    "pool_82600_fpath = '../data/sdp/pools/jw82600_20171108T041350_pool.csv'\n",
    "pool_82600 = AssociationPool.read(pool_82600_fpath)\n",
    "pool_82600_path, pool_82600_root = path.split(pool_82600_fpath)\n",
    "pool_82600_root = path.splitext(pool_82600_root)[0]"
   ]
  },
  {
   "cell_type": "code",
   "execution_count": null,
   "metadata": {},
   "outputs": [],
   "source": [
    "reg_lv3 = registry_level3_only()\n",
    "reg_all_candidates = registry_level3_only(global_constraints=constrain_on_candidates(None))"
   ]
  },
  {
   "cell_type": "code",
   "execution_count": null,
   "metadata": {
    "scrolled": false
   },
   "outputs": [],
   "source": [
    "pdb.run(\"asns = generate(pool_82600, reg_all_candidates)\")"
   ]
  },
  {
   "cell_type": "code",
   "execution_count": null,
   "metadata": {
    "scrolled": true
   },
   "outputs": [],
   "source": [
    "asns = generate(pool_82600, reg_all_candidates)"
   ]
  },
  {
   "cell_type": "code",
   "execution_count": null,
   "metadata": {},
   "outputs": [],
   "source": [
    "len(asns)"
   ]
  },
  {
   "cell_type": "code",
   "execution_count": null,
   "metadata": {},
   "outputs": [],
   "source": [
    "asns"
   ]
  },
  {
   "cell_type": "code",
   "execution_count": null,
   "metadata": {},
   "outputs": [],
   "source": [
    "gc.collect()"
   ]
  },
  {
   "cell_type": "code",
   "execution_count": null,
   "metadata": {},
   "outputs": [],
   "source": [
    "pool_82600[pool_82600['asn_candidate'] != 'null']['exp_type']"
   ]
  },
  {
   "cell_type": "code",
   "execution_count": null,
   "metadata": {},
   "outputs": [],
   "source": [
    "pool_mega = combine_pools('../data/mega_pool.csv')"
   ]
  },
  {
   "cell_type": "code",
   "execution_count": null,
   "metadata": {
    "scrolled": true
   },
   "outputs": [],
   "source": [
    "pdb.run(\"generate(pool_mega, reg_all_candidates)\")"
   ]
  },
  {
   "cell_type": "code",
   "execution_count": null,
   "metadata": {},
   "outputs": [],
   "source": [
    "make_standards(\n",
    "    pool_82600_root,\n",
    "    source= pool_82600_path,\n",
    "    outdir=SDP_NEW_ASN_DIR\n",
    ")"
   ]
  },
  {
   "cell_type": "markdown",
   "metadata": {},
   "source": [
    "## Coronographic test"
   ]
  },
  {
   "cell_type": "code",
   "execution_count": null,
   "metadata": {},
   "outputs": [],
   "source": [
    "nrc_coron_pars = find_test('pool_013_coron_nircam', standards)"
   ]
  },
  {
   "cell_type": "code",
   "execution_count": null,
   "metadata": {},
   "outputs": [],
   "source": [
    "c1000_args = copy(LV3_ONLY_ARGS)\n",
    "c1000_args.extend(['-i', 'c1000', 'c1001'])"
   ]
  },
  {
   "cell_type": "code",
   "execution_count": null,
   "metadata": {
    "scrolled": true
   },
   "outputs": [],
   "source": [
    "make_standards(\n",
    "    nrc_coron_pars.pool_root,\n",
    "    main_args=all_candidates,\n",
    "    source=DATA_DIR,\n",
    "    outdir=NEW_ASN_DIR\n",
    ")"
   ]
  },
  {
   "cell_type": "code",
   "execution_count": null,
   "metadata": {},
   "outputs": [],
   "source": [
    "nrc_coron_pool = combine_pools(path.join(DATA_DIR, nrc_coron_pars.pool_root + '.csv'))"
   ]
  },
  {
   "cell_type": "code",
   "execution_count": null,
   "metadata": {
    "scrolled": false
   },
   "outputs": [],
   "source": [
    "nrc_coron_pool['filename','targetid', 'is_psf', 'asn_candidate']"
   ]
  },
  {
   "cell_type": "code",
   "execution_count": null,
   "metadata": {},
   "outputs": [],
   "source": [
    "reg_coron = copy(reg_lv3)"
   ]
  },
  {
   "cell_type": "code",
   "execution_count": null,
   "metadata": {},
   "outputs": [],
   "source": [
    "names = [name for name in reg_coron]\n",
    "for name in names:\n",
    "    if name != 'Asn_Coron':\n",
    "        del reg_coron[name]"
   ]
  },
  {
   "cell_type": "code",
   "execution_count": null,
   "metadata": {
    "scrolled": true
   },
   "outputs": [],
   "source": [
    "asns = generate(nrc_coron_pool, reg_coron)"
   ]
  },
  {
   "cell_type": "code",
   "execution_count": null,
   "metadata": {
    "scrolled": true
   },
   "outputs": [],
   "source": [
    "len(asns)"
   ]
  },
  {
   "cell_type": "code",
   "execution_count": null,
   "metadata": {
    "scrolled": true
   },
   "outputs": [],
   "source": [
    "asns"
   ]
  },
  {
   "cell_type": "code",
   "execution_count": null,
   "metadata": {
    "scrolled": false
   },
   "outputs": [],
   "source": [
    "pdb.run(\"generate(nrc_coron_pool, reg_coron)\")"
   ]
  },
  {
   "cell_type": "markdown",
   "metadata": {},
   "source": [
    "## Make the SPD-based associations"
   ]
  },
  {
   "cell_type": "code",
   "execution_count": null,
   "metadata": {},
   "outputs": [],
   "source": [
    "pools = glob(path.join(SDP_POOLS, '*.csv'))"
   ]
  },
  {
   "cell_type": "code",
   "execution_count": null,
   "metadata": {
    "scrolled": true
   },
   "outputs": [],
   "source": [
    "for pool in pools:\n",
    "    if MAKE_ALL:\n",
    "        pool_dir, pool = path.split(pool)\n",
    "        pool, ext = path.splitext(pool)\n",
    "        make_standards(\n",
    "            pool,\n",
    "            source=pool_dir,\n",
    "            outdir=SDP_NEW_ASN_DIR\n",
    "        )"
   ]
  },
  {
   "cell_type": "code",
   "execution_count": null,
   "metadata": {},
   "outputs": [],
   "source": []
  }
 ],
 "metadata": {
  "anaconda-cloud": {},
  "kernelspec": {
   "display_name": "Python 3",
   "language": "python",
   "name": "python3"
  },
  "language_info": {
   "codemirror_mode": {
    "name": "ipython",
    "version": 3
   },
   "file_extension": ".py",
   "mimetype": "text/x-python",
   "name": "python",
   "nbconvert_exporter": "python",
   "pygments_lexer": "ipython3",
   "version": "3.6.4"
  }
 },
 "nbformat": 4,
 "nbformat_minor": 2
}

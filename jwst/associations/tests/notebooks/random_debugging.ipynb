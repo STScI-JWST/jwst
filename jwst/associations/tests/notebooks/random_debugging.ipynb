{
 "cells": [
  {
   "cell_type": "markdown",
   "metadata": {},
   "source": [
    "# Abstract"
   ]
  },
  {
   "cell_type": "code",
   "execution_count": 1,
   "metadata": {},
   "outputs": [],
   "source": [
    "# Setup debugging log\n",
    "import logging\n",
    "logger = logging.getLogger('jwst.associations')\n",
    "handler = logging.StreamHandler()\n",
    "logger.addHandler(handler)\n",
    "handler.setLevel(logging.DEBUG)\n",
    "logger.setLevel(logging.DEBUG)"
   ]
  },
  {
   "cell_type": "markdown",
   "metadata": {},
   "source": [
    "# Environment"
   ]
  },
  {
   "cell_type": "code",
   "execution_count": 2,
   "metadata": {},
   "outputs": [],
   "source": [
    "import numpy as np\n",
    "import pdb"
   ]
  },
  {
   "cell_type": "code",
   "execution_count": 3,
   "metadata": {},
   "outputs": [],
   "source": [
    "from jwst.associations import (\n",
    "    AssociationPool,\n",
    "    AssociationRegistry,\n",
    "    generate\n",
    ")\n",
    "from jwst.associations.main import Main"
   ]
  },
  {
   "cell_type": "code",
   "execution_count": 4,
   "metadata": {},
   "outputs": [],
   "source": [
    "from jwst.associations.tests.helpers import (\n",
    "    combine_pools,\n",
    "    registry_level3_only,\n",
    "    registry_level2_only,\n",
    "    t_path,\n",
    ")"
   ]
  },
  {
   "cell_type": "markdown",
   "metadata": {},
   "source": [
    "# Library"
   ]
  },
  {
   "cell_type": "markdown",
   "metadata": {},
   "source": [
    "# Main"
   ]
  },
  {
   "cell_type": "markdown",
   "metadata": {},
   "source": [
    "## MIR_FLATMRS in a Level3 for no reason"
   ]
  },
  {
   "cell_type": "code",
   "execution_count": 5,
   "metadata": {},
   "outputs": [],
   "source": [
    "jw80600 = AssociationPool.read('../data/sdp/pools/jw80600_20171108T041522_pool.csv')"
   ]
  },
  {
   "cell_type": "code",
   "execution_count": 6,
   "metadata": {},
   "outputs": [
    {
     "data": {
      "text/html": [
       "<i>AssociationPool length=28</i>\n",
       "<table id=\"table4491628216\" class=\"table-striped table-bordered table-condensed\">\n",
       "<thead><tr><th>filename</th><th>obs_num</th><th>exp_type</th><th>asn_candidate</th><th>filter</th></tr></thead>\n",
       "<thead><tr><th>str48</th><th>str2</th><th>str17</th><th>str25</th><th>str7</th></tr></thead>\n",
       "<tr><td>jw80600051001_02102_00001_mirifulong_uncal.fits</td><td>51</td><td>mir_flatmrs</td><td>[(&apos;o051&apos;, &apos;observation&apos;)]</td><td>null</td></tr>\n",
       "<tr><td>jw80600050001_0210a_00001_mirifulong_uncal.fits</td><td>50</td><td>mir_flatmrs</td><td>[(&apos;o050&apos;, &apos;observation&apos;)]</td><td>null</td></tr>\n",
       "<tr><td>jw80600050001_02109_00001_mirifushort_uncal.fits</td><td>50</td><td>mir_flatmrs</td><td>[(&apos;o050&apos;, &apos;observation&apos;)]</td><td>null</td></tr>\n",
       "<tr><td>jw80600050001_02108_00001_mirifulong_uncal.fits</td><td>50</td><td>mir_flatmrs</td><td>[(&apos;o050&apos;, &apos;observation&apos;)]</td><td>null</td></tr>\n",
       "<tr><td>jw80600050001_0210e_00001_mirifulong_uncal.fits</td><td>50</td><td>mir_flatmrs</td><td>[(&apos;o050&apos;, &apos;observation&apos;)]</td><td>null</td></tr>\n",
       "<tr><td>jw80600050001_02107_00001_mirifulong_uncal.fits</td><td>50</td><td>mir_flatmrs</td><td>[(&apos;o050&apos;, &apos;observation&apos;)]</td><td>null</td></tr>\n",
       "<tr><td>jw80600050001_0210c_00001_mirifushort_uncal.fits</td><td>50</td><td>mir_flatmrs</td><td>[(&apos;o050&apos;, &apos;observation&apos;)]</td><td>null</td></tr>\n",
       "<tr><td>jw80600050001_02108_00001_mirifushort_uncal.fits</td><td>50</td><td>mir_flatmrs</td><td>[(&apos;o050&apos;, &apos;observation&apos;)]</td><td>null</td></tr>\n",
       "<tr><td>jw80600018001_02101_00003_mirifulong_uncal.fits</td><td>18</td><td>mir_flatmrs</td><td>[(&apos;o018&apos;, &apos;observation&apos;)]</td><td>null</td></tr>\n",
       "<tr><td>jw80600018001_02101_00001_mirifulong_uncal.fits</td><td>18</td><td>mir_flatmrs</td><td>[(&apos;o018&apos;, &apos;observation&apos;)]</td><td>null</td></tr>\n",
       "<tr><td>...</td><td>...</td><td>...</td><td>...</td><td>...</td></tr>\n",
       "<tr><td>jw80600050001_02102_00001_mirifulong_uncal.fits</td><td>50</td><td>mir_flatmrs</td><td>[(&apos;o050&apos;, &apos;observation&apos;)]</td><td>null</td></tr>\n",
       "<tr><td>jw80600050001_02105_00001_mirifulong_uncal.fits</td><td>50</td><td>mir_flatmrs</td><td>[(&apos;o050&apos;, &apos;observation&apos;)]</td><td>null</td></tr>\n",
       "<tr><td>jw80600050001_02106_00001_mirifulong_uncal.fits</td><td>50</td><td>mir_flatmrs</td><td>[(&apos;o050&apos;, &apos;observation&apos;)]</td><td>null</td></tr>\n",
       "<tr><td>jw80600051001_02102_00001_mirifushort_uncal.fits</td><td>51</td><td>mir_flatmrs</td><td>[(&apos;o051&apos;, &apos;observation&apos;)]</td><td>null</td></tr>\n",
       "<tr><td>jw80600050001_02104_00001_mirifulong_uncal.fits</td><td>50</td><td>mir_flatmrs</td><td>[(&apos;o050&apos;, &apos;observation&apos;)]</td><td>null</td></tr>\n",
       "<tr><td>jw80600050001_02106_00001_mirifushort_uncal.fits</td><td>50</td><td>mir_flatmrs</td><td>[(&apos;o050&apos;, &apos;observation&apos;)]</td><td>null</td></tr>\n",
       "<tr><td>jw80600050001_0210c_00001_mirifulong_uncal.fits</td><td>50</td><td>mir_flatmrs</td><td>[(&apos;o050&apos;, &apos;observation&apos;)]</td><td>null</td></tr>\n",
       "<tr><td>jw80600050001_02104_00001_mirifushort_uncal.fits</td><td>50</td><td>mir_flatmrs</td><td>[(&apos;o050&apos;, &apos;observation&apos;)]</td><td>null</td></tr>\n",
       "<tr><td>jw80600050001_0210a_00001_mirifushort_uncal.fits</td><td>50</td><td>mir_flatmrs</td><td>[(&apos;o050&apos;, &apos;observation&apos;)]</td><td>null</td></tr>\n",
       "<tr><td>jw80600050001_0210b_00001_mirifulong_uncal.fits</td><td>50</td><td>mir_flatmrs</td><td>[(&apos;o050&apos;, &apos;observation&apos;)]</td><td>null</td></tr>\n",
       "</table>"
      ],
      "text/plain": [
       "<AssociationPool length=28>\n",
       "                    filename                     obs_num ... filter\n",
       "                     str48                         str2  ...  str7 \n",
       "------------------------------------------------ ------- ... ------\n",
       " jw80600051001_02102_00001_mirifulong_uncal.fits      51 ...   null\n",
       " jw80600050001_0210a_00001_mirifulong_uncal.fits      50 ...   null\n",
       "jw80600050001_02109_00001_mirifushort_uncal.fits      50 ...   null\n",
       " jw80600050001_02108_00001_mirifulong_uncal.fits      50 ...   null\n",
       " jw80600050001_0210e_00001_mirifulong_uncal.fits      50 ...   null\n",
       " jw80600050001_02107_00001_mirifulong_uncal.fits      50 ...   null\n",
       "jw80600050001_0210c_00001_mirifushort_uncal.fits      50 ...   null\n",
       "jw80600050001_02108_00001_mirifushort_uncal.fits      50 ...   null\n",
       " jw80600018001_02101_00003_mirifulong_uncal.fits      18 ...   null\n",
       " jw80600018001_02101_00001_mirifulong_uncal.fits      18 ...   null\n",
       "                                             ...     ... ...    ...\n",
       " jw80600050001_02102_00001_mirifulong_uncal.fits      50 ...   null\n",
       " jw80600050001_02105_00001_mirifulong_uncal.fits      50 ...   null\n",
       " jw80600050001_02106_00001_mirifulong_uncal.fits      50 ...   null\n",
       "jw80600051001_02102_00001_mirifushort_uncal.fits      51 ...   null\n",
       " jw80600050001_02104_00001_mirifulong_uncal.fits      50 ...   null\n",
       "jw80600050001_02106_00001_mirifushort_uncal.fits      50 ...   null\n",
       " jw80600050001_0210c_00001_mirifulong_uncal.fits      50 ...   null\n",
       "jw80600050001_02104_00001_mirifushort_uncal.fits      50 ...   null\n",
       "jw80600050001_0210a_00001_mirifushort_uncal.fits      50 ...   null\n",
       " jw80600050001_0210b_00001_mirifulong_uncal.fits      50 ...   null"
      ]
     },
     "execution_count": 6,
     "metadata": {},
     "output_type": "execute_result"
    }
   ],
   "source": [
    "jw80600[jw80600['exp_type'] == 'mir_flatmrs']['filename', 'obs_num', 'exp_type', 'asn_candidate', 'filter']"
   ]
  },
  {
   "cell_type": "code",
   "execution_count": 7,
   "metadata": {
    "scrolled": true
   },
   "outputs": [
    {
     "name": "stdout",
     "output_type": "stream",
     "text": [
      "Command-line arguments: ['--dry-run', '-v', '--all-candidates']\n",
      "Reading rules.\n",
      "Generating associations.\n",
      "There where 10 associations and 35 orphaned items found.\n",
      "Associations found are:\n",
      "jw80600-o006_image3_001_asn with 1 products\n",
      "Rule=candidate_Asn_Image\n",
      "Constraints:\n",
      "    wfsvisit: {'prime_targeted_fixed'}\n",
      "    exp_type: {'mir_image'}\n",
      "    is_not_tso: set()\n",
      "    opt_elem: {'f2100w'}\n",
      "    opt_elem2: set()\n",
      "    target: {'1'}\n",
      "    program: {'80600'}\n",
      "    instrument: {'miri'}\n",
      "    asn_candidate: {\"\\\\(\\\\'o006\\\\'\\\\,\\\\ \\\\'observation\\\\'\\\\)\"}\n",
      "Products:\n",
      "\tjw80600-o006_t001_miri_f2100w with 4 members\n",
      "jw80600-o013_spec3_001_asn with 1 products\n",
      "Rule=candidate_Asn_MIRI_LRS_FIXEDSLIT\n",
      "Constraints:\n",
      "    exp_type: {'mir_lrs\\\\-fixedslit'}\n",
      "    opt_elem: {'p750l'}\n",
      "    subarray: {'full'}\n",
      "    is_not_tso: set()\n",
      "    instrument: {'miri'}\n",
      "    target: {'1'}\n",
      "    program: {'80600'}\n",
      "    asn_candidate: {\"\\\\(\\\\'o013\\\\'\\\\,\\\\ \\\\'observation\\\\'\\\\)\"}\n",
      "Products:\n",
      "\tjw80600-o013_t001_miri_p750l with 1 members\n",
      "jw80600-o003_image3_001_asn with 1 products\n",
      "Rule=candidate_Asn_Image\n",
      "Constraints:\n",
      "    wfsvisit: {'prime_targeted_fixed'}\n",
      "    exp_type: {'mir_image'}\n",
      "    is_not_tso: set()\n",
      "    opt_elem: {'f770w'}\n",
      "    opt_elem2: set()\n",
      "    target: {'1'}\n",
      "    program: {'80600'}\n",
      "    instrument: {'miri'}\n",
      "    asn_candidate: {\"\\\\(\\\\'o003\\\\'\\\\,\\\\ \\\\'observation\\\\'\\\\)\"}\n",
      "Products:\n",
      "\tjw80600-o003_t001_miri_f770w with 1 members\n",
      "jw80600-o004_image3_001_asn with 1 products\n",
      "Rule=candidate_Asn_Image\n",
      "Constraints:\n",
      "    wfsvisit: {'prime_targeted_fixed'}\n",
      "    exp_type: {'mir_image'}\n",
      "    is_not_tso: set()\n",
      "    opt_elem: {'f1800w'}\n",
      "    opt_elem2: set()\n",
      "    target: {'1'}\n",
      "    program: {'80600'}\n",
      "    instrument: {'miri'}\n",
      "    asn_candidate: {\"\\\\(\\\\'o004\\\\'\\\\,\\\\ \\\\'observation\\\\'\\\\)\"}\n",
      "Products:\n",
      "\tjw80600-o004_t001_miri_f1800w with 1 members\n",
      "jw80600-o009_image3_001_asn with 1 products\n",
      "Rule=candidate_Asn_Image\n",
      "Constraints:\n",
      "    wfsvisit: {'prime_targeted_fixed'}\n",
      "    exp_type: {'mir_image'}\n",
      "    is_not_tso: set()\n",
      "    opt_elem: {'f1130w'}\n",
      "    opt_elem2: set()\n",
      "    target: {'1'}\n",
      "    program: {'80600'}\n",
      "    instrument: {'miri'}\n",
      "    asn_candidate: {\"\\\\(\\\\'o009\\\\'\\\\,\\\\ \\\\'observation\\\\'\\\\)\"}\n",
      "Products:\n",
      "\tjw80600-o009_t001_miri_f1130w with 1 members\n",
      "jw80600-o010_image3_001_asn with 1 products\n",
      "Rule=candidate_Asn_Image\n",
      "Constraints:\n",
      "    wfsvisit: {'prime_targeted_fixed'}\n",
      "    exp_type: {'mir_image'}\n",
      "    is_not_tso: set()\n",
      "    opt_elem: {'f1000w'}\n",
      "    opt_elem2: set()\n",
      "    target: {'1'}\n",
      "    program: {'80600'}\n",
      "    instrument: {'miri'}\n",
      "    asn_candidate: {\"\\\\(\\\\'o010\\\\'\\\\,\\\\ \\\\'observation\\\\'\\\\)\"}\n",
      "Products:\n",
      "\tjw80600-o010_t001_miri_f1000w with 1 members\n",
      "jw80600-o012_spec3_001_asn with 1 products\n",
      "Rule=candidate_Asn_MIRI_LRS_SLITLESS\n",
      "Constraints:\n",
      "    exp_type: {'mir_lrs\\\\-slitless'}\n",
      "    opt_elem: {'p750l'}\n",
      "    subarray: {'subprism'}\n",
      "    is_not_tso: set()\n",
      "    instrument: {'miri'}\n",
      "    target: {'1'}\n",
      "    program: {'80600'}\n",
      "    asn_candidate: {\"\\\\(\\\\'o012\\\\'\\\\,\\\\ \\\\'observation\\\\'\\\\)\"}\n",
      "Products:\n",
      "\tjw80600-o012_t001_miri_p750l with 1 members\n",
      "jw80600-o012_tso3_001_asn with 1 products\n",
      "Rule=candidate_Asn_TSO_EXPTYPE\n",
      "Constraints:\n",
      "    exp_type: {'mir_lrs\\\\-slitless'}\n",
      "    no_tso_flag: Is Invalid\n",
      "    opt_elem: {'p750l'}\n",
      "    opt_elem2: set()\n",
      "    target: {'1'}\n",
      "    program: {'80600'}\n",
      "    instrument: {'miri'}\n",
      "    asn_candidate: {\"\\\\(\\\\'o012\\\\'\\\\,\\\\ \\\\'observation\\\\'\\\\)\"}\n",
      "Products:\n",
      "\tjw80600-o012_t001_miri_p750l with 1 members\n",
      "Association jw80600-o006_image2_002_asn\n",
      "    Parameters:\n",
      "        Product type: image2\n",
      "        Rule:         candidate_Asn_Lv2Image\n",
      "        Program:      80600\n",
      "        Target:       1\n",
      "        Pool:         jw80600_20171108T041522_pool\n",
      "        Constraints:\n",
      "            single_science: {'False'}\n",
      "            exp_type: {'mir_image'}\n",
      "            program: {'80600'}\n",
      "            target: {'1'}\n",
      "            instrument: {'miri'}\n",
      "            detector: {'mirimage'}\n",
      "            opt_elem: {'f2100w'}\n",
      "            opt_elem2: set()\n",
      "            subarray: {'full'}\n",
      "            channel: set()\n",
      "            asn_candidate: {\"\\\\(\\\\'o006\\\\'\\\\,\\\\ \\\\'observation\\\\'\\\\)\"}\n",
      "            is_tso: set()\n",
      "\tjw80600006001_02101_00001_mirimage with 1 members\n",
      "\tjw80600006001_02102_00001_mirimage with 1 members\n",
      "\tjw80600006001_02103_00001_mirimage with 1 members\n",
      "\tjw80600003001_02101_00001_mirimage with 1 members\n",
      "\tjw80600004001_02101_00001_mirimage with 1 members\n",
      "\tjw80600009001_02101_00001_mirimage with 1 members\n",
      "\tjw80600006001_02104_00001_mirimage with 1 members\n",
      "\tjw80600010001_02101_00001_mirimage with 1 members\n",
      "\n",
      "\n",
      "Association jw80600-o013_spec2_004_asn\n",
      "    Parameters:\n",
      "        Product type: spec2\n",
      "        Rule:         candidate_Asn_Lv2Spec\n",
      "        Program:      80600\n",
      "        Target:       1\n",
      "        Pool:         jw80600_20171108T041522_pool\n",
      "        Constraints:\n",
      "            single_science: {'False'}\n",
      "            exp_type: {'mir_lrs\\\\-fixedslit'}\n",
      "            program: {'80600'}\n",
      "            target: {'1'}\n",
      "            instrument: {'miri'}\n",
      "            detector: {'mirimage'}\n",
      "            opt_elem: {'p750l'}\n",
      "            opt_elem2: set()\n",
      "            subarray: {'full'}\n",
      "            channel: set()\n",
      "            asn_candidate: {\"\\\\(\\\\'o013\\\\'\\\\,\\\\ \\\\'observation\\\\'\\\\)\"}\n",
      "            is_tso: set()\n",
      "\tjw80600013001_02101_00001_mirimage with 1 members\n",
      "\tjw80600012001_02101_00002_mirimage with 1 members\n",
      "\n",
      "\n"
     ]
    }
   ],
   "source": [
    "jw80600_generated_all = Main(\n",
    "    ['--dry-run', '-v', '--all-candidates'],\n",
    "    pool=jw80600\n",
    ")"
   ]
  },
  {
   "cell_type": "code",
   "execution_count": 8,
   "metadata": {},
   "outputs": [],
   "source": [
    "mir_flatmr_obs = set(jw80600[jw80600['exp_type'] == 'mir_flatmrs']['obs_num'])"
   ]
  },
  {
   "cell_type": "code",
   "execution_count": 9,
   "metadata": {},
   "outputs": [
    {
     "data": {
      "text/plain": [
       "{'16', '18', '20', '21', '50', '51'}"
      ]
     },
     "execution_count": 9,
     "metadata": {},
     "output_type": "execute_result"
    }
   ],
   "source": [
    "mir_flatmr_obs"
   ]
  },
  {
   "cell_type": "code",
   "execution_count": 10,
   "metadata": {
    "scrolled": true
   },
   "outputs": [
    {
     "name": "stdout",
     "output_type": "stream",
     "text": [
      "Command-line arguments: ['--dry-run', '-v', '-i', 'o016', '-i', 'o018', '-i', 'o020', '-i', 'o021', '-i', 'o050', '-i', 'o051']\n",
      "Reading rules.\n",
      "Generating associations.\n",
      "There where 0 associations and 71 orphaned items found.\n",
      "Associations found are:\n"
     ]
    }
   ],
   "source": [
    "mir_flatmr_obs_generated = Main(\n",
    "    ['--dry-run', '-v', '-i', 'o016', '-i', 'o018', '-i', 'o020', '-i', 'o021', '-i', 'o050', '-i', 'o051'],\n",
    "    pool=jw80600\n",
    ")"
   ]
  },
  {
   "cell_type": "code",
   "execution_count": 11,
   "metadata": {},
   "outputs": [],
   "source": [
    "jw93135 = AssociationPool.read('../data/sdp/pools/jw93135_20171108T041617_fixed_pool.csv')"
   ]
  },
  {
   "cell_type": "code",
   "execution_count": 12,
   "metadata": {},
   "outputs": [],
   "source": [
    "mir_flatmr_obs_jw93135 = set(jw93135[jw93135['exp_type'] == 'mir_flatmrs']['obs_num'])"
   ]
  },
  {
   "cell_type": "code",
   "execution_count": 13,
   "metadata": {},
   "outputs": [
    {
     "data": {
      "text/plain": [
       "{'311',\n",
       " '312',\n",
       " '324',\n",
       " '325',\n",
       " '326',\n",
       " '327',\n",
       " '332',\n",
       " '333',\n",
       " '334',\n",
       " '335',\n",
       " '336',\n",
       " '337'}"
      ]
     },
     "execution_count": 13,
     "metadata": {},
     "output_type": "execute_result"
    }
   ],
   "source": [
    "mir_flatmr_obs_jw93135"
   ]
  },
  {
   "cell_type": "code",
   "execution_count": 14,
   "metadata": {},
   "outputs": [],
   "source": [
    "mir_flat_obs_args_jw93135 = [\n",
    "    '--dry-run',\n",
    "    '-v'\n",
    "]"
   ]
  },
  {
   "cell_type": "code",
   "execution_count": 15,
   "metadata": {},
   "outputs": [],
   "source": [
    "for obsnum in mir_flatmr_obs_jw93135:\n",
    "    mir_flat_obs_args_jw93135.append('-i')\n",
    "    mir_flat_obs_args_jw93135.append('o{:0>3s}'.format(obsnum))"
   ]
  },
  {
   "cell_type": "code",
   "execution_count": 16,
   "metadata": {},
   "outputs": [
    {
     "data": {
      "text/plain": [
       "['--dry-run',\n",
       " '-v',\n",
       " '-i',\n",
       " 'o335',\n",
       " '-i',\n",
       " 'o324',\n",
       " '-i',\n",
       " 'o333',\n",
       " '-i',\n",
       " 'o326',\n",
       " '-i',\n",
       " 'o311',\n",
       " '-i',\n",
       " 'o327',\n",
       " '-i',\n",
       " 'o325',\n",
       " '-i',\n",
       " 'o336',\n",
       " '-i',\n",
       " 'o337',\n",
       " '-i',\n",
       " 'o312',\n",
       " '-i',\n",
       " 'o332',\n",
       " '-i',\n",
       " 'o334']"
      ]
     },
     "execution_count": 16,
     "metadata": {},
     "output_type": "execute_result"
    }
   ],
   "source": [
    "mir_flat_obs_args_jw93135"
   ]
  },
  {
   "cell_type": "code",
   "execution_count": 17,
   "metadata": {
    "scrolled": true
   },
   "outputs": [
    {
     "name": "stdout",
     "output_type": "stream",
     "text": [
      "Command-line arguments: ['--dry-run', '-v', '-i', 'o335', '-i', 'o324', '-i', 'o333', '-i', 'o326', '-i', 'o311', '-i', 'o327', '-i', 'o325', '-i', 'o336', '-i', 'o337', '-i', 'o312', '-i', 'o332', '-i', 'o334']\n",
      "Reading rules.\n",
      "Generating associations.\n",
      "There where 2 associations and 180 orphaned items found.\n",
      "Associations found are:\n",
      "jw93135-o334_spec3_001_asn with 1 products\n",
      "Rule=candidate_Asn_MIRI_IFU\n",
      "Constraints:\n",
      "    exp_type: {'mir_mrs', 'mir_flatmrs'}\n",
      "    is_not_tso: set()\n",
      "    instrument: {'miri'}\n",
      "    target: {'5'}\n",
      "    program: {'93135'}\n",
      "    asn_candidate: {\"\\\\(\\\\'o334\\\\'\\\\,\\\\ \\\\'observation\\\\'\\\\)\"}\n",
      "Products:\n",
      "\tjw93135-o334_t005_miri with 16 members\n",
      "Association jw93135-o334_spec2_012_asn\n",
      "    Parameters:\n",
      "        Product type: spec2\n",
      "        Rule:         candidate_Asn_Lv2Spec\n",
      "        Program:      93135\n",
      "        Target:       5\n",
      "        Pool:         jw93135_20171108T041617_fixed_pool\n",
      "        Constraints:\n",
      "            single_science: {'False'}\n",
      "            exp_type: {'mir_mrs'}\n",
      "            program: {'93135'}\n",
      "            target: {'5'}\n",
      "            instrument: {'miri'}\n",
      "            detector: {'mirifushort'}\n",
      "            opt_elem: {'medium'}\n",
      "            opt_elem2: set()\n",
      "            subarray: {'full'}\n",
      "            channel: {'12'}\n",
      "            asn_candidate: {\"\\\\(\\\\'o334\\\\'\\\\,\\\\ \\\\'observation\\\\'\\\\)\"}\n",
      "            is_tso: set()\n",
      "\tjw93135334001_02108_00001_mirifushort with 1 members\n",
      "\tjw93135334001_02107_00001_mirifushort with 1 members\n",
      "\tjw93135334001_02101_00001_mirifushort with 1 members\n",
      "\tjw93135334001_02104_00001_mirifushort with 1 members\n",
      "\tjw93135334001_02106_00001_mirifushort with 1 members\n",
      "\tjw93135334001_02103_00001_mirifushort with 1 members\n",
      "\tjw93135334001_02102_00001_mirifushort with 1 members\n",
      "\tjw93135334001_02105_00001_mirifushort with 1 members\n",
      "\n",
      "\n"
     ]
    }
   ],
   "source": [
    "mir_flatmr_obs_generated_jw93135 = Main(\n",
    "    mir_flat_obs_args_jw93135,\n",
    "    pool=jw93135\n",
    ")"
   ]
  },
  {
   "cell_type": "code",
   "execution_count": 18,
   "metadata": {
    "scrolled": true
   },
   "outputs": [
    {
     "data": {
      "text/plain": [
       "{\n",
       "    \"asn_type\": \"spec3\",\n",
       "    \"asn_rule\": \"candidate_Asn_MIRI_IFU\",\n",
       "    \"version_id\": null,\n",
       "    \"code_version\": \"0.9.2\",\n",
       "    \"program\": \"93135\",\n",
       "    \"degraded_status\": \"No known degraded exposures in association.\",\n",
       "    \"constraints\": \"Constraints:\\n    exp_type: {'mir_mrs', 'mir_flatmrs'}\\n    is_not_tso: set()\\n    instrument: {'miri'}\\n    target: {'5'}\\n    program: {'93135'}\\n    asn_candidate: {\\\"\\\\\\\\(\\\\\\\\'o334\\\\\\\\'\\\\\\\\,\\\\\\\\ \\\\\\\\'observation\\\\\\\\'\\\\\\\\)\\\"}\",\n",
       "    \"asn_id\": \"o334\",\n",
       "    \"target\": \"t005\",\n",
       "    \"asn_pool\": \"jw93135_20171108T041617_fixed_pool\",\n",
       "    \"products\": [\n",
       "        {\n",
       "            \"name\": \"jw93135-o334_t005_miri\",\n",
       "            \"members\": [\n",
       "                {\n",
       "                    \"expname\": \"jw93135334001_02102_00001_mirifulong_cal.fits\",\n",
       "                    \"exptype\": \"flat\",\n",
       "                    \"exposerr\": \"null\",\n",
       "                    \"asn_candidate\": \"('o334', 'observation')\"\n",
       "                },\n",
       "                {\n",
       "                    \"expname\": \"jw93135334001_02103_00001_mirifulong_cal.fits\",\n",
       "                    \"exptype\": \"flat\",\n",
       "                    \"exposerr\": \"null\",\n",
       "                    \"asn_candidate\": \"('o334', 'observation')\"\n",
       "                },\n",
       "                {\n",
       "                    \"expname\": \"jw93135334001_02108_00001_mirifushort_cal.fits\",\n",
       "                    \"exptype\": \"science\",\n",
       "                    \"exposerr\": \"null\",\n",
       "                    \"asn_candidate\": \"('o334', 'observation')\"\n",
       "                },\n",
       "                {\n",
       "                    \"expname\": \"jw93135334001_02107_00001_mirifushort_cal.fits\",\n",
       "                    \"exptype\": \"science\",\n",
       "                    \"exposerr\": \"null\",\n",
       "                    \"asn_candidate\": \"('o334', 'observation')\"\n",
       "                },\n",
       "                {\n",
       "                    \"expname\": \"jw93135334001_02101_00001_mirifulong_cal.fits\",\n",
       "                    \"exptype\": \"flat\",\n",
       "                    \"exposerr\": \"null\",\n",
       "                    \"asn_candidate\": \"('o334', 'observation')\"\n",
       "                },\n",
       "                {\n",
       "                    \"expname\": \"jw93135334001_02107_00001_mirifulong_cal.fits\",\n",
       "                    \"exptype\": \"flat\",\n",
       "                    \"exposerr\": \"null\",\n",
       "                    \"asn_candidate\": \"('o334', 'observation')\"\n",
       "                },\n",
       "                {\n",
       "                    \"expname\": \"jw93135334001_02101_00001_mirifushort_cal.fits\",\n",
       "                    \"exptype\": \"science\",\n",
       "                    \"exposerr\": \"null\",\n",
       "                    \"asn_candidate\": \"('o334', 'observation')\"\n",
       "                },\n",
       "                {\n",
       "                    \"expname\": \"jw93135334001_02104_00001_mirifushort_cal.fits\",\n",
       "                    \"exptype\": \"science\",\n",
       "                    \"exposerr\": \"null\",\n",
       "                    \"asn_candidate\": \"('o334', 'observation')\"\n",
       "                },\n",
       "                {\n",
       "                    \"expname\": \"jw93135334001_02104_00001_mirifulong_cal.fits\",\n",
       "                    \"exptype\": \"flat\",\n",
       "                    \"exposerr\": \"null\",\n",
       "                    \"asn_candidate\": \"('o334', 'observation')\"\n",
       "                },\n",
       "                {\n",
       "                    \"expname\": \"jw93135334001_02106_00001_mirifushort_cal.fits\",\n",
       "                    \"exptype\": \"science\",\n",
       "                    \"exposerr\": \"null\",\n",
       "                    \"asn_candidate\": \"('o334', 'observation')\"\n",
       "                },\n",
       "                {\n",
       "                    \"expname\": \"jw93135334001_02103_00001_mirifushort_cal.fits\",\n",
       "                    \"exptype\": \"science\",\n",
       "                    \"exposerr\": \"null\",\n",
       "                    \"asn_candidate\": \"('o334', 'observation')\"\n",
       "                },\n",
       "                {\n",
       "                    \"expname\": \"jw93135334001_02102_00001_mirifushort_cal.fits\",\n",
       "                    \"exptype\": \"science\",\n",
       "                    \"exposerr\": \"null\",\n",
       "                    \"asn_candidate\": \"('o334', 'observation')\"\n",
       "                },\n",
       "                {\n",
       "                    \"expname\": \"jw93135334001_02105_00001_mirifulong_cal.fits\",\n",
       "                    \"exptype\": \"flat\",\n",
       "                    \"exposerr\": \"null\",\n",
       "                    \"asn_candidate\": \"('o334', 'observation')\"\n",
       "                },\n",
       "                {\n",
       "                    \"expname\": \"jw93135334001_02105_00001_mirifushort_cal.fits\",\n",
       "                    \"exptype\": \"science\",\n",
       "                    \"exposerr\": \"null\",\n",
       "                    \"asn_candidate\": \"('o334', 'observation')\"\n",
       "                },\n",
       "                {\n",
       "                    \"expname\": \"jw93135334001_02106_00001_mirifulong_cal.fits\",\n",
       "                    \"exptype\": \"flat\",\n",
       "                    \"exposerr\": \"null\",\n",
       "                    \"asn_candidate\": \"('o334', 'observation')\"\n",
       "                },\n",
       "                {\n",
       "                    \"expname\": \"jw93135334001_02108_00001_mirifulong_cal.fits\",\n",
       "                    \"exptype\": \"flat\",\n",
       "                    \"exposerr\": \"null\",\n",
       "                    \"asn_candidate\": \"('o334', 'observation')\"\n",
       "                }\n",
       "            ]\n",
       "        }\n",
       "    ]\n",
       "}"
      ]
     },
     "execution_count": 18,
     "metadata": {},
     "output_type": "execute_result"
    }
   ],
   "source": [
    "mir_flatmr_obs_generated_jw93135.associations[0]"
   ]
  },
  {
   "cell_type": "code",
   "execution_count": 19,
   "metadata": {},
   "outputs": [
    {
     "data": {
      "text/html": [
       "<i>AssociationPool length=16</i>\n",
       "<table id=\"table4491328984\" class=\"table-striped table-bordered table-condensed\">\n",
       "<thead><tr><th>filename</th><th>exp_type</th></tr></thead>\n",
       "<thead><tr><th>str48</th><th>str11</th></tr></thead>\n",
       "<tr><td>jw93135327001_02107_00001_mirifushort_uncal.fits</td><td>mir_mrs</td></tr>\n",
       "<tr><td>jw93135327001_02103_00001_mirifulong_uncal.fits</td><td>mir_flatmrs</td></tr>\n",
       "<tr><td>jw93135327001_02108_00001_mirifushort_uncal.fits</td><td>mir_mrs</td></tr>\n",
       "<tr><td>jw93135327001_02104_00001_mirifushort_uncal.fits</td><td>mir_mrs</td></tr>\n",
       "<tr><td>jw93135327001_02105_00001_mirifushort_uncal.fits</td><td>mir_mrs</td></tr>\n",
       "<tr><td>jw93135327001_02101_00001_mirifulong_uncal.fits</td><td>mir_flatmrs</td></tr>\n",
       "<tr><td>jw93135327001_02102_00001_mirifulong_uncal.fits</td><td>mir_flatmrs</td></tr>\n",
       "<tr><td>jw93135327001_02105_00001_mirifulong_uncal.fits</td><td>mir_flatmrs</td></tr>\n",
       "<tr><td>jw93135327001_02108_00001_mirifulong_uncal.fits</td><td>mir_flatmrs</td></tr>\n",
       "<tr><td>jw93135327001_02102_00001_mirifushort_uncal.fits</td><td>mir_mrs</td></tr>\n",
       "<tr><td>jw93135327001_02104_00001_mirifulong_uncal.fits</td><td>mir_flatmrs</td></tr>\n",
       "<tr><td>jw93135327001_02107_00001_mirifulong_uncal.fits</td><td>mir_flatmrs</td></tr>\n",
       "<tr><td>jw93135327001_02106_00001_mirifulong_uncal.fits</td><td>mir_flatmrs</td></tr>\n",
       "<tr><td>jw93135327001_02101_00001_mirifushort_uncal.fits</td><td>mir_mrs</td></tr>\n",
       "<tr><td>jw93135327001_02106_00001_mirifushort_uncal.fits</td><td>mir_mrs</td></tr>\n",
       "<tr><td>jw93135327001_02103_00001_mirifushort_uncal.fits</td><td>mir_mrs</td></tr>\n",
       "</table>"
      ],
      "text/plain": [
       "<AssociationPool length=16>\n",
       "                    filename                       exp_type \n",
       "                     str48                          str11   \n",
       "------------------------------------------------ -----------\n",
       "jw93135327001_02107_00001_mirifushort_uncal.fits     mir_mrs\n",
       " jw93135327001_02103_00001_mirifulong_uncal.fits mir_flatmrs\n",
       "jw93135327001_02108_00001_mirifushort_uncal.fits     mir_mrs\n",
       "jw93135327001_02104_00001_mirifushort_uncal.fits     mir_mrs\n",
       "jw93135327001_02105_00001_mirifushort_uncal.fits     mir_mrs\n",
       " jw93135327001_02101_00001_mirifulong_uncal.fits mir_flatmrs\n",
       " jw93135327001_02102_00001_mirifulong_uncal.fits mir_flatmrs\n",
       " jw93135327001_02105_00001_mirifulong_uncal.fits mir_flatmrs\n",
       " jw93135327001_02108_00001_mirifulong_uncal.fits mir_flatmrs\n",
       "jw93135327001_02102_00001_mirifushort_uncal.fits     mir_mrs\n",
       " jw93135327001_02104_00001_mirifulong_uncal.fits mir_flatmrs\n",
       " jw93135327001_02107_00001_mirifulong_uncal.fits mir_flatmrs\n",
       " jw93135327001_02106_00001_mirifulong_uncal.fits mir_flatmrs\n",
       "jw93135327001_02101_00001_mirifushort_uncal.fits     mir_mrs\n",
       "jw93135327001_02106_00001_mirifushort_uncal.fits     mir_mrs\n",
       "jw93135327001_02103_00001_mirifushort_uncal.fits     mir_mrs"
      ]
     },
     "execution_count": 19,
     "metadata": {},
     "output_type": "execute_result"
    }
   ],
   "source": [
    "jw93135[jw93135['obs_num'] == '327']['filename', 'exp_type']"
   ]
  },
  {
   "cell_type": "code",
   "execution_count": 20,
   "metadata": {
    "scrolled": true
   },
   "outputs": [
    {
     "data": {
      "text/plain": [
       "{\n",
       "    \"asn_type\": \"spec2\",\n",
       "    \"asn_rule\": \"candidate_Asn_Lv2Spec\",\n",
       "    \"version_id\": null,\n",
       "    \"code_version\": \"0.9.2\",\n",
       "    \"program\": \"93135\",\n",
       "    \"target\": \"5\",\n",
       "    \"asn_pool\": \"jw93135_20171108T041617_fixed_pool\",\n",
       "    \"constraints\": \"Constraints:\\n    single_science: {'False'}\\n    exp_type: {'mir_mrs'}\\n    program: {'93135'}\\n    target: {'5'}\\n    instrument: {'miri'}\\n    detector: {'mirifushort'}\\n    opt_elem: {'medium'}\\n    opt_elem2: set()\\n    subarray: {'full'}\\n    channel: {'12'}\\n    asn_candidate: {\\\"\\\\\\\\(\\\\\\\\'o334\\\\\\\\'\\\\\\\\,\\\\\\\\ \\\\\\\\'observation\\\\\\\\'\\\\\\\\)\\\"}\\n    is_tso: set()\",\n",
       "    \"asn_id\": \"o334\",\n",
       "    \"products\": [\n",
       "        {\n",
       "            \"name\": \"jw93135334001_02108_00001_mirifushort\",\n",
       "            \"members\": [\n",
       "                {\n",
       "                    \"expname\": \"jw93135334001_02108_00001_mirifushort_rate.fits\",\n",
       "                    \"exptype\": \"science\"\n",
       "                }\n",
       "            ]\n",
       "        },\n",
       "        {\n",
       "            \"name\": \"jw93135334001_02107_00001_mirifushort\",\n",
       "            \"members\": [\n",
       "                {\n",
       "                    \"expname\": \"jw93135334001_02107_00001_mirifushort_rate.fits\",\n",
       "                    \"exptype\": \"science\"\n",
       "                }\n",
       "            ]\n",
       "        },\n",
       "        {\n",
       "            \"name\": \"jw93135334001_02101_00001_mirifushort\",\n",
       "            \"members\": [\n",
       "                {\n",
       "                    \"expname\": \"jw93135334001_02101_00001_mirifushort_rate.fits\",\n",
       "                    \"exptype\": \"science\"\n",
       "                }\n",
       "            ]\n",
       "        },\n",
       "        {\n",
       "            \"name\": \"jw93135334001_02104_00001_mirifushort\",\n",
       "            \"members\": [\n",
       "                {\n",
       "                    \"expname\": \"jw93135334001_02104_00001_mirifushort_rate.fits\",\n",
       "                    \"exptype\": \"science\"\n",
       "                }\n",
       "            ]\n",
       "        },\n",
       "        {\n",
       "            \"name\": \"jw93135334001_02106_00001_mirifushort\",\n",
       "            \"members\": [\n",
       "                {\n",
       "                    \"expname\": \"jw93135334001_02106_00001_mirifushort_rate.fits\",\n",
       "                    \"exptype\": \"science\"\n",
       "                }\n",
       "            ]\n",
       "        },\n",
       "        {\n",
       "            \"name\": \"jw93135334001_02103_00001_mirifushort\",\n",
       "            \"members\": [\n",
       "                {\n",
       "                    \"expname\": \"jw93135334001_02103_00001_mirifushort_rate.fits\",\n",
       "                    \"exptype\": \"science\"\n",
       "                }\n",
       "            ]\n",
       "        },\n",
       "        {\n",
       "            \"name\": \"jw93135334001_02102_00001_mirifushort\",\n",
       "            \"members\": [\n",
       "                {\n",
       "                    \"expname\": \"jw93135334001_02102_00001_mirifushort_rate.fits\",\n",
       "                    \"exptype\": \"science\"\n",
       "                }\n",
       "            ]\n",
       "        },\n",
       "        {\n",
       "            \"name\": \"jw93135334001_02105_00001_mirifushort\",\n",
       "            \"members\": [\n",
       "                {\n",
       "                    \"expname\": \"jw93135334001_02105_00001_mirifushort_rate.fits\",\n",
       "                    \"exptype\": \"science\"\n",
       "                }\n",
       "            ]\n",
       "        }\n",
       "    ]\n",
       "}"
      ]
     },
     "execution_count": 20,
     "metadata": {},
     "output_type": "execute_result"
    }
   ],
   "source": [
    "mir_flatmr_obs_generated_jw93135.associations[1]"
   ]
  },
  {
   "cell_type": "code",
   "execution_count": 21,
   "metadata": {},
   "outputs": [],
   "source": [
    "jw93135_exptypes = set(jw93135['exp_type'])"
   ]
  },
  {
   "cell_type": "code",
   "execution_count": 24,
   "metadata": {},
   "outputs": [
    {
     "data": {
      "text/plain": [
       "{'mir_flatmrs', 'mir_mrs', 'nrs_image'}"
      ]
     },
     "execution_count": 24,
     "metadata": {},
     "output_type": "execute_result"
    }
   ],
   "source": [
    "jw93135_exptypes"
   ]
  },
  {
   "cell_type": "code",
   "execution_count": 27,
   "metadata": {},
   "outputs": [
    {
     "data": {
      "text/plain": [
       "94"
      ]
     },
     "execution_count": 27,
     "metadata": {},
     "output_type": "execute_result"
    }
   ],
   "source": [
    "len(jw93135[jw93135['exp_type'] == 'mir_flatmrs'])"
   ]
  },
  {
   "cell_type": "markdown",
   "metadata": {},
   "source": [
    "## Level2 NRS_IMAGE"
   ]
  },
  {
   "cell_type": "code",
   "execution_count": null,
   "metadata": {},
   "outputs": [],
   "source": [
    "jw84600 = AssociationPool.read('../data/sdp/pools/jw84600_20171108T041344_fixed_pool.csv')"
   ]
  },
  {
   "cell_type": "code",
   "execution_count": null,
   "metadata": {},
   "outputs": [],
   "source": [
    "jw84600[jw84600['exp_type'] == 'nrs_image']['filename', 'obs_num', 'exp_type', 'asn_candidate', 'filter']"
   ]
  },
  {
   "cell_type": "code",
   "execution_count": null,
   "metadata": {},
   "outputs": [],
   "source": [
    "jw84600_generated_o033 = Main(\n",
    "    ['--dry-run', '-v', '-i', 'o033'],\n",
    "    pool=jw84600\n",
    ")"
   ]
  },
  {
   "cell_type": "code",
   "execution_count": null,
   "metadata": {},
   "outputs": [],
   "source": [
    "jw84600_generated_o033.associations"
   ]
  },
  {
   "cell_type": "code",
   "execution_count": null,
   "metadata": {
    "scrolled": true
   },
   "outputs": [],
   "source": [
    "jw84600_generated_all = Main(\n",
    "    ['--dry-run', '-v'],\n",
    "    pool=jw84600\n",
    ")"
   ]
  },
  {
   "cell_type": "code",
   "execution_count": null,
   "metadata": {
    "scrolled": true
   },
   "outputs": [],
   "source": [
    "for asn in jw84600_generated_all.associations:\n",
    "    for product in asn['products']:\n",
    "        for member in product['members']:\n",
    "            if member['expname'] == 'jw84600033001_02101_00001_nrs1_rate.fits':\n",
    "                print('Found it in asn_type {} product name {}'.format(asn['asn_type'], product['name']))"
   ]
  },
  {
   "cell_type": "code",
   "execution_count": null,
   "metadata": {},
   "outputs": [],
   "source": []
  }
 ],
 "metadata": {
  "anaconda-cloud": {},
  "kernelspec": {
   "display_name": "Python 3",
   "language": "python",
   "name": "python3"
  },
  "language_info": {
   "codemirror_mode": {
    "name": "ipython",
    "version": 3
   },
   "file_extension": ".py",
   "mimetype": "text/x-python",
   "name": "python",
   "nbconvert_exporter": "python",
   "pygments_lexer": "ipython3",
   "version": "3.6.3"
  }
 },
 "nbformat": 4,
 "nbformat_minor": 2
}

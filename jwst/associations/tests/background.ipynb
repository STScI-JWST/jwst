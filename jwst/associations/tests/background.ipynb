{
 "cells": [
  {
   "cell_type": "markdown",
   "metadata": {
    "deletable": true,
    "editable": true
   },
   "source": [
    "# Abstract"
   ]
  },
  {
   "cell_type": "markdown",
   "metadata": {
    "collapsed": true,
    "deletable": true,
    "editable": true
   },
   "source": [
    "# Setup debugging log\n",
    "import logging\n",
    "logger = logging.getLogger('jwst.associations')\n",
    "handler = logging.StreamHandler()\n",
    "logger.addHandler(handler)\n",
    "handler.setLevel(logging.DEBUG)\n",
    "logger.setLevel(logging.DEBUG)"
   ]
  },
  {
   "cell_type": "markdown",
   "metadata": {
    "deletable": true,
    "editable": true
   },
   "source": [
    "# Environment"
   ]
  },
  {
   "cell_type": "code",
   "execution_count": 1,
   "metadata": {
    "collapsed": true,
    "deletable": true,
    "editable": true
   },
   "outputs": [],
   "source": [
    "import numpy as np"
   ]
  },
  {
   "cell_type": "code",
   "execution_count": 2,
   "metadata": {
    "collapsed": true,
    "deletable": true,
    "editable": true
   },
   "outputs": [],
   "source": [
    "from jwst.associations.tests.helpers import (\n",
    "    combine_pools,\n",
    "    registry_level3_only,\n",
    "    registry_level2_only\n",
    ")\n",
    "from jwst.associations import (\n",
    "    AssociationRegistry,\n",
    "    generate\n",
    ")"
   ]
  },
  {
   "cell_type": "markdown",
   "metadata": {
    "deletable": true,
    "editable": true
   },
   "source": [
    "# Library"
   ]
  },
  {
   "cell_type": "markdown",
   "metadata": {
    "deletable": true,
    "editable": true
   },
   "source": [
    "# Main"
   ]
  },
  {
   "cell_type": "markdown",
   "metadata": {},
   "source": [
    "## test_generate confirmation"
   ]
  },
  {
   "cell_type": "code",
   "execution_count": 9,
   "metadata": {
    "collapsed": true
   },
   "outputs": [],
   "source": [
    "rules = AssociationRegistry()"
   ]
  },
  {
   "cell_type": "code",
   "execution_count": 10,
   "metadata": {
    "collapsed": true
   },
   "outputs": [],
   "source": [
    "pool = combine_pools('data/mega_pool.csv')"
   ]
  },
  {
   "cell_type": "code",
   "execution_count": 11,
   "metadata": {
    "collapsed": true
   },
   "outputs": [],
   "source": [
    "asns, orphanged = generate(pool, rules)"
   ]
  },
  {
   "cell_type": "code",
   "execution_count": 12,
   "metadata": {
    "collapsed": false
   },
   "outputs": [
    {
     "data": {
      "text/plain": [
       "11"
      ]
     },
     "execution_count": 12,
     "metadata": {},
     "output_type": "execute_result"
    }
   ],
   "source": [
    "len(asns)"
   ]
  },
  {
   "cell_type": "code",
   "execution_count": 13,
   "metadata": {
    "collapsed": false,
    "scrolled": false
   },
   "outputs": [
    {
     "data": {
      "text/plain": [
       "[{\n",
       "     \"asn_type\": \"image3\",\n",
       "     \"products\": [\n",
       "         {\n",
       "             \"name\": \"jw99009-a3001_t001_nircam_f090w\",\n",
       "             \"members\": [\n",
       "                 {\n",
       "                     \"exposerr\": null,\n",
       "                     \"expname\": \"jw_00001_cal.fits\",\n",
       "                     \"exptype\": \"SCIENCE\",\n",
       "                     \"asn_candidate\": \"[('o001', 'OBSERVATION')]\"\n",
       "                 },\n",
       "                 {\n",
       "                     \"exposerr\": null,\n",
       "                     \"expname\": \"jw_00002_cal.fits\",\n",
       "                     \"exptype\": \"SCIENCE\",\n",
       "                     \"asn_candidate\": \"[('o001', 'OBSERVATION')]\"\n",
       "                 },\n",
       "                 {\n",
       "                     \"exposerr\": null,\n",
       "                     \"expname\": \"jw_00003_cal.fits\",\n",
       "                     \"exptype\": \"SCIENCE\",\n",
       "                     \"asn_candidate\": \"[('o001', 'OBSERVATION')]\"\n",
       "                 },\n",
       "                 {\n",
       "                     \"exposerr\": null,\n",
       "                     \"expname\": \"jw_00004_cal.fits\",\n",
       "                     \"exptype\": \"SCIENCE\",\n",
       "                     \"asn_candidate\": \"[('o001', 'OBSERVATION')]\"\n",
       "                 },\n",
       "                 {\n",
       "                     \"exposerr\": null,\n",
       "                     \"expname\": \"jw_00006_cal.fits\",\n",
       "                     \"exptype\": \"SCIENCE\",\n",
       "                     \"asn_candidate\": \"[('o001', 'OBSERVATION')]\"\n",
       "                 },\n",
       "                 {\n",
       "                     \"exposerr\": null,\n",
       "                     \"expname\": \"jw_00007_cal.fits\",\n",
       "                     \"exptype\": \"SCIENCE\",\n",
       "                     \"asn_candidate\": \"[('o001', 'OBSERVATION')]\"\n",
       "                 },\n",
       "                 {\n",
       "                     \"exposerr\": null,\n",
       "                     \"expname\": \"jw_00008_cal.fits\",\n",
       "                     \"exptype\": \"SCIENCE\",\n",
       "                     \"asn_candidate\": \"[('o001', 'OBSERVATION')]\"\n",
       "                 },\n",
       "                 {\n",
       "                     \"exposerr\": null,\n",
       "                     \"expname\": \"jw_00009_cal.fits\",\n",
       "                     \"exptype\": \"SCIENCE\",\n",
       "                     \"asn_candidate\": \"[('o001', 'OBSERVATION')]\"\n",
       "                 },\n",
       "                 {\n",
       "                     \"exposerr\": null,\n",
       "                     \"expname\": \"jw_00011_cal.fits\",\n",
       "                     \"exptype\": \"SCIENCE\",\n",
       "                     \"asn_candidate\": \"[('o002', 'OBSERVATION')]\"\n",
       "                 },\n",
       "                 {\n",
       "                     \"exposerr\": null,\n",
       "                     \"expname\": \"jw_00012_cal.fits\",\n",
       "                     \"exptype\": \"SCIENCE\",\n",
       "                     \"asn_candidate\": \"[('o002', 'OBSERVATION')]\"\n",
       "                 },\n",
       "                 {\n",
       "                     \"exposerr\": null,\n",
       "                     \"expname\": \"jw_00013_cal.fits\",\n",
       "                     \"exptype\": \"SCIENCE\",\n",
       "                     \"asn_candidate\": \"[('o002', 'OBSERVATION')]\"\n",
       "                 },\n",
       "                 {\n",
       "                     \"exposerr\": null,\n",
       "                     \"expname\": \"jw_00014_cal.fits\",\n",
       "                     \"exptype\": \"SCIENCE\",\n",
       "                     \"asn_candidate\": \"[('o002', 'OBSERVATION')]\"\n",
       "                 },\n",
       "                 {\n",
       "                     \"exposerr\": null,\n",
       "                     \"expname\": \"jw_00016_cal.fits\",\n",
       "                     \"exptype\": \"SCIENCE\",\n",
       "                     \"asn_candidate\": \"[('o002', 'OBSERVATION')]\"\n",
       "                 },\n",
       "                 {\n",
       "                     \"exposerr\": null,\n",
       "                     \"expname\": \"jw_00017_cal.fits\",\n",
       "                     \"exptype\": \"SCIENCE\",\n",
       "                     \"asn_candidate\": \"[('o002', 'OBSERVATION')]\"\n",
       "                 },\n",
       "                 {\n",
       "                     \"exposerr\": null,\n",
       "                     \"expname\": \"jw_00018_cal.fits\",\n",
       "                     \"exptype\": \"SCIENCE\",\n",
       "                     \"asn_candidate\": \"[('o002', 'OBSERVATION')]\"\n",
       "                 },\n",
       "                 {\n",
       "                     \"exposerr\": null,\n",
       "                     \"expname\": \"jw_00019_cal.fits\",\n",
       "                     \"exptype\": \"SCIENCE\",\n",
       "                     \"asn_candidate\": \"[('o002', 'OBSERVATION')]\"\n",
       "                 },\n",
       "                 {\n",
       "                     \"exposerr\": null,\n",
       "                     \"expname\": \"jw_00021_cal.fits\",\n",
       "                     \"exptype\": \"SCIENCE\",\n",
       "                     \"asn_candidate\": \"[('o003', 'OBSERVATION'), ('c1000', 'MOSAIC'), ('c1001', 'MOSAIC')]\"\n",
       "                 },\n",
       "                 {\n",
       "                     \"exposerr\": null,\n",
       "                     \"expname\": \"jw_00022_cal.fits\",\n",
       "                     \"exptype\": \"SCIENCE\",\n",
       "                     \"asn_candidate\": \"[('o003', 'OBSERVATION'), ('c1000', 'MOSAIC'), ('c1001', 'MOSAIC')]\"\n",
       "                 },\n",
       "                 {\n",
       "                     \"exposerr\": null,\n",
       "                     \"expname\": \"jw_00023_cal.fits\",\n",
       "                     \"exptype\": \"SCIENCE\",\n",
       "                     \"asn_candidate\": \"[('o003', 'OBSERVATION'), ('c1000', 'MOSAIC'), ('c1001', 'MOSAIC')]\"\n",
       "                 },\n",
       "                 {\n",
       "                     \"exposerr\": null,\n",
       "                     \"expname\": \"jw_00024_cal.fits\",\n",
       "                     \"exptype\": \"SCIENCE\",\n",
       "                     \"asn_candidate\": \"[('o003', 'OBSERVATION'), ('c1000', 'MOSAIC'), ('c1001', 'MOSAIC')]\"\n",
       "                 },\n",
       "                 {\n",
       "                     \"exposerr\": null,\n",
       "                     \"expname\": \"jw_00026_cal.fits\",\n",
       "                     \"exptype\": \"SCIENCE\",\n",
       "                     \"asn_candidate\": \"[('o003', 'OBSERVATION'), ('c1000', 'MOSAIC'), ('c1001', 'MOSAIC')]\"\n",
       "                 },\n",
       "                 {\n",
       "                     \"exposerr\": null,\n",
       "                     \"expname\": \"jw_00027_cal.fits\",\n",
       "                     \"exptype\": \"SCIENCE\",\n",
       "                     \"asn_candidate\": \"[('o003', 'OBSERVATION'), ('c1000', 'MOSAIC'), ('c1001', 'MOSAIC')]\"\n",
       "                 },\n",
       "                 {\n",
       "                     \"exposerr\": null,\n",
       "                     \"expname\": \"jw_00028_cal.fits\",\n",
       "                     \"exptype\": \"SCIENCE\",\n",
       "                     \"asn_candidate\": \"[('o003', 'OBSERVATION'), ('c1000', 'MOSAIC'), ('c1001', 'MOSAIC')]\"\n",
       "                 },\n",
       "                 {\n",
       "                     \"exposerr\": null,\n",
       "                     \"expname\": \"jw_00029_cal.fits\",\n",
       "                     \"exptype\": \"SCIENCE\",\n",
       "                     \"asn_candidate\": \"[('o003', 'OBSERVATION'), ('c1000', 'MOSAIC'), ('c1001', 'MOSAIC')]\"\n",
       "                 },\n",
       "                 {\n",
       "                     \"exposerr\": null,\n",
       "                     \"expname\": \"jw_00031_cal.fits\",\n",
       "                     \"exptype\": \"SCIENCE\",\n",
       "                     \"asn_candidate\": \"[('o004', 'OBSERVATION'), ('c1000', 'MOSAIC'), ('c1001', 'MOSAIC')]\"\n",
       "                 },\n",
       "                 {\n",
       "                     \"exposerr\": null,\n",
       "                     \"expname\": \"jw_00032_cal.fits\",\n",
       "                     \"exptype\": \"SCIENCE\",\n",
       "                     \"asn_candidate\": \"[('o004', 'OBSERVATION'), ('c1000', 'MOSAIC'), ('c1001', 'MOSAIC')]\"\n",
       "                 },\n",
       "                 {\n",
       "                     \"exposerr\": null,\n",
       "                     \"expname\": \"jw_00033_cal.fits\",\n",
       "                     \"exptype\": \"SCIENCE\",\n",
       "                     \"asn_candidate\": \"[('o004', 'OBSERVATION'), ('c1000', 'MOSAIC'), ('c1001', 'MOSAIC')]\"\n",
       "                 },\n",
       "                 {\n",
       "                     \"exposerr\": null,\n",
       "                     \"expname\": \"jw_00034_cal.fits\",\n",
       "                     \"exptype\": \"SCIENCE\",\n",
       "                     \"asn_candidate\": \"[('o004', 'OBSERVATION'), ('c1000', 'MOSAIC'), ('c1001', 'MOSAIC')]\"\n",
       "                 },\n",
       "                 {\n",
       "                     \"exposerr\": null,\n",
       "                     \"expname\": \"jw_00036_cal.fits\",\n",
       "                     \"exptype\": \"SCIENCE\",\n",
       "                     \"asn_candidate\": \"[('o004', 'OBSERVATION'), ('c1000', 'MOSAIC'), ('c1001', 'MOSAIC')]\"\n",
       "                 },\n",
       "                 {\n",
       "                     \"exposerr\": null,\n",
       "                     \"expname\": \"jw_00037_cal.fits\",\n",
       "                     \"exptype\": \"SCIENCE\",\n",
       "                     \"asn_candidate\": \"[('o004', 'OBSERVATION'), ('c1000', 'MOSAIC'), ('c1001', 'MOSAIC')]\"\n",
       "                 },\n",
       "                 {\n",
       "                     \"exposerr\": null,\n",
       "                     \"expname\": \"jw_00038_cal.fits\",\n",
       "                     \"exptype\": \"SCIENCE\",\n",
       "                     \"asn_candidate\": \"[('o004', 'OBSERVATION'), ('c1000', 'MOSAIC'), ('c1001', 'MOSAIC')]\"\n",
       "                 },\n",
       "                 {\n",
       "                     \"exposerr\": null,\n",
       "                     \"expname\": \"jw_00039_cal.fits\",\n",
       "                     \"exptype\": \"SCIENCE\",\n",
       "                     \"asn_candidate\": \"[('o004', 'OBSERVATION'), ('c1000', 'MOSAIC'), ('c1001', 'MOSAIC')]\"\n",
       "                 },\n",
       "                 {\n",
       "                     \"exposerr\": null,\n",
       "                     \"expname\": \"jw_00041_cal.fits\",\n",
       "                     \"exptype\": \"SCIENCE\",\n",
       "                     \"asn_candidate\": \"[('o005', 'OBSERVATION'), ('c1001', 'MOSAIC')]\"\n",
       "                 },\n",
       "                 {\n",
       "                     \"exposerr\": null,\n",
       "                     \"expname\": \"jw_00042_cal.fits\",\n",
       "                     \"exptype\": \"SCIENCE\",\n",
       "                     \"asn_candidate\": \"[('o005', 'OBSERVATION'), ('c1001', 'MOSAIC')]\"\n",
       "                 },\n",
       "                 {\n",
       "                     \"exposerr\": null,\n",
       "                     \"expname\": \"jw_00043_cal.fits\",\n",
       "                     \"exptype\": \"SCIENCE\",\n",
       "                     \"asn_candidate\": \"[('o005', 'OBSERVATION'), ('c1001', 'MOSAIC')]\"\n",
       "                 },\n",
       "                 {\n",
       "                     \"exposerr\": null,\n",
       "                     \"expname\": \"jw_00044_cal.fits\",\n",
       "                     \"exptype\": \"SCIENCE\",\n",
       "                     \"asn_candidate\": \"[('o005', 'OBSERVATION'), ('c1001', 'MOSAIC')]\"\n",
       "                 },\n",
       "                 {\n",
       "                     \"exposerr\": null,\n",
       "                     \"expname\": \"jw_00046_cal.fits\",\n",
       "                     \"exptype\": \"SCIENCE\",\n",
       "                     \"asn_candidate\": \"[('o005', 'OBSERVATION'), ('c1001', 'MOSAIC')]\"\n",
       "                 },\n",
       "                 {\n",
       "                     \"exposerr\": null,\n",
       "                     \"expname\": \"jw_00047_cal.fits\",\n",
       "                     \"exptype\": \"SCIENCE\",\n",
       "                     \"asn_candidate\": \"[('o005', 'OBSERVATION'), ('c1001', 'MOSAIC')]\"\n",
       "                 },\n",
       "                 {\n",
       "                     \"exposerr\": null,\n",
       "                     \"expname\": \"jw_00048_cal.fits\",\n",
       "                     \"exptype\": \"SCIENCE\",\n",
       "                     \"asn_candidate\": \"[('o005', 'OBSERVATION'), ('c1001', 'MOSAIC')]\"\n",
       "                 },\n",
       "                 {\n",
       "                     \"exposerr\": null,\n",
       "                     \"expname\": \"jw_00049_cal.fits\",\n",
       "                     \"exptype\": \"SCIENCE\",\n",
       "                     \"asn_candidate\": \"[('o005', 'OBSERVATION'), ('c1001', 'MOSAIC')]\"\n",
       "                 },\n",
       "                 {\n",
       "                     \"exposerr\": null,\n",
       "                     \"expname\": \"jw_00051_cal.fits\",\n",
       "                     \"exptype\": \"SCIENCE\",\n",
       "                     \"asn_candidate\": \"[('o006', 'OBSERVATION'), ('c1002', 'MOSAIC')]\"\n",
       "                 },\n",
       "                 {\n",
       "                     \"exposerr\": null,\n",
       "                     \"expname\": \"jw_00052_cal.fits\",\n",
       "                     \"exptype\": \"SCIENCE\",\n",
       "                     \"asn_candidate\": \"[('o006', 'OBSERVATION'), ('c1002', 'MOSAIC')]\"\n",
       "                 },\n",
       "                 {\n",
       "                     \"exposerr\": null,\n",
       "                     \"expname\": \"jw_00053_cal.fits\",\n",
       "                     \"exptype\": \"SCIENCE\",\n",
       "                     \"asn_candidate\": \"[('o006', 'OBSERVATION'), ('c1002', 'MOSAIC')]\"\n",
       "                 },\n",
       "                 {\n",
       "                     \"exposerr\": null,\n",
       "                     \"expname\": \"jw_00054_cal.fits\",\n",
       "                     \"exptype\": \"SCIENCE\",\n",
       "                     \"asn_candidate\": \"[('o006', 'OBSERVATION'), ('c1002', 'MOSAIC')]\"\n",
       "                 },\n",
       "                 {\n",
       "                     \"exposerr\": null,\n",
       "                     \"expname\": \"jw_00056_cal.fits\",\n",
       "                     \"exptype\": \"SCIENCE\",\n",
       "                     \"asn_candidate\": \"[('o006', 'OBSERVATION'), ('c1002', 'MOSAIC')]\"\n",
       "                 },\n",
       "                 {\n",
       "                     \"exposerr\": null,\n",
       "                     \"expname\": \"jw_00057_cal.fits\",\n",
       "                     \"exptype\": \"SCIENCE\",\n",
       "                     \"asn_candidate\": \"[('o006', 'OBSERVATION'), ('c1002', 'MOSAIC')]\"\n",
       "                 },\n",
       "                 {\n",
       "                     \"exposerr\": null,\n",
       "                     \"expname\": \"jw_00058_cal.fits\",\n",
       "                     \"exptype\": \"SCIENCE\",\n",
       "                     \"asn_candidate\": \"[('o006', 'OBSERVATION'), ('c1002', 'MOSAIC')]\"\n",
       "                 },\n",
       "                 {\n",
       "                     \"exposerr\": null,\n",
       "                     \"expname\": \"jw_00059_cal.fits\",\n",
       "                     \"exptype\": \"SCIENCE\",\n",
       "                     \"asn_candidate\": \"[('o006', 'OBSERVATION'), ('c1002', 'MOSAIC')]\"\n",
       "                 },\n",
       "                 {\n",
       "                     \"exposerr\": null,\n",
       "                     \"expname\": \"jw_00061_cal.fits\",\n",
       "                     \"exptype\": \"SCIENCE\",\n",
       "                     \"asn_candidate\": \"[('o007', 'OBSERVATION'), ('c1002', 'MOSAIC')]\"\n",
       "                 },\n",
       "                 {\n",
       "                     \"exposerr\": null,\n",
       "                     \"expname\": \"jw_00062_cal.fits\",\n",
       "                     \"exptype\": \"SCIENCE\",\n",
       "                     \"asn_candidate\": \"[('o007', 'OBSERVATION'), ('c1002', 'MOSAIC')]\"\n",
       "                 },\n",
       "                 {\n",
       "                     \"exposerr\": null,\n",
       "                     \"expname\": \"jw_00063_cal.fits\",\n",
       "                     \"exptype\": \"SCIENCE\",\n",
       "                     \"asn_candidate\": \"[('o007', 'OBSERVATION'), ('c1002', 'MOSAIC')]\"\n",
       "                 },\n",
       "                 {\n",
       "                     \"exposerr\": null,\n",
       "                     \"expname\": \"jw_00064_cal.fits\",\n",
       "                     \"exptype\": \"SCIENCE\",\n",
       "                     \"asn_candidate\": \"[('o007', 'OBSERVATION'), ('c1002', 'MOSAIC')]\"\n",
       "                 },\n",
       "                 {\n",
       "                     \"exposerr\": null,\n",
       "                     \"expname\": \"jw_00066_cal.fits\",\n",
       "                     \"exptype\": \"SCIENCE\",\n",
       "                     \"asn_candidate\": \"[('o007', 'OBSERVATION'), ('c1002', 'MOSAIC')]\"\n",
       "                 },\n",
       "                 {\n",
       "                     \"exposerr\": null,\n",
       "                     \"expname\": \"jw_00067_cal.fits\",\n",
       "                     \"exptype\": \"SCIENCE\",\n",
       "                     \"asn_candidate\": \"[('o007', 'OBSERVATION'), ('c1002', 'MOSAIC')]\"\n",
       "                 },\n",
       "                 {\n",
       "                     \"exposerr\": null,\n",
       "                     \"expname\": \"jw_00068_cal.fits\",\n",
       "                     \"exptype\": \"SCIENCE\",\n",
       "                     \"asn_candidate\": \"[('o007', 'OBSERVATION'), ('c1002', 'MOSAIC')]\"\n",
       "                 },\n",
       "                 {\n",
       "                     \"exposerr\": null,\n",
       "                     \"expname\": \"jw_00069_cal.fits\",\n",
       "                     \"exptype\": \"SCIENCE\",\n",
       "                     \"asn_candidate\": \"[('o007', 'OBSERVATION'), ('c1002', 'MOSAIC')]\"\n",
       "                 },\n",
       "                 {\n",
       "                     \"exposerr\": null,\n",
       "                     \"expname\": \"jw_00079_cal.fits\",\n",
       "                     \"exptype\": \"SCIENCE\",\n",
       "                     \"asn_candidate\": \"[('o009', 'OBSERVATION')]\"\n",
       "                 },\n",
       "                 {\n",
       "                     \"exposerr\": null,\n",
       "                     \"expname\": \"jw_00080_cal.fits\",\n",
       "                     \"exptype\": \"SCIENCE\",\n",
       "                     \"asn_candidate\": \"[('o009', 'OBSERVATION')]\"\n",
       "                 },\n",
       "                 {\n",
       "                     \"exposerr\": null,\n",
       "                     \"expname\": \"jw_00081_cal.fits\",\n",
       "                     \"exptype\": \"SCIENCE\",\n",
       "                     \"asn_candidate\": \"[('o009', 'OBSERVATION')]\"\n",
       "                 },\n",
       "                 {\n",
       "                     \"exposerr\": null,\n",
       "                     \"expname\": \"jw_00082_cal.fits\",\n",
       "                     \"exptype\": \"SCIENCE\",\n",
       "                     \"asn_candidate\": \"[('o009', 'OBSERVATION')]\"\n",
       "                 },\n",
       "                 {\n",
       "                     \"exposerr\": null,\n",
       "                     \"expname\": \"jw_00084_cal.fits\",\n",
       "                     \"exptype\": \"SCIENCE\",\n",
       "                     \"asn_candidate\": \"[('o009', 'OBSERVATION')]\"\n",
       "                 },\n",
       "                 {\n",
       "                     \"exposerr\": null,\n",
       "                     \"expname\": \"jw_00085_cal.fits\",\n",
       "                     \"exptype\": \"SCIENCE\",\n",
       "                     \"asn_candidate\": \"[('o009', 'OBSERVATION')]\"\n",
       "                 },\n",
       "                 {\n",
       "                     \"exposerr\": null,\n",
       "                     \"expname\": \"jw_00086_cal.fits\",\n",
       "                     \"exptype\": \"SCIENCE\",\n",
       "                     \"asn_candidate\": \"[('o009', 'OBSERVATION')]\"\n",
       "                 },\n",
       "                 {\n",
       "                     \"exposerr\": null,\n",
       "                     \"expname\": \"jw_00087_cal.fits\",\n",
       "                     \"exptype\": \"SCIENCE\",\n",
       "                     \"asn_candidate\": \"[('o009', 'OBSERVATION')]\"\n",
       "                 },\n",
       "                 {\n",
       "                     \"exposerr\": null,\n",
       "                     \"expname\": \"jw_00088_cal.fits\",\n",
       "                     \"exptype\": \"SCIENCE\",\n",
       "                     \"asn_candidate\": \"[('o009', 'OBSERVATION')]\"\n",
       "                 },\n",
       "                 {\n",
       "                     \"exposerr\": null,\n",
       "                     \"expname\": \"jw_00089_cal.fits\",\n",
       "                     \"exptype\": \"SCIENCE\",\n",
       "                     \"asn_candidate\": \"[('o009', 'OBSERVATION')]\"\n",
       "                 },\n",
       "                 {\n",
       "                     \"exposerr\": null,\n",
       "                     \"expname\": \"jw_00090_cal.fits\",\n",
       "                     \"exptype\": \"SCIENCE\",\n",
       "                     \"asn_candidate\": \"[('o009', 'OBSERVATION')]\"\n",
       "                 },\n",
       "                 {\n",
       "                     \"exposerr\": null,\n",
       "                     \"expname\": \"jw_00091_cal.fits\",\n",
       "                     \"exptype\": \"SCIENCE\",\n",
       "                     \"asn_candidate\": \"[('o009', 'OBSERVATION')]\"\n",
       "                 },\n",
       "                 {\n",
       "                     \"exposerr\": null,\n",
       "                     \"expname\": \"jw_00092_cal.fits\",\n",
       "                     \"exptype\": \"SCIENCE\",\n",
       "                     \"asn_candidate\": \"[('o009', 'OBSERVATION')]\"\n",
       "                 },\n",
       "                 {\n",
       "                     \"exposerr\": null,\n",
       "                     \"expname\": \"jw_00093_cal.fits\",\n",
       "                     \"exptype\": \"SCIENCE\",\n",
       "                     \"asn_candidate\": \"[('o009', 'OBSERVATION')]\"\n",
       "                 },\n",
       "                 {\n",
       "                     \"exposerr\": null,\n",
       "                     \"expname\": \"jw_00094_cal.fits\",\n",
       "                     \"exptype\": \"SCIENCE\",\n",
       "                     \"asn_candidate\": \"[('o009', 'OBSERVATION')]\"\n",
       "                 },\n",
       "                 {\n",
       "                     \"exposerr\": null,\n",
       "                     \"expname\": \"jw_00096_cal.fits\",\n",
       "                     \"exptype\": \"SCIENCE\",\n",
       "                     \"asn_candidate\": \"[('o009', 'OBSERVATION')]\"\n",
       "                 }\n",
       "             ]\n",
       "         }\n",
       "     ],\n",
       "     \"version_id\": null,\n",
       "     \"target\": \"1\",\n",
       "     \"asn_id\": \"a3001\",\n",
       "     \"constraints\": \"Constraints:\\n    opt_elem: F090W\\n    exp_type: NRC_IMAGE\\n    target: 1\\n    instrument: NIRCAM\\n    wfsvisit: Is Invalid\\n    program: 99009\\n    opt_elem2: CLEAR\",\n",
       "     \"degraded_status\": \"No known degraded exposures in association.\",\n",
       "     \"program\": \"99009\",\n",
       "     \"code_version\": \"0.7.1.beta2\",\n",
       "     \"asn_rule\": \"Asn_Image\",\n",
       "     \"asn_pool\": \"mega_pool\"\n",
       " }, {\n",
       "     \"asn_type\": \"image3\",\n",
       "     \"products\": [\n",
       "         {\n",
       "             \"name\": \"jw99009-a3001_t001_nircam_f277w\",\n",
       "             \"members\": [\n",
       "                 {\n",
       "                     \"exposerr\": null,\n",
       "                     \"expname\": \"jw_00005_cal.fits\",\n",
       "                     \"exptype\": \"SCIENCE\",\n",
       "                     \"asn_candidate\": \"[('o001', 'OBSERVATION')]\"\n",
       "                 },\n",
       "                 {\n",
       "                     \"exposerr\": null,\n",
       "                     \"expname\": \"jw_00010_cal.fits\",\n",
       "                     \"exptype\": \"SCIENCE\",\n",
       "                     \"asn_candidate\": \"[('o001', 'OBSERVATION')]\"\n",
       "                 },\n",
       "                 {\n",
       "                     \"exposerr\": null,\n",
       "                     \"expname\": \"jw_00015_cal.fits\",\n",
       "                     \"exptype\": \"SCIENCE\",\n",
       "                     \"asn_candidate\": \"[('o002', 'OBSERVATION')]\"\n",
       "                 },\n",
       "                 {\n",
       "                     \"exposerr\": null,\n",
       "                     \"expname\": \"jw_00020_cal.fits\",\n",
       "                     \"exptype\": \"SCIENCE\",\n",
       "                     \"asn_candidate\": \"[('o002', 'OBSERVATION')]\"\n",
       "                 },\n",
       "                 {\n",
       "                     \"exposerr\": null,\n",
       "                     \"expname\": \"jw_00025_cal.fits\",\n",
       "                     \"exptype\": \"SCIENCE\",\n",
       "                     \"asn_candidate\": \"[('o003', 'OBSERVATION'), ('c1000', 'MOSAIC'), ('c1001', 'MOSAIC')]\"\n",
       "                 },\n",
       "                 {\n",
       "                     \"exposerr\": null,\n",
       "                     \"expname\": \"jw_00030_cal.fits\",\n",
       "                     \"exptype\": \"SCIENCE\",\n",
       "                     \"asn_candidate\": \"[('o003', 'OBSERVATION'), ('c1000', 'MOSAIC'), ('c1001', 'MOSAIC')]\"\n",
       "                 },\n",
       "                 {\n",
       "                     \"exposerr\": null,\n",
       "                     \"expname\": \"jw_00035_cal.fits\",\n",
       "                     \"exptype\": \"SCIENCE\",\n",
       "                     \"asn_candidate\": \"[('o004', 'OBSERVATION'), ('c1000', 'MOSAIC'), ('c1001', 'MOSAIC')]\"\n",
       "                 },\n",
       "                 {\n",
       "                     \"exposerr\": null,\n",
       "                     \"expname\": \"jw_00040_cal.fits\",\n",
       "                     \"exptype\": \"SCIENCE\",\n",
       "                     \"asn_candidate\": \"[('o004', 'OBSERVATION'), ('c1000', 'MOSAIC'), ('c1001', 'MOSAIC')]\"\n",
       "                 },\n",
       "                 {\n",
       "                     \"exposerr\": null,\n",
       "                     \"expname\": \"jw_00045_cal.fits\",\n",
       "                     \"exptype\": \"SCIENCE\",\n",
       "                     \"asn_candidate\": \"[('o005', 'OBSERVATION'), ('c1001', 'MOSAIC')]\"\n",
       "                 },\n",
       "                 {\n",
       "                     \"exposerr\": null,\n",
       "                     \"expname\": \"jw_00050_cal.fits\",\n",
       "                     \"exptype\": \"SCIENCE\",\n",
       "                     \"asn_candidate\": \"[('o005', 'OBSERVATION'), ('c1001', 'MOSAIC')]\"\n",
       "                 },\n",
       "                 {\n",
       "                     \"exposerr\": null,\n",
       "                     \"expname\": \"jw_00055_cal.fits\",\n",
       "                     \"exptype\": \"SCIENCE\",\n",
       "                     \"asn_candidate\": \"[('o006', 'OBSERVATION'), ('c1002', 'MOSAIC')]\"\n",
       "                 },\n",
       "                 {\n",
       "                     \"exposerr\": null,\n",
       "                     \"expname\": \"jw_00060_cal.fits\",\n",
       "                     \"exptype\": \"SCIENCE\",\n",
       "                     \"asn_candidate\": \"[('o006', 'OBSERVATION'), ('c1002', 'MOSAIC')]\"\n",
       "                 },\n",
       "                 {\n",
       "                     \"exposerr\": null,\n",
       "                     \"expname\": \"jw_00065_cal.fits\",\n",
       "                     \"exptype\": \"SCIENCE\",\n",
       "                     \"asn_candidate\": \"[('o007', 'OBSERVATION'), ('c1002', 'MOSAIC')]\"\n",
       "                 },\n",
       "                 {\n",
       "                     \"exposerr\": null,\n",
       "                     \"expname\": \"jw_00070_cal.fits\",\n",
       "                     \"exptype\": \"SCIENCE\",\n",
       "                     \"asn_candidate\": \"[('o007', 'OBSERVATION'), ('c1002', 'MOSAIC')]\"\n",
       "                 },\n",
       "                 {\n",
       "                     \"exposerr\": null,\n",
       "                     \"expname\": \"jw_00083_cal.fits\",\n",
       "                     \"exptype\": \"SCIENCE\",\n",
       "                     \"asn_candidate\": \"[('o009', 'OBSERVATION')]\"\n",
       "                 },\n",
       "                 {\n",
       "                     \"exposerr\": null,\n",
       "                     \"expname\": \"jw_00095_cal.fits\",\n",
       "                     \"exptype\": \"SCIENCE\",\n",
       "                     \"asn_candidate\": \"[('o009', 'OBSERVATION')]\"\n",
       "                 }\n",
       "             ]\n",
       "         }\n",
       "     ],\n",
       "     \"version_id\": null,\n",
       "     \"target\": \"1\",\n",
       "     \"asn_id\": \"a3001\",\n",
       "     \"constraints\": \"Constraints:\\n    opt_elem: F277W\\n    exp_type: NRC_IMAGE\\n    target: 1\\n    instrument: NIRCAM\\n    wfsvisit: Is Invalid\\n    program: 99009\\n    opt_elem2: CLEAR\",\n",
       "     \"degraded_status\": \"No known degraded exposures in association.\",\n",
       "     \"program\": \"99009\",\n",
       "     \"code_version\": \"0.7.1.beta2\",\n",
       "     \"asn_rule\": \"Asn_Image\",\n",
       "     \"asn_pool\": \"mega_pool\"\n",
       " }, {\n",
       "     \"asn_type\": \"image3\",\n",
       "     \"products\": [\n",
       "         {\n",
       "             \"name\": \"jw99009-a3001_t001_miri_f560w\",\n",
       "             \"members\": [\n",
       "                 {\n",
       "                     \"exposerr\": null,\n",
       "                     \"expname\": \"jw_00071_cal.fits\",\n",
       "                     \"exptype\": \"SCIENCE\",\n",
       "                     \"asn_candidate\": \"[('o008', 'OBSERVATION')]\"\n",
       "                 },\n",
       "                 {\n",
       "                     \"exposerr\": null,\n",
       "                     \"expname\": \"jw_00072_cal.fits\",\n",
       "                     \"exptype\": \"SCIENCE\",\n",
       "                     \"asn_candidate\": \"[('o008', 'OBSERVATION')]\"\n",
       "                 },\n",
       "                 {\n",
       "                     \"exposerr\": null,\n",
       "                     \"expname\": \"jw_00073_cal.fits\",\n",
       "                     \"exptype\": \"SCIENCE\",\n",
       "                     \"asn_candidate\": \"[('o008', 'OBSERVATION')]\"\n",
       "                 },\n",
       "                 {\n",
       "                     \"exposerr\": null,\n",
       "                     \"expname\": \"jw_00074_cal.fits\",\n",
       "                     \"exptype\": \"SCIENCE\",\n",
       "                     \"asn_candidate\": \"[('o008', 'OBSERVATION')]\"\n",
       "                 },\n",
       "                 {\n",
       "                     \"exposerr\": null,\n",
       "                     \"expname\": \"jw_00075_cal.fits\",\n",
       "                     \"exptype\": \"SCIENCE\",\n",
       "                     \"asn_candidate\": \"[('o008', 'OBSERVATION')]\"\n",
       "                 },\n",
       "                 {\n",
       "                     \"exposerr\": null,\n",
       "                     \"expname\": \"jw_00076_cal.fits\",\n",
       "                     \"exptype\": \"SCIENCE\",\n",
       "                     \"asn_candidate\": \"[('o008', 'OBSERVATION')]\"\n",
       "                 },\n",
       "                 {\n",
       "                     \"exposerr\": null,\n",
       "                     \"expname\": \"jw_00077_cal.fits\",\n",
       "                     \"exptype\": \"SCIENCE\",\n",
       "                     \"asn_candidate\": \"[('o008', 'OBSERVATION')]\"\n",
       "                 },\n",
       "                 {\n",
       "                     \"exposerr\": null,\n",
       "                     \"expname\": \"jw_00078_cal.fits\",\n",
       "                     \"exptype\": \"SCIENCE\",\n",
       "                     \"asn_candidate\": \"[('o008', 'OBSERVATION')]\"\n",
       "                 }\n",
       "             ]\n",
       "         }\n",
       "     ],\n",
       "     \"version_id\": null,\n",
       "     \"target\": \"1\",\n",
       "     \"asn_id\": \"a3001\",\n",
       "     \"constraints\": \"Constraints:\\n    opt_elem: F560W\\n    exp_type: MIR_IMAGE\\n    target: 1\\n    instrument: MIRI\\n    wfsvisit: Is Invalid\\n    program: 99009\\n    opt_elem2: None\",\n",
       "     \"degraded_status\": \"No known degraded exposures in association.\",\n",
       "     \"program\": \"99009\",\n",
       "     \"code_version\": \"0.7.1.beta2\",\n",
       "     \"asn_rule\": \"Asn_Image\",\n",
       "     \"asn_pool\": \"mega_pool\"\n",
       " }, {\n",
       "     \"asn_type\": \"spec3\",\n",
       "     \"products\": [\n",
       "         {\n",
       "             \"name\": \"jw99009-a3001_t001_niriss_gr700xd\",\n",
       "             \"members\": [\n",
       "                 {\n",
       "                     \"exposerr\": null,\n",
       "                     \"expname\": \"jw_00099_cal.fits\",\n",
       "                     \"exptype\": \"SCIENCE\",\n",
       "                     \"asn_candidate\": \"[('o012', 'OBSERVATION')]\"\n",
       "                 },\n",
       "                 {\n",
       "                     \"exposerr\": null,\n",
       "                     \"expname\": \"jw_00100_cal.fits\",\n",
       "                     \"exptype\": \"SCIENCE\",\n",
       "                     \"asn_candidate\": \"[('o012', 'OBSERVATION')]\"\n",
       "                 }\n",
       "             ]\n",
       "         }\n",
       "     ],\n",
       "     \"version_id\": null,\n",
       "     \"target\": \"1\",\n",
       "     \"asn_id\": \"a3001\",\n",
       "     \"constraints\": \"Constraints:\\n    detector: NIS\\n    opt_elem: GR700XD\\n    exp_type: NIS_SOSS|NIS_TACQ|NIS_TACNFRM\\n    target: 1\\n    instrument: NIRISS\\n    subarray: FULL\\n    program: 99009\",\n",
       "     \"degraded_status\": \"No known degraded exposures in association.\",\n",
       "     \"program\": \"99009\",\n",
       "     \"code_version\": \"0.7.1.beta2\",\n",
       "     \"asn_rule\": \"Asn_NIR_SO_SLITLESS\",\n",
       "     \"asn_pool\": \"mega_pool\"\n",
       " }, {\n",
       "     \"asn_type\": \"spec3\",\n",
       "     \"products\": [\n",
       "         {\n",
       "             \"name\": \"jw99009-a3001_t001_nirspec_f100lp-g140m\",\n",
       "             \"members\": [\n",
       "                 {\n",
       "                     \"exposerr\": null,\n",
       "                     \"expname\": \"jw_00101_cal.fits\",\n",
       "                     \"exptype\": \"SCIENCE\",\n",
       "                     \"asn_candidate\": \"[('o013', 'OBSERVATION')]\"\n",
       "                 },\n",
       "                 {\n",
       "                     \"exposerr\": null,\n",
       "                     \"expname\": \"jw_00102_cal.fits\",\n",
       "                     \"exptype\": \"SCIENCE\",\n",
       "                     \"asn_candidate\": \"[('o013', 'OBSERVATION')]\"\n",
       "                 }\n",
       "             ]\n",
       "         }\n",
       "     ],\n",
       "     \"version_id\": null,\n",
       "     \"target\": \"1\",\n",
       "     \"asn_id\": \"a3001\",\n",
       "     \"constraints\": \"Constraints:\\n    opt_elem: F100LP\\n    exp_type: NRS_FIXEDSLIT|NRS_AUTOWAVE|NRS_CONFIRM|NRS_TACQ|NRS_TACONFIRM|NRS_TASLIT\\n    target: 1\\n    fixed_slit: S200A2\\n    instrument: NIRSPEC\\n    subarray: S200A2\\n    program: 99009\\n    opt_elem2: G140M\",\n",
       "     \"degraded_status\": \"No known degraded exposures in association.\",\n",
       "     \"program\": \"99009\",\n",
       "     \"code_version\": \"0.7.1.beta2\",\n",
       "     \"asn_rule\": \"Asn_NRS_FIXEDSLIT\",\n",
       "     \"asn_pool\": \"mega_pool\"\n",
       " }, {\n",
       "     \"asn_type\": \"spec3\",\n",
       "     \"products\": [\n",
       "         {\n",
       "             \"name\": \"jw99009-a3001_t003_nirspec_f100lp-g140h\",\n",
       "             \"members\": [\n",
       "                 {\n",
       "                     \"exposerr\": null,\n",
       "                     \"expname\": \"jw_00103_cal.fits\",\n",
       "                     \"exptype\": \"SCIENCE\",\n",
       "                     \"asn_candidate\": \"[('o014', 'OBSERVATION')]\"\n",
       "                 },\n",
       "                 {\n",
       "                     \"exposerr\": null,\n",
       "                     \"expname\": \"jw_00104_cal.fits\",\n",
       "                     \"exptype\": \"SCIENCE\",\n",
       "                     \"asn_candidate\": \"[('o014', 'OBSERVATION')]\"\n",
       "                 }\n",
       "             ]\n",
       "         }\n",
       "     ],\n",
       "     \"version_id\": null,\n",
       "     \"target\": \"3\",\n",
       "     \"asn_id\": \"a3001\",\n",
       "     \"constraints\": \"Constraints:\\n    opt_elem: F100LP\\n    exp_type: NRS_MSASPEC|NRS_AUTOFLAT|NRS_AUTOWAVE|NRS_CONFIRM|NRS_TASLIT|NRS_TACQ|NRS_TACONFIRM\\n    target: 3\\n    instrument: NIRSPEC\\n    program: 99009\\n    opt_elem2: G140H\",\n",
       "     \"degraded_status\": \"No known degraded exposures in association.\",\n",
       "     \"program\": \"99009\",\n",
       "     \"code_version\": \"0.7.1.beta2\",\n",
       "     \"asn_rule\": \"Asn_NRS_MSA\",\n",
       "     \"asn_pool\": \"mega_pool\"\n",
       " }, {\n",
       "     \"asn_type\": \"spec3\",\n",
       "     \"products\": [\n",
       "         {\n",
       "             \"name\": \"jw99009-a3001_t002_nirspec_clear\",\n",
       "             \"members\": [\n",
       "                 {\n",
       "                     \"exposerr\": null,\n",
       "                     \"expname\": \"jw_00105_cal.fits\",\n",
       "                     \"exptype\": \"SCIENCE\",\n",
       "                     \"asn_candidate\": \"[('o015', 'OBSERVATION')]\"\n",
       "                 },\n",
       "                 {\n",
       "                     \"exposerr\": null,\n",
       "                     \"expname\": \"jw_00106_cal.fits\",\n",
       "                     \"exptype\": \"SCIENCE\",\n",
       "                     \"asn_candidate\": \"[('o015', 'OBSERVATION')]\"\n",
       "                 }\n",
       "             ]\n",
       "         }\n",
       "     ],\n",
       "     \"version_id\": null,\n",
       "     \"target\": \"2\",\n",
       "     \"asn_id\": \"a3001\",\n",
       "     \"constraints\": \"Constraints:\\n    instrument: NIRSPEC\\n    program: 99009\\n    exp_type: NRS_IFU|NRS_AUTOWAVE|NRS_CONFIRM|NRS_TASLIT|NRS_TACQ|NRS_TACONFIRM\\n    target: 2\",\n",
       "     \"degraded_status\": \"No known degraded exposures in association.\",\n",
       "     \"program\": \"99009\",\n",
       "     \"code_version\": \"0.7.1.beta2\",\n",
       "     \"asn_rule\": \"Asn_NRS_IFU\",\n",
       "     \"asn_pool\": \"mega_pool\"\n",
       " }, {\n",
       "     \"asn_type\": \"spec3\",\n",
       "     \"products\": [\n",
       "         {\n",
       "             \"name\": \"jw99009-a3001_t001_miri_p750l\",\n",
       "             \"members\": [\n",
       "                 {\n",
       "                     \"exposerr\": null,\n",
       "                     \"expname\": \"jw_00107_cal.fits\",\n",
       "                     \"exptype\": \"SCIENCE\",\n",
       "                     \"asn_candidate\": \"[('o016', 'OBSERVATION')]\"\n",
       "                 },\n",
       "                 {\n",
       "                     \"exposerr\": null,\n",
       "                     \"expname\": \"jw_00108_cal.fits\",\n",
       "                     \"exptype\": \"SCIENCE\",\n",
       "                     \"asn_candidate\": \"[('o017', 'OBSERVATION')]\"\n",
       "                 }\n",
       "             ]\n",
       "         }\n",
       "     ],\n",
       "     \"version_id\": null,\n",
       "     \"target\": \"1\",\n",
       "     \"asn_id\": \"a3001\",\n",
       "     \"constraints\": \"Constraints:\\n    opt_elem: P750L\\n    exp_type: MIR_LRS-FIXEDSLIT|MIR_TACQ\\n    target: 1\\n    instrument: MIRI\\n    subarray: FULL\\n    program: 99009\",\n",
       "     \"degraded_status\": \"No known degraded exposures in association.\",\n",
       "     \"program\": \"99009\",\n",
       "     \"code_version\": \"0.7.1.beta2\",\n",
       "     \"asn_rule\": \"Asn_MIRI_LRS_FIXEDSLIT\",\n",
       "     \"asn_pool\": \"mega_pool\"\n",
       " }, {\n",
       "     \"asn_type\": \"spec3\",\n",
       "     \"products\": [\n",
       "         {\n",
       "             \"name\": \"jw99009-a3001_t001_miri_p750l\",\n",
       "             \"members\": [\n",
       "                 {\n",
       "                     \"exposerr\": null,\n",
       "                     \"expname\": \"jw_00109_cal.fits\",\n",
       "                     \"exptype\": \"SCIENCE\",\n",
       "                     \"asn_candidate\": \"[('o018', 'OBSERVATION')]\"\n",
       "                 },\n",
       "                 {\n",
       "                     \"exposerr\": null,\n",
       "                     \"expname\": \"jw_00110_cal.fits\",\n",
       "                     \"exptype\": \"SCIENCE\",\n",
       "                     \"asn_candidate\": \"[('o019', 'OBSERVATION')]\"\n",
       "                 }\n",
       "             ]\n",
       "         }\n",
       "     ],\n",
       "     \"version_id\": null,\n",
       "     \"target\": \"1\",\n",
       "     \"asn_id\": \"a3001\",\n",
       "     \"constraints\": \"Constraints:\\n    opt_elem: P750L\\n    exp_type: MIR_LRS-SLITLESS|MIR_TACQ\\n    target: 1\\n    instrument: MIRI\\n    subarray: SUBPRISM\\n    program: 99009\",\n",
       "     \"degraded_status\": \"No known degraded exposures in association.\",\n",
       "     \"program\": \"99009\",\n",
       "     \"code_version\": \"0.7.1.beta2\",\n",
       "     \"asn_rule\": \"Asn_MIRI_LRS_SLITLESS\",\n",
       "     \"asn_pool\": \"mega_pool\"\n",
       " }, {\n",
       "     \"asn_type\": \"spec3\",\n",
       "     \"products\": [\n",
       "         {\n",
       "             \"name\": \"jw99009-a3001_t001_miri\",\n",
       "             \"members\": [\n",
       "                 {\n",
       "                     \"exposerr\": null,\n",
       "                     \"expname\": \"jw_00111_cal.fits\",\n",
       "                     \"exptype\": \"SCIENCE\",\n",
       "                     \"asn_candidate\": \"[('o020', 'OBSERVATION')]\"\n",
       "                 },\n",
       "                 {\n",
       "                     \"exposerr\": null,\n",
       "                     \"expname\": \"jw_00112_cal.fits\",\n",
       "                     \"exptype\": \"SCIENCE\",\n",
       "                     \"asn_candidate\": \"[('o020', 'OBSERVATION')]\"\n",
       "                 }\n",
       "             ]\n",
       "         }\n",
       "     ],\n",
       "     \"version_id\": null,\n",
       "     \"target\": \"1\",\n",
       "     \"asn_id\": \"a3001\",\n",
       "     \"constraints\": \"Constraints:\\n    instrument: MIRI\\n    program: 99009\\n    exp_type: MIR_MRS|MIR_FLATMRS|MIR_TACQ\\n    target: 1\",\n",
       "     \"degraded_status\": \"No known degraded exposures in association.\",\n",
       "     \"program\": \"99009\",\n",
       "     \"code_version\": \"0.7.1.beta2\",\n",
       "     \"asn_rule\": \"Asn_MIRI_IFU\",\n",
       "     \"asn_pool\": \"mega_pool\"\n",
       " }, {\n",
       "     \"asn_type\": \"image3\",\n",
       "     \"products\": [\n",
       "         {\n",
       "             \"name\": \"jw99009-c1003_t001_nircam_clear\",\n",
       "             \"members\": [\n",
       "                 {\n",
       "                     \"exposerr\": null,\n",
       "                     \"expname\": \"jw_00097_cal.fits\",\n",
       "                     \"exptype\": \"SCIENCE\",\n",
       "                     \"asn_candidate\": \"('c1003', 'MOSAIC')\"\n",
       "                 },\n",
       "                 {\n",
       "                     \"exposerr\": null,\n",
       "                     \"expname\": \"jw_00098_cal.fits\",\n",
       "                     \"exptype\": \"SCIENCE\",\n",
       "                     \"asn_candidate\": \"('c1003', 'MOSAIC')\"\n",
       "                 }\n",
       "             ]\n",
       "         }\n",
       "     ],\n",
       "     \"version_id\": null,\n",
       "     \"target\": \"1\",\n",
       "     \"asn_id\": \"c1003\",\n",
       "     \"constraints\": \"Constraints:\\n    exp_type: NRC_IMAGE\\n    target: 1\\n    instrument: NIRCAM\\n    wfsvisit: (?!NULL).+\\n    program: 99009\\n    asn_candidate_wfs: \\\\(\\\\'c1003\\\\'\\\\,\\\\ \\\\'MOSAIC\\\\'\\\\)\\n    activity_id: 1\",\n",
       "     \"degraded_status\": \"No known degraded exposures in association.\",\n",
       "     \"program\": \"99009\",\n",
       "     \"code_version\": \"0.7.1.beta2\",\n",
       "     \"asn_rule\": \"Asn_WFSCMB\",\n",
       "     \"asn_pool\": \"mega_pool\"\n",
       " }]"
      ]
     },
     "execution_count": 13,
     "metadata": {},
     "output_type": "execute_result"
    }
   ],
   "source": [
    "asns"
   ]
  },
  {
   "cell_type": "markdown",
   "metadata": {},
   "source": [
    "## test_associations confirmation"
   ]
  },
  {
   "cell_type": "markdown",
   "metadata": {},
   "source": [
    "### Generic constraint"
   ]
  },
  {
   "cell_type": "code",
   "execution_count": 3,
   "metadata": {
    "collapsed": true
   },
   "outputs": [],
   "source": [
    "generic_constraint = {\n",
    "    'obs_id': {\n",
    "        'value': 'V99009001001P0000000002101',\n",
    "        'inputs': ['OBS_ID']\n",
    "    }\n",
    "}"
   ]
  },
  {
   "cell_type": "code",
   "execution_count": 4,
   "metadata": {
    "collapsed": true
   },
   "outputs": [],
   "source": [
    "rules = AssociationRegistry(global_constraints=generic_constraint)"
   ]
  },
  {
   "cell_type": "code",
   "execution_count": 5,
   "metadata": {
    "collapsed": true
   },
   "outputs": [],
   "source": [
    "pool = combine_pools('data/mega_pool.csv')"
   ]
  },
  {
   "cell_type": "code",
   "execution_count": 6,
   "metadata": {
    "collapsed": true
   },
   "outputs": [],
   "source": [
    "asns, orphaned = generate(pool, rules)"
   ]
  },
  {
   "cell_type": "code",
   "execution_count": 7,
   "metadata": {
    "collapsed": false
   },
   "outputs": [
    {
     "data": {
      "text/plain": [
       "1"
      ]
     },
     "execution_count": 7,
     "metadata": {},
     "output_type": "execute_result"
    }
   ],
   "source": [
    "len(asns)"
   ]
  },
  {
   "cell_type": "code",
   "execution_count": 8,
   "metadata": {
    "collapsed": true
   },
   "outputs": [],
   "source": [
    "pool.show_in_browser()"
   ]
  },
  {
   "cell_type": "markdown",
   "metadata": {},
   "source": [
    "## Level2"
   ]
  },
  {
   "cell_type": "code",
   "execution_count": null,
   "metadata": {
    "collapsed": false,
    "deletable": true,
    "editable": true
   },
   "outputs": [],
   "source": [
    "rules = registry_level2_only()"
   ]
  },
  {
   "cell_type": "markdown",
   "metadata": {
    "deletable": true,
    "editable": true
   },
   "source": [
    "### Get all the spectral EXP_TYPEs"
   ]
  },
  {
   "cell_type": "code",
   "execution_count": null,
   "metadata": {
    "collapsed": false,
    "deletable": true,
    "editable": true
   },
   "outputs": [],
   "source": [
    "asn_lv2spec = rules['Asn_Lv2Spec']()"
   ]
  },
  {
   "cell_type": "code",
   "execution_count": null,
   "metadata": {
    "collapsed": false,
    "deletable": true,
    "editable": true
   },
   "outputs": [],
   "source": [
    "spec_exptypes = asn_lv2spec.constraints['exp_type']['value'].split('|')"
   ]
  },
  {
   "cell_type": "code",
   "execution_count": null,
   "metadata": {
    "collapsed": false,
    "deletable": true,
    "editable": true
   },
   "outputs": [],
   "source": [
    "spec_exptypes"
   ]
  },
  {
   "cell_type": "markdown",
   "metadata": {
    "deletable": true,
    "editable": true
   },
   "source": [
    "## MIRI spectra without backgrounds\n",
    "Formal test: test_level2_basics"
   ]
  },
  {
   "cell_type": "code",
   "execution_count": null,
   "metadata": {
    "collapsed": false,
    "deletable": true,
    "editable": true
   },
   "outputs": [],
   "source": [
    "pool = combine_pools('data/pool_007_spec_miri.csv')"
   ]
  },
  {
   "cell_type": "code",
   "execution_count": null,
   "metadata": {
    "collapsed": false,
    "deletable": true,
    "editable": true,
    "scrolled": true
   },
   "outputs": [],
   "source": [
    "asns, orphaned = generate(pool, rules)"
   ]
  },
  {
   "cell_type": "code",
   "execution_count": null,
   "metadata": {
    "collapsed": false,
    "deletable": true,
    "editable": true
   },
   "outputs": [],
   "source": [
    "assert len(asns) == 11"
   ]
  },
  {
   "cell_type": "code",
   "execution_count": null,
   "metadata": {
    "collapsed": false,
    "deletable": true,
    "editable": true,
    "scrolled": true
   },
   "outputs": [],
   "source": [
    "asns"
   ]
  },
  {
   "cell_type": "code",
   "execution_count": null,
   "metadata": {
    "collapsed": false,
    "deletable": true,
    "editable": true
   },
   "outputs": [],
   "source": [
    "is_spec = np.array([\n",
    "    row['EXP_TYPE'] in spec_exptypes\n",
    "    for row in pool\n",
    "])"
   ]
  },
  {
   "cell_type": "code",
   "execution_count": null,
   "metadata": {
    "collapsed": false,
    "deletable": true,
    "editable": true,
    "scrolled": true
   },
   "outputs": [],
   "source": [
    "pool[is_spec]['EXP_TYPE']"
   ]
  },
  {
   "cell_type": "markdown",
   "metadata": {
    "deletable": true,
    "editable": true
   },
   "source": [
    "## Try with a very simple pool\n",
    "Formal test: test_level2_background"
   ]
  },
  {
   "cell_type": "code",
   "execution_count": null,
   "metadata": {
    "collapsed": false,
    "deletable": true,
    "editable": true
   },
   "outputs": [],
   "source": [
    "pool = combine_pools('data/pool_011_spec_miri_lv2bkg_lrs.csv')"
   ]
  },
  {
   "cell_type": "code",
   "execution_count": null,
   "metadata": {
    "collapsed": false,
    "deletable": true,
    "editable": true,
    "scrolled": true
   },
   "outputs": [],
   "source": [
    "asns, orphaned = generate(pool, rules)"
   ]
  },
  {
   "cell_type": "code",
   "execution_count": null,
   "metadata": {
    "collapsed": false,
    "deletable": true,
    "editable": true
   },
   "outputs": [],
   "source": [
    "len(asns)"
   ]
  },
  {
   "cell_type": "code",
   "execution_count": null,
   "metadata": {
    "collapsed": false,
    "deletable": true,
    "editable": true,
    "scrolled": true
   },
   "outputs": [],
   "source": [
    "asns"
   ]
  },
  {
   "cell_type": "markdown",
   "metadata": {
    "collapsed": true,
    "deletable": true,
    "editable": true
   },
   "source": [
    "## Try with all MIRI data"
   ]
  },
  {
   "cell_type": "code",
   "execution_count": null,
   "metadata": {
    "collapsed": false,
    "deletable": true,
    "editable": true
   },
   "outputs": [],
   "source": [
    "pool = combine_pools('data/pool_009_spec_miri_lv2bkg.csv')"
   ]
  },
  {
   "cell_type": "code",
   "execution_count": null,
   "metadata": {
    "collapsed": false,
    "deletable": true,
    "editable": true
   },
   "outputs": [],
   "source": [
    "asns, orphaned = generate(pool, rules)"
   ]
  },
  {
   "cell_type": "code",
   "execution_count": null,
   "metadata": {
    "collapsed": false,
    "deletable": true,
    "editable": true
   },
   "outputs": [],
   "source": [
    "len(asns)"
   ]
  },
  {
   "cell_type": "code",
   "execution_count": null,
   "metadata": {
    "collapsed": false,
    "deletable": true,
    "editable": true,
    "scrolled": true
   },
   "outputs": [],
   "source": [
    "asns"
   ]
  },
  {
   "cell_type": "code",
   "execution_count": null,
   "metadata": {
    "collapsed": false,
    "deletable": true,
    "editable": true
   },
   "outputs": [],
   "source": [
    "is_spec = np.array([\n",
    "    row['EXP_TYPE'] in spec_exptypes\n",
    "    for row in pool\n",
    "])"
   ]
  },
  {
   "cell_type": "code",
   "execution_count": null,
   "metadata": {
    "collapsed": false,
    "deletable": true,
    "editable": true,
    "scrolled": true
   },
   "outputs": [],
   "source": [
    "pool[is_spec]['EXP_TYPE']"
   ]
  },
  {
   "cell_type": "code",
   "execution_count": null,
   "metadata": {
    "collapsed": false,
    "deletable": true,
    "editable": true
   },
   "outputs": [],
   "source": [
    "is_lv2_asn = [\n",
    "    asn\n",
    "    for asn in asns\n",
    "    if asn['asn_rule'] == 'Asn_Lv2Spec'\n",
    "]"
   ]
  },
  {
   "cell_type": "code",
   "execution_count": null,
   "metadata": {
    "collapsed": false,
    "deletable": true,
    "editable": true
   },
   "outputs": [],
   "source": [
    "len(is_lv2_asn)"
   ]
  },
  {
   "cell_type": "code",
   "execution_count": null,
   "metadata": {
    "collapsed": false,
    "deletable": true,
    "editable": true
   },
   "outputs": [],
   "source": [
    "is_lv2bkg_asn = [\n",
    "    asn\n",
    "    for asn in asns\n",
    "    if asn['asn_rule'] == 'Asn_Lv2SpecBkg'\n",
    "]"
   ]
  },
  {
   "cell_type": "code",
   "execution_count": null,
   "metadata": {
    "collapsed": false,
    "deletable": true,
    "editable": true
   },
   "outputs": [],
   "source": [
    "len(is_lv2bkg_asn)"
   ]
  },
  {
   "cell_type": "code",
   "execution_count": null,
   "metadata": {
    "collapsed": false,
    "deletable": true,
    "editable": true,
    "scrolled": false
   },
   "outputs": [],
   "source": [
    "is_lv2bkg_asn"
   ]
  },
  {
   "cell_type": "code",
   "execution_count": null,
   "metadata": {
    "collapsed": false,
    "deletable": true,
    "editable": true
   },
   "outputs": [],
   "source": [
    "is_bkg = np.array([\n",
    "    row['BACKGROUND'] != 'NULL'\n",
    "    for row in pool\n",
    "])"
   ]
  },
  {
   "cell_type": "code",
   "execution_count": null,
   "metadata": {
    "collapsed": false,
    "deletable": true,
    "editable": true
   },
   "outputs": [],
   "source": [
    "pool[is_bkg]"
   ]
  },
  {
   "cell_type": "markdown",
   "metadata": {
    "deletable": true,
    "editable": true
   },
   "source": [
    "## Test NIRSpec"
   ]
  },
  {
   "cell_type": "code",
   "execution_count": null,
   "metadata": {
    "collapsed": false,
    "deletable": true,
    "editable": true
   },
   "outputs": [],
   "source": [
    "pool = combine_pools('data/pool_010_spec_nirspec_lv2bkg.csv')"
   ]
  },
  {
   "cell_type": "code",
   "execution_count": null,
   "metadata": {
    "collapsed": true,
    "deletable": true,
    "editable": true
   },
   "outputs": [],
   "source": [
    "asns, orphaned = generate(pool, rules)"
   ]
  },
  {
   "cell_type": "code",
   "execution_count": null,
   "metadata": {
    "collapsed": false,
    "deletable": true,
    "editable": true
   },
   "outputs": [],
   "source": [
    "len(asns)"
   ]
  },
  {
   "cell_type": "code",
   "execution_count": null,
   "metadata": {
    "collapsed": false,
    "deletable": true,
    "editable": true
   },
   "outputs": [],
   "source": [
    "asns"
   ]
  },
  {
   "cell_type": "code",
   "execution_count": null,
   "metadata": {
    "collapsed": true,
    "deletable": true,
    "editable": true
   },
   "outputs": [],
   "source": []
  }
 ],
 "metadata": {
  "anaconda-cloud": {},
  "kernelspec": {
   "display_name": "Python [default]",
   "language": "python",
   "name": "python3"
  },
  "language_info": {
   "codemirror_mode": {
    "name": "ipython",
    "version": 3
   },
   "file_extension": ".py",
   "mimetype": "text/x-python",
   "name": "python",
   "nbconvert_exporter": "python",
   "pygments_lexer": "ipython3",
   "version": "3.5.2"
  }
 },
 "nbformat": 4,
 "nbformat_minor": 2
}

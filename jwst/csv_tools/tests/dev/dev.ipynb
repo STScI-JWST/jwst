{
 "metadata": {
  "name": "",
  "signature": "sha256:efd4e2c89c4a95209043e8220ba12960f75484339b1318b48c61f93fcfdcf4cf"
 },
 "nbformat": 3,
 "nbformat_minor": 0,
 "worksheets": [
  {
   "cells": [
    {
     "cell_type": "heading",
     "level": 1,
     "metadata": {},
     "source": [
      "CSV2FIT: Development"
     ]
    },
    {
     "cell_type": "heading",
     "level": 2,
     "metadata": {},
     "source": [
      "Environment"
     ]
    },
    {
     "cell_type": "code",
     "collapsed": false,
     "input": [
      "%autoreload 2\n",
      "\n",
      "import sys\n",
      "    \n",
      "sys.path.insert(1, '../../jwst_tools/csv_tools/')"
     ],
     "language": "python",
     "metadata": {},
     "outputs": [],
     "prompt_number": 3
    },
    {
     "cell_type": "code",
     "collapsed": false,
     "input": [
      "from csv_to_hdulist import csv_to_hdulist\n",
      "from csv_to_table import csv_to_table"
     ],
     "language": "python",
     "metadata": {},
     "outputs": [],
     "prompt_number": 22
    },
    {
     "cell_type": "code",
     "collapsed": false,
     "input": [
      "path_csv = '../data/test_csv_comment.txt'"
     ],
     "language": "python",
     "metadata": {},
     "outputs": [],
     "prompt_number": 23
    },
    {
     "cell_type": "heading",
     "level": 2,
     "metadata": {},
     "source": [
      "Examples"
     ]
    },
    {
     "cell_type": "code",
     "collapsed": false,
     "input": [
      "with open(path_csv, 'rU') as handle:\n",
      "    table = csv_to_table(handle, delimiter=',')"
     ],
     "language": "python",
     "metadata": {},
     "outputs": [],
     "prompt_number": 24
    },
    {
     "cell_type": "code",
     "collapsed": false,
     "input": [
      "table"
     ],
     "language": "python",
     "metadata": {},
     "outputs": [
      {
       "html": [
        "<table id=\"table4430075408\"><thead><tr><th>first</th><th>second</th><th>third</th></tr></thead><tr><td>a1</td><td>a2</td><td>a3</td></tr><tr><td>b1</td><td>b2</td><td>b3</td></tr></table>"
       ],
       "metadata": {},
       "output_type": "pyout",
       "prompt_number": 25,
       "text": [
        "<Table rows=2 names=('first','second','third')>\n",
        "array([('a1', 'a2', 'a3'), ('b1', 'b2', 'b3')], \n",
        "      dtype=[('first', 'S2'), ('second', 'S2'), ('third', 'S2')])"
       ]
      }
     ],
     "prompt_number": 25
    },
    {
     "cell_type": "code",
     "collapsed": false,
     "input": [
      "table.columns"
     ],
     "language": "python",
     "metadata": {},
     "outputs": [
      {
       "metadata": {},
       "output_type": "pyout",
       "prompt_number": 26,
       "text": [
        "<TableColumns names=('first','second','third')>"
       ]
      }
     ],
     "prompt_number": 26
    },
    {
     "cell_type": "code",
     "collapsed": false,
     "input": [
      "table.meta"
     ],
     "language": "python",
     "metadata": {},
     "outputs": [
      {
       "metadata": {},
       "output_type": "pyout",
       "prompt_number": 27,
       "text": [
        "OrderedDict([('key', 'value'), ('key2', 'value2'), ('key4', 'this is a long one'), ('comkey', ('this should have a', 'comment for you')), ('key3', 'value3')])"
       ]
      }
     ],
     "prompt_number": 27
    },
    {
     "cell_type": "code",
     "collapsed": false,
     "input": [
      "with open(path_csv, 'rU') as handle:\n",
      "    hdulist = csv_to_hdulist(handle, delimiter=',')"
     ],
     "language": "python",
     "metadata": {},
     "outputs": [],
     "prompt_number": 28
    },
    {
     "cell_type": "code",
     "collapsed": false,
     "input": [
      "print len(hdulist)\n",
      "print hdulist[0].header.__repr__()\n",
      "print hdulist[1].columns"
     ],
     "language": "python",
     "metadata": {},
     "outputs": [
      {
       "output_type": "stream",
       "stream": "stdout",
       "text": [
        "2\n",
        "SIMPLE  =                    T / conforms to FITS standard                      \n",
        "BITPIX  =                    8 / array data type                                \n",
        "NAXIS   =                    0 / number of array dimensions                     \n",
        "EXTEND  =                    T                                                  \n",
        "KEY     = 'value   '                                                            \n",
        "KEY2    = 'value2  '                                                            \n",
        "KEY4    = 'this is a long one'                                                  \n",
        "COMKEY  = 'this should have a' / comment for you                                \n",
        "KEY3    = 'value3  '                                                            \n",
        "ColDefs(\n",
        "    name = 'first'; format = 'A2'; start = 1\n",
        "    name = 'second'; format = 'A2'; start = 3\n",
        "    name = 'third'; format = 'A2'; start = 5\n",
        ")\n"
       ]
      }
     ],
     "prompt_number": 29
    },
    {
     "cell_type": "code",
     "collapsed": false,
     "input": [
      "hdulist[1].data"
     ],
     "language": "python",
     "metadata": {},
     "outputs": [
      {
       "metadata": {},
       "output_type": "pyout",
       "prompt_number": 30,
       "text": [
        "FITS_rec([('a1', 'a2', 'a3'), ('b1', 'b2', 'b3')], \n",
        "      dtype=[('first', 'S2'), ('second', 'S2'), ('third', 'S2')])"
       ]
      }
     ],
     "prompt_number": 30
    },
    {
     "cell_type": "code",
     "collapsed": false,
     "input": [],
     "language": "python",
     "metadata": {},
     "outputs": []
    }
   ],
   "metadata": {}
  }
 ]
}
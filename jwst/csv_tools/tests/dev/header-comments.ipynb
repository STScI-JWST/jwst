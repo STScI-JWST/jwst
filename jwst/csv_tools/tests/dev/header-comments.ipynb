{
 "metadata": {
  "name": "",
  "signature": "sha256:d5ed13095b9e68f9c896d3f203b163ef0b2175e1437ae3384a6c6ccc5171a4ab"
 },
 "nbformat": 3,
 "nbformat_minor": 0,
 "worksheets": [
  {
   "cells": [
    {
     "cell_type": "heading",
     "level": 2,
     "metadata": {},
     "source": [
      "Abstract"
     ]
    },
    {
     "cell_type": "markdown",
     "metadata": {},
     "source": [
      "Develop to add comments to headers"
     ]
    },
    {
     "cell_type": "heading",
     "level": 2,
     "metadata": {},
     "source": [
      "Environment"
     ]
    },
    {
     "cell_type": "code",
     "collapsed": false,
     "input": [
      "%autoreload 2\n",
      "\n",
      "import sys\n",
      "    \n",
      "sys.path.insert(1, '../../jwst_tools/csv2fits/')"
     ],
     "language": "python",
     "metadata": {},
     "outputs": [],
     "prompt_number": 1
    },
    {
     "cell_type": "code",
     "collapsed": false,
     "input": [
      "from csv_to_hdulist import csv_to_hdulist"
     ],
     "language": "python",
     "metadata": {},
     "outputs": [],
     "prompt_number": 61
    },
    {
     "cell_type": "code",
     "collapsed": false,
     "input": [
      "path_csv = '../data/test_csv_comment.txt'"
     ],
     "language": "python",
     "metadata": {},
     "outputs": [],
     "prompt_number": 62
    },
    {
     "cell_type": "heading",
     "level": 2,
     "metadata": {},
     "source": [
      "Main"
     ]
    },
    {
     "cell_type": "code",
     "collapsed": false,
     "input": [
      "with open(path_csv, 'rb') as handle:\n",
      "    hdulist = csv_to_hdulist(handle, header_search='(?P<keyword>\\w+)\\s*=\\s*(?P<value>\\w+.*?)(/(?P<comment>.*))?$')"
     ],
     "language": "python",
     "metadata": {},
     "outputs": [],
     "prompt_number": 63
    },
    {
     "cell_type": "code",
     "collapsed": false,
     "input": [
      "hdulist[0].header"
     ],
     "language": "python",
     "metadata": {},
     "outputs": [
      {
       "metadata": {},
       "output_type": "pyout",
       "prompt_number": 64,
       "text": [
        "SIMPLE  =                    T / conforms to FITS standard                      \n",
        "BITPIX  =                    8 / array data type                                \n",
        "NAXIS   =                    0 / number of array dimensions                     \n",
        "EXTEND  =                    T                                                  \n",
        "KEY2    = 'value2  '                                                            \n",
        "COMKEY  = 'this should have a' / comment for you                                \n",
        "KEY     = 'value   '                                                            \n",
        "KEY4    = 'this is a long one'                                                  "
       ]
      }
     ],
     "prompt_number": 64
    },
    {
     "cell_type": "code",
     "collapsed": false,
     "input": [
      "hdulist[0].header.comments"
     ],
     "language": "python",
     "metadata": {},
     "outputs": [
      {
       "metadata": {},
       "output_type": "pyout",
       "prompt_number": 65,
       "text": [
        "  SIMPLE  conforms to FITS standard\n",
        "  BITPIX  array data type\n",
        "   NAXIS  number of array dimensions\n",
        "  EXTEND  \n",
        "    KEY2  \n",
        "  COMKEY  comment for you\n",
        "     KEY  \n",
        "    KEY4  "
       ]
      }
     ],
     "prompt_number": 65
    },
    {
     "cell_type": "markdown",
     "metadata": {},
     "source": [
      "Now try it as the default for the function."
     ]
    },
    {
     "cell_type": "code",
     "collapsed": false,
     "input": [
      "with open(path_csv, 'rb') as handle:\n",
      "    hdulist = csv_to_hdulist(handle)"
     ],
     "language": "python",
     "metadata": {},
     "outputs": [],
     "prompt_number": 69
    },
    {
     "cell_type": "code",
     "collapsed": false,
     "input": [
      "hdulist[0].header"
     ],
     "language": "python",
     "metadata": {},
     "outputs": [
      {
       "metadata": {},
       "output_type": "pyout",
       "prompt_number": 70,
       "text": [
        "SIMPLE  =                    T / conforms to FITS standard                      \n",
        "BITPIX  =                    8 / array data type                                \n",
        "NAXIS   =                    0 / number of array dimensions                     \n",
        "EXTEND  =                    T                                                  \n",
        "KEY2    = 'value2  '                                                            \n",
        "COMKEY  = 'this should have a' / comment for you                                \n",
        "KEY     = 'value   '                                                            \n",
        "KEY4    = 'this is a long one'                                                  "
       ]
      }
     ],
     "prompt_number": 70
    },
    {
     "cell_type": "code",
     "collapsed": false,
     "input": [
      "hdulist[0].header.comments"
     ],
     "language": "python",
     "metadata": {},
     "outputs": [
      {
       "metadata": {},
       "output_type": "pyout",
       "prompt_number": 71,
       "text": [
        "  SIMPLE  conforms to FITS standard\n",
        "  BITPIX  array data type\n",
        "   NAXIS  number of array dimensions\n",
        "  EXTEND  \n",
        "    KEY2  \n",
        "  COMKEY  comment for you\n",
        "     KEY  \n",
        "    KEY4  "
       ]
      }
     ],
     "prompt_number": 71
    },
    {
     "cell_type": "code",
     "collapsed": false,
     "input": [
      "hdulist[0].header.comments['comkey']"
     ],
     "language": "python",
     "metadata": {},
     "outputs": [
      {
       "metadata": {},
       "output_type": "pyout",
       "prompt_number": 72,
       "text": [
        "'comment for you'"
       ]
      }
     ],
     "prompt_number": 72
    },
    {
     "cell_type": "code",
     "collapsed": false,
     "input": [],
     "language": "python",
     "metadata": {},
     "outputs": []
    }
   ],
   "metadata": {}
  }
 ]
}
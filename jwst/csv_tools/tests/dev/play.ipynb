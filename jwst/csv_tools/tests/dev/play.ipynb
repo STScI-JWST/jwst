{
 "metadata": {
  "name": "",
  "signature": "sha256:1e266954b072645f76a39fee85598294852b5c13d6517122ff4d0cc4f46e379d"
 },
 "nbformat": 3,
 "nbformat_minor": 0,
 "worksheets": [
  {
   "cells": [
    {
     "cell_type": "heading",
     "level": 1,
     "metadata": {},
     "source": [
      "Trying things"
     ]
    },
    {
     "cell_type": "heading",
     "level": 2,
     "metadata": {},
     "source": [
      "Environment"
     ]
    },
    {
     "cell_type": "code",
     "collapsed": false,
     "input": [
      "%autoreload 2\n",
      "\n",
      "import sys\n",
      "    \n",
      "sys.path.insert(1, '../../jwst_tools/csv2fits/')"
     ],
     "language": "python",
     "metadata": {},
     "outputs": [],
     "prompt_number": 1
    },
    {
     "cell_type": "heading",
     "level": 2,
     "metadata": {},
     "source": [
      "astopy straight up"
     ]
    },
    {
     "cell_type": "code",
     "collapsed": false,
     "input": [
      "from astropy.io import ascii\n",
      "import re"
     ],
     "language": "python",
     "metadata": {},
     "outputs": [],
     "prompt_number": 154
    },
    {
     "cell_type": "code",
     "collapsed": false,
     "input": [
      "class CSVHeaderKeywords(ascii.BaseHeader):\n",
      "    def update_meta(self, lines, meta):\n",
      "        pattern = re.compile('\\s+'.join((self.comment, self.keywords)))\n",
      "        for line in lines:\n",
      "            matches = pattern.match(line)\n",
      "            if matches is not None:\n",
      "                groups = matches.groupdict()\n",
      "                value = groups['value'].strip()\n",
      "                if 'comment' in groups and groups['comment'] is not None:\n",
      "                    value = (value, groups['comment'].strip())\n",
      "                meta['table'][groups['keyword']] = value"
     ],
     "language": "python",
     "metadata": {},
     "outputs": [],
     "prompt_number": 193
    },
    {
     "cell_type": "code",
     "collapsed": false,
     "input": [
      "def csvkeywords(table):\n",
      "    reader = ascii.Basic()\n",
      "    reader.header = CSVHeaderKeywords()\n",
      "    reader.header.start_line = 0\n",
      "    reader.header.splitter.delimiter = ','\n",
      "    reader.data.splitter.delimiter = reader.header.splitter.delimiter\n",
      "    reader.header.comment = r'\\s*(#|//|--)'\n",
      "    reader.data.comment = reader.header.comment\n",
      "    reader.header.keywords = r'(?P<keyword>\\w+)\\s*=\\s*(?P<value>\\w+.*?)(/(?P<comment>.*))?$'\n",
      "    return reader.read(table)"
     ],
     "language": "python",
     "metadata": {},
     "outputs": [],
     "prompt_number": 194
    },
    {
     "cell_type": "code",
     "collapsed": false,
     "input": [
      "t = csvkeywords('../data/test_csv_comment.txt')"
     ],
     "language": "python",
     "metadata": {},
     "outputs": [],
     "prompt_number": 195
    },
    {
     "cell_type": "code",
     "collapsed": false,
     "input": [
      "t"
     ],
     "language": "python",
     "metadata": {},
     "outputs": [
      {
       "html": [
        "<table id=\"table4446791952\"><thead><tr><th>first</th><th>second</th><th>third</th></tr></thead><tr><td>a1</td><td>a2</td><td>a3</td></tr><tr><td>b1</td><td>b2</td><td>b3</td></tr></table>"
       ],
       "metadata": {},
       "output_type": "pyout",
       "prompt_number": 196,
       "text": [
        "<Table rows=2 names=('first','second','third')>\n",
        "array([('a1', 'a2', 'a3'), ('b1', 'b2', 'b3')], \n",
        "      dtype=[('first', 'S2'), ('second', 'S2'), ('third', 'S2')])"
       ]
      }
     ],
     "prompt_number": 196
    },
    {
     "cell_type": "code",
     "collapsed": false,
     "input": [
      "t.meta"
     ],
     "language": "python",
     "metadata": {},
     "outputs": [
      {
       "metadata": {},
       "output_type": "pyout",
       "prompt_number": 197,
       "text": [
        "OrderedDict([('key', 'value'), ('key2', 'value2'), ('key4', 'this is a long one'), ('comkey', ('this should have a', 'comment for you')), ('key3', 'value3')])"
       ]
      }
     ],
     "prompt_number": 197
    },
    {
     "cell_type": "code",
     "collapsed": false,
     "input": [
      "pool = csvkeywords('../data/jw93060_001_01_pool.csv')"
     ],
     "language": "python",
     "metadata": {},
     "outputs": [],
     "prompt_number": 185
    },
    {
     "cell_type": "code",
     "collapsed": false,
     "input": [
      "pool"
     ],
     "language": "python",
     "metadata": {},
     "outputs": [
      {
       "html": [
        "<table id=\"table4464746192\"><thead><tr><th>expname</th><th>...</th></tr></thead><tr><td></td><td>...</td></tr><tr><td>jw93060001001_01101_00001_MIRIM_image</td><td>...</td></tr><tr><td>jw93060001001_01101_00002_MIRIM_image</td><td>...</td></tr><tr><td>jw93060001001_01101_00003_MIRIM_image</td><td>...</td></tr><tr><td>jw93060001001_01101_00004_MIRIM_image</td><td>...</td></tr><tr><td>jw93060001001_01101_00005_MIRIM_image</td><td>...</td></tr><tr><td>jw93060001001_01101_00006_MIRIM_image</td><td>...</td></tr><tr><td>jw93060001001_01101_00007_MIRIM_image</td><td>...</td></tr><tr><td>jw93060001001_01101_00008_MIRIM_image</td><td>...</td></tr><tr><td>jw93060001001_01101_00009_MIRIM_image</td><td>...</td></tr><tr><td>jw93060001001_01101_00010_MIRIM_image</td><td>...</td></tr><tr><td>...</td><td>...</td></tr><tr><td></td><td>...</td></tr><tr><td></td><td>...</td></tr><tr><td></td><td>...</td></tr><tr><td></td><td>...</td></tr><tr><td></td><td>...</td></tr><tr><td></td><td>...</td></tr><tr><td></td><td>...</td></tr><tr><td></td><td>...</td></tr><tr><td></td><td>...</td></tr><tr><td></td><td>...</td></tr><tr><td></td><td>...</td></tr></table>"
       ],
       "metadata": {},
       "output_type": "pyout",
       "prompt_number": 186,
       "text": [
        "<Table rows=6839 names=('expname','program','observation','visit','visit_id','visit_group','par_seq_id','activity','exposure','instrument','detector','target_id','target_name','pointing_type','pointing_sequence_number','target_order_number','exposure_spec_order_number','dither_point_index','filter','dither_id','pattern_type','starting_point','number_of_points','pattern_size','subpixel_sampling','blank2','blank3','v2','v3','AperName','v2_offset','v3_offset','v2_offset'','v3_offset'','BLANK','visit_dither_product','observation_mosaic_product','program_mosaic_product','Meeting_notes')>\n",
        "array([ ('', '', '', '', '', '', '', '', '', '', '', '', '', 'BASE', '', '', '', '', '', '', '', '', '', '', '', '', '', '-287.409209', '-419.557255', '', '', '', '', '', '', '', '', '', ''),\n",
        "       ('jw93060001001_01101_00001_MIRIM_image', '93060', '1', '1', '93060001001', '01', '1', '01', '00001', 'MIRI', 'MIRIM', '1', 'NGC-3603', 'SCIENCE', '1', '1', '1', '1', 'F560W', '1', 'CYCLING', '1', '5', 'SMALL', 'N', '1', '1', '-287.409209', '-419.557255', 'MIRIM_FULL_ILLCNTR', '0.000', '0.000', '0.000', '0.000', '', '1', '1', '', 'For PPS:'),\n",
        "       ('jw93060001001_01101_00002_MIRIM_image', '93060', '1', '1', '93060001001', '01', '1', '01', '00002', 'MIRI', 'MIRIM', '1', 'NGC-3603', 'SCIENCE', '2', '1', '1', '2', 'F560W', '1', 'CYCLING', '1', '5', 'SMALL', 'N', '2', '1', '-287.560209', '-419.551258', 'MIRIM_FULL_ILLCNTR', '-0.151', '0.006', '-0.151', '0.006', '', '1', '1', '', 'assign an ID to each instance of a template that is the definition of an observation'),\n",
        "       ...,\n",
        "       ('', '93060', '22', '48', '93060022048', '', '', '', '', '', '', '11', '', 'SCIENCE', '1', '1', '16', '7', '', '', '', '', '', '', '', '', '', '148.004692', '-297.600375', 'NRCAS_FULL_CNTR', '', '', '', '', '', '', '', '', ''),\n",
        "       ('', '93060', '22', '48', '93060022048', '', '', '', '', '', '', '11', '', 'SCIENCE', '2', '1', '16', '8', '', '', '', '', '', '', '', '', '', '150.362298', '-296.777141', 'NRCAS_FULL_CNTR', '', '', '', '', '', '', '', '', ''),\n",
        "       ('', '93060', '22', '48', '93060022048', '', '', '', '', '', '', '11', '', 'SCIENCE', '3', '1', '16', '9', '', '', '', '', '', '', '', '', '', '149.527269', '-295.272456', 'NRCAS_FULL_CNTR', '', '', '', '', '', '', '', '', '')], \n",
        "      dtype=[('expname', 'S37'), ('program', 'S5'), ('observation', 'S2'), ('visit', 'S2'), ('visit_id', 'S11'), ('visit_group', 'S2'), ('par_seq_id', 'S1'), ('activity', 'S2'), ('exposure', 'S5'), ('instrument', 'S4'), ('detector', 'S5'), ('target_id', 'S2'), ('target_name', 'S8'), ('pointing_type', 'S7'), ('pointing_sequence_number', 'S4'), ('target_order_number', 'S1'), ('exposure_spec_order_number', 'S3'), ('dither_point_index', 'S1'), ('filter', 'S6'), ('dither_id', 'S1'), ('pattern_type', 'S7'), ('starting_point', 'S1'), ('number_of_points', 'S1'), ('pattern_size', 'S6'), ('subpixel_sampling', 'S1'), ('blank2', 'S1'), ('blank3', 'S1'), ('v2', 'S11'), ('v3', 'S11'), ('AperName', 'S18'), ('v2_offset', 'S6'), ('v3_offset', 'S6'), (\"v2_offset'\", 'S8'), (\"v3_offset'\", 'S6'), ('BLANK', 'S1'), ('visit_dither_product', 'S55'), ('observation_mosaic_product', 'S1'), ('program_mosaic_product', 'S1'), ('Meeting_notes', 'S94')])"
       ]
      }
     ],
     "prompt_number": 186
    },
    {
     "cell_type": "code",
     "collapsed": false,
     "input": [
      "pool[0]"
     ],
     "language": "python",
     "metadata": {},
     "outputs": [
      {
       "metadata": {},
       "output_type": "pyout",
       "prompt_number": 147,
       "text": [
        "<Row 0 of table\n",
        " values=('', '', '', '', '', '', '', '', '', '', '', '', '', 'BASE', '', '', '', '', '', '', '', '', '', '', '', '', '', '-287.409209', '-419.557255', '', '', '', '', '', '', '', '', '', '')\n",
        " dtype=[('expname', 'S37'), ('program', 'S5'), ('observation', 'S2'), ('visit', 'S2'), ('visit_id', 'S11'), ('visit_group', 'S2'), ('par_seq_id', 'S1'), ('activity', 'S2'), ('exposure', 'S5'), ('instrument', 'S4'), ('detector', 'S5'), ('target_id', 'S2'), ('target_name', 'S8'), ('pointing_type', 'S7'), ('pointing_sequence_number', 'S4'), ('target_order_number', 'S1'), ('exposure_spec_order_number', 'S3'), ('dither_point_index', 'S1'), ('filter', 'S6'), ('dither_id', 'S1'), ('pattern_type', 'S7'), ('starting_point', 'S1'), ('number_of_points', 'S1'), ('pattern_size', 'S6'), ('subpixel_sampling', 'S1'), ('blank2', 'S1'), ('blank3', 'S1'), ('v2', 'S11'), ('v3', 'S11'), ('AperName', 'S18'), ('v2_offset', 'S6'), ('v3_offset', 'S6'), (\"v2_offset'\", 'S8'), (\"v3_offset'\", 'S6'), ('BLANK', 'S1'), ('visit_dither_product', 'S55'), ('observation_mosaic_product', 'S1'), ('program_mosaic_product', 'S1'), ('Meeting_notes', 'S94')]>"
       ]
      }
     ],
     "prompt_number": 147
    },
    {
     "cell_type": "code",
     "collapsed": false,
     "input": [],
     "language": "python",
     "metadata": {},
     "outputs": []
    }
   ],
   "metadata": {}
  }
 ]
}
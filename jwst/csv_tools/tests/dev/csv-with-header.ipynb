{
 "metadata": {
  "name": "",
  "signature": "sha256:3dbb07279544b2fe3879ed0bc785e76fb1eac95dcd448de2aeb5230401c89326"
 },
 "nbformat": 3,
 "nbformat_minor": 0,
 "worksheets": [
  {
   "cells": [
    {
     "cell_type": "heading",
     "level": 2,
     "metadata": {},
     "source": [
      "Abstract"
     ]
    },
    {
     "cell_type": "markdown",
     "metadata": {},
     "source": [
      "A CSV -> ASCII FITS table with headers."
     ]
    },
    {
     "cell_type": "heading",
     "level": 2,
     "metadata": {},
     "source": [
      "Environment"
     ]
    },
    {
     "cell_type": "code",
     "collapsed": false,
     "input": [
      "import csv\n",
      "import re\n",
      "import inspect\n",
      "from astropy.table import Table\n",
      "import numpy as np"
     ],
     "language": "python",
     "metadata": {},
     "outputs": [],
     "prompt_number": 1
    },
    {
     "cell_type": "heading",
     "level": 2,
     "metadata": {},
     "source": [
      "Library"
     ]
    },
    {
     "cell_type": "code",
     "collapsed": false,
     "input": [
      "class FilterHeaders(object):\n",
      "    \n",
      "    def __init__(self, handle, comments=('#', '//', '-- '), header_search='(\\w+)\\s*=\\s*(\\w+.*)'):\n",
      "        self.handle = handle\n",
      "        self.comments = comments\n",
      "        self.header_search = '({})\\s+{}'.format('|'.join(comments), header_search)\n",
      "        \n",
      "        self.headers = {}\n",
      "        self.have_data = False\n",
      "        \n",
      "    def next(self):\n",
      "        line = self.handle.next().strip()\n",
      "        while len(line) == 0 or line.startswith(self.comments):\n",
      "            if not self.have_data:\n",
      "                matches = re.search(self.header_search, line)\n",
      "                if matches:\n",
      "                    self.headers[matches.group(2)] = matches.group(3)\n",
      "            line = self.handle.next().strip()\n",
      "            \n",
      "        # Returning an actual row. Indicate that \n",
      "        # table data has started flowing.\n",
      "        self.have_data = True\n",
      "        \n",
      "        return line\n",
      "    \n",
      "    def __iter__(self):\n",
      "        return self"
     ],
     "language": "python",
     "metadata": {},
     "outputs": [],
     "prompt_number": 2
    },
    {
     "cell_type": "code",
     "collapsed": false,
     "input": [
      "def csv_to_table(handle, **kwargs):\n",
      "    \n",
      "    # Default the skipinitialspace csv.DictReader parameter.\n",
      "    if 'skipinitialspace' not in kwargs:\n",
      "        kwargs['skipinitialspace'] = True\n",
      "    \n",
      "    # Separate out the named parameters between FilterHeaders\n",
      "    # and csv.DictReader\n",
      "    csv_args = kwargs\n",
      "    filter_header_args = {}\n",
      "    for filter_arg in inspect.getargspec(FilterHeaders.__init__)[0]:\n",
      "        try:\n",
      "            filter_header_args[filter_arg] = csv_args.pop(filter_arg)\n",
      "        except KeyError:\n",
      "            pass\n",
      "    \n",
      "    data = None\n",
      "    csv_with_headers = FilterHeaders(handle, **filter_header_args)\n",
      "    csv_reader = csv.DictReader(csv_with_headers, **csv_args)\n",
      "    for row in csv_reader:\n",
      "        try:\n",
      "            data.add_row(row)\n",
      "        except AttributeError:\n",
      "            data = Table([row])\n",
      "            \n",
      "    return (csv_with_headers.headers, data)"
     ],
     "language": "python",
     "metadata": {},
     "outputs": [],
     "prompt_number": 3
    },
    {
     "cell_type": "code",
     "collapsed": false,
     "input": [
      "def table_to_hdulist(headers, data):\n",
      "        \n",
      "    # Create the Primary HDU\n",
      "    fits_header = fits.Header()\n",
      "    fits_header.update(headers)\n",
      "    hdu_primary = fits.PrimaryHDU(header=fits_header)\n",
      "    \n",
      "    # Create the Table HDU\n",
      "    hdu_table = fits.TableHDU(np.array(data))\n",
      "    \n",
      "    # Put it all together.\n",
      "    return fits.HDUList([hdu_primary, hdu_table])"
     ],
     "language": "python",
     "metadata": {},
     "outputs": [],
     "prompt_number": 4
    },
    {
     "cell_type": "code",
     "collapsed": false,
     "input": [
      "def csv_to_hdulist(handle, **kwargs):\n",
      "    return table_to_hdulist(*csv_to_table(handle, **kwargs))"
     ],
     "language": "python",
     "metadata": {},
     "outputs": [],
     "prompt_number": 5
    },
    {
     "cell_type": "heading",
     "level": 2,
     "metadata": {},
     "source": [
      "Main"
     ]
    },
    {
     "cell_type": "code",
     "collapsed": false,
     "input": [
      "path2csv = '../data/test_csv.txt'\n",
      "path2fits = '../data/test_csv.fits'"
     ],
     "language": "python",
     "metadata": {},
     "outputs": [],
     "prompt_number": 6
    },
    {
     "cell_type": "code",
     "collapsed": false,
     "input": [
      "with open(path2csv, 'rb') as handle:\n",
      "    mytable = csv_to_table(handle)"
     ],
     "language": "python",
     "metadata": {},
     "outputs": [],
     "prompt_number": 7
    },
    {
     "cell_type": "code",
     "collapsed": false,
     "input": [
      "(headers, data) = mytable"
     ],
     "language": "python",
     "metadata": {},
     "outputs": [],
     "prompt_number": 8
    },
    {
     "cell_type": "code",
     "collapsed": false,
     "input": [
      "headers"
     ],
     "language": "python",
     "metadata": {},
     "outputs": [
      {
       "metadata": {},
       "output_type": "pyout",
       "prompt_number": 9,
       "text": [
        "{'key': 'value', 'key2': 'value2', 'key4': 'this is a long one'}"
       ]
      }
     ],
     "prompt_number": 9
    },
    {
     "cell_type": "code",
     "collapsed": false,
     "input": [
      "data"
     ],
     "language": "python",
     "metadata": {},
     "outputs": [
      {
       "html": [
        "<table id=\"table4414709520\"><thead><tr><th>first</th><th>second</th><th>third</th></tr></thead><tr><td>a1</td><td>a2</td><td>a3</td></tr><tr><td>b1</td><td>b2</td><td>b3</td></tr></table>"
       ],
       "metadata": {},
       "output_type": "pyout",
       "prompt_number": 10,
       "text": [
        "<Table rows=2 names=('first','second','third')>\n",
        "array([('a1', 'a2', 'a3'), ('b1', 'b2', 'b3')], \n",
        "      dtype=[('first', 'S2'), ('second', 'S2'), ('third', 'S2')])"
       ]
      }
     ],
     "prompt_number": 10
    },
    {
     "cell_type": "code",
     "collapsed": false,
     "input": [
      "hdulist = table_to_hdulist(headers, data)"
     ],
     "language": "python",
     "metadata": {},
     "outputs": [],
     "prompt_number": 11
    },
    {
     "cell_type": "code",
     "collapsed": false,
     "input": [
      "print len(hdulist)\n",
      "print hdulist[0].header.__repr__()\n",
      "print hdulist[1].columns"
     ],
     "language": "python",
     "metadata": {},
     "outputs": [
      {
       "output_type": "stream",
       "stream": "stdout",
       "text": [
        "2\n",
        "SIMPLE  =                    T / conforms to FITS standard                      \n",
        "BITPIX  =                    8 / array data type                                \n",
        "NAXIS   =                    0 / number of array dimensions                     \n",
        "EXTEND  =                    T                                                  \n",
        "KEY2    = 'value2  '                                                            \n",
        "KEY     = 'value   '                                                            \n",
        "KEY4    = 'this is a long one'                                                  \n",
        "ColDefs(\n",
        "    name = 'first'; format = 'A2'; start = 1\n",
        "    name = 'second'; format = 'A2'; start = 3\n",
        "    name = 'third'; format = 'A2'; start = 5\n",
        ")\n"
       ]
      }
     ],
     "prompt_number": 12
    },
    {
     "cell_type": "code",
     "collapsed": false,
     "input": [
      "with open(path2csv, 'rb') as handle:\n",
      "    new_hdulist = csv_to_hdulist(handle)"
     ],
     "language": "python",
     "metadata": {},
     "outputs": [],
     "prompt_number": 13
    },
    {
     "cell_type": "code",
     "collapsed": false,
     "input": [
      "print len(new_hdulist)\n",
      "print new_hdulist[0].header.__repr__()\n",
      "print new_hdulist[1].columns"
     ],
     "language": "python",
     "metadata": {},
     "outputs": [
      {
       "output_type": "stream",
       "stream": "stdout",
       "text": [
        "2\n",
        "SIMPLE  =                    T / conforms to FITS standard                      \n",
        "BITPIX  =                    8 / array data type                                \n",
        "NAXIS   =                    0 / number of array dimensions                     \n",
        "EXTEND  =                    T                                                  \n",
        "KEY2    = 'value2  '                                                            \n",
        "KEY     = 'value   '                                                            \n",
        "KEY4    = 'this is a long one'                                                  \n",
        "ColDefs(\n",
        "    name = 'first'; format = 'A2'; start = 1\n",
        "    name = 'second'; format = 'A2'; start = 3\n",
        "    name = 'third'; format = 'A2'; start = 5\n",
        ")\n"
       ]
      }
     ],
     "prompt_number": 14
    },
    {
     "cell_type": "code",
     "collapsed": false,
     "input": [
      "new_hdulist.writeto(path2fits, clobber=True)"
     ],
     "language": "python",
     "metadata": {},
     "outputs": [
      {
       "output_type": "stream",
       "stream": "stderr",
       "text": [
        "WARNING: Overwriting existing file '../data/test_csv.fits'. [astropy.io.fits.file]\n",
        "WARNING:astropy:Overwriting existing file '../data/test_csv.fits'.\n"
       ]
      }
     ],
     "prompt_number": 15
    },
    {
     "cell_type": "code",
     "collapsed": false,
     "input": [
      "reread_hdulist = fits.open(path2fits)"
     ],
     "language": "python",
     "metadata": {},
     "outputs": [],
     "prompt_number": 16
    },
    {
     "cell_type": "code",
     "collapsed": false,
     "input": [
      "print len(reread_hdulist)\n",
      "print reread_hdulist[0].header.__repr__()\n",
      "print reread_hdulist[1].columns"
     ],
     "language": "python",
     "metadata": {},
     "outputs": [
      {
       "output_type": "stream",
       "stream": "stdout",
       "text": [
        "2\n",
        "SIMPLE  =                    T / conforms to FITS standard                      \n",
        "BITPIX  =                    8 / array data type                                \n",
        "NAXIS   =                    0 / number of array dimensions                     \n",
        "EXTEND  =                    T                                                  \n",
        "KEY2    = 'value2  '                                                            \n",
        "KEY     = 'value   '                                                            \n",
        "KEY4    = 'this is a long one'                                                  \n",
        "ColDefs(\n",
        "    name = 'first'; format = 'A2'; start = 1\n",
        "    name = 'second'; format = 'A2'; start = 3\n",
        "    name = 'third'; format = 'A2'; start = 5\n",
        ")\n"
       ]
      }
     ],
     "prompt_number": 17
    },
    {
     "cell_type": "code",
     "collapsed": false,
     "input": [
      "reread_hdulist[1].data[1]"
     ],
     "language": "python",
     "metadata": {},
     "outputs": [
      {
       "metadata": {},
       "output_type": "pyout",
       "prompt_number": 18,
       "text": [
        "('b1', 'b2', 'b3')"
       ]
      }
     ],
     "prompt_number": 18
    },
    {
     "cell_type": "code",
     "collapsed": false,
     "input": [
      "reread_hdulist[1].data['first']"
     ],
     "language": "python",
     "metadata": {},
     "outputs": [
      {
       "metadata": {},
       "output_type": "pyout",
       "prompt_number": 19,
       "text": [
        "chararray(['a1', 'b1'], \n",
        "      dtype='|S2')"
       ]
      }
     ],
     "prompt_number": 19
    },
    {
     "cell_type": "code",
     "collapsed": false,
     "input": [],
     "language": "python",
     "metadata": {},
     "outputs": [],
     "prompt_number": 19
    }
   ],
   "metadata": {}
  }
 ]
}
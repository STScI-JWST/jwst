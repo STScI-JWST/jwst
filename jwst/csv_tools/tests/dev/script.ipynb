{
 "metadata": {
  "name": "",
  "signature": "sha256:d6a8a85e35ece5714eaf489236f8e17ff0ea2b9172e628722e18b558f7136552"
 },
 "nbformat": 3,
 "nbformat_minor": 0,
 "worksheets": [
  {
   "cells": [
    {
     "cell_type": "heading",
     "level": 1,
     "metadata": {},
     "source": [
      "CSV2FITS: Script developement"
     ]
    },
    {
     "cell_type": "heading",
     "level": 2,
     "metadata": {},
     "source": [
      "Environment"
     ]
    },
    {
     "cell_type": "code",
     "collapsed": false,
     "input": [
      "%autoreload 2\n",
      "\n",
      "import sys\n",
      "    \n",
      "sys.path.insert(1, '../../jwst_tools/csv2fits/')"
     ],
     "language": "python",
     "metadata": {},
     "outputs": [],
     "prompt_number": 1
    },
    {
     "cell_type": "code",
     "collapsed": false,
     "input": [
      "from csvconvert import CSVConvertScript"
     ],
     "language": "python",
     "metadata": {},
     "outputs": [],
     "prompt_number": 2
    },
    {
     "cell_type": "heading",
     "level": 2,
     "metadata": {},
     "source": [
      "Check Basic Usage"
     ]
    },
    {
     "cell_type": "code",
     "collapsed": false,
     "input": [
      "CSVConvertScript('--help')"
     ],
     "language": "python",
     "metadata": {},
     "outputs": [
      {
       "output_type": "stream",
       "stream": "stdout",
       "text": [
        "usage: python -m jwst.csv2fits.csvconvft csvfile outfile\n",
        "\n",
        "Convert CSV with headers to other formats\n",
        "\n",
        "positional arguments:\n",
        "  csvfile               Input CSV file to convert\n",
        "  outfile               Output file\n",
        "\n",
        "optional arguments:\n",
        "  -h, --help            show this help message and exit\n",
        "  -f FORMAT, --format FORMAT\n",
        "                        Output format. Default is json. Options are: ['json',\n",
        "                        'fits']\n",
        "  -c COMMENTS, --comments COMMENTS\n",
        "                        Regular expression of initial characters that indicate\n",
        "                        comment lines. Default: \"\\s*(#|//|--)\"\n",
        "  -s HEADER_SEARCH, --header-search HEADER_SEARCH\n",
        "                        Regular expression to pull the keyword and value from\n",
        "                        a comment. Default: \"(?P<keyword>\\w+)\\s*=\\s*(?P<value>\n",
        "                        \\w+.*?)(/(?P<comment>.*))?$\"\n",
        "  -d DELIMITER, --delimiter DELIMITER\n",
        "                        Single character delimiter to distinguish columns.\n",
        "                        Default: \"|\"\n"
       ]
      },
      {
       "ename": "SystemExit",
       "evalue": "0",
       "output_type": "pyerr",
       "traceback": [
        "An exception has occurred, use %tb to see the full traceback.\n",
        "\u001b[0;31mSystemExit\u001b[0m\u001b[0;31m:\u001b[0m 0\n"
       ]
      },
      {
       "output_type": "stream",
       "stream": "stderr",
       "text": [
        "To exit: use 'exit', 'quit', or Ctrl-D.\n"
       ]
      }
     ],
     "prompt_number": 3
    },
    {
     "cell_type": "heading",
     "level": 2,
     "metadata": {},
     "source": [
      "Examples"
     ]
    },
    {
     "cell_type": "heading",
     "level": 3,
     "metadata": {},
     "source": [
      "Basic conversion"
     ]
    },
    {
     "cell_type": "code",
     "collapsed": false,
     "input": [
      "argv = '../data/test_csv_mixed_pipe.txt /tmp/cvsconvert.json'\n",
      "cc = CSVConvertScript(argv)"
     ],
     "language": "python",
     "metadata": {},
     "outputs": [],
     "prompt_number": 5
    },
    {
     "cell_type": "code",
     "collapsed": false,
     "input": [
      "print cc.format\n",
      "print cc.output"
     ],
     "language": "python",
     "metadata": {},
     "outputs": [
      {
       "output_type": "stream",
       "stream": "stdout",
       "text": [
        "json\n",
        "{\n",
        "    \"header\": {\n",
        "        \"key\": \"value\",\n",
        "        \"key2\": \"value2\",\n",
        "        \"key4\": \"this is a long one\",\n",
        "        \"key3\": \"value3\"\n",
        "    },\n",
        "    \"columns\": {\n",
        "        \"first\": [\n",
        "            \"a1\",\n",
        "            \"b1\"\n",
        "        ],\n",
        "        \"second\": [\n",
        "            \"a2\",\n",
        "            \"b2\"\n",
        "        ],\n",
        "        \"third\": [\n",
        "            \"a3\",\n",
        "            \"b3\"\n",
        "        ]\n",
        "    }\n",
        "}\n"
       ]
      }
     ],
     "prompt_number": 6
    },
    {
     "cell_type": "code",
     "collapsed": false,
     "input": [
      "argv = '../data/test_csv_mixed_pipe.txt /tmp/cvsconvert.fits -f fits'\n",
      "cc = CSVConvertScript(argv)"
     ],
     "language": "python",
     "metadata": {},
     "outputs": [
      {
       "output_type": "stream",
       "stream": "stderr",
       "text": [
        "WARNING: Overwriting existing file '/tmp/cvsconvert.fits'. [astropy.io.fits.file]\n",
        "WARNING:astropy:Overwriting existing file '/tmp/cvsconvert.fits'.\n"
       ]
      }
     ],
     "prompt_number": 7
    },
    {
     "cell_type": "code",
     "collapsed": false,
     "input": [
      "print cc.format\n",
      "print cc.output"
     ],
     "language": "python",
     "metadata": {},
     "outputs": [
      {
       "output_type": "stream",
       "stream": "stdout",
       "text": [
        "fits\n",
        "[<astropy.io.fits.hdu.image.PrimaryHDU object at 0x108044e90>, <astropy.io.fits.hdu.table.TableHDU object at 0x108044ed0>]\n"
       ]
      }
     ],
     "prompt_number": 8
    },
    {
     "cell_type": "code",
     "collapsed": false,
     "input": [
      "cc.output[1].columns"
     ],
     "language": "python",
     "metadata": {},
     "outputs": [
      {
       "metadata": {},
       "output_type": "pyout",
       "prompt_number": 9,
       "text": [
        "ColDefs(\n",
        "    name = 'first'; format = 'A2'; start = 1\n",
        "    name = 'second'; format = 'A2'; start = 3\n",
        "    name = 'third'; format = 'A2'; start = 5\n",
        ")"
       ]
      }
     ],
     "prompt_number": 9
    },
    {
     "cell_type": "code",
     "collapsed": false,
     "input": [
      "cc.output[1].data"
     ],
     "language": "python",
     "metadata": {},
     "outputs": [
      {
       "metadata": {},
       "output_type": "pyout",
       "prompt_number": 10,
       "text": [
        "FITS_rec([('a1', 'a2', 'a3'), ('b1', 'b2', 'b3')], \n",
        "      dtype=[('first', 'S2'), ('second', 'S2'), ('third', 'S2')])"
       ]
      }
     ],
     "prompt_number": 10
    },
    {
     "cell_type": "heading",
     "level": 3,
     "metadata": {},
     "source": [
      "Change the comments indicator"
     ]
    },
    {
     "cell_type": "code",
     "collapsed": false,
     "input": [
      "argv = '../data/test_csv_mixed.txt /tmp/cvsconvert.json --comments # -d ,'\n",
      "cc = CSVConvertScript(argv)"
     ],
     "language": "python",
     "metadata": {},
     "outputs": [
      {
       "ename": "InconsistentTableError",
       "evalue": "Number of header columns (1) inconsistent with data columns (3) at data line 1\nHeader values: ['// key=value']\nData values: ['first', 'second', 'third']",
       "output_type": "pyerr",
       "traceback": [
        "\u001b[0;31m---------------------------------------------------------------------------\u001b[0m\n\u001b[0;31mInconsistentTableError\u001b[0m                    Traceback (most recent call last)",
        "\u001b[0;32m<ipython-input-11-f56f7c5a1c6d>\u001b[0m in \u001b[0;36m<module>\u001b[0;34m()\u001b[0m\n\u001b[1;32m      1\u001b[0m \u001b[0margv\u001b[0m \u001b[0;34m=\u001b[0m \u001b[0;34m'../data/test_csv_mixed.txt /tmp/cvsconvert.json --comments # -d ,'\u001b[0m\u001b[0;34m\u001b[0m\u001b[0m\n\u001b[0;32m----> 2\u001b[0;31m \u001b[0mcc\u001b[0m \u001b[0;34m=\u001b[0m \u001b[0mCSVConvertScript\u001b[0m\u001b[0;34m(\u001b[0m\u001b[0margv\u001b[0m\u001b[0;34m)\u001b[0m\u001b[0;34m\u001b[0m\u001b[0m\n\u001b[0m",
        "\u001b[0;32m/Users/eisenham/Documents/ssbdev/jwst-trunk/jwst_tools/csv2fits/jwst_tools/csv2fits/csvconvert.pyc\u001b[0m in \u001b[0;36m__init__\u001b[0;34m(self, args)\u001b[0m\n\u001b[1;32m     56\u001b[0m \u001b[0;34m\u001b[0m\u001b[0m\n\u001b[1;32m     57\u001b[0m         \u001b[0;31m# Do the conversion\u001b[0m\u001b[0;34m\u001b[0m\u001b[0;34m\u001b[0m\u001b[0m\n\u001b[0;32m---> 58\u001b[0;31m         \u001b[0mself\u001b[0m\u001b[0;34m.\u001b[0m\u001b[0mtable\u001b[0m \u001b[0;34m=\u001b[0m \u001b[0mcsv_to_table\u001b[0m\u001b[0;34m(\u001b[0m\u001b[0mparsed\u001b[0m\u001b[0;34m.\u001b[0m\u001b[0mcsvfile\u001b[0m\u001b[0;34m,\u001b[0m \u001b[0;34m**\u001b[0m\u001b[0mkwargs\u001b[0m\u001b[0;34m)\u001b[0m\u001b[0;34m\u001b[0m\u001b[0m\n\u001b[0m\u001b[1;32m     59\u001b[0m         \u001b[0mself\u001b[0m\u001b[0;34m.\u001b[0m\u001b[0mformat\u001b[0m \u001b[0;34m=\u001b[0m \u001b[0mNone\u001b[0m\u001b[0;34m\u001b[0m\u001b[0m\n\u001b[1;32m     60\u001b[0m         \u001b[0;32mif\u001b[0m \u001b[0mparsed\u001b[0m\u001b[0;34m.\u001b[0m\u001b[0mformat\u001b[0m \u001b[0;34m==\u001b[0m \u001b[0;34m'json'\u001b[0m\u001b[0;34m:\u001b[0m\u001b[0;34m\u001b[0m\u001b[0m\n",
        "\u001b[0;32m/Users/eisenham/Documents/ssbdev/jwst-trunk/jwst_tools/csv2fits/jwst_tools/csv2fits/csv_to_table.pyc\u001b[0m in \u001b[0;36mcsv_to_table\u001b[0;34m(handle, delimiter, comments, header_search)\u001b[0m\n\u001b[1;32m     42\u001b[0m \u001b[0;34m\u001b[0m\u001b[0m\n\u001b[1;32m     43\u001b[0m     \u001b[0;31m# All setup, return the table\u001b[0m\u001b[0;34m\u001b[0m\u001b[0;34m\u001b[0m\u001b[0m\n\u001b[0;32m---> 44\u001b[0;31m     \u001b[0;32mreturn\u001b[0m \u001b[0mreader\u001b[0m\u001b[0;34m.\u001b[0m\u001b[0mread\u001b[0m\u001b[0;34m(\u001b[0m\u001b[0mhandle\u001b[0m\u001b[0;34m)\u001b[0m\u001b[0;34m\u001b[0m\u001b[0m\n\u001b[0m\u001b[1;32m     45\u001b[0m \u001b[0;34m\u001b[0m\u001b[0m\n\u001b[1;32m     46\u001b[0m \u001b[0;32mclass\u001b[0m \u001b[0mCSVHeaderKeywords\u001b[0m\u001b[0;34m(\u001b[0m\u001b[0mascii\u001b[0m\u001b[0;34m.\u001b[0m\u001b[0mBaseHeader\u001b[0m\u001b[0;34m)\u001b[0m\u001b[0;34m:\u001b[0m\u001b[0;34m\u001b[0m\u001b[0m\n",
        "\u001b[0;32m/Users/eisenham/STScI/ssbdev/python/lib/python2.7/site-packages/astropy/io/ascii/core.pyc\u001b[0m in \u001b[0;36mread\u001b[0;34m(self, table)\u001b[0m\n\u001b[1;32m    883\u001b[0m                               'Data values: %s' % (len(cols), len(str_vals), i,\n\u001b[1;32m    884\u001b[0m                                                    [x.name for x in cols], str_vals))\n\u001b[0;32m--> 885\u001b[0;31m                     \u001b[0;32mraise\u001b[0m \u001b[0mInconsistentTableError\u001b[0m\u001b[0;34m(\u001b[0m\u001b[0merrmsg\u001b[0m\u001b[0;34m)\u001b[0m\u001b[0;34m\u001b[0m\u001b[0m\n\u001b[0m\u001b[1;32m    886\u001b[0m \u001b[0;34m\u001b[0m\u001b[0m\n\u001b[1;32m    887\u001b[0m             \u001b[0;32mfor\u001b[0m \u001b[0mj\u001b[0m\u001b[0;34m,\u001b[0m \u001b[0mcol\u001b[0m \u001b[0;32min\u001b[0m \u001b[0menumerate\u001b[0m\u001b[0;34m(\u001b[0m\u001b[0mcols\u001b[0m\u001b[0;34m)\u001b[0m\u001b[0;34m:\u001b[0m\u001b[0;34m\u001b[0m\u001b[0m\n",
        "\u001b[0;31mInconsistentTableError\u001b[0m: Number of header columns (1) inconsistent with data columns (3) at data line 1\nHeader values: ['// key=value']\nData values: ['first', 'second', 'third']"
       ]
      }
     ],
     "prompt_number": 11
    },
    {
     "cell_type": "code",
     "collapsed": false,
     "input": [
      "argv = '../data/test_csv_hash.txt /tmp/csvconvert.json --comments # -d ,'\n",
      "cc = CSVConvertScript(argv)"
     ],
     "language": "python",
     "metadata": {},
     "outputs": [],
     "prompt_number": 12
    },
    {
     "cell_type": "code",
     "collapsed": false,
     "input": [
      "print cc.format\n",
      "print cc.output"
     ],
     "language": "python",
     "metadata": {},
     "outputs": [
      {
       "output_type": "stream",
       "stream": "stdout",
       "text": [
        "json\n",
        "{\n",
        "    \"header\": {\n",
        "        \"key\": \"value\",\n",
        "        \"key2\": \"value2\",\n",
        "        \"key4\": \"this is a long one\",\n",
        "        \"key3\": \"value3\"\n",
        "    },\n",
        "    \"columns\": {\n",
        "        \"first\": [\n",
        "            \"a1\",\n",
        "            \"b1\"\n",
        "        ],\n",
        "        \"second\": [\n",
        "            \"a2\",\n",
        "            \"b2\"\n",
        "        ],\n",
        "        \"third\": [\n",
        "            \"a3\",\n",
        "            \"b3\"\n",
        "        ]\n",
        "    }\n",
        "}\n"
       ]
      }
     ],
     "prompt_number": 13
    },
    {
     "cell_type": "code",
     "collapsed": false,
     "input": [
      "argv = '../data/test_csv_hash.txt /tmp/cvsconvert.json -d |'\n",
      "cc = CSVConvertScript(argv)"
     ],
     "language": "python",
     "metadata": {},
     "outputs": [],
     "prompt_number": 14
    },
    {
     "cell_type": "code",
     "collapsed": false,
     "input": [
      "print cc.format\n",
      "print cc.output"
     ],
     "language": "python",
     "metadata": {},
     "outputs": [
      {
       "output_type": "stream",
       "stream": "stdout",
       "text": [
        "json\n",
        "{\n",
        "    \"header\": {\n",
        "        \"key\": \"value\",\n",
        "        \"key2\": \"value2\",\n",
        "        \"key4\": \"this is a long one\",\n",
        "        \"key3\": \"value3\"\n",
        "    },\n",
        "    \"columns\": {\n",
        "        \"first, second, third\": [\n",
        "            \"a1, a2, a3\",\n",
        "            \"b1, b2, b3\"\n",
        "        ]\n",
        "    }\n",
        "}\n"
       ]
      }
     ],
     "prompt_number": 15
    },
    {
     "cell_type": "code",
     "collapsed": false,
     "input": [
      "argv = '../data/test_csv_pipe.txt /tmp/csvconvert.json -d |'\n",
      "cc = CSVConvertScript(argv)"
     ],
     "language": "python",
     "metadata": {},
     "outputs": [],
     "prompt_number": 16
    },
    {
     "cell_type": "code",
     "collapsed": false,
     "input": [
      "print cc.format\n",
      "print cc.output"
     ],
     "language": "python",
     "metadata": {},
     "outputs": [
      {
       "output_type": "stream",
       "stream": "stdout",
       "text": [
        "json\n",
        "{\n",
        "    \"header\": {\n",
        "        \"key\": \"value\",\n",
        "        \"key2\": \"value2\",\n",
        "        \"key4\": \"this is a long one\",\n",
        "        \"key3\": \"value3\"\n",
        "    },\n",
        "    \"columns\": {\n",
        "        \"first\": [\n",
        "            \"a1\",\n",
        "            \"b1\"\n",
        "        ],\n",
        "        \"second\": [\n",
        "            \"a2\",\n",
        "            \"b2\"\n",
        "        ],\n",
        "        \"third\": [\n",
        "            \"a3\",\n",
        "            \"b3\"\n",
        "        ]\n",
        "    }\n",
        "}\n"
       ]
      }
     ],
     "prompt_number": 17
    },
    {
     "cell_type": "code",
     "collapsed": false,
     "input": [],
     "language": "python",
     "metadata": {},
     "outputs": [],
     "prompt_number": 17
    }
   ],
   "metadata": {}
  }
 ]
}